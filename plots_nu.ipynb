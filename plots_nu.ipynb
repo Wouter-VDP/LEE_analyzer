{
 "cells": [
  {
   "cell_type": "markdown",
   "metadata": {},
   "source": [
    "# LEE Analyzer plots\n"
   ]
  },
  {
   "cell_type": "code",
   "execution_count": null,
   "metadata": {
    "collapsed": true
   },
   "outputs": [],
   "source": []
  },
  {
   "cell_type": "markdown",
   "metadata": {},
   "source": [
    "## Imports & Constants"
   ]
  },
  {
   "cell_type": "code",
   "execution_count": 1,
   "metadata": {
    "collapsed": true
   },
   "outputs": [],
   "source": [
    "import numpy as np\n",
    "import pandas as pd\n",
    "import seaborn as sns\n",
    "import matplotlib.pyplot as plt\n",
    "\n",
    "%matplotlib inline\n",
    "\n",
    "pd.options.display.max_columns = 999\n",
    "gr      = 1.618\n",
    "\n",
    "mass_p= 0.93827 #GeV\n",
    "mass_e= 0.00511 #GeV\n",
    "fid_min=10"
   ]
  },
  {
   "cell_type": "code",
   "execution_count": 2,
   "metadata": {
    "collapsed": false
   },
   "outputs": [],
   "source": [
    "# TPC border check\n",
    "def CheckBorderTPC(x,y,z,tolerance=0):\n",
    "    detectorx   =256.35     # In cm\n",
    "    detectory   =116.5      # Symmetric around 0     \n",
    "    detectorz   =1036.8\n",
    "    d=tolerance # border tolerance\n",
    "    if (0+d) < x < (detectorx-d):\n",
    "            if (-detectory+d)< y < (detectory-d):\n",
    "                    if (0+d) < z < (detectorz-d):\n",
    "                        return True\n",
    "    return False\n",
    "\n",
    "\n",
    "# True shower energy containment graphs\n",
    "def effErr(teller,noemer):\n",
    "    return np.sqrt(teller*(1-teller/noemer))/noemer\n",
    "\n",
    "\n",
    "# Summed true shower energy, not corrected for electron mass\n",
    "def true_showerE(row):\n",
    "    index= np.where( (row['nu_daughters_pdg']==11) | (row['nu_daughters_pdg']==22) )\n",
    "    E_true = sum(row['nu_daughters_E'][index])\n",
    "    return E_true\n",
    "\n",
    "def TrackRecoEnd(row):\n",
    "    for x,y,z in zip(row['track_end_x'],row['track_end_y'],row['track_end_z']):\n",
    "        if not CheckBorderTPC(x,y,z,tolerance=fid_min):\n",
    "            return False\n",
    "    return True\n",
    "\n",
    "# Sums hits over the shower objects\n",
    "def shower_nhits_plane(shower_nhits):\n",
    "    sh_hits_plane = [0,0,0,0]\n",
    "    for sh in shower_nhits:\n",
    "        sh_hits_plane[:-1]+=sh\n",
    "    sh_hits_plane[-1]=max(sh_hits_plane[:-1])\n",
    "    return sh_hits_plane\n",
    "\n",
    "def categoryPlus(row):\n",
    "    if row['nu_pdg']==12:\n",
    "        if row['category']=='e CC':\n",
    "            return r'$\\nu_e$ CC       '\n",
    "        elif row['category']=='Mixed':\n",
    "            return r'$\\nu_e$ cont.   '\n",
    "        else:\n",
    "            return row['category']+' '*(10-len(row['category']))\n",
    "    \n",
    "    elif row['nu_pdg']==14:\n",
    "        if row['category']=='mu CC':\n",
    "            return r'$\\nu_{\\mu}$ CC       '\n",
    "        elif row['category']=='Mixed':\n",
    "            return r'$\\nu_{\\mu}$ cont.   '\n",
    "        else:\n",
    "            return row['category']+' '*(10-len(row['category']))\n",
    "        \n",
    "    elif row['nu_pdg']==4294967282 or row['nu_pdg']==4294967284:\n",
    "        return r'$\\bar{\\nu}_{\\mu} / \\bar{\\nu}_e$     '\n",
    "    else:\n",
    "        print (row['nu_pdg'])\n",
    "        return 'Cosmic intime '\n",
    "    \n",
    "# Formatting\n",
    "def sciNot(x):\n",
    "    x=float(x)\n",
    "    return \"{0:4.1f}\".format(x)"
   ]
  },
  {
   "cell_type": "markdown",
   "metadata": {},
   "source": [
    "## Load Pickle file"
   ]
  },
  {
   "cell_type": "code",
   "execution_count": 3,
   "metadata": {
    "collapsed": false
   },
   "outputs": [
    {
     "name": "stdout",
     "output_type": "stream",
     "text": [
      "Dataframe loaded from Pickle has 113345 entries.\n"
     ]
    },
    {
     "data": {
      "text/html": [
       "<div>\n",
       "<table border=\"1\" class=\"dataframe\">\n",
       "  <thead>\n",
       "    <tr style=\"text-align: right;\">\n",
       "      <th></th>\n",
       "      <th>distance</th>\n",
       "      <th>nu_daughters_pdg</th>\n",
       "      <th>nu_pdg</th>\n",
       "      <th>nu_E</th>\n",
       "      <th>category</th>\n",
       "      <th>shower_containment_q</th>\n",
       "      <th>shower_sp_profile</th>\n",
       "      <th>reconstructed_energy</th>\n",
       "    </tr>\n",
       "  </thead>\n",
       "  <tbody>\n",
       "    <tr>\n",
       "      <th>0</th>\n",
       "      <td>255.623115</td>\n",
       "      <td>[13, 2212, 2112, 2000000101, 2000000101]</td>\n",
       "      <td>14</td>\n",
       "      <td>1.184815</td>\n",
       "      <td>Cosmic</td>\n",
       "      <td>0.999995</td>\n",
       "      <td>0.050590</td>\n",
       "      <td>[0.224278519611, 0.360606951127, 0.31402080667...</td>\n",
       "    </tr>\n",
       "    <tr>\n",
       "      <th>1</th>\n",
       "      <td>458.972726</td>\n",
       "      <td>[13, 2212, 2212]</td>\n",
       "      <td>14</td>\n",
       "      <td>0.863875</td>\n",
       "      <td>Cosmic</td>\n",
       "      <td>0.999996</td>\n",
       "      <td>1.177586</td>\n",
       "      <td>[0.0446746716026, 0.0679343334161, 0.064011868...</td>\n",
       "    </tr>\n",
       "    <tr>\n",
       "      <th>2</th>\n",
       "      <td>34.671440</td>\n",
       "      <td>[13, 2212, 211, 2112]</td>\n",
       "      <td>14</td>\n",
       "      <td>1.742921</td>\n",
       "      <td>mu CC</td>\n",
       "      <td>0.999999</td>\n",
       "      <td>0.349142</td>\n",
       "      <td>[0.256887470396, 0.44006767008, 0.487820845319...</td>\n",
       "    </tr>\n",
       "  </tbody>\n",
       "</table>\n",
       "</div>"
      ],
      "text/plain": [
       "     distance                          nu_daughters_pdg  nu_pdg      nu_E  \\\n",
       "0  255.623115  [13, 2212, 2112, 2000000101, 2000000101]      14  1.184815   \n",
       "1  458.972726                          [13, 2212, 2212]      14  0.863875   \n",
       "2   34.671440                     [13, 2212, 211, 2112]      14  1.742921   \n",
       "\n",
       "  category  shower_containment_q  shower_sp_profile  \\\n",
       "0   Cosmic              0.999995           0.050590   \n",
       "1   Cosmic              0.999996           1.177586   \n",
       "2    mu CC              0.999999           0.349142   \n",
       "\n",
       "                                reconstructed_energy  \n",
       "0  [0.224278519611, 0.360606951127, 0.31402080667...  \n",
       "1  [0.0446746716026, 0.0679343334161, 0.064011868...  \n",
       "2  [0.256887470396, 0.44006767008, 0.487820845319...  "
      ]
     },
     "execution_count": 3,
     "metadata": {},
     "output_type": "execute_result"
    }
   ],
   "source": [
    "df_shower = pd.read_pickle('Input/nu/nu_cosmic_passed.pckl')\n",
    "print('Dataframe loaded from Pickle has '+str(len(df_shower.index))+' entries.' )\n",
    "\n",
    "columns_remove = ['matched_tracks', 'nu_daughters_endx', 'track_start_x', 'track_nhits',\n",
    "       'matched_showers', 'shower_dir_y', 'track_start_y', 'track_end_x',\n",
    "       'shower_dEdx', 'nu_daughters_E', 'true_vz_sce',\n",
    "       'predict_mu', 'vy', 'bnbweight', 'shower_start_y', 'shower_nhits',\n",
    "       'shower_energy', 'shower_length', 'vx', 'shower_start_x',\n",
    "       'matched_tracks_energy', 'shower_dir_z', 'nu_daughters_endz',\n",
    "       'track_end_z', 'vz', 'true_shower_depE', 'nu_daughters_pz',\n",
    "       'predict_pi', 'predict_p', 'true_shower_z_sce', 'track_energy_dedx',\n",
    "       'track_start_z', 'track_dir_y', 'matched_showers_energy',\n",
    "       'nu_daughters_endy', 'track_dEdx', 'track_dir_z', 'true_shower_x_sce',\n",
    "       'track_pca', 'track_dir_x', 'track_energy_hits',\n",
    "       'predict_cos', 'shower_dEdx_hits', 'track_dEdx_hits',\n",
    "       'true_shower_y_sce', 'nu_daughters_py', 'true_vy_sce',\n",
    "       'true_vx_sce', 'nu_daughters_px', 'shower_dir_x', 'predict_em',\n",
    "       'track_end_y', 'true_shower_pdg', 'shower_pca',\n",
    "       'shower_open_angle', 'shower_start_z', 'true_shower_endx',\n",
    "       'true_shower_endy', 'true_shower_endz', 'true_shower_tmax_x',\n",
    "       'true_shower_tmax_y', 'true_shower_tmax_z', 'e_contained',\n",
    "       'e_contained_tmax', 'reco_length_containment',\n",
    "       'shower_daughter', 'track_daughter', 'plane2', 'total_nhits']\n",
    "df_shower.drop(columns_remove,axis=1,inplace=True)\n",
    "df_shower.head(3)"
   ]
  },
  {
   "cell_type": "code",
   "execution_count": 4,
   "metadata": {
    "collapsed": false
   },
   "outputs": [
    {
     "name": "stdout",
     "output_type": "stream",
     "text": [
      "Index(['distance', 'nu_daughters_pdg', 'nu_pdg', 'nu_E', 'category',\n",
      "       'shower_containment_q', 'shower_sp_profile', 'reconstructed_energy'],\n",
      "      dtype='object')\n",
      "33630\n",
      "113345\n"
     ]
    }
   ],
   "source": [
    "#df_shower['collectionhits']=df_shower['shower_nhits'].apply(lambda x: sum([sh[2] for sh in x]))\n",
    "print(df_shower.columns)\n",
    "print(len(df_shower[(df_shower['category'].isin(['mu CC'])) & (df_shower['distance']<5) ].index))\n",
    "print(len(df_shower))"
   ]
  },
  {
   "cell_type": "markdown",
   "metadata": {},
   "source": [
    "## Plots"
   ]
  },
  {
   "cell_type": "code",
   "execution_count": 5,
   "metadata": {
    "collapsed": false,
    "scrolled": false
   },
   "outputs": [
    {
     "ename": "NameError",
     "evalue": "name 'entries' is not defined",
     "output_type": "error",
     "traceback": [
      "\u001b[0;31m---------------------------------------------------------------------------\u001b[0m",
      "\u001b[0;31mNameError\u001b[0m                                 Traceback (most recent call last)",
      "\u001b[0;32m<ipython-input-5-214f1ff2ea55>\u001b[0m in \u001b[0;36m<module>\u001b[0;34m()\u001b[0m\n\u001b[1;32m     13\u001b[0m     \u001b[0mreco_E\u001b[0m\u001b[0;34m.\u001b[0m\u001b[0mappend\u001b[0m\u001b[0;34m(\u001b[0m\u001b[0mdf\u001b[0m\u001b[0;34m[\u001b[0m\u001b[0mdf\u001b[0m\u001b[0;34m[\u001b[0m\u001b[0;34m'catplus'\u001b[0m\u001b[0;34m]\u001b[0m\u001b[0;34m==\u001b[0m\u001b[0mcat\u001b[0m\u001b[0;34m]\u001b[0m\u001b[0;34m[\u001b[0m\u001b[0;34m'reco_E'\u001b[0m\u001b[0;34m]\u001b[0m\u001b[0;34m)\u001b[0m\u001b[0;34m\u001b[0m\u001b[0m\n\u001b[1;32m     14\u001b[0m     \u001b[0;31m#print(cat)\u001b[0m\u001b[0;34m\u001b[0m\u001b[0;34m\u001b[0m\u001b[0m\n\u001b[0;32m---> 15\u001b[0;31m     \u001b[0mlab\u001b[0m \u001b[0;34m=\u001b[0m \u001b[0mcat\u001b[0m\u001b[0;34m+\u001b[0m \u001b[0;34m'('\u001b[0m\u001b[0;34m+\u001b[0m\u001b[0msciNot\u001b[0m\u001b[0;34m(\u001b[0m\u001b[0mlen\u001b[0m\u001b[0;34m(\u001b[0m\u001b[0mtrue_E\u001b[0m\u001b[0;34m[\u001b[0m\u001b[0;34m-\u001b[0m\u001b[0;36m1\u001b[0m\u001b[0;34m]\u001b[0m\u001b[0;34m)\u001b[0m\u001b[0;34m/\u001b[0m\u001b[0mentries\u001b[0m\u001b[0;34m*\u001b[0m\u001b[0;36m100\u001b[0m\u001b[0;34m)\u001b[0m \u001b[0;34m+\u001b[0m\u001b[0;34m'%)'\u001b[0m\u001b[0;34m\u001b[0m\u001b[0m\n\u001b[0m\u001b[1;32m     16\u001b[0m     \u001b[0mlabels\u001b[0m\u001b[0;34m.\u001b[0m\u001b[0mappend\u001b[0m\u001b[0;34m(\u001b[0m\u001b[0mlab\u001b[0m\u001b[0;34m)\u001b[0m\u001b[0;34m\u001b[0m\u001b[0m\n\u001b[1;32m     17\u001b[0m \u001b[0;34m\u001b[0m\u001b[0m\n",
      "\u001b[0;31mNameError\u001b[0m: name 'entries' is not defined"
     ]
    }
   ],
   "source": [
    "# Plot of the selected events in true neutrino energy:\n",
    "df_shower['catplus']=df_shower.apply(categoryPlus,axis=1)\n",
    "df = df_shower\n",
    "df['reco_E']=df['reconstructed_energy'].apply(lambda x: x[-1])\n",
    "\n",
    "categories = df['catplus'].unique()\n",
    "true_E = []\n",
    "reco_E = [] \n",
    "labels = []\n",
    "\n",
    "for cat in categories:\n",
    "    true_E.append(df[df['catplus']==cat]['nu_E'])\n",
    "    reco_E.append(df[df['catplus']==cat]['reco_E'])\n",
    "    #print(cat)\n",
    "    lab = cat+ '('+sciNot(len(true_E[-1])/entries*100) +'%)'\n",
    "    labels.append(lab)\n",
    "    "
   ]
  },
  {
   "cell_type": "code",
   "execution_count": null,
   "metadata": {
    "collapsed": false
   },
   "outputs": [],
   "source": [
    "plt.style.use('default')\n",
    "fig,ax=plt.subplots(ncols=2,nrows=1,figsize=(4.3*gr,4),sharey=True,sharex=True)\n",
    "#plt.suptitle(r'Passed events in True and Reconstructed $\\nu$ Energy')\n",
    "N = 50\n",
    "min_x = 0.0\n",
    "max_x = 2.5\n",
    "step  = 0.5\n",
    "entries= len(df.index)\n",
    "\n",
    "ax[0].hist(true_E,N,range=(min_x,max_x), stacked=True, fill=True,label=labels,normed=True)\n",
    "ax[1].hist(reco_E,N,range=(min_x,max_x), stacked=True, fill=True,label=labels,normed=True)\n",
    "\n",
    "ax[0].set_ylabel('Area normalised ('+sciNot((max_x-min_x)/N)+' GeV bins )')\n",
    "ax[0].set_xlabel(r'True $\\nu$ energy [GeV]')\n",
    "ax[1].set_xlabel(r'Reco $\\nu$ energy [GeV]')\n",
    "\n",
    "plt.xticks(np.arange(min_x,max_x+step, step))\n",
    "plt.legend(ncol=3,loc='upper center',bbox_to_anchor=(-0.1, 1.26))\n",
    "\n",
    "ax[0].set_frame_on(False)\n",
    "ax[1].set_frame_on(False)\n",
    "ax[1].text(1.25,1.0,r'$1.48\\times 10^{21}$ POT')\n",
    "\n",
    "#ax[0].spines['top'].set_visible(False)\n",
    "#ax[0].spines['right'].set_visible(False)\n",
    "#ax[1].spines['top'].set_visible(False)\n",
    "#ax[1].spines['right'].set_visible(False)\n",
    "\n",
    "plt.savefig(\"BNB_mu.png\",dpi=500,\n",
    "            transparant=True,\n",
    "               bbox_inches='tight', \n",
    "               pad_inches=0.1)"
   ]
  },
  {
   "cell_type": "code",
   "execution_count": null,
   "metadata": {
    "collapsed": false
   },
   "outputs": [],
   "source": []
  },
  {
   "cell_type": "code",
   "execution_count": null,
   "metadata": {
    "collapsed": false
   },
   "outputs": [],
   "source": []
  },
  {
   "cell_type": "code",
   "execution_count": null,
   "metadata": {
    "collapsed": false
   },
   "outputs": [],
   "source": []
  },
  {
   "cell_type": "code",
   "execution_count": null,
   "metadata": {
    "collapsed": false
   },
   "outputs": [],
   "source": [
    "\n",
    "\n"
   ]
  },
  {
   "cell_type": "code",
   "execution_count": null,
   "metadata": {
    "collapsed": false
   },
   "outputs": [],
   "source": [
    "# Track length\n",
    "\n",
    "\n",
    "def track_length(row):\n",
    "    length=[]\n",
    "    looplist= zip(row['track_start_x'],row['track_start_y'],row['track_start_z'],\n",
    "               row['track_end_x'],row['track_end_y'],row['track_end_z'])\n",
    "    \n",
    "    for x,y,z,e_x,e_y,e_z in looplist:\n",
    "        length.append(np.linalg.norm( [x-e_x,y-e_y,z-e_z]   ))\n",
    "    return length\n",
    "\n",
    "\n",
    "\n",
    "series_obj = df_shower.apply(track_length,axis=1)\n",
    "lengths =np.hstack( series_obj.values )\n",
    "pdgs = np.hstack( df_shower['matched_tracks'].values )\n",
    "\n",
    "\n",
    "lengths_e = lengths[np.where(pdgs==11)]\n",
    "lengths_m = lengths[np.where(abs(pdgs)==13)]\n",
    "lengths_p = lengths[np.where(pdgs==2212)]\n",
    "lengths_n = lengths[np.where(pdgs==2112)]\n",
    "lengths_g = lengths[np.where(pdgs==22)]\n",
    "lengths_pi = lengths[np.where(abs(pdgs)==211)]\n",
    "\n",
    "\n",
    "data=[lengths_p,lengths_m,lengths_e,lengths_pi,lengths_g,lengths_n]\n",
    "labels = ['Proton (30167)',r'$\\mu^-/\\mu^+$ (14014)','Electron (9837)',r'$\\pi^-/\\pi^+$ (9210)','Gamma (1438)','Neutron (1363)']\n",
    "\n",
    "ax[0].hist(data, N,range=(0,200), histtype='step', stacked=False, fill=False,label=labels)\n",
    "ax[1].hist(data, N,range=(0,200), histtype='step',normed=True, stacked=False, fill=False,label=labels)\n",
    "#ax[0].axvline(x=150,alpha=.2,color='k',label='Proposed cut')\n",
    "#ax[1].axvline(x=150,alpha=.2,color='k',label='Proposed cut')\n",
    "\n",
    "ax[0].legend()\n",
    "ax[0].set_ylabel('#Events')\n",
    "ax[0].set_xlabel('Tracklength [cm]')\n",
    "\n",
    "ax[1].set_ylabel('Normalised')\n",
    "ax[1].set_xlabel('Tracklength [cm]')\n",
    "\n",
    "handles, labels = ax[0].get_legend_handles_labels()\n",
    "ax[0].legend(handles[::-1], labels[::-1],loc='upper right')\n",
    "\n",
    "plt.tight_layout()\n",
    "fig.subplots_adjust(top=0.88)\n",
    "plt.savefig('tracklength.pdf')\n",
    "\n",
    "unique, counts = np.unique(pdgs, return_counts=True)\n",
    "print(dict(zip(unique, counts)))\n",
    "\n",
    "cut=150\n",
    "print(sum(lengths_p>cut))\n",
    "print(sum(lengths_m>cut))\n",
    "print(sum(lengths_e>cut))\n",
    "print(sum(lengths_pi>cut))\n",
    "print(sum(lengths_g>cut))\n",
    "print(sum(lengths_n>cut))\n",
    "    "
   ]
  },
  {
   "cell_type": "code",
   "execution_count": null,
   "metadata": {
    "collapsed": false
   },
   "outputs": [],
   "source": []
  },
  {
   "cell_type": "code",
   "execution_count": null,
   "metadata": {
    "collapsed": false
   },
   "outputs": [],
   "source": []
  },
  {
   "cell_type": "code",
   "execution_count": null,
   "metadata": {
    "collapsed": false
   },
   "outputs": [],
   "source": []
  },
  {
   "cell_type": "code",
   "execution_count": null,
   "metadata": {
    "collapsed": false
   },
   "outputs": [],
   "source": []
  },
  {
   "cell_type": "code",
   "execution_count": null,
   "metadata": {
    "collapsed": true
   },
   "outputs": [],
   "source": []
  }
 ],
 "metadata": {
  "kernelspec": {
   "display_name": "Python [conda env:rootenv]",
   "language": "python",
   "name": "conda-env-rootenv-py"
  },
  "language_info": {
   "codemirror_mode": {
    "name": "ipython",
    "version": 3
   },
   "file_extension": ".py",
   "mimetype": "text/x-python",
   "name": "python",
   "nbconvert_exporter": "python",
   "pygments_lexer": "ipython3",
   "version": "3.4.5"
  }
 },
 "nbformat": 4,
 "nbformat_minor": 2
}
