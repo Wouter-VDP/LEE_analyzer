{
 "cells": [
  {
   "cell_type": "code",
   "execution_count": 1,
   "metadata": {
    "collapsed": true
   },
   "outputs": [],
   "source": [
    "import pandas as pd\n",
    "import numpy as np\n",
    "import matplotlib.pyplot as plt\n",
    "import seaborn as sns\n",
    "\n",
    "from sklearn.model_selection import train_test_split\n",
    "from sklearn.metrics import classification_report\n",
    "from xgboost import XGBClassifier\n",
    "from sklearn.externals import joblib\n",
    "\n",
    "from helpfunction import sciNot\n",
    "\n",
    "%matplotlib inline\n",
    "gr      = 1.618"
   ]
  },
  {
   "cell_type": "code",
   "execution_count": 2,
   "metadata": {
    "collapsed": true
   },
   "outputs": [],
   "source": [
    "min_dedx_hits=3"
   ]
  },
  {
   "cell_type": "markdown",
   "metadata": {},
   "source": [
    "# Tracks"
   ]
  },
  {
   "cell_type": "code",
   "execution_count": 3,
   "metadata": {
    "collapsed": true
   },
   "outputs": [],
   "source": [
    "input_tr = ['../Input/XGBoost/trackFrame_nue_0.pckl',\n",
    "            '../Input/XGBoost/trackFrame_nue_1.pckl',\n",
    "            '../Input/XGBoost/trackFrame_nue_2.pckl',\n",
    "            '../Input/XGBoost/trackFrame_nue_3.pckl',\n",
    "            '../Input/XGBoost/trackFrame_nue_4.pckl',\n",
    "            '../Input/XGBoost/trackFrame_nu_0.pckl',\n",
    "            '../Input/XGBoost/trackFrame_nu_1.pckl',\n",
    "           ]\n",
    "intput_tr_df = [ pd.read_pickle(x) for x in input_tr]\n",
    "dataset = pd.concat(intput_tr_df,ignore_index=True,copy=False) \n",
    "\n",
    "\n",
    "columns_track_XGB = ['track_dedx', 'track_dedx_avg', 'track_dedx_hits', 'track_pca',\n",
    "                     'predict_em', 'predict_mu', 'predict_cos', 'predict_pi', 'predict_p',\n",
    "                     'track_containment', 'track_is_daughter', 'track_length',\n",
    "                     'track_sh_daughter', 'track_tr_daughter', 'track_vtx', 'track_vtx_end']\n",
    "\n",
    "columns_shower_XGB = [ 'shower_dedx', 'shower_dedx_avg', 'shower_dedx_hits', 'shower_pca',\n",
    "                       'shower_open_angle', 'shower_length', 'shower_containment_q',\n",
    "                       'shower_sp_profile', 'shower_is_daughter', 'shower_sh_daughter',\n",
    "                       'shower_tr_daughter', 'shower_vtx']"
   ]
  },
  {
   "cell_type": "code",
   "execution_count": 4,
   "metadata": {
    "collapsed": false
   },
   "outputs": [
    {
     "data": {
      "text/html": [
       "<div>\n",
       "<style scoped>\n",
       "    .dataframe tbody tr th:only-of-type {\n",
       "        vertical-align: middle;\n",
       "    }\n",
       "\n",
       "    .dataframe tbody tr th {\n",
       "        vertical-align: top;\n",
       "    }\n",
       "\n",
       "    .dataframe thead th {\n",
       "        text-align: right;\n",
       "    }\n",
       "</style>\n",
       "<table border=\"1\" class=\"dataframe\">\n",
       "  <thead>\n",
       "    <tr style=\"text-align: right;\">\n",
       "      <th></th>\n",
       "      <th>predict_cos</th>\n",
       "      <th>predict_em</th>\n",
       "      <th>predict_mu</th>\n",
       "      <th>predict_p</th>\n",
       "      <th>predict_pi</th>\n",
       "      <th>track_dedx</th>\n",
       "      <th>track_dedx_avg</th>\n",
       "      <th>track_dedx_hits</th>\n",
       "      <th>track_pca</th>\n",
       "      <th>true_e_cl</th>\n",
       "      <th>track_containment</th>\n",
       "      <th>track_is_daughter</th>\n",
       "      <th>track_length</th>\n",
       "      <th>track_sh_daughter</th>\n",
       "      <th>track_tr_daughter</th>\n",
       "      <th>track_vtx</th>\n",
       "      <th>track_vtx_end</th>\n",
       "      <th>true_e</th>\n",
       "      <th>true_mu</th>\n",
       "    </tr>\n",
       "  </thead>\n",
       "  <tbody>\n",
       "    <tr>\n",
       "      <th>0</th>\n",
       "      <td>0.000202</td>\n",
       "      <td>0.001025</td>\n",
       "      <td>0.001275</td>\n",
       "      <td>0.996582</td>\n",
       "      <td>0.000859</td>\n",
       "      <td>4.167077</td>\n",
       "      <td>23.055122</td>\n",
       "      <td>6.0</td>\n",
       "      <td>0.983398</td>\n",
       "      <td>False</td>\n",
       "      <td>True</td>\n",
       "      <td>False</td>\n",
       "      <td>22.408168</td>\n",
       "      <td>False</td>\n",
       "      <td>False</td>\n",
       "      <td>0.633995</td>\n",
       "      <td>22.985101</td>\n",
       "      <td>False</td>\n",
       "      <td>False</td>\n",
       "    </tr>\n",
       "    <tr>\n",
       "      <th>1</th>\n",
       "      <td>0.986328</td>\n",
       "      <td>0.000062</td>\n",
       "      <td>0.007092</td>\n",
       "      <td>0.005074</td>\n",
       "      <td>0.001274</td>\n",
       "      <td>2.015457</td>\n",
       "      <td>6.484311</td>\n",
       "      <td>4.0</td>\n",
       "      <td>0.999512</td>\n",
       "      <td>False</td>\n",
       "      <td>False</td>\n",
       "      <td>False</td>\n",
       "      <td>148.071002</td>\n",
       "      <td>False</td>\n",
       "      <td>False</td>\n",
       "      <td>89.654548</td>\n",
       "      <td>97.150791</td>\n",
       "      <td>False</td>\n",
       "      <td>True</td>\n",
       "    </tr>\n",
       "    <tr>\n",
       "      <th>2</th>\n",
       "      <td>0.041443</td>\n",
       "      <td>0.004982</td>\n",
       "      <td>0.353027</td>\n",
       "      <td>0.004162</td>\n",
       "      <td>0.596191</td>\n",
       "      <td>1.641323</td>\n",
       "      <td>5.029923</td>\n",
       "      <td>9.0</td>\n",
       "      <td>0.998047</td>\n",
       "      <td>False</td>\n",
       "      <td>True</td>\n",
       "      <td>False</td>\n",
       "      <td>40.174437</td>\n",
       "      <td>True</td>\n",
       "      <td>False</td>\n",
       "      <td>0.946709</td>\n",
       "      <td>41.110578</td>\n",
       "      <td>False</td>\n",
       "      <td>False</td>\n",
       "    </tr>\n",
       "    <tr>\n",
       "      <th>3</th>\n",
       "      <td>0.000818</td>\n",
       "      <td>0.020157</td>\n",
       "      <td>0.011948</td>\n",
       "      <td>0.935547</td>\n",
       "      <td>0.031311</td>\n",
       "      <td>3.643736</td>\n",
       "      <td>15.902322</td>\n",
       "      <td>11.0</td>\n",
       "      <td>0.994141</td>\n",
       "      <td>False</td>\n",
       "      <td>True</td>\n",
       "      <td>False</td>\n",
       "      <td>15.305866</td>\n",
       "      <td>False</td>\n",
       "      <td>True</td>\n",
       "      <td>0.118826</td>\n",
       "      <td>15.218639</td>\n",
       "      <td>False</td>\n",
       "      <td>False</td>\n",
       "    </tr>\n",
       "    <tr>\n",
       "      <th>4</th>\n",
       "      <td>0.000161</td>\n",
       "      <td>0.000696</td>\n",
       "      <td>0.002705</td>\n",
       "      <td>0.995117</td>\n",
       "      <td>0.001134</td>\n",
       "      <td>4.301776</td>\n",
       "      <td>15.734635</td>\n",
       "      <td>12.0</td>\n",
       "      <td>0.923828</td>\n",
       "      <td>False</td>\n",
       "      <td>True</td>\n",
       "      <td>True</td>\n",
       "      <td>10.571972</td>\n",
       "      <td>False</td>\n",
       "      <td>False</td>\n",
       "      <td>15.771400</td>\n",
       "      <td>26.065605</td>\n",
       "      <td>False</td>\n",
       "      <td>False</td>\n",
       "    </tr>\n",
       "  </tbody>\n",
       "</table>\n",
       "</div>"
      ],
      "text/plain": [
       "   predict_cos  predict_em  predict_mu  predict_p  predict_pi  track_dedx  \\\n",
       "0     0.000202    0.001025    0.001275   0.996582    0.000859    4.167077   \n",
       "1     0.986328    0.000062    0.007092   0.005074    0.001274    2.015457   \n",
       "2     0.041443    0.004982    0.353027   0.004162    0.596191    1.641323   \n",
       "3     0.000818    0.020157    0.011948   0.935547    0.031311    3.643736   \n",
       "4     0.000161    0.000696    0.002705   0.995117    0.001134    4.301776   \n",
       "\n",
       "   track_dedx_avg  track_dedx_hits  track_pca  true_e_cl  track_containment  \\\n",
       "0       23.055122              6.0   0.983398      False               True   \n",
       "1        6.484311              4.0   0.999512      False              False   \n",
       "2        5.029923              9.0   0.998047      False               True   \n",
       "3       15.902322             11.0   0.994141      False               True   \n",
       "4       15.734635             12.0   0.923828      False               True   \n",
       "\n",
       "   track_is_daughter  track_length  track_sh_daughter  track_tr_daughter  \\\n",
       "0              False     22.408168              False              False   \n",
       "1              False    148.071002              False              False   \n",
       "2              False     40.174437               True              False   \n",
       "3              False     15.305866              False               True   \n",
       "4               True     10.571972              False              False   \n",
       "\n",
       "   track_vtx  track_vtx_end  true_e  true_mu  \n",
       "0   0.633995      22.985101   False    False  \n",
       "1  89.654548      97.150791   False     True  \n",
       "2   0.946709      41.110578   False    False  \n",
       "3   0.118826      15.218639   False    False  \n",
       "4  15.771400      26.065605   False    False  "
      ]
     },
     "execution_count": 4,
     "metadata": {},
     "output_type": "execute_result"
    }
   ],
   "source": [
    "dataset.head()"
   ]
  },
  {
   "cell_type": "code",
   "execution_count": 5,
   "metadata": {
    "collapsed": false
   },
   "outputs": [
    {
     "name": "stdout",
     "output_type": "stream",
     "text": [
      "Index(['predict_cos', 'predict_em', 'predict_mu', 'predict_p', 'predict_pi',\n",
      "       'track_dedx', 'track_dedx_avg', 'track_dedx_hits', 'track_pca',\n",
      "       'true_e_cl', 'track_containment', 'track_is_daughter', 'track_length',\n",
      "       'track_sh_daughter', 'track_tr_daughter', 'track_vtx', 'track_vtx_end',\n",
      "       'true_e', 'true_mu'],\n",
      "      dtype='object')\n"
     ]
    }
   ],
   "source": [
    "# For now, quick fix: require at least two hits in track_dedx_hits, otherwise track_dedx is nonsence.\n",
    "dataset_cleaned = dataset[dataset['track_dedx_hits']>=min_dedx_hits]\n",
    "dataset_cleaned.head()\n",
    "print(dataset_cleaned.columns)"
   ]
  },
  {
   "cell_type": "code",
   "execution_count": 6,
   "metadata": {
    "collapsed": true
   },
   "outputs": [],
   "source": [
    "seed = 7\n",
    "test_size = 0.33\n",
    "\n",
    "X=dataset_cleaned.drop(columns=['true_e','true_mu','true_e_cl'])\n",
    "X=X[columns_track_XGB].as_matrix()\n",
    "Y_mu=dataset_cleaned['true_mu']\n",
    "Y_e=dataset_cleaned['true_e']\n",
    "Y_cle = dataset_cleaned['true_e_cl']"
   ]
  },
  {
   "cell_type": "code",
   "execution_count": 7,
   "metadata": {
    "collapsed": false
   },
   "outputs": [
    {
     "name": "stderr",
     "output_type": "stream",
     "text": [
      "/home/wouter/anaconda3/envs/mlenv/lib/python3.6/site-packages/sklearn/preprocessing/label.py:151: DeprecationWarning: The truth value of an empty array is ambiguous. Returning False, but in future this will result in an error. Use `array.size > 0` to check that an array is not empty.\n",
      "  if diff:\n"
     ]
    },
    {
     "name": "stdout",
     "output_type": "stream",
     "text": [
      "             precision    recall  f1-score   support\n",
      "\n",
      "      False       0.91      0.92      0.92     33668\n",
      "       True       0.91      0.90      0.90     29453\n",
      "\n",
      "avg / total       0.91      0.91      0.91     63121\n",
      "\n"
     ]
    }
   ],
   "source": [
    "# fit model no training data\n",
    "X_train, X_test, y_train, y_test_mu = train_test_split(X, Y_mu, test_size=test_size, random_state=seed)\n",
    "model = XGBClassifier()\n",
    "model.fit(X_train, y_train)\n",
    "print(classification_report(y_test_mu, model.predict(X_test)))\n",
    "joblib.dump(model, '../Input/XGBoost/model_tr_mu.pkl') \n",
    "y_pred_mu = model.predict_proba(X_test)"
   ]
  },
  {
   "cell_type": "code",
   "execution_count": 8,
   "metadata": {
    "collapsed": false
   },
   "outputs": [
    {
     "name": "stderr",
     "output_type": "stream",
     "text": [
      "/home/wouter/anaconda3/envs/mlenv/lib/python3.6/site-packages/sklearn/preprocessing/label.py:151: DeprecationWarning: The truth value of an empty array is ambiguous. Returning False, but in future this will result in an error. Use `array.size > 0` to check that an array is not empty.\n",
      "  if diff:\n"
     ]
    },
    {
     "name": "stdout",
     "output_type": "stream",
     "text": [
      "             precision    recall  f1-score   support\n",
      "\n",
      "      False       0.96      1.00      0.98     60313\n",
      "       True       0.72      0.20      0.31      2808\n",
      "\n",
      "avg / total       0.95      0.96      0.95     63121\n",
      "\n"
     ]
    }
   ],
   "source": [
    "# fit model no training data\n",
    "X_train, X_test, y_train, y_test_e = train_test_split(X, Y_e, test_size=test_size, random_state=seed)\n",
    "model = XGBClassifier()\n",
    "model.fit(X_train, y_train)\n",
    "print(classification_report(y_test_e,model.predict(X_test)))\n",
    "joblib.dump(model, '../Input/XGBoost/model_tr_e.pkl') \n",
    "y_pred_e = model.predict_proba(X_test)"
   ]
  },
  {
   "cell_type": "code",
   "execution_count": 9,
   "metadata": {
    "collapsed": false
   },
   "outputs": [
    {
     "name": "stderr",
     "output_type": "stream",
     "text": [
      "/home/wouter/anaconda3/envs/mlenv/lib/python3.6/site-packages/sklearn/preprocessing/label.py:151: DeprecationWarning: The truth value of an empty array is ambiguous. Returning False, but in future this will result in an error. Use `array.size > 0` to check that an array is not empty.\n",
      "  if diff:\n"
     ]
    },
    {
     "name": "stdout",
     "output_type": "stream",
     "text": [
      "             precision    recall  f1-score   support\n",
      "\n",
      "      False       0.98      1.00      0.99     61492\n",
      "       True       0.71      0.24      0.36      1629\n",
      "\n",
      "avg / total       0.97      0.98      0.97     63121\n",
      "\n"
     ]
    }
   ],
   "source": [
    "# fit model no training data\n",
    "X_train, X_test, y_train, y_test_cle = train_test_split(X, Y_cle, test_size=test_size, random_state=seed)\n",
    "model = XGBClassifier()\n",
    "model.fit(X_train, y_train)\n",
    "print(classification_report(y_test_cle, model.predict(X_test)))\n",
    "joblib.dump(model, '../Input/XGBoost/model_tr_cle.pkl') \n",
    "y_pred_cle = model.predict_proba(X_test)"
   ]
  },
  {
   "cell_type": "code",
   "execution_count": null,
   "metadata": {
    "collapsed": true
   },
   "outputs": [],
   "source": []
  },
  {
   "cell_type": "code",
   "execution_count": 10,
   "metadata": {
    "collapsed": false,
    "scrolled": false
   },
   "outputs": [
    {
     "name": "stdout",
     "output_type": "stream",
     "text": [
      "Cut value: 0.13 removes 98.2 % of muon tagged tracks and 26.6 % of not-muon tagged tracks.\n",
      "Cut value: 0.5 keeps 19.9 % of electron tagged tracks and 0.4 % of not-electron tagged tracks.\n",
      "Cut value: 0.5 keeps 29.0 % of closest electron tagged tracks and 0.5 % of not-closest-electron tagged tracks.\n"
     ]
    },
    {
     "data": {
      "image/png": "[encoded data removed]",
      "text/plain": [
       "<matplotlib.figure.Figure at 0x7faeca3ea3c8>"
      ]
     },
     "metadata": {},
     "output_type": "display_data"
    }
   ],
   "source": [
    "# XGB classification\n",
    "\n",
    "plt.style.use('default')\n",
    "fig,ax=plt.subplots(ncols=3,nrows=2,figsize=(7*gr,6),sharex=True)\n",
    "plt.suptitle(r'XGBoost muon/electron track classifier (test dataset)')\n",
    "N=50\n",
    "muon_cut = 0.13\n",
    "electron_cut=0.5\n",
    "close_e_cut=0.5\n",
    "\n",
    "# Electron track classification\n",
    "arr_e  = y_pred_e[y_test_e==1][:,1]\n",
    "arr_ne = y_pred_e[y_test_e==0][:,1]\n",
    "\n",
    "# Electron track classification\n",
    "arr_cl_e  = y_pred_e[y_test_cle==1][:,1]\n",
    "arr_cl_ne = y_pred_e[y_test_cle==0][:,1]\n",
    "\n",
    "# Muon track classification\n",
    "arr_mu  = y_pred_mu[y_test_mu==1][:,1]\n",
    "arr_nmu = y_pred_mu[y_test_mu==0][:,1]\n",
    "\n",
    "label_mu=(r'$\\mu^+/\\mu^-$ matched ('+str(len(arr_mu))+')','Other ('+str(len(arr_nmu))+')')\n",
    "label_e=(r'$e^-$ matched ('+str(len(arr_e))+')','Other ('+str(len(arr_ne))+')')\n",
    "label_cl_e=(r'$e^-$ closest ('+str(len(arr_cl_e))+')','Other ('+str(len(arr_cl_ne))+')')\n",
    "\n",
    "ax[0][0].hist([arr_mu,arr_nmu],histtype='step', bins=N, fill=False,label=label_mu,density=True)\n",
    "ax[0][0].set_ylabel('Normalised')\n",
    "ax[0][0].axvline(x=muon_cut,alpha=.2,color='k',label='Proposed cut: '+str(muon_cut))\n",
    "\n",
    "ax[1][0].hist([arr_mu,arr_nmu],histtype='step', bins=N, fill=False,label=label_mu,density=True)\n",
    "ax[1][0].set_ylim(0,3)\n",
    "ax[1][0].set_ylabel('Normalised')\n",
    "ax[1][0].set_xlabel('Score')\n",
    "ax[1][0].axvline(x=muon_cut,alpha=.2,color='k',label='Proposed cut: '+str(muon_cut))\n",
    "\n",
    "ax[0][1].hist([arr_e,arr_ne],histtype='step', bins=N, fill=False,label=label_e,density=True)\n",
    "ax[0][1].axvline(x=electron_cut,alpha=.2,color='k',label='Proposed cut: '+str(electron_cut))\n",
    "\n",
    "ax[1][1].hist([arr_e,arr_ne],histtype='step', bins=N, fill=False,label=label_e,density=True)\n",
    "ax[1][1].set_ylim(0,3)\n",
    "ax[1][1].set_xlabel('Score')\n",
    "ax[1][1].axvline(x=electron_cut,alpha=.2,color='k',label='Proposed cut: '+str(electron_cut))\n",
    "\n",
    "ax[0][2].hist([arr_cl_e,arr_cl_ne],histtype='step', bins=N, fill=False,label=label_cl_e,density=False)\n",
    "ax[0][2].axvline(x=close_e_cut,alpha=.2,color='k',label='Proposed cut: '+str(close_e_cut))\n",
    "\n",
    "ax[1][2].hist([arr_cl_e,arr_cl_ne],histtype='step', bins=N, fill=False,label=label_cl_e,density=True)\n",
    "ax[1][2].set_ylim(0,3)\n",
    "ax[1][2].set_xlabel('Score')\n",
    "ax[1][2].axvline(x=close_e_cut,alpha=.2,color='k',label='Proposed cut: '+str(close_e_cut))\n",
    "\n",
    "#offset=0.05\n",
    "handles, labels = ax[0][0].get_legend_handles_labels()\n",
    "ax[0][0].legend(handles[::-1], labels[::-1],loc='upper center')\n",
    "handles, labels = ax[0][1].get_legend_handles_labels()\n",
    "ax[0][1].legend(handles[::-1], labels[::-1],loc='upper center')\n",
    "handles, labels = ax[0][2].get_legend_handles_labels()\n",
    "ax[0][2].legend(handles[::-1], labels[::-1],loc='upper center')\n",
    "\n",
    "plt.tight_layout()\n",
    "fig.subplots_adjust(top=0.92)\n",
    "plt.savefig('XGB_track.pdf')\n",
    "\n",
    "print('Cut value:',muon_cut,'removes', sciNot(sum(arr_mu>muon_cut) / len(arr_mu)*100),'% of muon tagged tracks and',\n",
    "      sciNot(sum(arr_nmu>muon_cut) / len(arr_nmu)*100),'% of not-muon tagged tracks.')\n",
    "\n",
    "print('Cut value:',electron_cut,'keeps', sciNot(sum(arr_e>electron_cut) / len(arr_e)*100),'% of electron tagged tracks and',\n",
    "      sciNot(sum(arr_ne>electron_cut) / len(arr_ne)*100),'% of not-electron tagged tracks.')\n",
    "\n",
    "print('Cut value:',close_e_cut,'keeps', sciNot(sum(arr_cl_e>close_e_cut) / len(arr_cl_e)*100),'% of closest electron tagged tracks and',\n",
    "      sciNot(sum(arr_cl_ne>close_e_cut) / len(arr_ne)*100),'% of not-closest-electron tagged tracks.')\n"
   ]
  },
  {
   "cell_type": "code",
   "execution_count": 11,
   "metadata": {
    "collapsed": false
   },
   "outputs": [
    {
     "name": "stdout",
     "output_type": "stream",
     "text": [
      "191274\n",
      "False    182932\n",
      "True       8342\n",
      "Name: true_e, dtype: int64\n",
      "False    102462\n",
      "True      88812\n",
      "Name: true_mu, dtype: int64\n",
      "True     143512\n",
      "False     47762\n",
      "Name: track_containment, dtype: int64\n",
      "False    171744\n",
      "True      19530\n",
      "Name: track_sh_daughter, dtype: int64\n",
      "False    185048\n",
      "True       6226\n",
      "Name: track_is_daughter, dtype: int64\n"
     ]
    }
   ],
   "source": [
    "print(len(dataset_cleaned.index))\n",
    "print(dataset_cleaned['true_e'].value_counts())\n",
    "print(dataset_cleaned['true_mu'].value_counts())\n",
    "print(dataset_cleaned['track_containment'].value_counts())\n",
    "print(dataset_cleaned['track_sh_daughter'].value_counts())\n",
    "print(dataset_cleaned['track_is_daughter'].value_counts())"
   ]
  },
  {
   "cell_type": "code",
   "execution_count": 12,
   "metadata": {
    "collapsed": false
   },
   "outputs": [
    {
     "name": "stdout",
     "output_type": "stream",
     "text": [
      "138\n",
      "23986\n"
     ]
    },
    {
     "name": "stderr",
     "output_type": "stream",
     "text": [
      "/home/wouter/anaconda3/envs/mlenv/lib/python3.6/site-packages/pandas/core/computation/expressions.py:179: UserWarning: evaluating in Python space because the '*' operator is not supported by numexpr for the bool dtype, use '&' instead\n",
      "  .format(op=op_str, alt_op=unsupported[op_str]))\n"
     ]
    }
   ],
   "source": [
    "# Question: how many tracks have a muon score of lower than muon cut, \n",
    "# have an electron score higher than electron_cut and are not an electron.\n",
    "print(sum( (y_pred_mu[:,1]<muon_cut)*(y_pred_e[:,1]>electron_cut)*(y_test_e==0)))\n",
    "print(sum( (y_pred_mu[:,1]<muon_cut)*(y_test_e==0)))\n"
   ]
  },
  {
   "cell_type": "markdown",
   "metadata": {},
   "source": [
    "# Showers"
   ]
  },
  {
   "cell_type": "code",
   "execution_count": 13,
   "metadata": {
    "collapsed": true
   },
   "outputs": [],
   "source": [
    "input_sh = ['../Input/XGBoost/showerFrame_nue_0.pckl',\n",
    "            '../Input/XGBoost/showerFrame_nue_1.pckl',\n",
    "            '../Input/XGBoost/showerFrame_nue_2.pckl',\n",
    "            '../Input/XGBoost/showerFrame_nue_3.pckl',\n",
    "            '../Input/XGBoost/showerFrame_nue_4.pckl',\n",
    "            '../Input/XGBoost/showerFrame_nu_0.pckl',\n",
    "            '../Input/XGBoost/showerFrame_nu_1.pckl',\n",
    "           ]\n",
    "intput_sh_df = [ pd.read_pickle(x) for x in input_sh]\n",
    "dataset = pd.concat(intput_sh_df,ignore_index=True,copy=False) "
   ]
  },
  {
   "cell_type": "code",
   "execution_count": 14,
   "metadata": {
    "collapsed": false
   },
   "outputs": [
    {
     "data": {
      "text/html": [
       "<div>\n",
       "<style scoped>\n",
       "    .dataframe tbody tr th:only-of-type {\n",
       "        vertical-align: middle;\n",
       "    }\n",
       "\n",
       "    .dataframe tbody tr th {\n",
       "        vertical-align: top;\n",
       "    }\n",
       "\n",
       "    .dataframe thead th {\n",
       "        text-align: right;\n",
       "    }\n",
       "</style>\n",
       "<table border=\"1\" class=\"dataframe\">\n",
       "  <thead>\n",
       "    <tr style=\"text-align: right;\">\n",
       "      <th></th>\n",
       "      <th>shower_containment_q</th>\n",
       "      <th>shower_dedx</th>\n",
       "      <th>shower_dedx_avg</th>\n",
       "      <th>shower_dedx_hits</th>\n",
       "      <th>shower_length</th>\n",
       "      <th>shower_open_angle</th>\n",
       "      <th>shower_pca</th>\n",
       "      <th>shower_sp_profile</th>\n",
       "      <th>true_e_cl</th>\n",
       "      <th>shower_is_daughter</th>\n",
       "      <th>shower_sh_daughter</th>\n",
       "      <th>shower_tr_daughter</th>\n",
       "      <th>shower_vtx</th>\n",
       "      <th>true_e</th>\n",
       "      <th>true_mu</th>\n",
       "    </tr>\n",
       "  </thead>\n",
       "  <tbody>\n",
       "    <tr>\n",
       "      <th>0</th>\n",
       "      <td>1.000000</td>\n",
       "      <td>1.902799</td>\n",
       "      <td>2.683623</td>\n",
       "      <td>2.0</td>\n",
       "      <td>135.750000</td>\n",
       "      <td>0.071533</td>\n",
       "      <td>0.964844</td>\n",
       "      <td>2.030565</td>\n",
       "      <td>True</td>\n",
       "      <td>False</td>\n",
       "      <td>False</td>\n",
       "      <td>False</td>\n",
       "      <td>0.757006</td>\n",
       "      <td>True</td>\n",
       "      <td>False</td>\n",
       "    </tr>\n",
       "    <tr>\n",
       "      <th>1</th>\n",
       "      <td>0.760376</td>\n",
       "      <td>2.649016</td>\n",
       "      <td>22.033020</td>\n",
       "      <td>9.0</td>\n",
       "      <td>123.562500</td>\n",
       "      <td>0.370850</td>\n",
       "      <td>0.895508</td>\n",
       "      <td>0.991602</td>\n",
       "      <td>True</td>\n",
       "      <td>False</td>\n",
       "      <td>False</td>\n",
       "      <td>False</td>\n",
       "      <td>49.543482</td>\n",
       "      <td>True</td>\n",
       "      <td>False</td>\n",
       "    </tr>\n",
       "    <tr>\n",
       "      <th>2</th>\n",
       "      <td>1.000000</td>\n",
       "      <td>6.948415</td>\n",
       "      <td>32.257373</td>\n",
       "      <td>15.0</td>\n",
       "      <td>35.812500</td>\n",
       "      <td>0.354248</td>\n",
       "      <td>0.890137</td>\n",
       "      <td>0.047803</td>\n",
       "      <td>False</td>\n",
       "      <td>False</td>\n",
       "      <td>False</td>\n",
       "      <td>False</td>\n",
       "      <td>62.692193</td>\n",
       "      <td>True</td>\n",
       "      <td>False</td>\n",
       "    </tr>\n",
       "    <tr>\n",
       "      <th>3</th>\n",
       "      <td>1.000000</td>\n",
       "      <td>0.261609</td>\n",
       "      <td>0.332386</td>\n",
       "      <td>4.0</td>\n",
       "      <td>9.601562</td>\n",
       "      <td>0.146118</td>\n",
       "      <td>0.910156</td>\n",
       "      <td>0.047803</td>\n",
       "      <td>False</td>\n",
       "      <td>False</td>\n",
       "      <td>False</td>\n",
       "      <td>False</td>\n",
       "      <td>0.381499</td>\n",
       "      <td>True</td>\n",
       "      <td>False</td>\n",
       "    </tr>\n",
       "    <tr>\n",
       "      <th>4</th>\n",
       "      <td>1.000000</td>\n",
       "      <td>2.503501</td>\n",
       "      <td>3.964387</td>\n",
       "      <td>6.0</td>\n",
       "      <td>2.417969</td>\n",
       "      <td>0.348145</td>\n",
       "      <td>0.997070</td>\n",
       "      <td>0.047803</td>\n",
       "      <td>False</td>\n",
       "      <td>False</td>\n",
       "      <td>False</td>\n",
       "      <td>False</td>\n",
       "      <td>3.284274</td>\n",
       "      <td>True</td>\n",
       "      <td>False</td>\n",
       "    </tr>\n",
       "  </tbody>\n",
       "</table>\n",
       "</div>"
      ],
      "text/plain": [
       "   shower_containment_q  shower_dedx  shower_dedx_avg  shower_dedx_hits  \\\n",
       "0              1.000000     1.902799         2.683623               2.0   \n",
       "1              0.760376     2.649016        22.033020               9.0   \n",
       "2              1.000000     6.948415        32.257373              15.0   \n",
       "3              1.000000     0.261609         0.332386               4.0   \n",
       "4              1.000000     2.503501         3.964387               6.0   \n",
       "\n",
       "   shower_length  shower_open_angle  shower_pca  shower_sp_profile  true_e_cl  \\\n",
       "0     135.750000           0.071533    0.964844           2.030565       True   \n",
       "1     123.562500           0.370850    0.895508           0.991602       True   \n",
       "2      35.812500           0.354248    0.890137           0.047803      False   \n",
       "3       9.601562           0.146118    0.910156           0.047803      False   \n",
       "4       2.417969           0.348145    0.997070           0.047803      False   \n",
       "\n",
       "   shower_is_daughter  shower_sh_daughter  shower_tr_daughter  shower_vtx  \\\n",
       "0               False               False               False    0.757006   \n",
       "1               False               False               False   49.543482   \n",
       "2               False               False               False   62.692193   \n",
       "3               False               False               False    0.381499   \n",
       "4               False               False               False    3.284274   \n",
       "\n",
       "   true_e  true_mu  \n",
       "0    True    False  \n",
       "1    True    False  \n",
       "2    True    False  \n",
       "3    True    False  \n",
       "4    True    False  "
      ]
     },
     "execution_count": 14,
     "metadata": {},
     "output_type": "execute_result"
    }
   ],
   "source": [
    "dataset.head()"
   ]
  },
  {
   "cell_type": "code",
   "execution_count": 15,
   "metadata": {
    "collapsed": false
   },
   "outputs": [
    {
     "name": "stdout",
     "output_type": "stream",
     "text": [
      "Index(['shower_containment_q', 'shower_dedx', 'shower_dedx_avg',\n",
      "       'shower_dedx_hits', 'shower_length', 'shower_open_angle', 'shower_pca',\n",
      "       'shower_sp_profile', 'true_e_cl', 'shower_is_daughter',\n",
      "       'shower_sh_daughter', 'shower_tr_daughter', 'shower_vtx', 'true_e',\n",
      "       'true_mu'],\n",
      "      dtype='object')\n"
     ]
    },
    {
     "data": {
      "text/html": [
       "<div>\n",
       "<style scoped>\n",
       "    .dataframe tbody tr th:only-of-type {\n",
       "        vertical-align: middle;\n",
       "    }\n",
       "\n",
       "    .dataframe tbody tr th {\n",
       "        vertical-align: top;\n",
       "    }\n",
       "\n",
       "    .dataframe thead th {\n",
       "        text-align: right;\n",
       "    }\n",
       "</style>\n",
       "<table border=\"1\" class=\"dataframe\">\n",
       "  <thead>\n",
       "    <tr style=\"text-align: right;\">\n",
       "      <th></th>\n",
       "      <th>shower_containment_q</th>\n",
       "      <th>shower_dedx</th>\n",
       "      <th>shower_dedx_avg</th>\n",
       "      <th>shower_dedx_hits</th>\n",
       "      <th>shower_length</th>\n",
       "      <th>shower_open_angle</th>\n",
       "      <th>shower_pca</th>\n",
       "      <th>shower_sp_profile</th>\n",
       "      <th>true_e_cl</th>\n",
       "      <th>shower_is_daughter</th>\n",
       "      <th>shower_sh_daughter</th>\n",
       "      <th>shower_tr_daughter</th>\n",
       "      <th>shower_vtx</th>\n",
       "      <th>true_e</th>\n",
       "      <th>true_mu</th>\n",
       "    </tr>\n",
       "  </thead>\n",
       "  <tbody>\n",
       "    <tr>\n",
       "      <th>1</th>\n",
       "      <td>0.760376</td>\n",
       "      <td>2.649016</td>\n",
       "      <td>22.033020</td>\n",
       "      <td>9.0</td>\n",
       "      <td>123.562500</td>\n",
       "      <td>0.370850</td>\n",
       "      <td>0.895508</td>\n",
       "      <td>0.991602</td>\n",
       "      <td>True</td>\n",
       "      <td>False</td>\n",
       "      <td>False</td>\n",
       "      <td>False</td>\n",
       "      <td>49.543482</td>\n",
       "      <td>True</td>\n",
       "      <td>False</td>\n",
       "    </tr>\n",
       "    <tr>\n",
       "      <th>2</th>\n",
       "      <td>1.000000</td>\n",
       "      <td>6.948415</td>\n",
       "      <td>32.257373</td>\n",
       "      <td>15.0</td>\n",
       "      <td>35.812500</td>\n",
       "      <td>0.354248</td>\n",
       "      <td>0.890137</td>\n",
       "      <td>0.047803</td>\n",
       "      <td>False</td>\n",
       "      <td>False</td>\n",
       "      <td>False</td>\n",
       "      <td>False</td>\n",
       "      <td>62.692193</td>\n",
       "      <td>True</td>\n",
       "      <td>False</td>\n",
       "    </tr>\n",
       "    <tr>\n",
       "      <th>3</th>\n",
       "      <td>1.000000</td>\n",
       "      <td>0.261609</td>\n",
       "      <td>0.332386</td>\n",
       "      <td>4.0</td>\n",
       "      <td>9.601562</td>\n",
       "      <td>0.146118</td>\n",
       "      <td>0.910156</td>\n",
       "      <td>0.047803</td>\n",
       "      <td>False</td>\n",
       "      <td>False</td>\n",
       "      <td>False</td>\n",
       "      <td>False</td>\n",
       "      <td>0.381499</td>\n",
       "      <td>True</td>\n",
       "      <td>False</td>\n",
       "    </tr>\n",
       "    <tr>\n",
       "      <th>4</th>\n",
       "      <td>1.000000</td>\n",
       "      <td>2.503501</td>\n",
       "      <td>3.964387</td>\n",
       "      <td>6.0</td>\n",
       "      <td>2.417969</td>\n",
       "      <td>0.348145</td>\n",
       "      <td>0.997070</td>\n",
       "      <td>0.047803</td>\n",
       "      <td>False</td>\n",
       "      <td>False</td>\n",
       "      <td>False</td>\n",
       "      <td>False</td>\n",
       "      <td>3.284274</td>\n",
       "      <td>True</td>\n",
       "      <td>False</td>\n",
       "    </tr>\n",
       "    <tr>\n",
       "      <th>5</th>\n",
       "      <td>1.000000</td>\n",
       "      <td>2.188481</td>\n",
       "      <td>12.605336</td>\n",
       "      <td>11.0</td>\n",
       "      <td>106.250000</td>\n",
       "      <td>0.151611</td>\n",
       "      <td>0.978027</td>\n",
       "      <td>1.279167</td>\n",
       "      <td>True</td>\n",
       "      <td>False</td>\n",
       "      <td>False</td>\n",
       "      <td>False</td>\n",
       "      <td>2.164389</td>\n",
       "      <td>True</td>\n",
       "      <td>False</td>\n",
       "    </tr>\n",
       "  </tbody>\n",
       "</table>\n",
       "</div>"
      ],
      "text/plain": [
       "   shower_containment_q  shower_dedx  shower_dedx_avg  shower_dedx_hits  \\\n",
       "1              0.760376     2.649016        22.033020               9.0   \n",
       "2              1.000000     6.948415        32.257373              15.0   \n",
       "3              1.000000     0.261609         0.332386               4.0   \n",
       "4              1.000000     2.503501         3.964387               6.0   \n",
       "5              1.000000     2.188481        12.605336              11.0   \n",
       "\n",
       "   shower_length  shower_open_angle  shower_pca  shower_sp_profile  true_e_cl  \\\n",
       "1     123.562500           0.370850    0.895508           0.991602       True   \n",
       "2      35.812500           0.354248    0.890137           0.047803      False   \n",
       "3       9.601562           0.146118    0.910156           0.047803      False   \n",
       "4       2.417969           0.348145    0.997070           0.047803      False   \n",
       "5     106.250000           0.151611    0.978027           1.279167       True   \n",
       "\n",
       "   shower_is_daughter  shower_sh_daughter  shower_tr_daughter  shower_vtx  \\\n",
       "1               False               False               False   49.543482   \n",
       "2               False               False               False   62.692193   \n",
       "3               False               False               False    0.381499   \n",
       "4               False               False               False    3.284274   \n",
       "5               False               False               False    2.164389   \n",
       "\n",
       "   true_e  true_mu  \n",
       "1    True    False  \n",
       "2    True    False  \n",
       "3    True    False  \n",
       "4    True    False  \n",
       "5    True    False  "
      ]
     },
     "execution_count": 15,
     "metadata": {},
     "output_type": "execute_result"
    }
   ],
   "source": [
    "# For now, quick fix: require at least two hits in track_dedx_hits, otherwise track_dedx is nonsence.\n",
    "dataset_cleaned = dataset[dataset['shower_dedx_hits']>=min_dedx_hits]\n",
    "print(dataset_cleaned.columns)\n",
    "dataset_cleaned.head()"
   ]
  },
  {
   "cell_type": "code",
   "execution_count": 17,
   "metadata": {
    "collapsed": false
   },
   "outputs": [],
   "source": [
    "seed = 7\n",
    "test_size = 0.33\n",
    "\n",
    "X=dataset_cleaned.drop(columns=['true_e','true_mu','true_e_cl'])\n",
    "X=X[columns_shower_XGB].as_matrix()\n",
    "Y_mu=dataset_cleaned['true_mu']\n",
    "Y_e=dataset_cleaned['true_e']\n",
    "Y_cle = dataset_cleaned['true_e_cl']"
   ]
  },
  {
   "cell_type": "code",
   "execution_count": 18,
   "metadata": {
    "collapsed": false
   },
   "outputs": [
    {
     "name": "stderr",
     "output_type": "stream",
     "text": [
      "/home/wouter/anaconda3/envs/mlenv/lib/python3.6/site-packages/sklearn/preprocessing/label.py:151: DeprecationWarning: The truth value of an empty array is ambiguous. Returning False, but in future this will result in an error. Use `array.size > 0` to check that an array is not empty.\n",
      "  if diff:\n"
     ]
    },
    {
     "name": "stdout",
     "output_type": "stream",
     "text": [
      "             precision    recall  f1-score   support\n",
      "\n",
      "      False       0.86      0.94      0.90     41988\n",
      "       True       0.80      0.62      0.70     17205\n",
      "\n",
      "avg / total       0.84      0.85      0.84     59193\n",
      "\n"
     ]
    }
   ],
   "source": [
    "# fit model no training data\n",
    "X_train, X_test, y_train, y_test_e = train_test_split(X, Y_e, test_size=test_size, random_state=seed)\n",
    "model = XGBClassifier()\n",
    "model.fit(X_train, y_train)\n",
    "print(classification_report(y_test_e,model.predict(X_test)))\n",
    "joblib.dump(model, '../Input/XGBoost/model_sh_e.pkl')\n",
    "y_pred_e = model.predict_proba(X_test)"
   ]
  },
  {
   "cell_type": "code",
   "execution_count": 19,
   "metadata": {
    "collapsed": false
   },
   "outputs": [
    {
     "name": "stderr",
     "output_type": "stream",
     "text": [
      "/home/wouter/anaconda3/envs/mlenv/lib/python3.6/site-packages/sklearn/preprocessing/label.py:151: DeprecationWarning: The truth value of an empty array is ambiguous. Returning False, but in future this will result in an error. Use `array.size > 0` to check that an array is not empty.\n",
      "  if diff:\n"
     ]
    },
    {
     "name": "stdout",
     "output_type": "stream",
     "text": [
      "             precision    recall  f1-score   support\n",
      "\n",
      "      False       0.87      0.95      0.90     46537\n",
      "       True       0.70      0.46      0.55     12656\n",
      "\n",
      "avg / total       0.83      0.84      0.83     59193\n",
      "\n"
     ]
    }
   ],
   "source": [
    "# fit model no training data\n",
    "X_train, X_test, y_train, y_test_mu = train_test_split(X, Y_mu, test_size=test_size, random_state=seed)\n",
    "model = XGBClassifier()\n",
    "model.fit(X_train, y_train)\n",
    "print(classification_report(y_test_mu, model.predict(X_test)))\n",
    "joblib.dump(model, '../Input/XGBoost/model_sh_mu.pkl') \n",
    "y_pred_mu = model.predict_proba(X_test)"
   ]
  },
  {
   "cell_type": "code",
   "execution_count": 20,
   "metadata": {
    "collapsed": false
   },
   "outputs": [
    {
     "name": "stderr",
     "output_type": "stream",
     "text": [
      "/home/wouter/anaconda3/envs/mlenv/lib/python3.6/site-packages/sklearn/preprocessing/label.py:151: DeprecationWarning: The truth value of an empty array is ambiguous. Returning False, but in future this will result in an error. Use `array.size > 0` to check that an array is not empty.\n",
      "  if diff:\n"
     ]
    },
    {
     "name": "stdout",
     "output_type": "stream",
     "text": [
      "             precision    recall  f1-score   support\n",
      "\n",
      "      False       0.95      0.96      0.96     49929\n",
      "       True       0.79      0.74      0.76      9264\n",
      "\n",
      "avg / total       0.93      0.93      0.93     59193\n",
      "\n"
     ]
    }
   ],
   "source": [
    "# fit model no training data\n",
    "X_train, X_test, y_train, y_test_cle = train_test_split(X, Y_cle, test_size=test_size, random_state=seed)\n",
    "model = XGBClassifier()\n",
    "model.fit(X_train, y_train)\n",
    "print(classification_report(y_test_cle, model.predict(X_test)))\n",
    "joblib.dump(model, '../Input/XGBoost/model_sh_cle.pkl') \n",
    "y_pred_cle = model.predict_proba(X_test)"
   ]
  },
  {
   "cell_type": "code",
   "execution_count": 21,
   "metadata": {
    "collapsed": false
   },
   "outputs": [
    {
     "name": "stdout",
     "output_type": "stream",
     "text": [
      "Cut value: 0.12 removes 92.9 % of muon tagged shower and 40.2 % of not-muon tagged showers.\n",
      "Cut value: 0.8 keeps 36.3 % of electron tagged shower and 1.0 % of not-electron tagged showers.\n",
      "Cut value: 0.89 keeps 41.0 % of closest electron tagged shower and 0.9 % of not-closest-electron tagged showers.\n"
     ]
    },
    {
     "data": {
      "image/png": "[encoded data removed]",
      "text/plain": [
       "<matplotlib.figure.Figure at 0x7faed0d71e48>"
      ]
     },
     "metadata": {},
     "output_type": "display_data"
    }
   ],
   "source": [
    "# XGB classification\n",
    "\n",
    "plt.style.use('default')\n",
    "fig,ax=plt.subplots(ncols=3,nrows=2,figsize=(7*gr,6),sharex=True)\n",
    "plt.suptitle(r'XGBoost muon/electron shower classifier (test dataset)')\n",
    "N=50\n",
    "muon_cut = 0.12\n",
    "electron_cut=0.80\n",
    "close_e_cut=0.89\n",
    "\n",
    "# Electron track classification\n",
    "arr_e  = y_pred_e[y_test_e==1][:,1]\n",
    "arr_ne = y_pred_e[y_test_e==0][:,1]\n",
    "\n",
    "# Electron track classification\n",
    "arr_cl_e  = y_pred_e[y_test_cle==1][:,1]\n",
    "arr_cl_ne = y_pred_e[y_test_cle==0][:,1]\n",
    "\n",
    "# Muon track classification\n",
    "arr_mu  = y_pred_mu[y_test_mu==1][:,1]\n",
    "arr_nmu = y_pred_mu[y_test_mu==0][:,1]\n",
    "\n",
    "label_mu=(r'$\\mu^+/\\mu^-$ matched ('+str(len(arr_mu))+')','Other ('+str(len(arr_nmu))+')')\n",
    "label_e=(r'$e^-$ matched ('+str(len(arr_e))+')','Other ('+str(len(arr_ne))+')')\n",
    "label_cl_e=(r'$e^-$ closest ('+str(len(arr_cl_e))+')','Other ('+str(len(arr_cl_ne))+')')\n",
    "\n",
    "ax[0][0].hist([arr_mu,arr_nmu],histtype='step', bins=N, fill=False,label=label_mu,density=True)\n",
    "ax[0][0].set_ylabel('Normalised')\n",
    "ax[0][0].axvline(x=muon_cut,alpha=.2,color='k',label='Proposed cut: '+str(muon_cut))\n",
    "\n",
    "ax[1][0].hist([arr_mu,arr_nmu],histtype='step', bins=N, fill=False,label=label_mu,density=True)\n",
    "ax[1][0].set_ylim(0,4)\n",
    "ax[1][0].set_ylabel('Normalised')\n",
    "ax[1][0].set_xlabel('Score')\n",
    "ax[1][0].axvline(x=muon_cut,alpha=.2,color='k',label='Proposed cut: '+str(muon_cut))\n",
    "\n",
    "ax[0][1].hist([arr_e,arr_ne],histtype='step', bins=N, fill=False,label=label_e,density=True)\n",
    "ax[0][1].axvline(x=electron_cut,alpha=.2,color='k',label='Proposed cut: '+str(electron_cut))\n",
    "\n",
    "ax[1][1].hist([arr_e,arr_ne],histtype='step', bins=N, fill=False,label=label_e,density=True)\n",
    "ax[1][1].set_ylim(0,4)\n",
    "ax[1][1].set_xlabel('Score')\n",
    "ax[1][1].axvline(x=electron_cut,alpha=.2,color='k',label='Proposed cut: '+str(electron_cut))\n",
    "\n",
    "ax[0][2].hist([arr_cl_e,arr_cl_ne],histtype='step', bins=N, fill=False,label=label_cl_e,density=True)\n",
    "ax[0][2].axvline(x=close_e_cut,alpha=.2,color='k',label='Proposed cut: '+str(close_e_cut))\n",
    "\n",
    "ax[1][2].hist([arr_cl_e,arr_cl_ne],histtype='step', bins=N, fill=False,label=label_cl_e,density=True)\n",
    "ax[1][2].set_ylim(0,4)\n",
    "ax[1][2].set_xlabel('Score')\n",
    "ax[1][2].axvline(x=close_e_cut,alpha=.2,color='k',label='Proposed cut: '+str(close_e_cut))\n",
    "\n",
    "#offset=0.05\n",
    "handles, labels = ax[0][0].get_legend_handles_labels()\n",
    "ax[0][0].legend(handles[::-1], labels[::-1],loc='upper center')\n",
    "handles, labels = ax[0][1].get_legend_handles_labels()\n",
    "ax[0][1].legend(handles[::-1], labels[::-1],loc='upper center')\n",
    "handles, labels = ax[0][2].get_legend_handles_labels()\n",
    "ax[0][2].legend(handles[::-1], labels[::-1],loc='upper center')\n",
    "\n",
    "plt.tight_layout()\n",
    "fig.subplots_adjust(top=0.92)\n",
    "plt.savefig('XGB_shower.pdf')\n",
    "\n",
    "print('Cut value:',muon_cut,'removes', sciNot(sum(arr_mu>muon_cut) / len(arr_mu)*100),'% of muon tagged shower and',\n",
    "      sciNot(sum(arr_nmu>muon_cut) / len(arr_nmu)*100),'% of not-muon tagged showers.')\n",
    "\n",
    "print('Cut value:',electron_cut,'keeps', sciNot(sum(arr_e>electron_cut) / len(arr_e)*100),'% of electron tagged shower and',\n",
    "      sciNot(sum(arr_ne>electron_cut) / len(arr_ne)*100),'% of not-electron tagged showers.')\n",
    "\n",
    "print('Cut value:',close_e_cut,'keeps', sciNot(sum(arr_cl_e>close_e_cut) / len(arr_cl_e)*100),'% of closest electron tagged shower and',\n",
    "      sciNot(sum(arr_cl_ne>close_e_cut) / len(arr_ne)*100),'% of not-closest-electron tagged showers.')\n"
   ]
  },
  {
   "cell_type": "code",
   "execution_count": null,
   "metadata": {
    "collapsed": true
   },
   "outputs": [],
   "source": []
  },
  {
   "cell_type": "code",
   "execution_count": null,
   "metadata": {
    "collapsed": true
   },
   "outputs": [],
   "source": []
  },
  {
   "cell_type": "code",
   "execution_count": null,
   "metadata": {
    "collapsed": true
   },
   "outputs": [],
   "source": []
  },
  {
   "cell_type": "code",
   "execution_count": null,
   "metadata": {
    "collapsed": true
   },
   "outputs": [],
   "source": []
  },
  {
   "cell_type": "code",
   "execution_count": null,
   "metadata": {
    "collapsed": true
   },
   "outputs": [],
   "source": []
  }
 ],
 "metadata": {
  "anaconda-cloud": {},
  "kernelspec": {
   "display_name": "Python [conda env:mlenv]",
   "language": "python",
   "name": "conda-env-mlenv-py"
  },
  "language_info": {
   "codemirror_mode": {
    "name": "ipython",
    "version": 3
   },
   "file_extension": ".py",
   "mimetype": "text/x-python",
   "name": "python",
   "nbconvert_exporter": "python",
   "pygments_lexer": "ipython3",
   "version": "3.6.4"
  }
 },
 "nbformat": 4,
 "nbformat_minor": 2
}
