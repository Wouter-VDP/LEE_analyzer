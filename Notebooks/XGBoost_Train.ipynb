{
 "cells": [
  {
   "cell_type": "code",
   "execution_count": 1,
   "metadata": {
    "collapsed": false
   },
   "outputs": [],
   "source": [
    "import pandas as pd\n",
    "import numpy as np\n",
    "import matplotlib.pyplot as plt\n",
    "import seaborn as sns\n",
    "\n",
    "from sklearn.model_selection import train_test_split\n",
    "from sklearn.metrics import classification_report\n",
    "from xgboost import XGBClassifier\n",
    "from sklearn.externals import joblib\n",
    "\n",
    "from helpfunction import sciNot\n",
    "\n",
    "%matplotlib inline\n",
    "gr      = 1.618"
   ]
  },
  {
   "cell_type": "code",
   "execution_count": 2,
   "metadata": {
    "collapsed": true
   },
   "outputs": [],
   "source": [
    "min_dedx_hits=2"
   ]
  },
  {
   "cell_type": "markdown",
   "metadata": {},
   "source": [
    "# Tracks"
   ]
  },
  {
   "cell_type": "code",
   "execution_count": 3,
   "metadata": {
    "collapsed": false
   },
   "outputs": [],
   "source": [
    "dataset = pd.read_pickle('../Input/XGBoost/trackFrame_fidvol.pckl')"
   ]
  },
  {
   "cell_type": "code",
   "execution_count": 4,
   "metadata": {
    "collapsed": false
   },
   "outputs": [
    {
     "data": {
      "text/html": [
       "<div>\n",
       "<style scoped>\n",
       "    .dataframe tbody tr th:only-of-type {\n",
       "        vertical-align: middle;\n",
       "    }\n",
       "\n",
       "    .dataframe tbody tr th {\n",
       "        vertical-align: top;\n",
       "    }\n",
       "\n",
       "    .dataframe thead th {\n",
       "        text-align: right;\n",
       "    }\n",
       "</style>\n",
       "<table border=\"1\" class=\"dataframe\">\n",
       "  <thead>\n",
       "    <tr style=\"text-align: right;\">\n",
       "      <th></th>\n",
       "      <th>track_dedx</th>\n",
       "      <th>track_dedx_avg</th>\n",
       "      <th>track_dedx_hits</th>\n",
       "      <th>track_pca</th>\n",
       "      <th>predict_em</th>\n",
       "      <th>predict_mu</th>\n",
       "      <th>predict_cos</th>\n",
       "      <th>predict_pi</th>\n",
       "      <th>predict_p</th>\n",
       "      <th>vx</th>\n",
       "      <th>...</th>\n",
       "      <th>vz</th>\n",
       "      <th>track_containment</th>\n",
       "      <th>track_is_daughter</th>\n",
       "      <th>track_length</th>\n",
       "      <th>track_sh_daughter</th>\n",
       "      <th>track_tr_daughter</th>\n",
       "      <th>track_vtx</th>\n",
       "      <th>track_vtx_end</th>\n",
       "      <th>true_e</th>\n",
       "      <th>true_mu</th>\n",
       "    </tr>\n",
       "  </thead>\n",
       "  <tbody>\n",
       "    <tr>\n",
       "      <th>0</th>\n",
       "      <td>0.093979</td>\n",
       "      <td>0.102463</td>\n",
       "      <td>4.0</td>\n",
       "      <td>0.997070</td>\n",
       "      <td>0.007759</td>\n",
       "      <td>0.750977</td>\n",
       "      <td>0.008698</td>\n",
       "      <td>0.231079</td>\n",
       "      <td>0.001492</td>\n",
       "      <td>36.073578</td>\n",
       "      <td>...</td>\n",
       "      <td>811.450012</td>\n",
       "      <td>False</td>\n",
       "      <td>True</td>\n",
       "      <td>66.790088</td>\n",
       "      <td>False</td>\n",
       "      <td>True</td>\n",
       "      <td>0.070991</td>\n",
       "      <td>66.791347</td>\n",
       "      <td>False</td>\n",
       "      <td>False</td>\n",
       "    </tr>\n",
       "    <tr>\n",
       "      <th>1</th>\n",
       "      <td>0.373662</td>\n",
       "      <td>0.326146</td>\n",
       "      <td>4.0</td>\n",
       "      <td>0.960449</td>\n",
       "      <td>0.288086</td>\n",
       "      <td>0.144897</td>\n",
       "      <td>0.003736</td>\n",
       "      <td>0.556641</td>\n",
       "      <td>0.006557</td>\n",
       "      <td>36.073578</td>\n",
       "      <td>...</td>\n",
       "      <td>811.450012</td>\n",
       "      <td>False</td>\n",
       "      <td>True</td>\n",
       "      <td>23.822821</td>\n",
       "      <td>False</td>\n",
       "      <td>False</td>\n",
       "      <td>43.937509</td>\n",
       "      <td>65.632448</td>\n",
       "      <td>False</td>\n",
       "      <td>False</td>\n",
       "    </tr>\n",
       "    <tr>\n",
       "      <th>2</th>\n",
       "      <td>0.241747</td>\n",
       "      <td>0.218862</td>\n",
       "      <td>3.0</td>\n",
       "      <td>0.999023</td>\n",
       "      <td>0.014725</td>\n",
       "      <td>0.011597</td>\n",
       "      <td>0.961914</td>\n",
       "      <td>0.008034</td>\n",
       "      <td>0.003828</td>\n",
       "      <td>36.073578</td>\n",
       "      <td>...</td>\n",
       "      <td>811.450012</td>\n",
       "      <td>False</td>\n",
       "      <td>True</td>\n",
       "      <td>49.450229</td>\n",
       "      <td>True</td>\n",
       "      <td>False</td>\n",
       "      <td>0.235594</td>\n",
       "      <td>49.675376</td>\n",
       "      <td>False</td>\n",
       "      <td>False</td>\n",
       "    </tr>\n",
       "    <tr>\n",
       "      <th>3</th>\n",
       "      <td>2.122207</td>\n",
       "      <td>13.154626</td>\n",
       "      <td>12.0</td>\n",
       "      <td>1.000000</td>\n",
       "      <td>0.000046</td>\n",
       "      <td>0.022476</td>\n",
       "      <td>0.974609</td>\n",
       "      <td>0.001173</td>\n",
       "      <td>0.001669</td>\n",
       "      <td>244.315079</td>\n",
       "      <td>...</td>\n",
       "      <td>274.585510</td>\n",
       "      <td>True</td>\n",
       "      <td>True</td>\n",
       "      <td>255.768274</td>\n",
       "      <td>False</td>\n",
       "      <td>False</td>\n",
       "      <td>0.456691</td>\n",
       "      <td>256.214394</td>\n",
       "      <td>False</td>\n",
       "      <td>False</td>\n",
       "    </tr>\n",
       "    <tr>\n",
       "      <th>4</th>\n",
       "      <td>1.911418</td>\n",
       "      <td>10.771297</td>\n",
       "      <td>12.0</td>\n",
       "      <td>0.999512</td>\n",
       "      <td>0.000382</td>\n",
       "      <td>0.065430</td>\n",
       "      <td>0.919922</td>\n",
       "      <td>0.013466</td>\n",
       "      <td>0.000851</td>\n",
       "      <td>244.315079</td>\n",
       "      <td>...</td>\n",
       "      <td>274.585510</td>\n",
       "      <td>False</td>\n",
       "      <td>True</td>\n",
       "      <td>130.350249</td>\n",
       "      <td>False</td>\n",
       "      <td>False</td>\n",
       "      <td>54.972802</td>\n",
       "      <td>96.896016</td>\n",
       "      <td>False</td>\n",
       "      <td>False</td>\n",
       "    </tr>\n",
       "  </tbody>\n",
       "</table>\n",
       "<p>5 rows × 21 columns</p>\n",
       "</div>"
      ],
      "text/plain": [
       "   track_dedx  track_dedx_avg  track_dedx_hits  track_pca  predict_em  \\\n",
       "0    0.093979        0.102463              4.0   0.997070    0.007759   \n",
       "1    0.373662        0.326146              4.0   0.960449    0.288086   \n",
       "2    0.241747        0.218862              3.0   0.999023    0.014725   \n",
       "3    2.122207       13.154626             12.0   1.000000    0.000046   \n",
       "4    1.911418       10.771297             12.0   0.999512    0.000382   \n",
       "\n",
       "   predict_mu  predict_cos  predict_pi  predict_p          vx   ...     \\\n",
       "0    0.750977     0.008698    0.231079   0.001492   36.073578   ...      \n",
       "1    0.144897     0.003736    0.556641   0.006557   36.073578   ...      \n",
       "2    0.011597     0.961914    0.008034   0.003828   36.073578   ...      \n",
       "3    0.022476     0.974609    0.001173   0.001669  244.315079   ...      \n",
       "4    0.065430     0.919922    0.013466   0.000851  244.315079   ...      \n",
       "\n",
       "           vz  track_containment  track_is_daughter  track_length  \\\n",
       "0  811.450012              False               True     66.790088   \n",
       "1  811.450012              False               True     23.822821   \n",
       "2  811.450012              False               True     49.450229   \n",
       "3  274.585510               True               True    255.768274   \n",
       "4  274.585510              False               True    130.350249   \n",
       "\n",
       "   track_sh_daughter  track_tr_daughter  track_vtx  track_vtx_end  true_e  \\\n",
       "0              False               True   0.070991      66.791347   False   \n",
       "1              False              False  43.937509      65.632448   False   \n",
       "2               True              False   0.235594      49.675376   False   \n",
       "3              False              False   0.456691     256.214394   False   \n",
       "4              False              False  54.972802      96.896016   False   \n",
       "\n",
       "   true_mu  \n",
       "0    False  \n",
       "1    False  \n",
       "2    False  \n",
       "3    False  \n",
       "4    False  \n",
       "\n",
       "[5 rows x 21 columns]"
      ]
     },
     "execution_count": 4,
     "metadata": {},
     "output_type": "execute_result"
    }
   ],
   "source": [
    "dataset.head()"
   ]
  },
  {
   "cell_type": "code",
   "execution_count": 5,
   "metadata": {
    "collapsed": false
   },
   "outputs": [
    {
     "name": "stderr",
     "output_type": "stream",
     "text": [
      "/home/wouter/anaconda3/envs/mlenv/lib/python3.6/site-packages/ipykernel/__main__.py:3: SettingWithCopyWarning: \n",
      "A value is trying to be set on a copy of a slice from a DataFrame\n",
      "\n",
      "See the caveats in the documentation: http://pandas.pydata.org/pandas-docs/stable/indexing.html#indexing-view-versus-copy\n",
      "  app.launch_new_instance()\n"
     ]
    },
    {
     "data": {
      "text/html": [
       "<div>\n",
       "<style scoped>\n",
       "    .dataframe tbody tr th:only-of-type {\n",
       "        vertical-align: middle;\n",
       "    }\n",
       "\n",
       "    .dataframe tbody tr th {\n",
       "        vertical-align: top;\n",
       "    }\n",
       "\n",
       "    .dataframe thead th {\n",
       "        text-align: right;\n",
       "    }\n",
       "</style>\n",
       "<table border=\"1\" class=\"dataframe\">\n",
       "  <thead>\n",
       "    <tr style=\"text-align: right;\">\n",
       "      <th></th>\n",
       "      <th>track_dedx</th>\n",
       "      <th>track_dedx_avg</th>\n",
       "      <th>track_dedx_hits</th>\n",
       "      <th>track_pca</th>\n",
       "      <th>predict_em</th>\n",
       "      <th>predict_mu</th>\n",
       "      <th>predict_cos</th>\n",
       "      <th>predict_pi</th>\n",
       "      <th>predict_p</th>\n",
       "      <th>track_containment</th>\n",
       "      <th>track_is_daughter</th>\n",
       "      <th>track_length</th>\n",
       "      <th>track_sh_daughter</th>\n",
       "      <th>track_tr_daughter</th>\n",
       "      <th>track_vtx</th>\n",
       "      <th>track_vtx_end</th>\n",
       "      <th>true_e</th>\n",
       "      <th>true_mu</th>\n",
       "    </tr>\n",
       "  </thead>\n",
       "  <tbody>\n",
       "    <tr>\n",
       "      <th>0</th>\n",
       "      <td>0.093979</td>\n",
       "      <td>0.102463</td>\n",
       "      <td>4.0</td>\n",
       "      <td>0.997070</td>\n",
       "      <td>0.007759</td>\n",
       "      <td>0.750977</td>\n",
       "      <td>0.008698</td>\n",
       "      <td>0.231079</td>\n",
       "      <td>0.001492</td>\n",
       "      <td>False</td>\n",
       "      <td>True</td>\n",
       "      <td>66.790088</td>\n",
       "      <td>False</td>\n",
       "      <td>True</td>\n",
       "      <td>0.070991</td>\n",
       "      <td>66.791347</td>\n",
       "      <td>False</td>\n",
       "      <td>False</td>\n",
       "    </tr>\n",
       "    <tr>\n",
       "      <th>1</th>\n",
       "      <td>0.373662</td>\n",
       "      <td>0.326146</td>\n",
       "      <td>4.0</td>\n",
       "      <td>0.960449</td>\n",
       "      <td>0.288086</td>\n",
       "      <td>0.144897</td>\n",
       "      <td>0.003736</td>\n",
       "      <td>0.556641</td>\n",
       "      <td>0.006557</td>\n",
       "      <td>False</td>\n",
       "      <td>True</td>\n",
       "      <td>23.822821</td>\n",
       "      <td>False</td>\n",
       "      <td>False</td>\n",
       "      <td>43.937509</td>\n",
       "      <td>65.632448</td>\n",
       "      <td>False</td>\n",
       "      <td>False</td>\n",
       "    </tr>\n",
       "    <tr>\n",
       "      <th>2</th>\n",
       "      <td>0.241747</td>\n",
       "      <td>0.218862</td>\n",
       "      <td>3.0</td>\n",
       "      <td>0.999023</td>\n",
       "      <td>0.014725</td>\n",
       "      <td>0.011597</td>\n",
       "      <td>0.961914</td>\n",
       "      <td>0.008034</td>\n",
       "      <td>0.003828</td>\n",
       "      <td>False</td>\n",
       "      <td>True</td>\n",
       "      <td>49.450229</td>\n",
       "      <td>True</td>\n",
       "      <td>False</td>\n",
       "      <td>0.235594</td>\n",
       "      <td>49.675376</td>\n",
       "      <td>False</td>\n",
       "      <td>False</td>\n",
       "    </tr>\n",
       "    <tr>\n",
       "      <th>3</th>\n",
       "      <td>2.122207</td>\n",
       "      <td>13.154626</td>\n",
       "      <td>12.0</td>\n",
       "      <td>1.000000</td>\n",
       "      <td>0.000046</td>\n",
       "      <td>0.022476</td>\n",
       "      <td>0.974609</td>\n",
       "      <td>0.001173</td>\n",
       "      <td>0.001669</td>\n",
       "      <td>True</td>\n",
       "      <td>True</td>\n",
       "      <td>255.768274</td>\n",
       "      <td>False</td>\n",
       "      <td>False</td>\n",
       "      <td>0.456691</td>\n",
       "      <td>256.214394</td>\n",
       "      <td>False</td>\n",
       "      <td>False</td>\n",
       "    </tr>\n",
       "    <tr>\n",
       "      <th>4</th>\n",
       "      <td>1.911418</td>\n",
       "      <td>10.771297</td>\n",
       "      <td>12.0</td>\n",
       "      <td>0.999512</td>\n",
       "      <td>0.000382</td>\n",
       "      <td>0.065430</td>\n",
       "      <td>0.919922</td>\n",
       "      <td>0.013466</td>\n",
       "      <td>0.000851</td>\n",
       "      <td>False</td>\n",
       "      <td>True</td>\n",
       "      <td>130.350249</td>\n",
       "      <td>False</td>\n",
       "      <td>False</td>\n",
       "      <td>54.972802</td>\n",
       "      <td>96.896016</td>\n",
       "      <td>False</td>\n",
       "      <td>False</td>\n",
       "    </tr>\n",
       "  </tbody>\n",
       "</table>\n",
       "</div>"
      ],
      "text/plain": [
       "   track_dedx  track_dedx_avg  track_dedx_hits  track_pca  predict_em  \\\n",
       "0    0.093979        0.102463              4.0   0.997070    0.007759   \n",
       "1    0.373662        0.326146              4.0   0.960449    0.288086   \n",
       "2    0.241747        0.218862              3.0   0.999023    0.014725   \n",
       "3    2.122207       13.154626             12.0   1.000000    0.000046   \n",
       "4    1.911418       10.771297             12.0   0.999512    0.000382   \n",
       "\n",
       "   predict_mu  predict_cos  predict_pi  predict_p  track_containment  \\\n",
       "0    0.750977     0.008698    0.231079   0.001492              False   \n",
       "1    0.144897     0.003736    0.556641   0.006557              False   \n",
       "2    0.011597     0.961914    0.008034   0.003828              False   \n",
       "3    0.022476     0.974609    0.001173   0.001669               True   \n",
       "4    0.065430     0.919922    0.013466   0.000851              False   \n",
       "\n",
       "   track_is_daughter  track_length  track_sh_daughter  track_tr_daughter  \\\n",
       "0               True     66.790088              False               True   \n",
       "1               True     23.822821              False              False   \n",
       "2               True     49.450229               True              False   \n",
       "3               True    255.768274              False              False   \n",
       "4               True    130.350249              False              False   \n",
       "\n",
       "   track_vtx  track_vtx_end  true_e  true_mu  \n",
       "0   0.070991      66.791347   False    False  \n",
       "1  43.937509      65.632448   False    False  \n",
       "2   0.235594      49.675376   False    False  \n",
       "3   0.456691     256.214394   False    False  \n",
       "4  54.972802      96.896016   False    False  "
      ]
     },
     "execution_count": 5,
     "metadata": {},
     "output_type": "execute_result"
    }
   ],
   "source": [
    "# For now, quick fix: require at least two hits in track_dedx_hits, otherwise track_dedx is nonsence.\n",
    "dataset_cleaned = dataset[dataset['track_dedx_hits']>=min_dedx_hits]\n",
    "dataset_cleaned.drop(['vx','vy','vz'],inplace=True,axis=1)\n",
    "dataset_cleaned.head()"
   ]
  },
  {
   "cell_type": "code",
   "execution_count": 6,
   "metadata": {
    "collapsed": false
   },
   "outputs": [],
   "source": [
    "seed = 7\n",
    "test_size = 0.33\n",
    "\n",
    "X=dataset_cleaned.drop(columns=['true_e','true_mu'])\n",
    "X=X.as_matrix()\n",
    "Y_mu=dataset_cleaned['true_mu']\n",
    "Y_e=dataset_cleaned['true_e']\n",
    "#X=dataset_cleaned[['track_dedx','track_pca']]\n",
    "\n"
   ]
  },
  {
   "cell_type": "code",
   "execution_count": 7,
   "metadata": {
    "collapsed": false
   },
   "outputs": [
    {
     "name": "stdout",
     "output_type": "stream",
     "text": [
      "             precision    recall  f1-score   support\n",
      "\n",
      "      False       0.95      0.96      0.95     29576\n",
      "       True       0.89      0.87      0.88     11736\n",
      "\n",
      "avg / total       0.93      0.93      0.93     41312\n",
      "\n"
     ]
    },
    {
     "name": "stderr",
     "output_type": "stream",
     "text": [
      "/home/wouter/anaconda3/envs/mlenv/lib/python3.6/site-packages/sklearn/preprocessing/label.py:151: DeprecationWarning: The truth value of an empty array is ambiguous. Returning False, but in future this will result in an error. Use `array.size > 0` to check that an array is not empty.\n",
      "  if diff:\n"
     ]
    },
    {
     "data": {
      "text/plain": [
       "['model_tr_mu.pkl']"
      ]
     },
     "execution_count": 7,
     "metadata": {},
     "output_type": "execute_result"
    }
   ],
   "source": [
    "# fit model no training data\n",
    "X_train, X_test, y_train, y_test_mu = train_test_split(X, Y_mu, test_size=test_size, random_state=seed)\n",
    "model = XGBClassifier()\n",
    "model.fit(X_train, y_train)\n",
    "y_pred_mu = model.predict_proba(X_test)\n",
    "print(classification_report(y_test_mu, model.predict(X_test)))\n",
    "joblib.dump(model, 'model_tr_mu.pkl') "
   ]
  },
  {
   "cell_type": "code",
   "execution_count": 8,
   "metadata": {
    "collapsed": false
   },
   "outputs": [
    {
     "name": "stdout",
     "output_type": "stream",
     "text": [
      "             precision    recall  f1-score   support\n",
      "\n",
      "      False       0.96      0.99      0.98     39038\n",
      "       True       0.74      0.29      0.41      2274\n",
      "\n",
      "avg / total       0.95      0.96      0.95     41312\n",
      "\n"
     ]
    },
    {
     "name": "stderr",
     "output_type": "stream",
     "text": [
      "/home/wouter/anaconda3/envs/mlenv/lib/python3.6/site-packages/sklearn/preprocessing/label.py:151: DeprecationWarning: The truth value of an empty array is ambiguous. Returning False, but in future this will result in an error. Use `array.size > 0` to check that an array is not empty.\n",
      "  if diff:\n"
     ]
    },
    {
     "data": {
      "text/plain": [
       "['model_tr_e.pkl']"
      ]
     },
     "execution_count": 8,
     "metadata": {},
     "output_type": "execute_result"
    }
   ],
   "source": [
    "# fit model no training data\n",
    "X_train, X_test, y_train, y_test_e = train_test_split(X, Y_e, test_size=test_size, random_state=seed)\n",
    "model = XGBClassifier()\n",
    "model.fit(X_train, y_train)\n",
    "y_pred_e = model.predict_proba(X_test)\n",
    "print(classification_report(y_test_e,model.predict(X_test)))\n",
    "joblib.dump(model, 'model_tr_e.pkl') "
   ]
  },
  {
   "cell_type": "code",
   "execution_count": 9,
   "metadata": {
    "collapsed": false
   },
   "outputs": [
    {
     "data": {
      "text/plain": [
       "array([0.63555944, 0.60036504, 0.7371104 , ..., 0.8379467 , 0.42306954,\n",
       "       0.8750987 ], dtype=float32)"
      ]
     },
     "execution_count": 9,
     "metadata": {},
     "output_type": "execute_result"
    }
   ],
   "source": [
    "y_pred_e[y_test_e==1][:,0]"
   ]
  },
  {
   "cell_type": "code",
   "execution_count": 10,
   "metadata": {
    "collapsed": false
   },
   "outputs": [
    {
     "name": "stdout",
     "output_type": "stream",
     "text": [
      "Cut value: 0.24 removes 94.1 % of muon tagged tracks and 9.1 % of not-muon tagged tracks.\n",
      "Cut value: 0.36 keeps 50.4 % of electron tagged tracks and 2.1 % of not-electron tagged tracks.\n"
     ]
    },
    {
     "data": {
      "image/png": "[encoded data removed]",
      "text/plain": [
       "<matplotlib.figure.Figure at 0x7f1167bff908>"
      ]
     },
     "metadata": {},
     "output_type": "display_data"
    }
   ],
   "source": [
    "# XGB classification\n",
    "\n",
    "plt.style.use('default')\n",
    "fig,ax=plt.subplots(ncols=2,nrows=2,figsize=(5.2*gr,5.2),sharex=True)\n",
    "plt.suptitle(r'XGBoost muon/electron track classifier (test dataset)')\n",
    "N=50\n",
    "muon_cut = 0.24\n",
    "electron_cut=0.36\n",
    "\n",
    "# Electron track classification\n",
    "arr_e  = y_pred_e[y_test_e==1][:,1]\n",
    "arr_ne = y_pred_e[y_test_e==0][:,1]\n",
    "\n",
    "# Muon track classification\n",
    "arr_mu  = y_pred_mu[y_test_mu==1][:,1]\n",
    "arr_nmu = y_pred_mu[y_test_mu==0][:,1]\n",
    "\n",
    "label_mu=(r'$\\mu^+/\\mu^-$ matched ('+str(len(arr_mu))+')','Other ('+str(len(arr_nmu))+')')\n",
    "label_e=(r'$e^-$ matched ('+str(len(arr_e))+')','Other ('+str(len(arr_ne))+')')\n",
    "\n",
    "ax[0][0].hist([arr_mu,arr_nmu],histtype='step', bins=N, fill=False,label=label_mu,normed=False)\n",
    "ax[1][0].set_xlabel('Score')\n",
    "ax[0][0].set_ylabel('#Events')\n",
    "ax[0][0].legend()\n",
    "\n",
    "ax[1][0].hist([arr_mu,arr_nmu],histtype='step', bins=N, fill=False,label=label_mu,normed=True)\n",
    "ax[1][0].set_ylim(0,3)\n",
    "ax[1][0].set_ylabel('Normalised')\n",
    "\n",
    "\n",
    "ax[0][1].hist([arr_e,arr_ne],histtype='step', bins=N, fill=False,label=label_e,density=False)\n",
    "ax[1][1].set_xlabel('Score')\n",
    "#ax[0][1].set_ylabel('#Events')\n",
    "ax[0][1].legend()\n",
    "\n",
    "ax[1][1].hist([arr_e,arr_ne],histtype='step', bins=N, fill=False,label=label_e,density=True)\n",
    "ax[1][1].set_ylim(0,3)\n",
    "#ax[1][1].set_ylabel('Normalised')\n",
    "\n",
    "\n",
    "ax[0][0].axvline(x=muon_cut,alpha=.2,color='k',label='Proposed cut: '+str(muon_cut))\n",
    "ax[1][0].axvline(x=muon_cut,alpha=.2,color='k',label='Proposed cut: '+str(muon_cut))\n",
    "\n",
    "ax[0][1].axvline(x=electron_cut,alpha=.2,color='k',label='Proposed cut: '+str(electron_cut))\n",
    "ax[1][1].axvline(x=electron_cut,alpha=.2,color='k',label='Proposed cut: '+str(electron_cut))\n",
    "\n",
    "\n",
    "\n",
    "#offset=0.05\n",
    "handles, labels = ax[0][0].get_legend_handles_labels()\n",
    "ax[0][0].legend(handles[::-1], labels[::-1],loc='upper right')\n",
    "handles, labels = ax[0][1].get_legend_handles_labels()\n",
    "ax[0][1].legend(handles[::-1], labels[::-1],loc='upper right')\n",
    "\n",
    "\n",
    "plt.tight_layout()\n",
    "fig.subplots_adjust(top=0.92)\n",
    "plt.savefig('XGB_track.pdf')\n",
    "\n",
    "print('Cut value:',muon_cut,'removes', sciNot(sum(arr_mu>muon_cut) / len(arr_mu)*100),'% of muon tagged tracks and',\n",
    "      sciNot(sum(arr_nmu>muon_cut) / len(arr_nmu)*100),'% of not-muon tagged tracks.')\n",
    "\n",
    "print('Cut value:',electron_cut,'keeps', sciNot(sum(arr_e>electron_cut) / len(arr_e)*100),'% of electron tagged tracks and',\n",
    "      sciNot(sum(arr_ne>electron_cut) / len(arr_ne)*100),'% of not-electron tagged tracks.')\n"
   ]
  },
  {
   "cell_type": "code",
   "execution_count": 11,
   "metadata": {
    "collapsed": false
   },
   "outputs": [
    {
     "name": "stdout",
     "output_type": "stream",
     "text": [
      "125186\n",
      "False    118216\n",
      "True       6970\n",
      "Name: true_e, dtype: int64\n",
      "False    89793\n",
      "True     35393\n",
      "Name: true_mu, dtype: int64\n",
      "True     97031\n",
      "False    28155\n",
      "Name: track_containment, dtype: int64\n",
      "False    111333\n",
      "True      13853\n",
      "Name: track_sh_daughter, dtype: int64\n",
      "False    108445\n",
      "True      16741\n",
      "Name: track_is_daughter, dtype: int64\n"
     ]
    }
   ],
   "source": [
    "print(len(dataset_cleaned.index))\n",
    "print(dataset_cleaned['true_e'].value_counts())\n",
    "print(dataset_cleaned['true_mu'].value_counts())\n",
    "print(dataset_cleaned['track_containment'].value_counts())\n",
    "print(dataset_cleaned['track_sh_daughter'].value_counts())\n",
    "print(dataset_cleaned['track_is_daughter'].value_counts())"
   ]
  },
  {
   "cell_type": "code",
   "execution_count": 12,
   "metadata": {
    "collapsed": false
   },
   "outputs": [
    {
     "name": "stdout",
     "output_type": "stream",
     "text": [
      "713\n",
      "25607\n"
     ]
    },
    {
     "name": "stderr",
     "output_type": "stream",
     "text": [
      "/home/wouter/anaconda3/envs/mlenv/lib/python3.6/site-packages/pandas/core/computation/expressions.py:179: UserWarning: evaluating in Python space because the '*' operator is not supported by numexpr for the bool dtype, use '&' instead\n",
      "  .format(op=op_str, alt_op=unsupported[op_str]))\n"
     ]
    }
   ],
   "source": [
    "# Question: how many tracks have a muon score of lower than muon cut, \n",
    "# have an electron score higher than electron_cut and are not an electron.\n",
    "print(sum( (y_pred_mu[:,1]<muon_cut)*(y_pred_e[:,1]>electron_cut)*(y_test_e==0)))\n",
    "print(sum( (y_pred_mu[:,1]<muon_cut)*(y_test_e==0)))\n"
   ]
  },
  {
   "cell_type": "markdown",
   "metadata": {},
   "source": [
    "# Showers"
   ]
  },
  {
   "cell_type": "code",
   "execution_count": 13,
   "metadata": {
    "collapsed": false
   },
   "outputs": [],
   "source": [
    "dataset = pd.read_pickle('../Input/XGBoost/showerFrame_fidvol.pckl')"
   ]
  },
  {
   "cell_type": "code",
   "execution_count": 14,
   "metadata": {
    "collapsed": false
   },
   "outputs": [
    {
     "data": {
      "text/html": [
       "<div>\n",
       "<style scoped>\n",
       "    .dataframe tbody tr th:only-of-type {\n",
       "        vertical-align: middle;\n",
       "    }\n",
       "\n",
       "    .dataframe tbody tr th {\n",
       "        vertical-align: top;\n",
       "    }\n",
       "\n",
       "    .dataframe thead th {\n",
       "        text-align: right;\n",
       "    }\n",
       "</style>\n",
       "<table border=\"1\" class=\"dataframe\">\n",
       "  <thead>\n",
       "    <tr style=\"text-align: right;\">\n",
       "      <th></th>\n",
       "      <th>shower_dedx</th>\n",
       "      <th>shower_dedx_avg</th>\n",
       "      <th>shower_dedx_hits</th>\n",
       "      <th>shower_pca</th>\n",
       "      <th>shower_open_angle</th>\n",
       "      <th>shower_length</th>\n",
       "      <th>shower_containment_q</th>\n",
       "      <th>shower_sp_profile</th>\n",
       "      <th>shower_is_daughter</th>\n",
       "      <th>shower_sh_daughter</th>\n",
       "      <th>shower_tr_daughter</th>\n",
       "      <th>shower_vtx</th>\n",
       "      <th>true_e</th>\n",
       "      <th>true_mu</th>\n",
       "    </tr>\n",
       "  </thead>\n",
       "  <tbody>\n",
       "    <tr>\n",
       "      <th>0</th>\n",
       "      <td>3.135025</td>\n",
       "      <td>16.841373</td>\n",
       "      <td>16.0</td>\n",
       "      <td>0.916504</td>\n",
       "      <td>0.221802</td>\n",
       "      <td>22.125000</td>\n",
       "      <td>0.393415</td>\n",
       "      <td>0.648575</td>\n",
       "      <td>True</td>\n",
       "      <td>False</td>\n",
       "      <td>False</td>\n",
       "      <td>14.957309</td>\n",
       "      <td>False</td>\n",
       "      <td>False</td>\n",
       "    </tr>\n",
       "    <tr>\n",
       "      <th>1</th>\n",
       "      <td>3.051837</td>\n",
       "      <td>8.656431</td>\n",
       "      <td>7.0</td>\n",
       "      <td>0.968262</td>\n",
       "      <td>0.094971</td>\n",
       "      <td>20.015625</td>\n",
       "      <td>0.393415</td>\n",
       "      <td>0.648575</td>\n",
       "      <td>True</td>\n",
       "      <td>False</td>\n",
       "      <td>False</td>\n",
       "      <td>307.884709</td>\n",
       "      <td>False</td>\n",
       "      <td>False</td>\n",
       "    </tr>\n",
       "    <tr>\n",
       "      <th>2</th>\n",
       "      <td>0.006560</td>\n",
       "      <td>0.006460</td>\n",
       "      <td>4.0</td>\n",
       "      <td>0.629395</td>\n",
       "      <td>0.065430</td>\n",
       "      <td>9.226562</td>\n",
       "      <td>0.393415</td>\n",
       "      <td>0.648575</td>\n",
       "      <td>True</td>\n",
       "      <td>False</td>\n",
       "      <td>False</td>\n",
       "      <td>1.011630</td>\n",
       "      <td>False</td>\n",
       "      <td>False</td>\n",
       "    </tr>\n",
       "    <tr>\n",
       "      <th>3</th>\n",
       "      <td>0.097360</td>\n",
       "      <td>0.417215</td>\n",
       "      <td>9.0</td>\n",
       "      <td>0.939941</td>\n",
       "      <td>0.219360</td>\n",
       "      <td>37.593750</td>\n",
       "      <td>0.320908</td>\n",
       "      <td>0.134881</td>\n",
       "      <td>True</td>\n",
       "      <td>False</td>\n",
       "      <td>False</td>\n",
       "      <td>43.939436</td>\n",
       "      <td>False</td>\n",
       "      <td>False</td>\n",
       "    </tr>\n",
       "    <tr>\n",
       "      <th>4</th>\n",
       "      <td>1.697985</td>\n",
       "      <td>4.193395</td>\n",
       "      <td>4.0</td>\n",
       "      <td>0.927246</td>\n",
       "      <td>0.464355</td>\n",
       "      <td>4.945312</td>\n",
       "      <td>0.320908</td>\n",
       "      <td>0.134881</td>\n",
       "      <td>True</td>\n",
       "      <td>False</td>\n",
       "      <td>False</td>\n",
       "      <td>3.789347</td>\n",
       "      <td>False</td>\n",
       "      <td>False</td>\n",
       "    </tr>\n",
       "  </tbody>\n",
       "</table>\n",
       "</div>"
      ],
      "text/plain": [
       "   shower_dedx  shower_dedx_avg  shower_dedx_hits  shower_pca  \\\n",
       "0     3.135025        16.841373              16.0    0.916504   \n",
       "1     3.051837         8.656431               7.0    0.968262   \n",
       "2     0.006560         0.006460               4.0    0.629395   \n",
       "3     0.097360         0.417215               9.0    0.939941   \n",
       "4     1.697985         4.193395               4.0    0.927246   \n",
       "\n",
       "   shower_open_angle  shower_length  shower_containment_q  shower_sp_profile  \\\n",
       "0           0.221802      22.125000              0.393415           0.648575   \n",
       "1           0.094971      20.015625              0.393415           0.648575   \n",
       "2           0.065430       9.226562              0.393415           0.648575   \n",
       "3           0.219360      37.593750              0.320908           0.134881   \n",
       "4           0.464355       4.945312              0.320908           0.134881   \n",
       "\n",
       "   shower_is_daughter  shower_sh_daughter  shower_tr_daughter  shower_vtx  \\\n",
       "0                True               False               False   14.957309   \n",
       "1                True               False               False  307.884709   \n",
       "2                True               False               False    1.011630   \n",
       "3                True               False               False   43.939436   \n",
       "4                True               False               False    3.789347   \n",
       "\n",
       "   true_e  true_mu  \n",
       "0   False    False  \n",
       "1   False    False  \n",
       "2   False    False  \n",
       "3   False    False  \n",
       "4   False    False  "
      ]
     },
     "execution_count": 14,
     "metadata": {},
     "output_type": "execute_result"
    }
   ],
   "source": [
    "dataset.head()"
   ]
  },
  {
   "cell_type": "code",
   "execution_count": 15,
   "metadata": {
    "collapsed": false
   },
   "outputs": [
    {
     "data": {
      "text/html": [
       "<div>\n",
       "<style scoped>\n",
       "    .dataframe tbody tr th:only-of-type {\n",
       "        vertical-align: middle;\n",
       "    }\n",
       "\n",
       "    .dataframe tbody tr th {\n",
       "        vertical-align: top;\n",
       "    }\n",
       "\n",
       "    .dataframe thead th {\n",
       "        text-align: right;\n",
       "    }\n",
       "</style>\n",
       "<table border=\"1\" class=\"dataframe\">\n",
       "  <thead>\n",
       "    <tr style=\"text-align: right;\">\n",
       "      <th></th>\n",
       "      <th>shower_dedx</th>\n",
       "      <th>shower_dedx_avg</th>\n",
       "      <th>shower_dedx_hits</th>\n",
       "      <th>shower_pca</th>\n",
       "      <th>shower_open_angle</th>\n",
       "      <th>shower_length</th>\n",
       "      <th>shower_containment_q</th>\n",
       "      <th>shower_sp_profile</th>\n",
       "      <th>shower_is_daughter</th>\n",
       "      <th>shower_sh_daughter</th>\n",
       "      <th>shower_tr_daughter</th>\n",
       "      <th>shower_vtx</th>\n",
       "      <th>true_e</th>\n",
       "      <th>true_mu</th>\n",
       "    </tr>\n",
       "  </thead>\n",
       "  <tbody>\n",
       "    <tr>\n",
       "      <th>0</th>\n",
       "      <td>3.135025</td>\n",
       "      <td>16.841373</td>\n",
       "      <td>16.0</td>\n",
       "      <td>0.916504</td>\n",
       "      <td>0.221802</td>\n",
       "      <td>22.125000</td>\n",
       "      <td>0.393415</td>\n",
       "      <td>0.648575</td>\n",
       "      <td>True</td>\n",
       "      <td>False</td>\n",
       "      <td>False</td>\n",
       "      <td>14.957309</td>\n",
       "      <td>False</td>\n",
       "      <td>False</td>\n",
       "    </tr>\n",
       "    <tr>\n",
       "      <th>1</th>\n",
       "      <td>3.051837</td>\n",
       "      <td>8.656431</td>\n",
       "      <td>7.0</td>\n",
       "      <td>0.968262</td>\n",
       "      <td>0.094971</td>\n",
       "      <td>20.015625</td>\n",
       "      <td>0.393415</td>\n",
       "      <td>0.648575</td>\n",
       "      <td>True</td>\n",
       "      <td>False</td>\n",
       "      <td>False</td>\n",
       "      <td>307.884709</td>\n",
       "      <td>False</td>\n",
       "      <td>False</td>\n",
       "    </tr>\n",
       "    <tr>\n",
       "      <th>2</th>\n",
       "      <td>0.006560</td>\n",
       "      <td>0.006460</td>\n",
       "      <td>4.0</td>\n",
       "      <td>0.629395</td>\n",
       "      <td>0.065430</td>\n",
       "      <td>9.226562</td>\n",
       "      <td>0.393415</td>\n",
       "      <td>0.648575</td>\n",
       "      <td>True</td>\n",
       "      <td>False</td>\n",
       "      <td>False</td>\n",
       "      <td>1.011630</td>\n",
       "      <td>False</td>\n",
       "      <td>False</td>\n",
       "    </tr>\n",
       "    <tr>\n",
       "      <th>3</th>\n",
       "      <td>0.097360</td>\n",
       "      <td>0.417215</td>\n",
       "      <td>9.0</td>\n",
       "      <td>0.939941</td>\n",
       "      <td>0.219360</td>\n",
       "      <td>37.593750</td>\n",
       "      <td>0.320908</td>\n",
       "      <td>0.134881</td>\n",
       "      <td>True</td>\n",
       "      <td>False</td>\n",
       "      <td>False</td>\n",
       "      <td>43.939436</td>\n",
       "      <td>False</td>\n",
       "      <td>False</td>\n",
       "    </tr>\n",
       "    <tr>\n",
       "      <th>4</th>\n",
       "      <td>1.697985</td>\n",
       "      <td>4.193395</td>\n",
       "      <td>4.0</td>\n",
       "      <td>0.927246</td>\n",
       "      <td>0.464355</td>\n",
       "      <td>4.945312</td>\n",
       "      <td>0.320908</td>\n",
       "      <td>0.134881</td>\n",
       "      <td>True</td>\n",
       "      <td>False</td>\n",
       "      <td>False</td>\n",
       "      <td>3.789347</td>\n",
       "      <td>False</td>\n",
       "      <td>False</td>\n",
       "    </tr>\n",
       "  </tbody>\n",
       "</table>\n",
       "</div>"
      ],
      "text/plain": [
       "   shower_dedx  shower_dedx_avg  shower_dedx_hits  shower_pca  \\\n",
       "0     3.135025        16.841373              16.0    0.916504   \n",
       "1     3.051837         8.656431               7.0    0.968262   \n",
       "2     0.006560         0.006460               4.0    0.629395   \n",
       "3     0.097360         0.417215               9.0    0.939941   \n",
       "4     1.697985         4.193395               4.0    0.927246   \n",
       "\n",
       "   shower_open_angle  shower_length  shower_containment_q  shower_sp_profile  \\\n",
       "0           0.221802      22.125000              0.393415           0.648575   \n",
       "1           0.094971      20.015625              0.393415           0.648575   \n",
       "2           0.065430       9.226562              0.393415           0.648575   \n",
       "3           0.219360      37.593750              0.320908           0.134881   \n",
       "4           0.464355       4.945312              0.320908           0.134881   \n",
       "\n",
       "   shower_is_daughter  shower_sh_daughter  shower_tr_daughter  shower_vtx  \\\n",
       "0                True               False               False   14.957309   \n",
       "1                True               False               False  307.884709   \n",
       "2                True               False               False    1.011630   \n",
       "3                True               False               False   43.939436   \n",
       "4                True               False               False    3.789347   \n",
       "\n",
       "   true_e  true_mu  \n",
       "0   False    False  \n",
       "1   False    False  \n",
       "2   False    False  \n",
       "3   False    False  \n",
       "4   False    False  "
      ]
     },
     "execution_count": 15,
     "metadata": {},
     "output_type": "execute_result"
    }
   ],
   "source": [
    "# For now, quick fix: require at least two hits in track_dedx_hits, otherwise track_dedx is nonsence.\n",
    "dataset_cleaned = dataset[dataset['shower_dedx_hits']>=min_dedx_hits]\n",
    "\n",
    "dataset_cleaned.head()"
   ]
  },
  {
   "cell_type": "code",
   "execution_count": 16,
   "metadata": {
    "collapsed": true
   },
   "outputs": [],
   "source": [
    "seed = 7\n",
    "test_size = 0.33\n",
    "\n",
    "X=dataset_cleaned.drop(columns=['true_e','true_mu'])\n",
    "X=X.as_matrix()\n",
    "Y_mu=dataset_cleaned['true_mu']\n",
    "Y_e=dataset_cleaned['true_e']\n",
    "#X=dataset_cleaned[['track_dedx','track_pca']]"
   ]
  },
  {
   "cell_type": "code",
   "execution_count": 17,
   "metadata": {
    "collapsed": false
   },
   "outputs": [
    {
     "name": "stdout",
     "output_type": "stream",
     "text": [
      "             precision    recall  f1-score   support\n",
      "\n",
      "      False       0.84      0.91      0.88     26791\n",
      "       True       0.81      0.68      0.74     14152\n",
      "\n",
      "avg / total       0.83      0.83      0.83     40943\n",
      "\n"
     ]
    },
    {
     "name": "stderr",
     "output_type": "stream",
     "text": [
      "/home/wouter/anaconda3/envs/mlenv/lib/python3.6/site-packages/sklearn/preprocessing/label.py:151: DeprecationWarning: The truth value of an empty array is ambiguous. Returning False, but in future this will result in an error. Use `array.size > 0` to check that an array is not empty.\n",
      "  if diff:\n"
     ]
    },
    {
     "data": {
      "text/plain": [
       "['model_sh_e.pkl']"
      ]
     },
     "execution_count": 17,
     "metadata": {},
     "output_type": "execute_result"
    }
   ],
   "source": [
    "# fit model no training data\n",
    "X_train, X_test, y_train, y_test_e = train_test_split(X, Y_e, test_size=test_size, random_state=seed)\n",
    "model = XGBClassifier()\n",
    "model.fit(X_train, y_train)\n",
    "y_pred_e = model.predict_proba(X_test)\n",
    "print(classification_report(y_test_e,model.predict(X_test)))\n",
    "joblib.dump(model, 'model_sh_e.pkl') "
   ]
  },
  {
   "cell_type": "code",
   "execution_count": 18,
   "metadata": {
    "collapsed": false
   },
   "outputs": [
    {
     "name": "stdout",
     "output_type": "stream",
     "text": [
      "             precision    recall  f1-score   support\n",
      "\n",
      "      False       0.95      0.99      0.97     38473\n",
      "       True       0.68      0.19      0.29      2470\n",
      "\n",
      "avg / total       0.93      0.95      0.93     40943\n",
      "\n"
     ]
    },
    {
     "name": "stderr",
     "output_type": "stream",
     "text": [
      "/home/wouter/anaconda3/envs/mlenv/lib/python3.6/site-packages/sklearn/preprocessing/label.py:151: DeprecationWarning: The truth value of an empty array is ambiguous. Returning False, but in future this will result in an error. Use `array.size > 0` to check that an array is not empty.\n",
      "  if diff:\n"
     ]
    },
    {
     "data": {
      "text/plain": [
       "['model_sh_mu.pkl']"
      ]
     },
     "execution_count": 18,
     "metadata": {},
     "output_type": "execute_result"
    }
   ],
   "source": [
    "# fit model no training data\n",
    "X_train, X_test, y_train, y_test_mu = train_test_split(X, Y_mu, test_size=test_size, random_state=seed)\n",
    "model = XGBClassifier()\n",
    "model.fit(X_train, y_train)\n",
    "y_pred_mu = model.predict_proba(X_test)\n",
    "print(classification_report(y_test_mu, model.predict(X_test)))\n",
    "joblib.dump(model, 'model_sh_mu.pkl') "
   ]
  },
  {
   "cell_type": "code",
   "execution_count": 19,
   "metadata": {
    "collapsed": false
   },
   "outputs": [
    {
     "name": "stdout",
     "output_type": "stream",
     "text": [
      "Cut value: 0.28 removes 33.6 % of muon tagged showers and 2.0 % of not-muon tagged showers.\n",
      "Cut value: 0.85 keeps 35.8 % of electron tagged showers and 0.9 % of not-electron tagged showers.\n"
     ]
    },
    {
     "data": {
      "image/png": "[encoded data removed]",
      "text/plain": [
       "<matplotlib.figure.Figure at 0x7f115e99b6d8>"
      ]
     },
     "metadata": {},
     "output_type": "display_data"
    }
   ],
   "source": [
    "# XGB classification\n",
    "\n",
    "plt.style.use('default')\n",
    "fig,ax=plt.subplots(ncols=2,nrows=2,figsize=(5.2*gr,5.2),sharex=True)\n",
    "plt.suptitle(r'XGBoost muon/electron shower classifier (test dataset)')\n",
    "N=50\n",
    "muon_cut = 0.28\n",
    "electron_cut=0.85\n",
    "\n",
    "# Electron track classification\n",
    "arr_e  = y_pred_e[y_test_e==1][:,1]\n",
    "arr_ne = y_pred_e[y_test_e==0][:,1]\n",
    "\n",
    "# Muon track classification\n",
    "arr_mu  = y_pred_mu[y_test_mu==1][:,1]\n",
    "arr_nmu = y_pred_mu[y_test_mu==0][:,1]\n",
    "\n",
    "label_mu=(r'$\\mu^+/\\mu^-$ matched ('+str(len(arr_mu))+')','Other ('+str(len(arr_nmu))+')')\n",
    "label_e=(r'$e^-$ matched ('+str(len(arr_e))+')','Other ('+str(len(arr_ne))+')')\n",
    "\n",
    "ax[0][0].hist([arr_mu,arr_nmu],histtype='step', bins=N, fill=False,label=label_mu,normed=False)\n",
    "ax[1][0].set_xlabel('Score')\n",
    "ax[0][0].set_ylabel('#Events')\n",
    "ax[0][0].legend()\n",
    "\n",
    "ax[1][0].hist([arr_mu,arr_nmu],histtype='step', bins=N, fill=False,label=label_mu,normed=True)\n",
    "ax[1][0].set_ylim(0,4.5)\n",
    "ax[1][0].set_ylabel('Normalised')\n",
    "\n",
    "\n",
    "ax[0][1].hist([arr_e,arr_ne],histtype='step', bins=N, fill=False,label=label_e,density=False)\n",
    "ax[1][1].set_xlabel('Score')\n",
    "#ax[0][1].set_ylabel('#Events')\n",
    "ax[0][1].legend()\n",
    "\n",
    "ax[1][1].hist([arr_e,arr_ne],histtype='step', bins=N, fill=False,label=label_e,density=True)\n",
    "ax[1][1].set_ylim(0,4.5)\n",
    "#ax[1][1].set_ylabel('Normalised')\n",
    "\n",
    "\n",
    "ax[0][0].axvline(x=muon_cut,alpha=.2,color='k',label='Proposed cut: '+str(muon_cut))\n",
    "ax[1][0].axvline(x=muon_cut,alpha=.2,color='k',label='Proposed cut: '+str(muon_cut))\n",
    "\n",
    "ax[0][1].axvline(x=electron_cut,alpha=.2,color='k',label='Proposed cut: '+str(electron_cut))\n",
    "ax[1][1].axvline(x=electron_cut,alpha=.2,color='k',label='Proposed cut: '+str(electron_cut))\n",
    "\n",
    "\n",
    "\n",
    "#offset=0.05\n",
    "handles, labels = ax[0][0].get_legend_handles_labels()\n",
    "ax[0][0].legend(handles[::-1], labels[::-1],loc='upper right')\n",
    "handles, labels = ax[0][1].get_legend_handles_labels()\n",
    "ax[0][1].legend(handles[::-1], labels[::-1],loc='upper centre')\n",
    "\n",
    "\n",
    "plt.tight_layout()\n",
    "fig.subplots_adjust(top=0.92)\n",
    "plt.savefig('XGB_shower.pdf')\n",
    "\n",
    "print('Cut value:',muon_cut,'removes', sciNot(sum(arr_mu>muon_cut) / len(arr_mu)*100),'% of muon tagged showers and',\n",
    "      sciNot(sum(arr_nmu>muon_cut) / len(arr_nmu)*100),'% of not-muon tagged showers.')\n",
    "\n",
    "print('Cut value:',electron_cut,'keeps', sciNot(sum(arr_e>electron_cut) / len(arr_e)*100),'% of electron tagged showers and',\n",
    "      sciNot(sum(arr_ne>electron_cut) / len(arr_ne)*100),'% of not-electron tagged showers.')\n"
   ]
  },
  {
   "cell_type": "code",
   "execution_count": null,
   "metadata": {
    "collapsed": true
   },
   "outputs": [],
   "source": []
  },
  {
   "cell_type": "code",
   "execution_count": null,
   "metadata": {
    "collapsed": true
   },
   "outputs": [],
   "source": []
  },
  {
   "cell_type": "code",
   "execution_count": null,
   "metadata": {
    "collapsed": true
   },
   "outputs": [],
   "source": []
  },
  {
   "cell_type": "code",
   "execution_count": null,
   "metadata": {
    "collapsed": true
   },
   "outputs": [],
   "source": []
  }
 ],
 "metadata": {
  "anaconda-cloud": {},
  "kernelspec": {
   "display_name": "Python [conda env:mlenv]",
   "language": "python",
   "name": "conda-env-mlenv-py"
  },
  "language_info": {
   "codemirror_mode": {
    "name": "ipython",
    "version": 3
   },
   "file_extension": ".py",
   "mimetype": "text/x-python",
   "name": "python",
   "nbconvert_exporter": "python",
   "pygments_lexer": "ipython3",
   "version": "3.6.4"
  }
 },
 "nbformat": 4,
 "nbformat_minor": 2
}
