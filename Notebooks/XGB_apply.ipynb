{
 "cells": [
  {
   "cell_type": "code",
   "execution_count": 1,
   "metadata": {
    "nbpresent": {
     "id": "27f77e5d-b387-4dd8-beb8-7d542c47752f"
    }
   },
   "outputs": [],
   "source": [
    "import numpy as np\n",
    "import pandas as pd\n",
    "from operator import itemgetter\n",
    "from sklearn.externals import joblib\n",
    "\n",
    "pd.options.display.max_columns = 999"
   ]
  },
  {
   "cell_type": "code",
   "execution_count": 2,
   "metadata": {},
   "outputs": [],
   "source": [
    "min_dedx_hits=3\n",
    "min_reco_e=0.03\n",
    "z_dead_start = 675\n",
    "z_dead_end=z_dead_start+100\n",
    "input_dir = \"../Input/pandora_pdg_cut/\""
   ]
  },
  {
   "cell_type": "code",
   "execution_count": 3,
   "metadata": {},
   "outputs": [],
   "source": [
    "def track_features(row):  \n",
    "    \n",
    "    track_daughter_1 = 1 if row['track_daughter']==1 else 0\n",
    "    track_daughter_2 = 1 if row['track_daughter']==2 else 0\n",
    "    track_daughter_3 = 1 if row['track_daughter']==3 else 0\n",
    "    track_is_daughter_1 = 1 if row['track_is_daughter']==1 else 0\n",
    "    track_is_daughter_2 = 1 if row['track_is_daughter']==2 else 0\n",
    "    \n",
    "    return { 'track_daughter_1':track_daughter_1,\n",
    "             'track_daughter_2':track_daughter_2,\n",
    "             'track_daughter_3':track_daughter_3,\n",
    "             'track_is_daughter_1':track_is_daughter_1,\n",
    "             'track_is_daughter_2':track_is_daughter_2,\n",
    "                     }"
   ]
  },
  {
   "cell_type": "code",
   "execution_count": 4,
   "metadata": {},
   "outputs": [],
   "source": [
    "def shower_features(row):  \n",
    "    \n",
    "    shower_daughter_1 = 1 if row['shower_daughter']==1 else 0\n",
    "    shower_daughter_2 = 1 if row['shower_daughter']==2 else 0\n",
    "    shower_daughter_3 = 1 if row['shower_daughter']==3 else 0\n",
    "    shower_is_daughter_1 = 1 if row['shower_is_daughter']==1 else 0\n",
    "    shower_is_daughter_2 = 1 if row['shower_is_daughter']==2 else 0\n",
    "    \n",
    "    return { 'shower_daughter_1':shower_daughter_1,\n",
    "             'shower_daughter_2':shower_daughter_2,\n",
    "             'shower_daughter_3':shower_daughter_3,\n",
    "             'shower_is_daughter_1':shower_is_daughter_1,\n",
    "             'shower_is_daughter_2':shower_is_daughter_2,\n",
    "                     }"
   ]
  },
  {
   "cell_type": "code",
   "execution_count": 5,
   "metadata": {
    "nbpresent": {
     "id": "df2ca4ac-5bf8-40a7-862f-34b40f3976c1"
    }
   },
   "outputs": [],
   "source": [
    "vec_columns_shower  = [\"shower_open_angle\",\"shower_length\",\"shower_pca\",\n",
    "                       \"shower_maxangle\",\"shower_vtxdistance\",\"shower_daughter\",\"shower_is_daughter\",\n",
    "                       \"shower_fidvol_ratio\",\"shower_spacepoint_dqdx_ratio\",\n",
    "                       \"shower_dedx_hits_w\",\"shower_dedx_w\",\"shower_dedx_best_w\",\n",
    "                       \"shower_energy_w\", \"shower_hitsratio_w\",\"shower_hits_w\",\n",
    "                       \"shower_theta\", \"shower_phi\", \"shower_energy_product\",\"shower_start_z\"\n",
    "                      ]\n",
    "\n",
    "vec_columns_track = [ \"track_pca\",\"track_start_z\",\n",
    "                      \"predict_em\",\"predict_mu\",\"predict_cos\",\"predict_pi\",\"predict_p\",  # Katrin's BDT\n",
    "                      \"track_res_mean\",\"track_res_std\", \n",
    "                      \"track_maxangle\",\"track_vtxdistance\",\"track_daughter\",\"track_is_daughter\",\n",
    "                      \"track_spacepoint_dqdx_ratio\",\"track_containment\",\n",
    "                      \"track_dedx_hits_w\",\"track_dedx_w\",\"track_dedx_best_w\",\n",
    "                      \"track_energy_w\", \"track_hitsratio_w\",\"track_hits_w\",\n",
    "                      \"track_theta\",\"track_phi\", \"track_len\"\n",
    "                     ]\n",
    "             \n",
    "vec_columns_truth = [ \"shower_cle\", \"matched_showers\", \"matched_showers_energy\",\n",
    "                      \"track_cle\", \"matched_tracks\", \"matched_tracks_energy\",\n",
    "                      \"nu_daughters_pdg\",\"nu_daughters_E\"\n",
    "                    ]\n",
    "\n",
    "flat_columns_truth = [\"nu_pdg\",\"nu_E\",\"true_vx_sce\",\"true_vy_sce\",\"true_vz_sce\",\n",
    "                      \"distance\",'ccnc','qsqr','theta',\"true_1eX_signal\",\"true_nu_fiducial\",\n",
    "                      \"lepton_E\",\"lepton_theta\",\n",
    "                     ]\n",
    "\n",
    "\n",
    "flat_columns_reco = [\"event\",\"subrun\",\"run\",\"category\",\"vx\",\"vy\",\"vz\",\"bnbweight\",\"candidate_pdg\",\n",
    "                     \"numu_cuts\",\n",
    "                     \"n_showers\",\"n_tracks\",\"flash_time_max\",\"flash_PE_max\",\n",
    "                     \"chargecenter_x\",\"chargecenter_y\",\"chargecenter_z\",\n",
    "                     \"total_spacepoint_containment\",\"vtx_activity_nr\"\n",
    "                    ]\n",
    "\n",
    "# Columns for the training\n",
    "columns_track_XGB =       ['track_vtxdistance', 'track_maxangle',\n",
    "                           'track_spacepoint_dqdx_ratio', 'predict_cos', 'track_pca',\n",
    "                           'track_dedx_best_w',\n",
    "                           'predict_mu', 'predict_pi',\n",
    "                           'track_dedx_hits_w', 'predict_p',\n",
    "                           'track_dedx_w',\n",
    "                           'track_hitsratio_w', 'predict_em', \n",
    "                           \"track_len\"\n",
    "                          ]\n",
    "columns_track_XGB_mu = columns_track_XGB+[\"track_hits_w\"]\n",
    "\n",
    "\n",
    "columns_shower_XGB  = [\"shower_open_angle\",\"shower_length\",\"n_showers\",\n",
    "                       \"shower_pca\", \"shower_maxangle\",\"shower_vtxdistance\",\n",
    "                       \"shower_fidvol_ratio\",\"shower_spacepoint_dqdx_ratio\",\n",
    "                       \"shower_dedx_hits_w\",\"shower_dedx_w\",\"shower_dedx_best_w\",\"shower_hitsratio_w\"\n",
    "                      ]\n",
    "\n",
    "columns_shower_XGB_mu = columns_shower_XGB+[\"shower_hits_w\"]\n",
    "\n",
    "columns_all_data = vec_columns_shower + vec_columns_track + flat_columns_reco\n",
    "columns_all_mc = columns_all_data + flat_columns_truth + vec_columns_truth"
   ]
  },
  {
   "cell_type": "code",
   "execution_count": null,
   "metadata": {
    "nbpresent": {
     "id": "a09d9f71-9152-4cc6-8af9-47f71965cda8"
    }
   },
   "outputs": [],
   "source": []
  },
  {
   "cell_type": "code",
   "execution_count": 6,
   "metadata": {},
   "outputs": [
    {
     "name": "stdout",
     "output_type": "stream",
     "text": [
      "['shower_open_angle', 'shower_length', 'shower_pca', 'shower_maxangle', 'shower_vtxdistance', 'shower_daughter', 'shower_is_daughter', 'shower_fidvol_ratio', 'shower_spacepoint_dqdx_ratio', 'shower_dedx_hits_w', 'shower_dedx_w', 'shower_dedx_best_w', 'shower_energy_w', 'shower_hitsratio_w', 'shower_hits_w', 'shower_theta', 'shower_phi', 'shower_energy_product', 'shower_start_z', 'track_pca', 'track_start_z', 'predict_em', 'predict_mu', 'predict_cos', 'predict_pi', 'predict_p', 'track_res_mean', 'track_res_std', 'track_maxangle', 'track_vtxdistance', 'track_daughter', 'track_is_daughter', 'track_spacepoint_dqdx_ratio', 'track_containment', 'track_dedx_hits_w', 'track_dedx_w', 'track_dedx_best_w', 'track_energy_w', 'track_hitsratio_w', 'track_hits_w', 'track_theta', 'track_phi', 'track_len', 'event', 'subrun', 'run', 'category', 'vx', 'vy', 'vz', 'bnbweight', 'candidate_pdg', 'numu_cuts', 'n_showers', 'n_tracks', 'flash_time_max', 'flash_PE_max', 'chargecenter_x', 'chargecenter_y', 'chargecenter_z', 'total_spacepoint_containment', 'vtx_activity_nr']\n"
     ]
    }
   ],
   "source": [
    "print(columns_all_data)"
   ]
  },
  {
   "cell_type": "code",
   "execution_count": 7,
   "metadata": {
    "nbpresent": {
     "id": "e9d0554c-2916-4c8d-a36d-4a8f13aa44c6"
    }
   },
   "outputs": [],
   "source": [
    "model_sh_e  = joblib.load(input_dir+'XGBoost/model_sh_e.pkl')\n",
    "model_sh_cle  = joblib.load(input_dir+'XGBoost/model_sh_cle.pkl')\n",
    "model_sh_cle_lee  = joblib.load(input_dir+'XGBoost/model_sh_cle_lee.pkl')\n",
    "model_sh_mu = joblib.load(input_dir+'XGBoost/model_sh_mu.pkl')\n",
    "\n",
    "model_tr_e  = joblib.load(input_dir+'XGBoost/model_tr_e.pkl')\n",
    "model_tr_cle  = joblib.load(input_dir+'XGBoost/model_tr_cle.pkl')\n",
    "model_tr_mu = joblib.load(input_dir+'XGBoost/model_tr_mu.pkl')"
   ]
  },
  {
   "cell_type": "code",
   "execution_count": 8,
   "metadata": {},
   "outputs": [],
   "source": [
    "def XGBoostClassification(row):\n",
    "    tr_e, tr_cle, tr_mu, tr_pred_index = [],[],[],[]\n",
    "    sh_e, sh_cle, sh_mu, sh_pred_index = [],[],[],[]\n",
    "\n",
    "    if row[\"n_tracks\"] > 0:\n",
    "        tr_e ,tr_cle, tr_mu,tr_pred_index = TrackClassification(row)\n",
    "        \n",
    "    if row[\"n_showers\"] > 0:\n",
    "        sh_e, sh_cle, sh_cle_lee, sh_mu,sh_pred_index = ShowerClassification(row)\n",
    "    \n",
    "    return pd.Series({\n",
    "        'track_electron_score': tr_e,\n",
    "        'track_closest_electron_score': tr_cle,\n",
    "        'track_muon_score': tr_mu,\n",
    "        'shower_electron_score': sh_e,\n",
    "        'shower_closest_electron_score': sh_cle,\n",
    "        'shower_cle_lee_score': sh_cle_lee,\n",
    "        'shower_muon_score': sh_mu,\n",
    "        \n",
    "        'track_score_index': tr_pred_index,\n",
    "        'shower_score_index': sh_pred_index\n",
    "    })\n",
    "    \n",
    "    \n",
    "def TrackClassification(row):\n",
    "    pred_tr_e  = []\n",
    "    pred_tr_mu = []\n",
    "    pred_tr_cle= []\n",
    "    pred_index = []\n",
    "    \n",
    "    XGB_input = []\n",
    "    XGB_input_mu = []\n",
    "    \n",
    "    for tr in range(row[\"n_tracks\"]):\n",
    "        if (row['track_dedx_hits_w'][tr]>=min_dedx_hits) and (row['track_energy_w'][tr]>=min_reco_e):\n",
    "            if(z_dead_start>row[\"track_start_z\"][tr] or z_dead_end<row[\"track_start_z\"][tr]):\n",
    "                d_tr={}\n",
    "\n",
    "                for field in vec_columns_track:\n",
    "                    d_tr[field]=row[field][tr]\n",
    "                d_tr = {**d_tr,**track_features(d_tr)}\n",
    "                XGB_input.append( np.asarray(itemgetter(*columns_track_XGB)(d_tr)))\n",
    "                XGB_input_mu.append( np.asarray(itemgetter(*columns_track_XGB_mu)(d_tr)))\n",
    "                pred_index.append(tr)\n",
    "                \n",
    "                \n",
    "    if(len(XGB_input)>0):      \n",
    "        XGB_input = np.array(XGB_input)\n",
    "        pred_tr_e = model_tr_e.predict_proba( XGB_input )[:,1] \n",
    "        pred_tr_cle = model_tr_cle.predict_proba( XGB_input )[:,1]\n",
    "        pred_tr_mu = model_tr_mu.predict_proba( XGB_input_mu)[:,1]  \n",
    "    return pred_tr_e, pred_tr_cle, pred_tr_mu,pred_index\n",
    "    \n",
    "    \n",
    "def ShowerClassification(row):\n",
    "    pred_sh_e = []\n",
    "    pred_sh_mu = []\n",
    "    pred_sh_cle= []\n",
    "    pred_sh_cle_lee =[]\n",
    "    pred_index = []\n",
    "    \n",
    "    XGB_input = []\n",
    "    XGB_input_mu = []\n",
    "    \n",
    "    for sh in range(row[\"n_showers\"]):\n",
    "        if (row['shower_dedx_hits_w'][sh]>=min_dedx_hits) and (row['shower_energy_w'][sh]>=min_reco_e):\n",
    "            if(z_dead_start>row[\"shower_start_z\"][sh] or z_dead_end<row[\"shower_start_z\"][sh]):\n",
    "                d_sh={}\n",
    "\n",
    "                for field in vec_columns_shower:\n",
    "                    d_sh[field]=row[field][sh]\n",
    "                d_sh = {**d_sh,**shower_features(d_sh)}\n",
    "                d_sh[\"n_showers\"]= row[\"n_showers\"]\n",
    "                XGB_input.append(np.asarray(itemgetter(*columns_shower_XGB)(d_sh)))\n",
    "                XGB_input_mu.append( np.asarray(itemgetter(*columns_shower_XGB_mu)(d_sh)))\n",
    "                pred_index.append(sh)\n",
    "                \n",
    "    if(len(XGB_input)>0):      \n",
    "        XGB_input = np.array(XGB_input)      \n",
    "        pred_sh_e = model_sh_e.predict_proba( XGB_input )[:,1] \n",
    "        pred_sh_cle = model_sh_cle.predict_proba( XGB_input )[:,1]\n",
    "        pred_sh_mu = model_sh_mu.predict_proba( XGB_input_mu)[:,1]  \n",
    "        pred_sh_cle_lee = model_sh_cle_lee.predict_proba( XGB_input)[:,1]  \n",
    "    return pred_sh_e, pred_sh_cle, pred_sh_cle_lee, pred_sh_mu,pred_index"
   ]
  },
  {
   "cell_type": "code",
   "execution_count": 9,
   "metadata": {},
   "outputs": [],
   "source": [
    "columns_final_reco_vec = ['shower_electron_score','track_muon_score',\n",
    "                          'shower_muon_score','track_electron_score',\n",
    "                          'track_closest_electron_score','shower_closest_electron_score',\"shower_cle_lee_score\",\n",
    "                          \"track_energy_w\",\"shower_energy_w\",'track_score_index','shower_score_index',\"track_theta\",\"shower_theta\"\n",
    "                         ]\n",
    "\n",
    "columns_final_truth_vec = vec_columns_truth \n",
    "\n",
    "\n",
    "columns_final_data = flat_columns_reco + columns_final_reco_vec \n",
    "columns_final_mc = columns_final_data + columns_final_truth_vec + flat_columns_truth"
   ]
  },
  {
   "cell_type": "code",
   "execution_count": null,
   "metadata": {},
   "outputs": [],
   "source": []
  },
  {
   "cell_type": "code",
   "execution_count": null,
   "metadata": {
    "scrolled": false
   },
   "outputs": [],
   "source": []
  },
  {
   "cell_type": "code",
   "execution_count": 10,
   "metadata": {
    "scrolled": false
   },
   "outputs": [],
   "source": [
    "nue_test_list=[input_dir+'nue/nue_5.pckl',\n",
    "               input_dir+'nue/nue_6.pckl',\n",
    "               input_dir+'nue/nue_7.pckl',\n",
    "               input_dir+'nue/nue_8.pckl',\n",
    "               input_dir+'nue/nue_9.pckl'\n",
    "              ]\n",
    "nue_train_list=[input_dir+'nue/nue_5.pckl',\n",
    "               input_dir+'nue/nue_6.pckl',\n",
    "               input_dir+'nue/nue_7.pckl',\n",
    "               input_dir+'nue/nue_8.pckl',\n",
    "               input_dir+'nue/nue_9.pckl'\n",
    "              ]\n",
    "nu_train_list= [input_dir+'nu/nu_4.pckl',\n",
    "               input_dir+'nu/nu_5.pckl',\n",
    "               input_dir+'nu/nu_6.pckl',\n",
    "               input_dir+'nu/nu_7.pckl',\n",
    "              ]\n",
    "nu_test_list= [input_dir+'nu/nu_0.pckl',\n",
    "               input_dir+'nu/nu_1.pckl',\n",
    "               input_dir+'nu/nu_2.pckl',\n",
    "               input_dir+'nu/nu_3.pckl',\n",
    "              ]\n",
    "\n",
    "intime = [input_dir+'nu/nu_0.pckl']"
   ]
  },
  {
   "cell_type": "code",
   "execution_count": 11,
   "metadata": {},
   "outputs": [],
   "source": [
    "sample_list = nue_test_list"
   ]
  },
  {
   "cell_type": "code",
   "execution_count": 12,
   "metadata": {
    "nbpresent": {
     "id": "46d9e399-5601-443f-ab61-291d7bde164c"
    },
    "scrolled": false
   },
   "outputs": [
    {
     "name": "stdout",
     "output_type": "stream",
     "text": [
      "Reading in the sample (data: False )\n",
      "There were duplicates in the beginning: 0\n",
      "Entries in current sample: 6889\n",
      "done sample\n",
      "Reading in the sample (data: False )\n",
      "There were duplicates in the beginning: 0\n",
      "Entries in current sample: 6896\n",
      "done sample\n",
      "Reading in the sample (data: False )\n",
      "There were duplicates in the beginning: 24\n",
      "Entries in current sample: 6822\n",
      "done sample\n",
      "Reading in the sample (data: False )\n",
      "There were duplicates in the beginning: 5\n",
      "Entries in current sample: 6766\n",
      "done sample\n",
      "Reading in the sample (data: False )\n",
      "There were duplicates in the beginning: 0\n",
      "Entries in current sample: 6756\n",
      "done sample\n",
      "There were duplicates in the end: 71\n"
     ]
    }
   ],
   "source": [
    "##########\n",
    "data=False\n",
    "##########\n",
    "\n",
    "df_joined = pd.DataFrame()\n",
    "columns_all = columns_all_mc\n",
    "columns_final = columns_final_mc\n",
    "if data:\n",
    "    columns_all = columns_all_data\n",
    "    columns_final = columns_final_data\n",
    "    \n",
    "for sample in sample_list:\n",
    "    print(\"Reading in the sample (data:\",data,\")\")\n",
    "    df_sample = pd.read_pickle(sample)\n",
    "    #df_sample = df_sample.head(15)\n",
    "    duplicates = df_sample.duplicated(subset=[\"run\",\"subrun\",\"event\"]).sum()\n",
    "    print(\"There were duplicates in the beginning:\",duplicates)\n",
    "\n",
    "    droplist = [x for x  in df_sample.columns if (x not in columns_all)]\n",
    "    df_sample.drop(droplist,inplace=True,axis=1)\n",
    "    print(\"Entries in current sample:\",len(df_sample.index))\n",
    "    #print(df_sample.columns)\n",
    "    df_sample[\"vtx_activity\"] = df_sample[['n_tracks','n_showers']].sum(axis=1) > 1\n",
    "    df_scores = df_sample.apply(XGBoostClassification,axis=1)\n",
    "    df_sample = pd.concat([df_sample, df_scores], axis=1)    \n",
    "    df_sample = df_sample[columns_final]\n",
    "    df_joined = pd.concat([df_joined,df_sample],ignore_index=True,copy=False)\n",
    "    print('done sample')\n",
    "\n",
    "    \n",
    "df_joined.head(10)\n",
    "duplicates = df_joined.duplicated(subset=[\"run\",\"subrun\",\"event\"]).sum()\n",
    "print(\"There were duplicates in the end:\",duplicates)"
   ]
  },
  {
   "cell_type": "code",
   "execution_count": 13,
   "metadata": {},
   "outputs": [],
   "source": [
    "df_joined.to_pickle('../nue_test56789_xgb.pckl')"
   ]
  },
  {
   "cell_type": "code",
   "execution_count": 14,
   "metadata": {},
   "outputs": [
    {
     "name": "stdout",
     "output_type": "stream",
     "text": [
      "34129\n",
      "2    27317\n",
      "7     6696\n",
      "1      116\n",
      "Name: category, dtype: int64\n"
     ]
    }
   ],
   "source": [
    "print(len(df_joined.index))\n",
    "print(df_joined['category'].value_counts())"
   ]
  },
  {
   "cell_type": "code",
   "execution_count": 15,
   "metadata": {},
   "outputs": [],
   "source": [
    "def nue_select_manual(row):\n",
    "    # Reasonable cuts\n",
    "    if(row[\"n_tracks\"]+row[\"n_showers\"]>4):\n",
    "        return False\n",
    "    if(row[\"total_spacepoint_containment\"]<0.95):\n",
    "        return False\n",
    "    # Muon cuts\n",
    "    if(np.any(np.array(row['track_muon_score'])>0.05)):\n",
    "        return False\n",
    "    if(np.any(np.array(row['shower_muon_score'])>0.05)):\n",
    "        return False\n",
    "    # Electron cuts\n",
    "    if(np.any(np.array(row['track_electron_score'])>0.9) and np.any(np.array(row['track_closest_electron_score'])>0.7)):\n",
    "        if(np.any(np.array(row['shower_electron_score'])>0.6)):\n",
    "            return True\n",
    "    if(np.any(np.array(row['shower_electron_score'])>0.8)):\n",
    "        if(np.any(np.array(row['shower_cle_lee_score'])>0.7) or np.any(np.array(row['shower_closest_electron_score'])>0.7)):\n",
    "            return True\n",
    "    return False\n",
    "\n",
    "          \n",
    "df_pure=df_sample[df_sample.apply(nue_select_manual, axis=1)]"
   ]
  },
  {
   "cell_type": "code",
   "execution_count": 16,
   "metadata": {},
   "outputs": [
    {
     "name": "stdout",
     "output_type": "stream",
     "text": [
      "1303\n",
      "2    1231\n",
      "7      71\n",
      "1       1\n",
      "Name: category, dtype: int64\n"
     ]
    }
   ],
   "source": [
    "print(len(df_pure.index))\n",
    "print(df_pure['category'].value_counts())"
   ]
  },
  {
   "cell_type": "code",
   "execution_count": 17,
   "metadata": {},
   "outputs": [
    {
     "data": {
      "text/html": [
       "<div>\n",
       "<style scoped>\n",
       "    .dataframe tbody tr th:only-of-type {\n",
       "        vertical-align: middle;\n",
       "    }\n",
       "\n",
       "    .dataframe tbody tr th {\n",
       "        vertical-align: top;\n",
       "    }\n",
       "\n",
       "    .dataframe thead th {\n",
       "        text-align: right;\n",
       "    }\n",
       "</style>\n",
       "<table border=\"1\" class=\"dataframe\">\n",
       "  <thead>\n",
       "    <tr style=\"text-align: right;\">\n",
       "      <th></th>\n",
       "      <th>event</th>\n",
       "      <th>subrun</th>\n",
       "      <th>run</th>\n",
       "      <th>category</th>\n",
       "      <th>vx</th>\n",
       "      <th>vy</th>\n",
       "      <th>vz</th>\n",
       "      <th>bnbweight</th>\n",
       "      <th>candidate_pdg</th>\n",
       "      <th>numu_cuts</th>\n",
       "      <th>n_showers</th>\n",
       "      <th>n_tracks</th>\n",
       "      <th>flash_time_max</th>\n",
       "      <th>flash_PE_max</th>\n",
       "      <th>chargecenter_x</th>\n",
       "      <th>chargecenter_y</th>\n",
       "      <th>chargecenter_z</th>\n",
       "      <th>total_spacepoint_containment</th>\n",
       "      <th>vtx_activity_nr</th>\n",
       "      <th>shower_electron_score</th>\n",
       "      <th>track_muon_score</th>\n",
       "      <th>shower_muon_score</th>\n",
       "      <th>track_electron_score</th>\n",
       "      <th>track_closest_electron_score</th>\n",
       "      <th>shower_closest_electron_score</th>\n",
       "      <th>shower_cle_lee_score</th>\n",
       "      <th>track_energy_w</th>\n",
       "      <th>shower_energy_w</th>\n",
       "      <th>track_score_index</th>\n",
       "      <th>shower_score_index</th>\n",
       "      <th>track_theta</th>\n",
       "      <th>shower_theta</th>\n",
       "      <th>shower_cle</th>\n",
       "      <th>matched_showers</th>\n",
       "      <th>matched_showers_energy</th>\n",
       "      <th>track_cle</th>\n",
       "      <th>matched_tracks</th>\n",
       "      <th>matched_tracks_energy</th>\n",
       "      <th>nu_daughters_pdg</th>\n",
       "      <th>nu_daughters_E</th>\n",
       "      <th>nu_pdg</th>\n",
       "      <th>nu_E</th>\n",
       "      <th>true_vx_sce</th>\n",
       "      <th>true_vy_sce</th>\n",
       "      <th>true_vz_sce</th>\n",
       "      <th>distance</th>\n",
       "      <th>ccnc</th>\n",
       "      <th>qsqr</th>\n",
       "      <th>theta</th>\n",
       "      <th>true_1eX_signal</th>\n",
       "      <th>true_nu_fiducial</th>\n",
       "      <th>lepton_E</th>\n",
       "      <th>lepton_theta</th>\n",
       "    </tr>\n",
       "  </thead>\n",
       "  <tbody>\n",
       "  </tbody>\n",
       "</table>\n",
       "</div>"
      ],
      "text/plain": [
       "Empty DataFrame\n",
       "Columns: [event, subrun, run, category, vx, vy, vz, bnbweight, candidate_pdg, numu_cuts, n_showers, n_tracks, flash_time_max, flash_PE_max, chargecenter_x, chargecenter_y, chargecenter_z, total_spacepoint_containment, vtx_activity_nr, shower_electron_score, track_muon_score, shower_muon_score, track_electron_score, track_closest_electron_score, shower_closest_electron_score, shower_cle_lee_score, track_energy_w, shower_energy_w, track_score_index, shower_score_index, track_theta, shower_theta, shower_cle, matched_showers, matched_showers_energy, track_cle, matched_tracks, matched_tracks_energy, nu_daughters_pdg, nu_daughters_E, nu_pdg, nu_E, true_vx_sce, true_vy_sce, true_vz_sce, distance, ccnc, qsqr, theta, true_1eX_signal, true_nu_fiducial, lepton_E, lepton_theta]\n",
       "Index: []"
      ]
     },
     "execution_count": 17,
     "metadata": {},
     "output_type": "execute_result"
    }
   ],
   "source": [
    "#Roberto's Nue\n",
    "#df_joined[(df_joined[\"event\"]==1515) & (df_joined[\"run\"]==5328)].head()\n",
    "df_joined[(df_joined[\"event\"]==31) & (df_joined[\"run\"]==5513)].head()\n"
   ]
  },
  {
   "cell_type": "code",
   "execution_count": null,
   "metadata": {},
   "outputs": [],
   "source": []
  },
  {
   "cell_type": "code",
   "execution_count": null,
   "metadata": {},
   "outputs": [],
   "source": []
  },
  {
   "cell_type": "code",
   "execution_count": null,
   "metadata": {},
   "outputs": [],
   "source": []
  },
  {
   "cell_type": "code",
   "execution_count": null,
   "metadata": {},
   "outputs": [],
   "source": []
  },
  {
   "cell_type": "code",
   "execution_count": null,
   "metadata": {},
   "outputs": [],
   "source": []
  }
 ],
 "metadata": {
  "anaconda-cloud": {},
  "kernelspec": {
   "display_name": "Python 3",
   "language": "python",
   "name": "python3"
  },
  "language_info": {
   "codemirror_mode": {
    "name": "ipython",
    "version": 3
   },
   "file_extension": ".py",
   "mimetype": "text/x-python",
   "name": "python",
   "nbconvert_exporter": "python",
   "pygments_lexer": "ipython3",
   "version": "3.6.4"
  },
  "nbpresent": {
   "slides": {},
   "themes": {}
  }
 },
 "nbformat": 4,
 "nbformat_minor": 2
}
