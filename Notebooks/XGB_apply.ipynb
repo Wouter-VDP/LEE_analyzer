{
 "cells": [
  {
   "cell_type": "code",
   "execution_count": 1,
   "metadata": {
    "collapsed": true,
    "nbpresent": {
     "id": "27f77e5d-b387-4dd8-beb8-7d542c47752f"
    }
   },
   "outputs": [],
   "source": [
    "import numpy as np\n",
    "import pandas as pd\n",
    "import seaborn as sns\n",
    "import matplotlib.pyplot as plt\n",
    "from operator import itemgetter\n",
    "\n",
    "from helpfunction import CheckBorderFixed,CheckBorderTPC\n",
    "from sklearn.externals import joblib"
   ]
  },
  {
   "cell_type": "code",
   "execution_count": 2,
   "metadata": {
    "collapsed": true
   },
   "outputs": [],
   "source": [
    "# Fiducial volume borders in x,y,z:\n",
    "fid_arr= [[10,10],[20,20],[10,50]]\n",
    "\n",
    "min_dedx_hits=3"
   ]
  },
  {
   "cell_type": "code",
   "execution_count": 3,
   "metadata": {
    "collapsed": true
   },
   "outputs": [],
   "source": [
    "def shower_features(row):\n",
    "    x=row[\"shower_start_x\"]\n",
    "    y=row[\"shower_start_y\"]\n",
    "    z=row[\"shower_start_z\"]\n",
    "    vx=row[\"vx\"]\n",
    "    vy=row[\"vy\"]\n",
    "    vz=row[\"vz\"]\n",
    "    \n",
    "    shower_sh_daughter = True if row['shower_daughter']==1 else False\n",
    "    shower_tr_daughter = True if row['shower_daughter']==2 else False\n",
    "    shower_is_daughter = True if row['matched_showers']==0 else False\n",
    "    shower_vtx         = np.linalg.norm([x-vx,y-vy,z-vz])\n",
    "    \n",
    "    return { 'shower_sh_daughter':shower_sh_daughter,\n",
    "             'shower_tr_daughter':shower_tr_daughter,\n",
    "             'shower_is_daughter':shower_is_daughter,\n",
    "             'shower_vtx':shower_vtx,\n",
    "             }\n",
    "\n",
    "\n",
    "def track_features(row):  \n",
    "    x=row[\"track_start_x\"]\n",
    "    y=row[\"track_start_y\"]\n",
    "    z=row[\"track_start_z\"]\n",
    "    x_e=row[\"track_end_x\"]\n",
    "    y_e=row[\"track_end_y\"]\n",
    "    z_e=row[\"track_end_z\"]\n",
    "    vx=row[\"vx\"]\n",
    "    vy=row[\"vy\"]\n",
    "    vz=row[\"vz\"]\n",
    "    \n",
    "    track_length      = np.linalg.norm([x-x_e,y-y_e,z-z_e])\n",
    "    track_containment = CheckBorderFixed(x_e,y_e,z_e,tolerance=10) \n",
    "    track_sh_daughter = True if row['track_daughter']==1 else False\n",
    "    track_tr_daughter = True if row['track_daughter']==2 else False\n",
    "    track_is_daughter = True if row['matched_tracks']==0 else False\n",
    "    track_vtx         = np.linalg.norm([x-vx,y-vy,z-vz])\n",
    "    track_vtx_end     = np.linalg.norm([vx-x_e,vy-y_e,vz-z_e])\n",
    "    \n",
    "    return { 'track_length':track_length,\n",
    "             'track_containment':track_containment,\n",
    "             'track_sh_daughter':track_sh_daughter,\n",
    "             'track_tr_daughter':track_tr_daughter,\n",
    "             'track_is_daughter':track_is_daughter,\n",
    "             'track_vtx':track_vtx,\n",
    "             'track_vtx_end':track_vtx_end,\n",
    "                     }"
   ]
  },
  {
   "cell_type": "code",
   "execution_count": 4,
   "metadata": {
    "collapsed": true,
    "nbpresent": {
     "id": "df2ca4ac-5bf8-40a7-862f-34b40f3976c1"
    }
   },
   "outputs": [],
   "source": [
    "columns_req_shower = ['shower_dedx','shower_dedx_avg','shower_dedx_hits','shower_pca','shower_open_angle',\n",
    "                      'shower_start_x', 'shower_start_y','shower_start_z',\n",
    "                      'shower_length','shower_daughter',\n",
    "                      'matched_showers'#This is the label generationg category\n",
    "                     ]\n",
    "\n",
    "columns_req_track  = ['track_dedx','track_dedx_avg','track_dedx_hits','track_pca',\n",
    "                      'predict_em','predict_mu', 'predict_cos', 'predict_pi', 'predict_p',\n",
    "                      'track_start_x', 'track_start_y','track_start_z',\n",
    "                      'track_end_x', 'track_end_y', 'track_end_z','track_daughter',\n",
    "                      'matched_tracks'#This is the label generationg category\n",
    "                     ]\n",
    "\n",
    "columns_flat = ['vx','vy','vz',\n",
    "                'bnbweight','reconstructed_energy','flash_PE','flash_time','nu_E','nu_pdg',\n",
    "                'true_x_sce','true_y_sce','true_z_sce',\n",
    "                'category','distance','CC_daughter_E','shower_containment_q','shower_sp_profile'\n",
    "               ]\n",
    "\n",
    "columns_track_XGB = ['track_dedx', 'track_dedx_avg', 'track_dedx_hits', 'track_pca',\n",
    "                     'predict_em', 'predict_mu', 'predict_cos', 'predict_pi', 'predict_p',\n",
    "                     'track_containment', 'track_is_daughter', 'track_length',\n",
    "                     'track_sh_daughter', 'track_tr_daughter', 'track_vtx', 'track_vtx_end']\n",
    "\n",
    "columns_shower_XGB = [ 'shower_dedx', 'shower_dedx_avg', 'shower_dedx_hits', 'shower_pca',\n",
    "                       'shower_open_angle', 'shower_length', 'shower_containment_q',\n",
    "                       'shower_sp_profile', 'shower_is_daughter', 'shower_sh_daughter',\n",
    "                       'shower_tr_daughter', 'shower_vtx']\n",
    "\n",
    "columns_all = list(set(columns_req_shower) | set(columns_req_track))+columns_flat"
   ]
  },
  {
   "cell_type": "code",
   "execution_count": 12,
   "metadata": {
    "collapsed": true,
    "nbpresent": {
     "id": "a09d9f71-9152-4cc6-8af9-47f71965cda8"
    }
   },
   "outputs": [],
   "source": [
    "sample_list = ['../Input/nue/nue_3.pckl','../Input/nue/nue_4.pckl','../Input/nue/nue_5.pckl']\n",
    "sample_list = ['../Input/nu/nu_3.pckl','../Input/nu/nu_4.pckl','../Input/nu/nu_5.pckl']\n",
    "\n",
    "sample_list = ['../Input/nu/nu_6.pckl']"
   ]
  },
  {
   "cell_type": "code",
   "execution_count": 14,
   "metadata": {
    "collapsed": true,
    "nbpresent": {
     "id": "e9d0554c-2916-4c8d-a36d-4a8f13aa44c6"
    }
   },
   "outputs": [],
   "source": [
    "model_sh_e  = joblib.load('../Input/XGBoost/model_sh_e.pkl')\n",
    "model_sh_cle  = joblib.load('../Input/XGBoost/model_sh_cle.pkl')\n",
    "model_sh_mu = joblib.load('../Input/XGBoost/model_sh_mu.pkl')\n",
    "\n",
    "model_tr_e  = joblib.load('../Input/XGBoost/model_tr_e.pkl')\n",
    "model_tr_cle  = joblib.load('../Input/XGBoost/model_tr_cle.pkl')\n",
    "model_tr_mu = joblib.load('../Input/XGBoost/model_tr_mu.pkl')"
   ]
  },
  {
   "cell_type": "code",
   "execution_count": 8,
   "metadata": {
    "collapsed": false
   },
   "outputs": [],
   "source": [
    "def XGBoostClassification(row):\n",
    "    tr_e, tr_cle, tr_mu = [],[],[]\n",
    "    sh_e, sh_cle, sh_mu = [],[],[]\n",
    "    if row['fidvol']:\n",
    "        if len(row['matched_tracks']) > 0:\n",
    "            tr_e ,tr_cle, tr_mu = TrackClassification(row)\n",
    "        sh_e, sh_cle, sh_mu = ShowerClassification(row)\n",
    "    \n",
    "    return pd.Series({\n",
    "        'track_electron_score': tr_e,\n",
    "        'track_closest_electron_score': tr_cle,\n",
    "        'track_muon_score': tr_mu,\n",
    "        'shower_electron_score': sh_e,\n",
    "        'shower_closest_electron_score': sh_cle,\n",
    "        'shower_muon_score': sh_mu,\n",
    "    })\n",
    "    \n",
    "    \n",
    "def TrackClassification(row):\n",
    "    pred_tr_e = []\n",
    "    pred_tr_mu = []\n",
    "    pred_tr_cle= []\n",
    "    XGB_input = np.zeros([sum(row['track_dedx_hits']>=min_dedx_hits),len(columns_track_XGB)])\n",
    "    \n",
    "    tr_ok=0\n",
    "    for tr in range(len(row['matched_tracks'])):\n",
    "        if row['track_dedx_hits'][tr]>=min_dedx_hits:\n",
    "            d_tr={}\n",
    "            for field in columns_req_track:\n",
    "                d_tr[field]=row[field][tr]\n",
    "            for field in ['vx','vy','vz']:\n",
    "                d_tr[field]=row[field]\n",
    "            d_tr = {**d_tr,**track_features(d_tr)}\n",
    "            \n",
    "            XGB_input[tr_ok] = np.asarray(itemgetter(*columns_track_XGB)(d_tr))\n",
    "            tr_ok+=1\n",
    "            \n",
    "        pred_tr_e = model_tr_e.predict_proba( XGB_input )[:,1] \n",
    "        pred_tr_cle = model_tr_cle.predict_proba( XGB_input )[:,1]\n",
    "        pred_tr_mu = model_tr_mu.predict_proba( XGB_input)[:,1]  \n",
    "        \n",
    "    return pred_tr_e, pred_tr_cle, pred_tr_mu\n",
    "    \n",
    "    \n",
    "def ShowerClassification(row):\n",
    "    pred_sh_e = []\n",
    "    pred_sh_mu = []\n",
    "    pred_sh_cle = []\n",
    "    \n",
    "    XGB_input = np.zeros([sum(row['shower_dedx_hits']>=min_dedx_hits),len(columns_shower_XGB)])\n",
    "    \n",
    "    sh_ok=0\n",
    "    for sh in range(len(row['matched_showers'])):\n",
    "        if row['shower_dedx_hits'][sh]>=min_dedx_hits:\n",
    "            d_sh={}\n",
    "            for field in columns_req_shower:\n",
    "                d_sh[field]=row[field][sh]\n",
    "            for field in ['vx','vy','vz','shower_containment_q','shower_sp_profile']:\n",
    "                d_sh[field]=row[field]\n",
    "            d_sh = {**d_sh,**shower_features(d_sh)}  \n",
    "\n",
    "            XGB_input[sh_ok] = np.asarray( itemgetter(*columns_shower_XGB)(d_sh)) \n",
    "            sh_ok+=1\n",
    "        \n",
    "    pred_sh_e =  model_sh_e.predict_proba( XGB_input )[:,1] \n",
    "    pred_sh_cle =  model_sh_cle.predict_proba( XGB_input )[:,1] \n",
    "    pred_sh_mu=  model_sh_mu.predict_proba( XGB_input )[:,1] \n",
    "        \n",
    "    return pred_sh_e, pred_sh_cle, pred_sh_mu"
   ]
  },
  {
   "cell_type": "code",
   "execution_count": 9,
   "metadata": {
    "collapsed": true
   },
   "outputs": [],
   "source": [
    "columns_final = ['vx','vy','vz',\n",
    "                'bnbweight','reconstructed_energy','flash_PE','flash_time','nu_E','nu_pdg',\n",
    "                'true_x_sce','true_y_sce','true_z_sce',\n",
    "                'category','distance','CC_daughter_E','shower_containment_q','shower_sp_profile',\n",
    "                'shower_electron_score','shower_muon_score','track_electron_score','track_electron_score'\n",
    "               ]"
   ]
  },
  {
   "cell_type": "code",
   "execution_count": 15,
   "metadata": {
    "collapsed": false,
    "nbpresent": {
     "id": "46d9e399-5601-443f-ab61-291d7bde164c"
    }
   },
   "outputs": [
    {
     "name": "stdout",
     "output_type": "stream",
     "text": [
      "39510\n"
     ]
    },
    {
     "ename": "ValueError",
     "evalue": "(\"feature_names mismatch: ['f0', 'f1', 'f2', 'f3', 'f4', 'f5', 'f6', 'f7', 'f8', 'f9'] ['f0', 'f1', 'f2', 'f3', 'f4', 'f5', 'f6', 'f7', 'f8', 'f9', 'f10', 'f11']\\ntraining data did not have the following fields: f10, f11\", 'occurred at index 0')",
     "output_type": "error",
     "traceback": [
      "\u001b[0;31m---------------------------------------------------------------------------\u001b[0m",
      "\u001b[0;31mValueError\u001b[0m                                Traceback (most recent call last)",
      "\u001b[0;32m<ipython-input-15-67f381d91bd1>\u001b[0m in \u001b[0;36m<module>\u001b[0;34m()\u001b[0m\n\u001b[1;32m      7\u001b[0m     \u001b[0mdf_sample\u001b[0m\u001b[0;34m.\u001b[0m\u001b[0mdrop\u001b[0m\u001b[0;34m(\u001b[0m\u001b[0mdroplist\u001b[0m\u001b[0;34m,\u001b[0m\u001b[0minplace\u001b[0m\u001b[0;34m=\u001b[0m\u001b[0;32mTrue\u001b[0m\u001b[0;34m,\u001b[0m\u001b[0maxis\u001b[0m\u001b[0;34m=\u001b[0m\u001b[0;36m1\u001b[0m\u001b[0;34m)\u001b[0m\u001b[0;34m\u001b[0m\u001b[0m\n\u001b[1;32m      8\u001b[0m     \u001b[0mdf_sample\u001b[0m\u001b[0;34m[\u001b[0m\u001b[0;34m'fidvol'\u001b[0m\u001b[0;34m]\u001b[0m \u001b[0;34m=\u001b[0m\u001b[0mdf_sample\u001b[0m\u001b[0;34m.\u001b[0m\u001b[0mapply\u001b[0m\u001b[0;34m(\u001b[0m\u001b[0;32mlambda\u001b[0m \u001b[0mrow\u001b[0m\u001b[0;34m:\u001b[0m \u001b[0mCheckBorderTPC\u001b[0m\u001b[0;34m(\u001b[0m\u001b[0mrow\u001b[0m\u001b[0;34m[\u001b[0m\u001b[0;34m'vx'\u001b[0m\u001b[0;34m]\u001b[0m\u001b[0;34m,\u001b[0m\u001b[0mrow\u001b[0m\u001b[0;34m[\u001b[0m\u001b[0;34m'vy'\u001b[0m\u001b[0;34m]\u001b[0m\u001b[0;34m,\u001b[0m\u001b[0mrow\u001b[0m\u001b[0;34m[\u001b[0m\u001b[0;34m'vz'\u001b[0m\u001b[0;34m]\u001b[0m\u001b[0;34m,\u001b[0m\u001b[0mfid_arr\u001b[0m\u001b[0;34m)\u001b[0m \u001b[0;34m,\u001b[0m\u001b[0maxis\u001b[0m\u001b[0;34m=\u001b[0m\u001b[0;36m1\u001b[0m\u001b[0;34m)\u001b[0m\u001b[0;34m\u001b[0m\u001b[0m\n\u001b[0;32m----> 9\u001b[0;31m     \u001b[0mdf_sample\u001b[0m \u001b[0;34m=\u001b[0m \u001b[0mpd\u001b[0m\u001b[0;34m.\u001b[0m\u001b[0mconcat\u001b[0m\u001b[0;34m(\u001b[0m\u001b[0;34m[\u001b[0m\u001b[0mdf_sample\u001b[0m\u001b[0;34m,\u001b[0m \u001b[0mdf_sample\u001b[0m\u001b[0;34m.\u001b[0m\u001b[0mapply\u001b[0m\u001b[0;34m(\u001b[0m\u001b[0mXGBoostClassification\u001b[0m\u001b[0;34m,\u001b[0m\u001b[0maxis\u001b[0m\u001b[0;34m=\u001b[0m\u001b[0;36m1\u001b[0m\u001b[0;34m)\u001b[0m\u001b[0;34m]\u001b[0m\u001b[0;34m,\u001b[0m \u001b[0maxis\u001b[0m\u001b[0;34m=\u001b[0m\u001b[0;36m1\u001b[0m\u001b[0;34m)\u001b[0m\u001b[0;34m\u001b[0m\u001b[0m\n\u001b[0m\u001b[1;32m     10\u001b[0m     \u001b[0mdf_sample\u001b[0m \u001b[0;34m=\u001b[0m \u001b[0mdf_sample\u001b[0m\u001b[0;34m[\u001b[0m\u001b[0mcolumns_final\u001b[0m\u001b[0;34m]\u001b[0m\u001b[0;34m\u001b[0m\u001b[0m\n\u001b[1;32m     11\u001b[0m     \u001b[0mdf_joined\u001b[0m \u001b[0;34m=\u001b[0m \u001b[0mpd\u001b[0m\u001b[0;34m.\u001b[0m\u001b[0mconcat\u001b[0m\u001b[0;34m(\u001b[0m\u001b[0;34m[\u001b[0m\u001b[0mdf_joined\u001b[0m\u001b[0;34m,\u001b[0m\u001b[0mdf_sample\u001b[0m\u001b[0;34m]\u001b[0m\u001b[0;34m,\u001b[0m\u001b[0mignore_index\u001b[0m\u001b[0;34m=\u001b[0m\u001b[0;32mTrue\u001b[0m\u001b[0;34m,\u001b[0m\u001b[0mcopy\u001b[0m\u001b[0;34m=\u001b[0m\u001b[0;32mFalse\u001b[0m\u001b[0;34m)\u001b[0m\u001b[0;34m\u001b[0m\u001b[0m\n",
      "\u001b[0;32m~/anaconda3/envs/mlenv/lib/python3.6/site-packages/pandas/core/frame.py\u001b[0m in \u001b[0;36mapply\u001b[0;34m(self, func, axis, broadcast, raw, reduce, args, **kwds)\u001b[0m\n\u001b[1;32m   4875\u001b[0m                         \u001b[0mf\u001b[0m\u001b[0;34m,\u001b[0m \u001b[0maxis\u001b[0m\u001b[0;34m,\u001b[0m\u001b[0;34m\u001b[0m\u001b[0m\n\u001b[1;32m   4876\u001b[0m                         \u001b[0mreduce\u001b[0m\u001b[0;34m=\u001b[0m\u001b[0mreduce\u001b[0m\u001b[0;34m,\u001b[0m\u001b[0;34m\u001b[0m\u001b[0m\n\u001b[0;32m-> 4877\u001b[0;31m                         ignore_failures=ignore_failures)\n\u001b[0m\u001b[1;32m   4878\u001b[0m             \u001b[0;32melse\u001b[0m\u001b[0;34m:\u001b[0m\u001b[0;34m\u001b[0m\u001b[0m\n\u001b[1;32m   4879\u001b[0m                 \u001b[0;32mreturn\u001b[0m \u001b[0mself\u001b[0m\u001b[0;34m.\u001b[0m\u001b[0m_apply_broadcast\u001b[0m\u001b[0;34m(\u001b[0m\u001b[0mf\u001b[0m\u001b[0;34m,\u001b[0m \u001b[0maxis\u001b[0m\u001b[0;34m)\u001b[0m\u001b[0;34m\u001b[0m\u001b[0m\n",
      "\u001b[0;32m~/anaconda3/envs/mlenv/lib/python3.6/site-packages/pandas/core/frame.py\u001b[0m in \u001b[0;36m_apply_standard\u001b[0;34m(self, func, axis, ignore_failures, reduce)\u001b[0m\n\u001b[1;32m   4971\u001b[0m             \u001b[0;32mtry\u001b[0m\u001b[0;34m:\u001b[0m\u001b[0;34m\u001b[0m\u001b[0m\n\u001b[1;32m   4972\u001b[0m                 \u001b[0;32mfor\u001b[0m \u001b[0mi\u001b[0m\u001b[0;34m,\u001b[0m \u001b[0mv\u001b[0m \u001b[0;32min\u001b[0m \u001b[0menumerate\u001b[0m\u001b[0;34m(\u001b[0m\u001b[0mseries_gen\u001b[0m\u001b[0;34m)\u001b[0m\u001b[0;34m:\u001b[0m\u001b[0;34m\u001b[0m\u001b[0m\n\u001b[0;32m-> 4973\u001b[0;31m                     \u001b[0mresults\u001b[0m\u001b[0;34m[\u001b[0m\u001b[0mi\u001b[0m\u001b[0;34m]\u001b[0m \u001b[0;34m=\u001b[0m \u001b[0mfunc\u001b[0m\u001b[0;34m(\u001b[0m\u001b[0mv\u001b[0m\u001b[0;34m)\u001b[0m\u001b[0;34m\u001b[0m\u001b[0m\n\u001b[0m\u001b[1;32m   4974\u001b[0m                     \u001b[0mkeys\u001b[0m\u001b[0;34m.\u001b[0m\u001b[0mappend\u001b[0m\u001b[0;34m(\u001b[0m\u001b[0mv\u001b[0m\u001b[0;34m.\u001b[0m\u001b[0mname\u001b[0m\u001b[0;34m)\u001b[0m\u001b[0;34m\u001b[0m\u001b[0m\n\u001b[1;32m   4975\u001b[0m             \u001b[0;32mexcept\u001b[0m \u001b[0mException\u001b[0m \u001b[0;32mas\u001b[0m \u001b[0me\u001b[0m\u001b[0;34m:\u001b[0m\u001b[0;34m\u001b[0m\u001b[0m\n",
      "\u001b[0;32m<ipython-input-8-192670688b62>\u001b[0m in \u001b[0;36mXGBoostClassification\u001b[0;34m(row)\u001b[0m\n\u001b[1;32m      5\u001b[0m         \u001b[0;32mif\u001b[0m \u001b[0mlen\u001b[0m\u001b[0;34m(\u001b[0m\u001b[0mrow\u001b[0m\u001b[0;34m[\u001b[0m\u001b[0;34m'matched_tracks'\u001b[0m\u001b[0;34m]\u001b[0m\u001b[0;34m)\u001b[0m \u001b[0;34m>\u001b[0m \u001b[0;36m0\u001b[0m\u001b[0;34m:\u001b[0m\u001b[0;34m\u001b[0m\u001b[0m\n\u001b[1;32m      6\u001b[0m             \u001b[0mtr_e\u001b[0m \u001b[0;34m,\u001b[0m\u001b[0mtr_cle\u001b[0m\u001b[0;34m,\u001b[0m \u001b[0mtr_mu\u001b[0m \u001b[0;34m=\u001b[0m \u001b[0mTrackClassification\u001b[0m\u001b[0;34m(\u001b[0m\u001b[0mrow\u001b[0m\u001b[0;34m)\u001b[0m\u001b[0;34m\u001b[0m\u001b[0m\n\u001b[0;32m----> 7\u001b[0;31m         \u001b[0msh_e\u001b[0m\u001b[0;34m,\u001b[0m \u001b[0msh_cle\u001b[0m\u001b[0;34m,\u001b[0m \u001b[0msh_mu\u001b[0m \u001b[0;34m=\u001b[0m \u001b[0mShowerClassification\u001b[0m\u001b[0;34m(\u001b[0m\u001b[0mrow\u001b[0m\u001b[0;34m)\u001b[0m\u001b[0;34m\u001b[0m\u001b[0m\n\u001b[0m\u001b[1;32m      8\u001b[0m \u001b[0;34m\u001b[0m\u001b[0m\n\u001b[1;32m      9\u001b[0m     return pd.Series({\n",
      "\u001b[0;32m<ipython-input-8-192670688b62>\u001b[0m in \u001b[0;36mShowerClassification\u001b[0;34m(row)\u001b[0m\n\u001b[1;32m     63\u001b[0m             \u001b[0msh_ok\u001b[0m\u001b[0;34m+=\u001b[0m\u001b[0;36m1\u001b[0m\u001b[0;34m\u001b[0m\u001b[0m\n\u001b[1;32m     64\u001b[0m \u001b[0;34m\u001b[0m\u001b[0m\n\u001b[0;32m---> 65\u001b[0;31m     \u001b[0mpred_sh_e\u001b[0m \u001b[0;34m=\u001b[0m  \u001b[0mmodel_sh_e\u001b[0m\u001b[0;34m.\u001b[0m\u001b[0mpredict_proba\u001b[0m\u001b[0;34m(\u001b[0m \u001b[0mXGB_input\u001b[0m \u001b[0;34m)\u001b[0m\u001b[0;34m[\u001b[0m\u001b[0;34m:\u001b[0m\u001b[0;34m,\u001b[0m\u001b[0;36m1\u001b[0m\u001b[0;34m]\u001b[0m\u001b[0;34m\u001b[0m\u001b[0m\n\u001b[0m\u001b[1;32m     66\u001b[0m     \u001b[0mpred_sh_cle\u001b[0m \u001b[0;34m=\u001b[0m  \u001b[0mmodel_sh_cle\u001b[0m\u001b[0;34m.\u001b[0m\u001b[0mpredict_proba\u001b[0m\u001b[0;34m(\u001b[0m \u001b[0mXGB_input\u001b[0m \u001b[0;34m)\u001b[0m\u001b[0;34m[\u001b[0m\u001b[0;34m:\u001b[0m\u001b[0;34m,\u001b[0m\u001b[0;36m1\u001b[0m\u001b[0;34m]\u001b[0m\u001b[0;34m\u001b[0m\u001b[0m\n\u001b[1;32m     67\u001b[0m     \u001b[0mpred_sh_mu\u001b[0m\u001b[0;34m=\u001b[0m  \u001b[0mmodel_sh_mu\u001b[0m\u001b[0;34m.\u001b[0m\u001b[0mpredict_proba\u001b[0m\u001b[0;34m(\u001b[0m \u001b[0mXGB_input\u001b[0m \u001b[0;34m)\u001b[0m\u001b[0;34m[\u001b[0m\u001b[0;34m:\u001b[0m\u001b[0;34m,\u001b[0m\u001b[0;36m1\u001b[0m\u001b[0;34m]\u001b[0m\u001b[0;34m\u001b[0m\u001b[0m\n",
      "\u001b[0;32m~/anaconda3/envs/mlenv/lib/python3.6/site-packages/xgboost/sklearn.py\u001b[0m in \u001b[0;36mpredict_proba\u001b[0;34m(self, data, output_margin, ntree_limit)\u001b[0m\n\u001b[1;32m    536\u001b[0m         class_probs = self.get_booster().predict(test_dmatrix,\n\u001b[1;32m    537\u001b[0m                                                  \u001b[0moutput_margin\u001b[0m\u001b[0;34m=\u001b[0m\u001b[0moutput_margin\u001b[0m\u001b[0;34m,\u001b[0m\u001b[0;34m\u001b[0m\u001b[0m\n\u001b[0;32m--> 538\u001b[0;31m                                                  ntree_limit=ntree_limit)\n\u001b[0m\u001b[1;32m    539\u001b[0m         \u001b[0;32mif\u001b[0m \u001b[0mself\u001b[0m\u001b[0;34m.\u001b[0m\u001b[0mobjective\u001b[0m \u001b[0;34m==\u001b[0m \u001b[0;34m\"multi:softprob\"\u001b[0m\u001b[0;34m:\u001b[0m\u001b[0;34m\u001b[0m\u001b[0m\n\u001b[1;32m    540\u001b[0m             \u001b[0;32mreturn\u001b[0m \u001b[0mclass_probs\u001b[0m\u001b[0;34m\u001b[0m\u001b[0m\n",
      "\u001b[0;32m~/anaconda3/envs/mlenv/lib/python3.6/site-packages/xgboost/core.py\u001b[0m in \u001b[0;36mpredict\u001b[0;34m(self, data, output_margin, ntree_limit, pred_leaf, pred_contribs, approx_contribs)\u001b[0m\n\u001b[1;32m   1042\u001b[0m             \u001b[0moption_mask\u001b[0m \u001b[0;34m|=\u001b[0m \u001b[0;36m0x08\u001b[0m\u001b[0;34m\u001b[0m\u001b[0m\n\u001b[1;32m   1043\u001b[0m \u001b[0;34m\u001b[0m\u001b[0m\n\u001b[0;32m-> 1044\u001b[0;31m         \u001b[0mself\u001b[0m\u001b[0;34m.\u001b[0m\u001b[0m_validate_features\u001b[0m\u001b[0;34m(\u001b[0m\u001b[0mdata\u001b[0m\u001b[0;34m)\u001b[0m\u001b[0;34m\u001b[0m\u001b[0m\n\u001b[0m\u001b[1;32m   1045\u001b[0m \u001b[0;34m\u001b[0m\u001b[0m\n\u001b[1;32m   1046\u001b[0m         \u001b[0mlength\u001b[0m \u001b[0;34m=\u001b[0m \u001b[0mc_bst_ulong\u001b[0m\u001b[0;34m(\u001b[0m\u001b[0;34m)\u001b[0m\u001b[0;34m\u001b[0m\u001b[0m\n",
      "\u001b[0;32m~/anaconda3/envs/mlenv/lib/python3.6/site-packages/xgboost/core.py\u001b[0m in \u001b[0;36m_validate_features\u001b[0;34m(self, data)\u001b[0m\n\u001b[1;32m   1286\u001b[0m \u001b[0;34m\u001b[0m\u001b[0m\n\u001b[1;32m   1287\u001b[0m                 raise ValueError(msg.format(self.feature_names,\n\u001b[0;32m-> 1288\u001b[0;31m                                             data.feature_names))\n\u001b[0m\u001b[1;32m   1289\u001b[0m \u001b[0;34m\u001b[0m\u001b[0m\n\u001b[1;32m   1290\u001b[0m     \u001b[0;32mdef\u001b[0m \u001b[0mget_split_value_histogram\u001b[0m\u001b[0;34m(\u001b[0m\u001b[0mself\u001b[0m\u001b[0;34m,\u001b[0m \u001b[0mfeature\u001b[0m\u001b[0;34m,\u001b[0m \u001b[0mfmap\u001b[0m\u001b[0;34m=\u001b[0m\u001b[0;34m''\u001b[0m\u001b[0;34m,\u001b[0m \u001b[0mbins\u001b[0m\u001b[0;34m=\u001b[0m\u001b[0;32mNone\u001b[0m\u001b[0;34m,\u001b[0m \u001b[0mas_pandas\u001b[0m\u001b[0;34m=\u001b[0m\u001b[0;32mTrue\u001b[0m\u001b[0;34m)\u001b[0m\u001b[0;34m:\u001b[0m\u001b[0;34m\u001b[0m\u001b[0m\n",
      "\u001b[0;31mValueError\u001b[0m: (\"feature_names mismatch: ['f0', 'f1', 'f2', 'f3', 'f4', 'f5', 'f6', 'f7', 'f8', 'f9'] ['f0', 'f1', 'f2', 'f3', 'f4', 'f5', 'f6', 'f7', 'f8', 'f9', 'f10', 'f11']\\ntraining data did not have the following fields: f10, f11\", 'occurred at index 0')"
     ]
    }
   ],
   "source": [
    "df_joined = pd.DataFrame()\n",
    "\n",
    "for sample in sample_list:\n",
    "    df_sample = pd.read_pickle(sample)\n",
    "    droplist = [x for x  in df_sample.columns if (x not in columns_all)]\n",
    "    print(len(df_sample.index))\n",
    "    df_sample.drop(droplist,inplace=True,axis=1)\n",
    "    df_sample['fidvol'] =df_sample.apply(lambda row: CheckBorderTPC(row['vx'],row['vy'],row['vz'],fid_arr) ,axis=1)\n",
    "    df_sample = pd.concat([df_sample, df_sample.apply(XGBoostClassification,axis=1)], axis=1)    \n",
    "    df_sample = df_sample[columns_final]\n",
    "    df_joined = pd.concat([df_joined,df_sample],ignore_index=True,copy=False) \n",
    "df_joined.head(10)"
   ]
  },
  {
   "cell_type": "code",
   "execution_count": null,
   "metadata": {
    "collapsed": true
   },
   "outputs": [],
   "source": [
    "df_joined.to_pickle('nu_score_6.pckl')"
   ]
  },
  {
   "cell_type": "code",
   "execution_count": null,
   "metadata": {
    "collapsed": false
   },
   "outputs": [],
   "source": [
    "print(len(df_sample.index))\n",
    "print(df_sample['category'].value_counts())"
   ]
  },
  {
   "cell_type": "code",
   "execution_count": null,
   "metadata": {
    "collapsed": true
   },
   "outputs": [],
   "source": [
    "df_pure=df_sample[df_sample.apply(lambda x: np.all(np.array(x['track_muon_score'])<0.10) and\n",
    "                                            np.all(np.array(x['shower_muon_score'])<0.15) and\n",
    "                                         (np.any(np.array(x['shower_electron_score'])>0.9) or np.any(np.array(x['track_electron_score'])>0.99) ),\n",
    "                                  axis=1)]"
   ]
  },
  {
   "cell_type": "code",
   "execution_count": null,
   "metadata": {
    "collapsed": false
   },
   "outputs": [],
   "source": [
    "print(len(df_pure.index))\n",
    "print(df_pure['category'].value_counts())"
   ]
  },
  {
   "cell_type": "code",
   "execution_count": null,
   "metadata": {
    "collapsed": false
   },
   "outputs": [],
   "source": []
  },
  {
   "cell_type": "code",
   "execution_count": null,
   "metadata": {
    "collapsed": false
   },
   "outputs": [],
   "source": []
  },
  {
   "cell_type": "code",
   "execution_count": null,
   "metadata": {
    "collapsed": false
   },
   "outputs": [],
   "source": []
  },
  {
   "cell_type": "code",
   "execution_count": null,
   "metadata": {
    "collapsed": true
   },
   "outputs": [],
   "source": []
  }
 ],
 "metadata": {
  "kernelspec": {
   "display_name": "Python [conda env:mlenv]",
   "language": "python",
   "name": "conda-env-mlenv-py"
  },
  "language_info": {
   "codemirror_mode": {
    "name": "ipython",
    "version": 3
   },
   "file_extension": ".py",
   "mimetype": "text/x-python",
   "name": "python",
   "nbconvert_exporter": "python",
   "pygments_lexer": "ipython3",
   "version": "3.6.4"
  },
  "nbpresent": {
   "slides": {},
   "themes": {}
  }
 },
 "nbformat": 4,
 "nbformat_minor": 2
}
