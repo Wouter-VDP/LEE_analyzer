{
 "cells": [
  {
   "cell_type": "code",
   "execution_count": 14,
   "metadata": {
    "collapsed": true,
    "nbpresent": {
     "id": "27f77e5d-b387-4dd8-beb8-7d542c47752f"
    }
   },
   "outputs": [],
   "source": [
    "import numpy as np\n",
    "import pandas as pd\n",
    "import seaborn as sns\n",
    "import matplotlib.pyplot as plt\n",
    "from operator import itemgetter\n",
    "\n",
    "from helpfunction import CheckBorderFixed,CheckBorderTPC\n",
    "from sklearn.externals import joblib\n",
    "\n",
    "pd.options.display.max_columns = 999"
   ]
  },
  {
   "cell_type": "code",
   "execution_count": 15,
   "metadata": {
    "collapsed": true
   },
   "outputs": [],
   "source": [
    "# Fiducial volume borders in x,y,z:\n",
    "fid_arr= [[10,10],[20,20],[10,50]]\n",
    "\n",
    "min_dedx_hits=3"
   ]
  },
  {
   "cell_type": "code",
   "execution_count": 16,
   "metadata": {
    "collapsed": true
   },
   "outputs": [],
   "source": [
    "def shower_features(row):\n",
    "    x=row[\"shower_start_x\"]\n",
    "    y=row[\"shower_start_y\"]\n",
    "    z=row[\"shower_start_z\"]\n",
    "    vx=row[\"vx\"]\n",
    "    vy=row[\"vy\"]\n",
    "    vz=row[\"vz\"]\n",
    "    \n",
    "    shower_sh_daughter = True if row['shower_daughter']==1 else False\n",
    "    shower_tr_daughter = True if row['shower_daughter']==2 else False\n",
    "    shower_is_daughter = True if row['matched_showers']==0 else False\n",
    "    shower_vtx         = np.linalg.norm([x-vx,y-vy,z-vz])\n",
    "    \n",
    "    return { 'shower_sh_daughter':shower_sh_daughter,\n",
    "             'shower_tr_daughter':shower_tr_daughter,\n",
    "             'shower_is_daughter':shower_is_daughter,\n",
    "             'shower_vtx':shower_vtx,\n",
    "             }\n",
    "\n",
    "\n",
    "def track_features(row):  \n",
    "    x=row[\"track_start_x\"]\n",
    "    y=row[\"track_start_y\"]\n",
    "    z=row[\"track_start_z\"]\n",
    "    x_e=row[\"track_end_x\"]\n",
    "    y_e=row[\"track_end_y\"]\n",
    "    z_e=row[\"track_end_z\"]\n",
    "    vx=row[\"vx\"]\n",
    "    vy=row[\"vy\"]\n",
    "    vz=row[\"vz\"]\n",
    "    \n",
    "    track_length      = np.linalg.norm([x-x_e,y-y_e,z-z_e])\n",
    "    track_containment = CheckBorderFixed(x_e,y_e,z_e,tolerance=10) \n",
    "    track_sh_daughter = True if row['track_daughter']==1 else False\n",
    "    track_tr_daughter = True if row['track_daughter']==2 else False\n",
    "    track_is_daughter = True if row['matched_tracks']==0 else False\n",
    "    track_vtx         = np.linalg.norm([x-vx,y-vy,z-vz])\n",
    "    track_vtx_end     = np.linalg.norm([vx-x_e,vy-y_e,vz-z_e])\n",
    "    \n",
    "    return { 'track_length':track_length,\n",
    "             'track_containment':track_containment,\n",
    "             'track_sh_daughter':track_sh_daughter,\n",
    "             'track_tr_daughter':track_tr_daughter,\n",
    "             'track_is_daughter':track_is_daughter,\n",
    "             'track_vtx':track_vtx,\n",
    "             'track_vtx_end':track_vtx_end,\n",
    "                     }"
   ]
  },
  {
   "cell_type": "code",
   "execution_count": 17,
   "metadata": {
    "collapsed": true,
    "nbpresent": {
     "id": "df2ca4ac-5bf8-40a7-862f-34b40f3976c1"
    }
   },
   "outputs": [],
   "source": [
    "columns_req_shower = ['shower_dedx','shower_dedx_avg','shower_dedx_hits','shower_pca','shower_open_angle',\n",
    "                      'shower_start_x', 'shower_start_y','shower_start_z',\n",
    "                      'shower_length','shower_daughter',\n",
    "                      'matched_showers'#This is the label generationg category\n",
    "                     ]\n",
    "\n",
    "columns_req_track  = ['track_dedx','track_dedx_avg','track_dedx_hits','track_pca',\n",
    "                      'predict_em','predict_mu', 'predict_cos', 'predict_pi', 'predict_p',\n",
    "                      'track_start_x', 'track_start_y','track_start_z',\n",
    "                      'track_end_x', 'track_end_y', 'track_end_z','track_daughter',\n",
    "                      'matched_tracks'#This is the label generationg category\n",
    "                     ]\n",
    "\n",
    "columns_flat = ['vx','vy','vz',\n",
    "                'bnbweight','reconstructed_energy','flash_PE','flash_time',\n",
    "                #'true_vx_sce','true_vy_sce','true_vz_sce','nu_E','nu_pdg',\n",
    "                #'category','distance','CC_daughter_E',\n",
    "                'shower_containment_q','shower_sp_profile',\n",
    "                'subrun', 'run','shower_nhits','track_nhits'\n",
    "               ]\n",
    "\n",
    "columns_track_XGB = ['track_dedx', 'track_dedx_avg', 'track_dedx_hits', 'track_pca',\n",
    "                     'predict_em', 'predict_mu', 'predict_cos', 'predict_pi', 'predict_p',\n",
    "                     'track_containment', 'track_is_daughter', 'track_length',\n",
    "                     'track_sh_daughter', 'track_tr_daughter', 'track_vtx', 'track_vtx_end']\n",
    "\n",
    "columns_shower_XGB = [ 'shower_dedx', 'shower_dedx_avg', 'shower_dedx_hits', 'shower_pca',\n",
    "                       'shower_open_angle', 'shower_length', 'shower_containment_q',\n",
    "                       'shower_sp_profile', 'shower_is_daughter', 'shower_sh_daughter',\n",
    "                       'shower_tr_daughter', 'shower_vtx']\n",
    "\n",
    "\n",
    "columns_all = list(set(columns_req_shower) | set(columns_req_track))+columns_flat"
   ]
  },
  {
   "cell_type": "code",
   "execution_count": 19,
   "metadata": {
    "collapsed": false
   },
   "outputs": [
    {
     "ename": "KeyError",
     "evalue": "'matched_tracks'",
     "output_type": "error",
     "traceback": [
      "\u001b[0;31m---------------------------------------------------------------------------\u001b[0m",
      "\u001b[0;31mKeyError\u001b[0m                                  Traceback (most recent call last)",
      "\u001b[0;32m~/anaconda3/envs/mlenv/lib/python3.6/site-packages/pandas/core/indexes/base.py\u001b[0m in \u001b[0;36mget_loc\u001b[0;34m(self, key, method, tolerance)\u001b[0m\n\u001b[1;32m   2524\u001b[0m             \u001b[0;32mtry\u001b[0m\u001b[0;34m:\u001b[0m\u001b[0;34m\u001b[0m\u001b[0m\n\u001b[0;32m-> 2525\u001b[0;31m                 \u001b[0;32mreturn\u001b[0m \u001b[0mself\u001b[0m\u001b[0;34m.\u001b[0m\u001b[0m_engine\u001b[0m\u001b[0;34m.\u001b[0m\u001b[0mget_loc\u001b[0m\u001b[0;34m(\u001b[0m\u001b[0mkey\u001b[0m\u001b[0;34m)\u001b[0m\u001b[0;34m\u001b[0m\u001b[0m\n\u001b[0m\u001b[1;32m   2526\u001b[0m             \u001b[0;32mexcept\u001b[0m \u001b[0mKeyError\u001b[0m\u001b[0;34m:\u001b[0m\u001b[0;34m\u001b[0m\u001b[0m\n",
      "\u001b[0;32mpandas/_libs/index.pyx\u001b[0m in \u001b[0;36mpandas._libs.index.IndexEngine.get_loc\u001b[0;34m()\u001b[0m\n",
      "\u001b[0;32mpandas/_libs/index.pyx\u001b[0m in \u001b[0;36mpandas._libs.index.IndexEngine.get_loc\u001b[0;34m()\u001b[0m\n",
      "\u001b[0;32mpandas/_libs/hashtable_class_helper.pxi\u001b[0m in \u001b[0;36mpandas._libs.hashtable.PyObjectHashTable.get_item\u001b[0;34m()\u001b[0m\n",
      "\u001b[0;32mpandas/_libs/hashtable_class_helper.pxi\u001b[0m in \u001b[0;36mpandas._libs.hashtable.PyObjectHashTable.get_item\u001b[0;34m()\u001b[0m\n",
      "\u001b[0;31mKeyError\u001b[0m: 'matched_tracks'",
      "\nDuring handling of the above exception, another exception occurred:\n",
      "\u001b[0;31mKeyError\u001b[0m                                  Traceback (most recent call last)",
      "\u001b[0;32m<ipython-input-19-ac2bbe081f39>\u001b[0m in \u001b[0;36m<module>\u001b[0;34m()\u001b[0m\n\u001b[1;32m      1\u001b[0m \u001b[0mdf_sample\u001b[0m \u001b[0;34m=\u001b[0m \u001b[0mpd\u001b[0m\u001b[0;34m.\u001b[0m\u001b[0mread_pickle\u001b[0m\u001b[0;34m(\u001b[0m\u001b[0;34m'../Input/bnb/data_bnb.pckl'\u001b[0m\u001b[0;34m)\u001b[0m\u001b[0;34m\u001b[0m\u001b[0m\n\u001b[0;32m----> 2\u001b[0;31m \u001b[0mdf_sample\u001b[0m\u001b[0;34m[\u001b[0m\u001b[0;34m'matched_tracks'\u001b[0m\u001b[0;34m]\u001b[0m\u001b[0;34m.\u001b[0m\u001b[0mhead\u001b[0m\u001b[0;34m(\u001b[0m\u001b[0;34m)\u001b[0m\u001b[0;34m\u001b[0m\u001b[0m\n\u001b[0m",
      "\u001b[0;32m~/anaconda3/envs/mlenv/lib/python3.6/site-packages/pandas/core/frame.py\u001b[0m in \u001b[0;36m__getitem__\u001b[0;34m(self, key)\u001b[0m\n\u001b[1;32m   2137\u001b[0m             \u001b[0;32mreturn\u001b[0m \u001b[0mself\u001b[0m\u001b[0;34m.\u001b[0m\u001b[0m_getitem_multilevel\u001b[0m\u001b[0;34m(\u001b[0m\u001b[0mkey\u001b[0m\u001b[0;34m)\u001b[0m\u001b[0;34m\u001b[0m\u001b[0m\n\u001b[1;32m   2138\u001b[0m         \u001b[0;32melse\u001b[0m\u001b[0;34m:\u001b[0m\u001b[0;34m\u001b[0m\u001b[0m\n\u001b[0;32m-> 2139\u001b[0;31m             \u001b[0;32mreturn\u001b[0m \u001b[0mself\u001b[0m\u001b[0;34m.\u001b[0m\u001b[0m_getitem_column\u001b[0m\u001b[0;34m(\u001b[0m\u001b[0mkey\u001b[0m\u001b[0;34m)\u001b[0m\u001b[0;34m\u001b[0m\u001b[0m\n\u001b[0m\u001b[1;32m   2140\u001b[0m \u001b[0;34m\u001b[0m\u001b[0m\n\u001b[1;32m   2141\u001b[0m     \u001b[0;32mdef\u001b[0m \u001b[0m_getitem_column\u001b[0m\u001b[0;34m(\u001b[0m\u001b[0mself\u001b[0m\u001b[0;34m,\u001b[0m \u001b[0mkey\u001b[0m\u001b[0;34m)\u001b[0m\u001b[0;34m:\u001b[0m\u001b[0;34m\u001b[0m\u001b[0m\n",
      "\u001b[0;32m~/anaconda3/envs/mlenv/lib/python3.6/site-packages/pandas/core/frame.py\u001b[0m in \u001b[0;36m_getitem_column\u001b[0;34m(self, key)\u001b[0m\n\u001b[1;32m   2144\u001b[0m         \u001b[0;31m# get column\u001b[0m\u001b[0;34m\u001b[0m\u001b[0;34m\u001b[0m\u001b[0m\n\u001b[1;32m   2145\u001b[0m         \u001b[0;32mif\u001b[0m \u001b[0mself\u001b[0m\u001b[0;34m.\u001b[0m\u001b[0mcolumns\u001b[0m\u001b[0;34m.\u001b[0m\u001b[0mis_unique\u001b[0m\u001b[0;34m:\u001b[0m\u001b[0;34m\u001b[0m\u001b[0m\n\u001b[0;32m-> 2146\u001b[0;31m             \u001b[0;32mreturn\u001b[0m \u001b[0mself\u001b[0m\u001b[0;34m.\u001b[0m\u001b[0m_get_item_cache\u001b[0m\u001b[0;34m(\u001b[0m\u001b[0mkey\u001b[0m\u001b[0;34m)\u001b[0m\u001b[0;34m\u001b[0m\u001b[0m\n\u001b[0m\u001b[1;32m   2147\u001b[0m \u001b[0;34m\u001b[0m\u001b[0m\n\u001b[1;32m   2148\u001b[0m         \u001b[0;31m# duplicate columns & possible reduce dimensionality\u001b[0m\u001b[0;34m\u001b[0m\u001b[0;34m\u001b[0m\u001b[0m\n",
      "\u001b[0;32m~/anaconda3/envs/mlenv/lib/python3.6/site-packages/pandas/core/generic.py\u001b[0m in \u001b[0;36m_get_item_cache\u001b[0;34m(self, item)\u001b[0m\n\u001b[1;32m   1840\u001b[0m         \u001b[0mres\u001b[0m \u001b[0;34m=\u001b[0m \u001b[0mcache\u001b[0m\u001b[0;34m.\u001b[0m\u001b[0mget\u001b[0m\u001b[0;34m(\u001b[0m\u001b[0mitem\u001b[0m\u001b[0;34m)\u001b[0m\u001b[0;34m\u001b[0m\u001b[0m\n\u001b[1;32m   1841\u001b[0m         \u001b[0;32mif\u001b[0m \u001b[0mres\u001b[0m \u001b[0;32mis\u001b[0m \u001b[0;32mNone\u001b[0m\u001b[0;34m:\u001b[0m\u001b[0;34m\u001b[0m\u001b[0m\n\u001b[0;32m-> 1842\u001b[0;31m             \u001b[0mvalues\u001b[0m \u001b[0;34m=\u001b[0m \u001b[0mself\u001b[0m\u001b[0;34m.\u001b[0m\u001b[0m_data\u001b[0m\u001b[0;34m.\u001b[0m\u001b[0mget\u001b[0m\u001b[0;34m(\u001b[0m\u001b[0mitem\u001b[0m\u001b[0;34m)\u001b[0m\u001b[0;34m\u001b[0m\u001b[0m\n\u001b[0m\u001b[1;32m   1843\u001b[0m             \u001b[0mres\u001b[0m \u001b[0;34m=\u001b[0m \u001b[0mself\u001b[0m\u001b[0;34m.\u001b[0m\u001b[0m_box_item_values\u001b[0m\u001b[0;34m(\u001b[0m\u001b[0mitem\u001b[0m\u001b[0;34m,\u001b[0m \u001b[0mvalues\u001b[0m\u001b[0;34m)\u001b[0m\u001b[0;34m\u001b[0m\u001b[0m\n\u001b[1;32m   1844\u001b[0m             \u001b[0mcache\u001b[0m\u001b[0;34m[\u001b[0m\u001b[0mitem\u001b[0m\u001b[0;34m]\u001b[0m \u001b[0;34m=\u001b[0m \u001b[0mres\u001b[0m\u001b[0;34m\u001b[0m\u001b[0m\n",
      "\u001b[0;32m~/anaconda3/envs/mlenv/lib/python3.6/site-packages/pandas/core/internals.py\u001b[0m in \u001b[0;36mget\u001b[0;34m(self, item, fastpath)\u001b[0m\n\u001b[1;32m   3841\u001b[0m \u001b[0;34m\u001b[0m\u001b[0m\n\u001b[1;32m   3842\u001b[0m             \u001b[0;32mif\u001b[0m \u001b[0;32mnot\u001b[0m \u001b[0misna\u001b[0m\u001b[0;34m(\u001b[0m\u001b[0mitem\u001b[0m\u001b[0;34m)\u001b[0m\u001b[0;34m:\u001b[0m\u001b[0;34m\u001b[0m\u001b[0m\n\u001b[0;32m-> 3843\u001b[0;31m                 \u001b[0mloc\u001b[0m \u001b[0;34m=\u001b[0m \u001b[0mself\u001b[0m\u001b[0;34m.\u001b[0m\u001b[0mitems\u001b[0m\u001b[0;34m.\u001b[0m\u001b[0mget_loc\u001b[0m\u001b[0;34m(\u001b[0m\u001b[0mitem\u001b[0m\u001b[0;34m)\u001b[0m\u001b[0;34m\u001b[0m\u001b[0m\n\u001b[0m\u001b[1;32m   3844\u001b[0m             \u001b[0;32melse\u001b[0m\u001b[0;34m:\u001b[0m\u001b[0;34m\u001b[0m\u001b[0m\n\u001b[1;32m   3845\u001b[0m                 \u001b[0mindexer\u001b[0m \u001b[0;34m=\u001b[0m \u001b[0mnp\u001b[0m\u001b[0;34m.\u001b[0m\u001b[0marange\u001b[0m\u001b[0;34m(\u001b[0m\u001b[0mlen\u001b[0m\u001b[0;34m(\u001b[0m\u001b[0mself\u001b[0m\u001b[0;34m.\u001b[0m\u001b[0mitems\u001b[0m\u001b[0;34m)\u001b[0m\u001b[0;34m)\u001b[0m\u001b[0;34m[\u001b[0m\u001b[0misna\u001b[0m\u001b[0;34m(\u001b[0m\u001b[0mself\u001b[0m\u001b[0;34m.\u001b[0m\u001b[0mitems\u001b[0m\u001b[0;34m)\u001b[0m\u001b[0;34m]\u001b[0m\u001b[0;34m\u001b[0m\u001b[0m\n",
      "\u001b[0;32m~/anaconda3/envs/mlenv/lib/python3.6/site-packages/pandas/core/indexes/base.py\u001b[0m in \u001b[0;36mget_loc\u001b[0;34m(self, key, method, tolerance)\u001b[0m\n\u001b[1;32m   2525\u001b[0m                 \u001b[0;32mreturn\u001b[0m \u001b[0mself\u001b[0m\u001b[0;34m.\u001b[0m\u001b[0m_engine\u001b[0m\u001b[0;34m.\u001b[0m\u001b[0mget_loc\u001b[0m\u001b[0;34m(\u001b[0m\u001b[0mkey\u001b[0m\u001b[0;34m)\u001b[0m\u001b[0;34m\u001b[0m\u001b[0m\n\u001b[1;32m   2526\u001b[0m             \u001b[0;32mexcept\u001b[0m \u001b[0mKeyError\u001b[0m\u001b[0;34m:\u001b[0m\u001b[0;34m\u001b[0m\u001b[0m\n\u001b[0;32m-> 2527\u001b[0;31m                 \u001b[0;32mreturn\u001b[0m \u001b[0mself\u001b[0m\u001b[0;34m.\u001b[0m\u001b[0m_engine\u001b[0m\u001b[0;34m.\u001b[0m\u001b[0mget_loc\u001b[0m\u001b[0;34m(\u001b[0m\u001b[0mself\u001b[0m\u001b[0;34m.\u001b[0m\u001b[0m_maybe_cast_indexer\u001b[0m\u001b[0;34m(\u001b[0m\u001b[0mkey\u001b[0m\u001b[0;34m)\u001b[0m\u001b[0;34m)\u001b[0m\u001b[0;34m\u001b[0m\u001b[0m\n\u001b[0m\u001b[1;32m   2528\u001b[0m \u001b[0;34m\u001b[0m\u001b[0m\n\u001b[1;32m   2529\u001b[0m         \u001b[0mindexer\u001b[0m \u001b[0;34m=\u001b[0m \u001b[0mself\u001b[0m\u001b[0;34m.\u001b[0m\u001b[0mget_indexer\u001b[0m\u001b[0;34m(\u001b[0m\u001b[0;34m[\u001b[0m\u001b[0mkey\u001b[0m\u001b[0;34m]\u001b[0m\u001b[0;34m,\u001b[0m \u001b[0mmethod\u001b[0m\u001b[0;34m=\u001b[0m\u001b[0mmethod\u001b[0m\u001b[0;34m,\u001b[0m \u001b[0mtolerance\u001b[0m\u001b[0;34m=\u001b[0m\u001b[0mtolerance\u001b[0m\u001b[0;34m)\u001b[0m\u001b[0;34m\u001b[0m\u001b[0m\n",
      "\u001b[0;32mpandas/_libs/index.pyx\u001b[0m in \u001b[0;36mpandas._libs.index.IndexEngine.get_loc\u001b[0;34m()\u001b[0m\n",
      "\u001b[0;32mpandas/_libs/index.pyx\u001b[0m in \u001b[0;36mpandas._libs.index.IndexEngine.get_loc\u001b[0;34m()\u001b[0m\n",
      "\u001b[0;32mpandas/_libs/hashtable_class_helper.pxi\u001b[0m in \u001b[0;36mpandas._libs.hashtable.PyObjectHashTable.get_item\u001b[0;34m()\u001b[0m\n",
      "\u001b[0;32mpandas/_libs/hashtable_class_helper.pxi\u001b[0m in \u001b[0;36mpandas._libs.hashtable.PyObjectHashTable.get_item\u001b[0;34m()\u001b[0m\n",
      "\u001b[0;31mKeyError\u001b[0m: 'matched_tracks'"
     ]
    }
   ],
   "source": [
    "df_sample = pd.read_pickle('../Input/bnb/data_bnb.pckl')\n",
    "df_sample['matched_tracks'].head()"
   ]
  },
  {
   "cell_type": "code",
   "execution_count": 5,
   "metadata": {
    "collapsed": true,
    "nbpresent": {
     "id": "a09d9f71-9152-4cc6-8af9-47f71965cda8"
    }
   },
   "outputs": [],
   "source": [
    "sample_list = ['../Input/nue/nue_3.pckl','../Input/nue/nue_4.pckl','../Input/nue/nue_5.pckl']\n",
    "sample_list = ['../Input/nu/nu_3.pckl','../Input/nu/nu_4.pckl','../Input/nu/nu_5.pckl']\n",
    "\n",
    "sample_list = ['../Input/nu/nu_6.pckl']"
   ]
  },
  {
   "cell_type": "code",
   "execution_count": 6,
   "metadata": {
    "collapsed": false
   },
   "outputs": [
    {
     "name": "stdout",
     "output_type": "stream",
     "text": [
      "['track_end_y', 'track_start_y', 'track_end_x', 'track_start_x', 'track_dedx', 'shower_start_y', 'shower_dedx_hits', 'predict_cos', 'predict_pi', 'shower_start_x', 'predict_p', 'track_daughter', 'shower_length', 'predict_em', 'track_dedx_hits', 'predict_mu', 'shower_daughter', 'track_end_z', 'shower_dedx_avg', 'shower_pca', 'track_start_z', 'shower_start_z', 'track_pca', 'shower_open_angle', 'shower_dedx', 'track_dedx_avg', 'vx', 'vy', 'vz', 'bnbweight', 'reconstructed_energy', 'flash_PE', 'flash_time', 'shower_containment_q', 'shower_sp_profile', 'subrun', 'run', 'shower_nhits', 'track_nhits']\n"
     ]
    }
   ],
   "source": [
    "print(columns_all)"
   ]
  },
  {
   "cell_type": "code",
   "execution_count": 7,
   "metadata": {
    "collapsed": true,
    "nbpresent": {
     "id": "e9d0554c-2916-4c8d-a36d-4a8f13aa44c6"
    }
   },
   "outputs": [],
   "source": [
    "model_sh_e  = joblib.load('../Input/XGBoost/model_sh_e.pkl')\n",
    "model_sh_cle  = joblib.load('../Input/XGBoost/model_sh_cle.pkl')\n",
    "model_sh_mu = joblib.load('../Input/XGBoost/model_sh_mu.pkl')\n",
    "\n",
    "model_tr_e  = joblib.load('../Input/XGBoost/model_tr_e.pkl')\n",
    "model_tr_cle  = joblib.load('../Input/XGBoost/model_tr_cle.pkl')\n",
    "model_tr_mu = joblib.load('../Input/XGBoost/model_tr_mu.pkl')"
   ]
  },
  {
   "cell_type": "code",
   "execution_count": 8,
   "metadata": {
    "collapsed": true
   },
   "outputs": [],
   "source": [
    "def XGBoostClassification(row):\n",
    "    tr_e, tr_cle, tr_mu = [],[],[]\n",
    "    sh_e, sh_cle, sh_mu = [],[],[]\n",
    "    if row['fidvol']:\n",
    "        if len(row['track_end_y']) > 0:\n",
    "            tr_e ,tr_cle, tr_mu = TrackClassification(row)\n",
    "        sh_e, sh_cle, sh_mu = ShowerClassification(row)\n",
    "    \n",
    "    return pd.Series({\n",
    "        'track_electron_score': tr_e,\n",
    "        'track_closest_electron_score': tr_cle,\n",
    "        'track_muon_score': tr_mu,\n",
    "        'shower_electron_score': sh_e,\n",
    "        'shower_closest_electron_score': sh_cle,\n",
    "        'shower_muon_score': sh_mu,\n",
    "    })\n",
    "    \n",
    "    \n",
    "def TrackClassification(row):\n",
    "    pred_tr_e = []\n",
    "    pred_tr_mu = []\n",
    "    pred_tr_cle= []\n",
    "    XGB_input = np.zeros([sum(row['track_dedx_hits']>=min_dedx_hits),len(columns_track_XGB)])\n",
    "    \n",
    "    tr_ok=0\n",
    "    for tr in range(len(row['track_end_y'])):\n",
    "        if row['track_dedx_hits'][tr]>=min_dedx_hits:\n",
    "            d_tr={}\n",
    "            for field in columns_req_track:\n",
    "                d_tr[field]=row[field][tr]\n",
    "            for field in ['vx','vy','vz']:\n",
    "                d_tr[field]=row[field]\n",
    "            d_tr = {**d_tr,**track_features(d_tr)}\n",
    "            \n",
    "            XGB_input[tr_ok] = np.asarray(itemgetter(*columns_track_XGB)(d_tr))\n",
    "            tr_ok+=1\n",
    "            \n",
    "        pred_tr_e = model_tr_e.predict_proba( XGB_input )[:,1] \n",
    "        pred_tr_cle = model_tr_cle.predict_proba( XGB_input )[:,1]\n",
    "        pred_tr_mu = model_tr_mu.predict_proba( XGB_input)[:,1]  \n",
    "        \n",
    "    return pred_tr_e, pred_tr_cle, pred_tr_mu\n",
    "    \n",
    "    \n",
    "def ShowerClassification(row):\n",
    "    pred_sh_e = []\n",
    "    pred_sh_mu = []\n",
    "    pred_sh_cle = []\n",
    "    \n",
    "    XGB_input = np.zeros([sum(row['shower_dedx_hits']>=min_dedx_hits),len(columns_shower_XGB)])\n",
    "    \n",
    "    sh_ok=0\n",
    "    for sh in range(len(row['matched_showers'])):\n",
    "        if row['shower_dedx_hits'][sh]>=min_dedx_hits:\n",
    "            d_sh={}\n",
    "            for field in columns_req_shower:\n",
    "                d_sh[field]=row[field][sh]\n",
    "            for field in ['vx','vy','vz','shower_containment_q','shower_sp_profile']:\n",
    "                d_sh[field]=row[field]\n",
    "            d_sh = {**d_sh,**shower_features(d_sh)}  \n",
    "\n",
    "            XGB_input[sh_ok] = np.asarray( itemgetter(*columns_shower_XGB)(d_sh)) \n",
    "            sh_ok+=1\n",
    "        \n",
    "    pred_sh_e =  model_sh_e.predict_proba( XGB_input )[:,1] \n",
    "    pred_sh_cle =  model_sh_cle.predict_proba( XGB_input )[:,1] \n",
    "    pred_sh_mu=  model_sh_mu.predict_proba( XGB_input )[:,1] \n",
    "        \n",
    "    return pred_sh_e, pred_sh_cle, pred_sh_mu"
   ]
  },
  {
   "cell_type": "code",
   "execution_count": 9,
   "metadata": {
    "collapsed": true
   },
   "outputs": [],
   "source": [
    "columns_final = ['vx','vy','vz','event', 'subrun', 'run','shower_nhits','track_nhits',\n",
    "                 'bnbweight','reconstructed_energy','flash_PE','flash_time',\n",
    "                 #'true_vx_sce','true_vy_sce','true_vz_sce','nu_E','nu_pdg',\n",
    "                 #'category','distance','CC_daughter_E','true_fidvol',\n",
    "                 'shower_containment_q','shower_sp_profile',\n",
    "                 'shower_electron_score','track_muon_score','shower_muon_score','track_electron_score',\n",
    "                 'track_closest_electron_score','shower_closest_electron_score','fidvol'\n",
    "                ]"
   ]
  },
  {
   "cell_type": "code",
   "execution_count": 10,
   "metadata": {
    "collapsed": false,
    "nbpresent": {
     "id": "46d9e399-5601-443f-ab61-291d7bde164c"
    }
   },
   "outputs": [
    {
     "name": "stdout",
     "output_type": "stream",
     "text": [
      "Index(['event', 'subrun', 'run', 'nu_pdg', 'nu_E', 'true_vx_sce',\n",
      "       'true_vy_sce', 'true_vz_sce', 'distance', 'category', 'vx', 'vy', 'vz',\n",
      "       'bnbweight', 'passed', 'shower_open_angle', 'shower_length',\n",
      "       'shower_start_x', 'shower_start_y', 'shower_start_z', 'shower_dir_x',\n",
      "       'shower_dir_y', 'shower_dir_z', 'shower_pca', 'track_start_x',\n",
      "       'track_start_y', 'track_start_z', 'track_end_x', 'track_end_y',\n",
      "       'track_end_z', 'track_dir_x', 'track_dir_y', 'track_dir_z', 'track_pca',\n",
      "       'predict_em', 'predict_mu', 'predict_cos', 'predict_pi', 'predict_p',\n",
      "       'nu_daughters_pdg', 'nu_daughters_E', 'nu_daughters_px',\n",
      "       'nu_daughters_py', 'nu_daughters_pz', 'nu_daughters_endx',\n",
      "       'nu_daughters_endy', 'nu_daughters_endz', 'true_shower_pdg',\n",
      "       'true_shower_x_sce', 'true_shower_y_sce', 'true_shower_z_sce',\n",
      "       'true_shower_depE', 'shower_daughter', 'track_daughter',\n",
      "       'shower_containment_q', 'shower_sp_profile', 'reconstructed_energy',\n",
      "       'shower_energy', 'shower_nhits', 'total_nhits', 'track_energy',\n",
      "       'track_nhits', 'shower_dedx', 'shower_dedx_avg', 'shower_dedx_hits',\n",
      "       'track_dedx', 'track_dedx_avg', 'track_dedx_hits', 'flash_PE',\n",
      "       'flash_time'],\n",
      "      dtype='object')\n",
      "10\n"
     ]
    },
    {
     "ename": "KeyError",
     "evalue": "('matched_tracks', 'occurred at index 0')",
     "output_type": "error",
     "traceback": [
      "\u001b[0;31m---------------------------------------------------------------------------\u001b[0m",
      "\u001b[0;31mKeyError\u001b[0m                                  Traceback (most recent call last)",
      "\u001b[0;32m<ipython-input-10-f20d194b1247>\u001b[0m in \u001b[0;36m<module>\u001b[0;34m()\u001b[0m\n\u001b[1;32m     10\u001b[0m     \u001b[0;31m#df_sample['true_fidvol'] =df_sample.apply(lambda row: CheckBorderTPC(row['true_vx_sce'],row['true_vy_sce'],row['true_vz_sce'],fid_arr) ,axis=1)\u001b[0m\u001b[0;34m\u001b[0m\u001b[0;34m\u001b[0m\u001b[0m\n\u001b[1;32m     11\u001b[0m     \u001b[0mdf_sample\u001b[0m\u001b[0;34m[\u001b[0m\u001b[0;34m'fidvol'\u001b[0m\u001b[0;34m]\u001b[0m \u001b[0;34m=\u001b[0m\u001b[0mdf_sample\u001b[0m\u001b[0;34m.\u001b[0m\u001b[0mapply\u001b[0m\u001b[0;34m(\u001b[0m\u001b[0;32mlambda\u001b[0m \u001b[0mrow\u001b[0m\u001b[0;34m:\u001b[0m \u001b[0mCheckBorderTPC\u001b[0m\u001b[0;34m(\u001b[0m\u001b[0mrow\u001b[0m\u001b[0;34m[\u001b[0m\u001b[0;34m'vx'\u001b[0m\u001b[0;34m]\u001b[0m\u001b[0;34m,\u001b[0m\u001b[0mrow\u001b[0m\u001b[0;34m[\u001b[0m\u001b[0;34m'vy'\u001b[0m\u001b[0;34m]\u001b[0m\u001b[0;34m,\u001b[0m\u001b[0mrow\u001b[0m\u001b[0;34m[\u001b[0m\u001b[0;34m'vz'\u001b[0m\u001b[0;34m]\u001b[0m\u001b[0;34m,\u001b[0m\u001b[0mfid_arr\u001b[0m\u001b[0;34m)\u001b[0m \u001b[0;34m,\u001b[0m\u001b[0maxis\u001b[0m\u001b[0;34m=\u001b[0m\u001b[0;36m1\u001b[0m\u001b[0;34m)\u001b[0m\u001b[0;34m\u001b[0m\u001b[0m\n\u001b[0;32m---> 12\u001b[0;31m     \u001b[0mdf_sample\u001b[0m \u001b[0;34m=\u001b[0m \u001b[0mpd\u001b[0m\u001b[0;34m.\u001b[0m\u001b[0mconcat\u001b[0m\u001b[0;34m(\u001b[0m\u001b[0;34m[\u001b[0m\u001b[0mdf_sample\u001b[0m\u001b[0;34m,\u001b[0m \u001b[0mdf_sample\u001b[0m\u001b[0;34m.\u001b[0m\u001b[0mapply\u001b[0m\u001b[0;34m(\u001b[0m\u001b[0mXGBoostClassification\u001b[0m\u001b[0;34m,\u001b[0m\u001b[0maxis\u001b[0m\u001b[0;34m=\u001b[0m\u001b[0;36m1\u001b[0m\u001b[0;34m)\u001b[0m\u001b[0;34m]\u001b[0m\u001b[0;34m,\u001b[0m \u001b[0maxis\u001b[0m\u001b[0;34m=\u001b[0m\u001b[0;36m1\u001b[0m\u001b[0;34m)\u001b[0m\u001b[0;34m\u001b[0m\u001b[0m\n\u001b[0m\u001b[1;32m     13\u001b[0m     \u001b[0mdf_sample\u001b[0m \u001b[0;34m=\u001b[0m \u001b[0mdf_sample\u001b[0m\u001b[0;34m[\u001b[0m\u001b[0mcolumns_final\u001b[0m\u001b[0;34m]\u001b[0m\u001b[0;34m\u001b[0m\u001b[0m\n\u001b[1;32m     14\u001b[0m     \u001b[0mdf_joined\u001b[0m \u001b[0;34m=\u001b[0m \u001b[0mpd\u001b[0m\u001b[0;34m.\u001b[0m\u001b[0mconcat\u001b[0m\u001b[0;34m(\u001b[0m\u001b[0;34m[\u001b[0m\u001b[0mdf_joined\u001b[0m\u001b[0;34m,\u001b[0m\u001b[0mdf_sample\u001b[0m\u001b[0;34m]\u001b[0m\u001b[0;34m,\u001b[0m\u001b[0mignore_index\u001b[0m\u001b[0;34m=\u001b[0m\u001b[0;32mTrue\u001b[0m\u001b[0;34m,\u001b[0m\u001b[0mcopy\u001b[0m\u001b[0;34m=\u001b[0m\u001b[0;32mFalse\u001b[0m\u001b[0;34m)\u001b[0m\u001b[0;34m\u001b[0m\u001b[0m\n",
      "\u001b[0;32m~/anaconda3/envs/mlenv/lib/python3.6/site-packages/pandas/core/frame.py\u001b[0m in \u001b[0;36mapply\u001b[0;34m(self, func, axis, broadcast, raw, reduce, args, **kwds)\u001b[0m\n\u001b[1;32m   4875\u001b[0m                         \u001b[0mf\u001b[0m\u001b[0;34m,\u001b[0m \u001b[0maxis\u001b[0m\u001b[0;34m,\u001b[0m\u001b[0;34m\u001b[0m\u001b[0m\n\u001b[1;32m   4876\u001b[0m                         \u001b[0mreduce\u001b[0m\u001b[0;34m=\u001b[0m\u001b[0mreduce\u001b[0m\u001b[0;34m,\u001b[0m\u001b[0;34m\u001b[0m\u001b[0m\n\u001b[0;32m-> 4877\u001b[0;31m                         ignore_failures=ignore_failures)\n\u001b[0m\u001b[1;32m   4878\u001b[0m             \u001b[0;32melse\u001b[0m\u001b[0;34m:\u001b[0m\u001b[0;34m\u001b[0m\u001b[0m\n\u001b[1;32m   4879\u001b[0m                 \u001b[0;32mreturn\u001b[0m \u001b[0mself\u001b[0m\u001b[0;34m.\u001b[0m\u001b[0m_apply_broadcast\u001b[0m\u001b[0;34m(\u001b[0m\u001b[0mf\u001b[0m\u001b[0;34m,\u001b[0m \u001b[0maxis\u001b[0m\u001b[0;34m)\u001b[0m\u001b[0;34m\u001b[0m\u001b[0m\n",
      "\u001b[0;32m~/anaconda3/envs/mlenv/lib/python3.6/site-packages/pandas/core/frame.py\u001b[0m in \u001b[0;36m_apply_standard\u001b[0;34m(self, func, axis, ignore_failures, reduce)\u001b[0m\n\u001b[1;32m   4971\u001b[0m             \u001b[0;32mtry\u001b[0m\u001b[0;34m:\u001b[0m\u001b[0;34m\u001b[0m\u001b[0m\n\u001b[1;32m   4972\u001b[0m                 \u001b[0;32mfor\u001b[0m \u001b[0mi\u001b[0m\u001b[0;34m,\u001b[0m \u001b[0mv\u001b[0m \u001b[0;32min\u001b[0m \u001b[0menumerate\u001b[0m\u001b[0;34m(\u001b[0m\u001b[0mseries_gen\u001b[0m\u001b[0;34m)\u001b[0m\u001b[0;34m:\u001b[0m\u001b[0;34m\u001b[0m\u001b[0m\n\u001b[0;32m-> 4973\u001b[0;31m                     \u001b[0mresults\u001b[0m\u001b[0;34m[\u001b[0m\u001b[0mi\u001b[0m\u001b[0;34m]\u001b[0m \u001b[0;34m=\u001b[0m \u001b[0mfunc\u001b[0m\u001b[0;34m(\u001b[0m\u001b[0mv\u001b[0m\u001b[0;34m)\u001b[0m\u001b[0;34m\u001b[0m\u001b[0m\n\u001b[0m\u001b[1;32m   4974\u001b[0m                     \u001b[0mkeys\u001b[0m\u001b[0;34m.\u001b[0m\u001b[0mappend\u001b[0m\u001b[0;34m(\u001b[0m\u001b[0mv\u001b[0m\u001b[0;34m.\u001b[0m\u001b[0mname\u001b[0m\u001b[0;34m)\u001b[0m\u001b[0;34m\u001b[0m\u001b[0m\n\u001b[1;32m   4975\u001b[0m             \u001b[0;32mexcept\u001b[0m \u001b[0mException\u001b[0m \u001b[0;32mas\u001b[0m \u001b[0me\u001b[0m\u001b[0;34m:\u001b[0m\u001b[0;34m\u001b[0m\u001b[0m\n",
      "\u001b[0;32m<ipython-input-8-8fd871d4fdf9>\u001b[0m in \u001b[0;36mXGBoostClassification\u001b[0;34m(row)\u001b[0m\n\u001b[1;32m      4\u001b[0m     \u001b[0;32mif\u001b[0m \u001b[0mrow\u001b[0m\u001b[0;34m[\u001b[0m\u001b[0;34m'fidvol'\u001b[0m\u001b[0;34m]\u001b[0m\u001b[0;34m:\u001b[0m\u001b[0;34m\u001b[0m\u001b[0m\n\u001b[1;32m      5\u001b[0m         \u001b[0;32mif\u001b[0m \u001b[0mlen\u001b[0m\u001b[0;34m(\u001b[0m\u001b[0mrow\u001b[0m\u001b[0;34m[\u001b[0m\u001b[0;34m'track_end_y'\u001b[0m\u001b[0;34m]\u001b[0m\u001b[0;34m)\u001b[0m \u001b[0;34m>\u001b[0m \u001b[0;36m0\u001b[0m\u001b[0;34m:\u001b[0m\u001b[0;34m\u001b[0m\u001b[0m\n\u001b[0;32m----> 6\u001b[0;31m             \u001b[0mtr_e\u001b[0m \u001b[0;34m,\u001b[0m\u001b[0mtr_cle\u001b[0m\u001b[0;34m,\u001b[0m \u001b[0mtr_mu\u001b[0m \u001b[0;34m=\u001b[0m \u001b[0mTrackClassification\u001b[0m\u001b[0;34m(\u001b[0m\u001b[0mrow\u001b[0m\u001b[0;34m)\u001b[0m\u001b[0;34m\u001b[0m\u001b[0m\n\u001b[0m\u001b[1;32m      7\u001b[0m         \u001b[0msh_e\u001b[0m\u001b[0;34m,\u001b[0m \u001b[0msh_cle\u001b[0m\u001b[0;34m,\u001b[0m \u001b[0msh_mu\u001b[0m \u001b[0;34m=\u001b[0m \u001b[0mShowerClassification\u001b[0m\u001b[0;34m(\u001b[0m\u001b[0mrow\u001b[0m\u001b[0;34m)\u001b[0m\u001b[0;34m\u001b[0m\u001b[0m\n\u001b[1;32m      8\u001b[0m \u001b[0;34m\u001b[0m\u001b[0m\n",
      "\u001b[0;32m<ipython-input-8-8fd871d4fdf9>\u001b[0m in \u001b[0;36mTrackClassification\u001b[0;34m(row)\u001b[0m\n\u001b[1;32m     31\u001b[0m             \u001b[0;32mfor\u001b[0m \u001b[0mfield\u001b[0m \u001b[0;32min\u001b[0m \u001b[0;34m[\u001b[0m\u001b[0;34m'vx'\u001b[0m\u001b[0;34m,\u001b[0m\u001b[0;34m'vy'\u001b[0m\u001b[0;34m,\u001b[0m\u001b[0;34m'vz'\u001b[0m\u001b[0;34m]\u001b[0m\u001b[0;34m:\u001b[0m\u001b[0;34m\u001b[0m\u001b[0m\n\u001b[1;32m     32\u001b[0m                 \u001b[0md_tr\u001b[0m\u001b[0;34m[\u001b[0m\u001b[0mfield\u001b[0m\u001b[0;34m]\u001b[0m\u001b[0;34m=\u001b[0m\u001b[0mrow\u001b[0m\u001b[0;34m[\u001b[0m\u001b[0mfield\u001b[0m\u001b[0;34m]\u001b[0m\u001b[0;34m\u001b[0m\u001b[0m\n\u001b[0;32m---> 33\u001b[0;31m             \u001b[0md_tr\u001b[0m \u001b[0;34m=\u001b[0m \u001b[0;34m{\u001b[0m\u001b[0;34m**\u001b[0m\u001b[0md_tr\u001b[0m\u001b[0;34m,\u001b[0m\u001b[0;34m**\u001b[0m\u001b[0mtrack_features\u001b[0m\u001b[0;34m(\u001b[0m\u001b[0md_tr\u001b[0m\u001b[0;34m)\u001b[0m\u001b[0;34m}\u001b[0m\u001b[0;34m\u001b[0m\u001b[0m\n\u001b[0m\u001b[1;32m     34\u001b[0m \u001b[0;34m\u001b[0m\u001b[0m\n\u001b[1;32m     35\u001b[0m             \u001b[0mXGB_input\u001b[0m\u001b[0;34m[\u001b[0m\u001b[0mtr_ok\u001b[0m\u001b[0;34m]\u001b[0m \u001b[0;34m=\u001b[0m \u001b[0mnp\u001b[0m\u001b[0;34m.\u001b[0m\u001b[0masarray\u001b[0m\u001b[0;34m(\u001b[0m\u001b[0mitemgetter\u001b[0m\u001b[0;34m(\u001b[0m\u001b[0;34m*\u001b[0m\u001b[0mcolumns_track_XGB\u001b[0m\u001b[0;34m)\u001b[0m\u001b[0;34m(\u001b[0m\u001b[0md_tr\u001b[0m\u001b[0;34m)\u001b[0m\u001b[0;34m)\u001b[0m\u001b[0;34m\u001b[0m\u001b[0m\n",
      "\u001b[0;32m<ipython-input-3-ec51dc74954b>\u001b[0m in \u001b[0;36mtrack_features\u001b[0;34m(row)\u001b[0m\n\u001b[1;32m     34\u001b[0m     \u001b[0mtrack_sh_daughter\u001b[0m \u001b[0;34m=\u001b[0m \u001b[0;32mTrue\u001b[0m \u001b[0;32mif\u001b[0m \u001b[0mrow\u001b[0m\u001b[0;34m[\u001b[0m\u001b[0;34m'track_daughter'\u001b[0m\u001b[0;34m]\u001b[0m\u001b[0;34m==\u001b[0m\u001b[0;36m1\u001b[0m \u001b[0;32melse\u001b[0m \u001b[0;32mFalse\u001b[0m\u001b[0;34m\u001b[0m\u001b[0m\n\u001b[1;32m     35\u001b[0m     \u001b[0mtrack_tr_daughter\u001b[0m \u001b[0;34m=\u001b[0m \u001b[0;32mTrue\u001b[0m \u001b[0;32mif\u001b[0m \u001b[0mrow\u001b[0m\u001b[0;34m[\u001b[0m\u001b[0;34m'track_daughter'\u001b[0m\u001b[0;34m]\u001b[0m\u001b[0;34m==\u001b[0m\u001b[0;36m2\u001b[0m \u001b[0;32melse\u001b[0m \u001b[0;32mFalse\u001b[0m\u001b[0;34m\u001b[0m\u001b[0m\n\u001b[0;32m---> 36\u001b[0;31m     \u001b[0mtrack_is_daughter\u001b[0m \u001b[0;34m=\u001b[0m \u001b[0;32mTrue\u001b[0m \u001b[0;32mif\u001b[0m \u001b[0mrow\u001b[0m\u001b[0;34m[\u001b[0m\u001b[0;34m'matched_tracks'\u001b[0m\u001b[0;34m]\u001b[0m\u001b[0;34m==\u001b[0m\u001b[0;36m0\u001b[0m \u001b[0;32melse\u001b[0m \u001b[0;32mFalse\u001b[0m\u001b[0;34m\u001b[0m\u001b[0m\n\u001b[0m\u001b[1;32m     37\u001b[0m     \u001b[0mtrack_vtx\u001b[0m         \u001b[0;34m=\u001b[0m \u001b[0mnp\u001b[0m\u001b[0;34m.\u001b[0m\u001b[0mlinalg\u001b[0m\u001b[0;34m.\u001b[0m\u001b[0mnorm\u001b[0m\u001b[0;34m(\u001b[0m\u001b[0;34m[\u001b[0m\u001b[0mx\u001b[0m\u001b[0;34m-\u001b[0m\u001b[0mvx\u001b[0m\u001b[0;34m,\u001b[0m\u001b[0my\u001b[0m\u001b[0;34m-\u001b[0m\u001b[0mvy\u001b[0m\u001b[0;34m,\u001b[0m\u001b[0mz\u001b[0m\u001b[0;34m-\u001b[0m\u001b[0mvz\u001b[0m\u001b[0;34m]\u001b[0m\u001b[0;34m)\u001b[0m\u001b[0;34m\u001b[0m\u001b[0m\n\u001b[1;32m     38\u001b[0m     \u001b[0mtrack_vtx_end\u001b[0m     \u001b[0;34m=\u001b[0m \u001b[0mnp\u001b[0m\u001b[0;34m.\u001b[0m\u001b[0mlinalg\u001b[0m\u001b[0;34m.\u001b[0m\u001b[0mnorm\u001b[0m\u001b[0;34m(\u001b[0m\u001b[0;34m[\u001b[0m\u001b[0mvx\u001b[0m\u001b[0;34m-\u001b[0m\u001b[0mx_e\u001b[0m\u001b[0;34m,\u001b[0m\u001b[0mvy\u001b[0m\u001b[0;34m-\u001b[0m\u001b[0my_e\u001b[0m\u001b[0;34m,\u001b[0m\u001b[0mvz\u001b[0m\u001b[0;34m-\u001b[0m\u001b[0mz_e\u001b[0m\u001b[0;34m]\u001b[0m\u001b[0;34m)\u001b[0m\u001b[0;34m\u001b[0m\u001b[0m\n",
      "\u001b[0;31mKeyError\u001b[0m: ('matched_tracks', 'occurred at index 0')"
     ]
    }
   ],
   "source": [
    "df_joined = pd.DataFrame()\n",
    "\n",
    "for sample in sample_list:\n",
    "    df_sample = pd.read_pickle(sample)\n",
    "    df_sample = df_sample.head(10)\n",
    "    print(df_sample.columns)\n",
    "    droplist = [x for x  in df_sample.columns if (x not in columns_all)]\n",
    "    print(len(df_sample.index))\n",
    "    df_sample.drop(droplist,inplace=True,axis=1)\n",
    "    #df_sample['true_fidvol'] =df_sample.apply(lambda row: CheckBorderTPC(row['true_vx_sce'],row['true_vy_sce'],row['true_vz_sce'],fid_arr) ,axis=1)\n",
    "    df_sample['fidvol'] =df_sample.apply(lambda row: CheckBorderTPC(row['vx'],row['vy'],row['vz'],fid_arr) ,axis=1)\n",
    "    df_sample = pd.concat([df_sample, df_sample.apply(XGBoostClassification,axis=1)], axis=1)    \n",
    "    df_sample = df_sample[columns_final]\n",
    "    df_joined = pd.concat([df_joined,df_sample],ignore_index=True,copy=False)\n",
    "    print('done sample')\n",
    "df_joined.head(10)"
   ]
  },
  {
   "cell_type": "code",
   "execution_count": null,
   "metadata": {
    "collapsed": true
   },
   "outputs": [],
   "source": [
    "df_joined.to_pickle('nu_score_6.pckl')"
   ]
  },
  {
   "cell_type": "code",
   "execution_count": null,
   "metadata": {
    "collapsed": true
   },
   "outputs": [],
   "source": [
    "print(len(df_sample.index))\n",
    "print(df_sample['category'].value_counts())"
   ]
  },
  {
   "cell_type": "code",
   "execution_count": null,
   "metadata": {
    "collapsed": true
   },
   "outputs": [],
   "source": [
    "df_pure=df_sample[df_sample.apply(lambda x: np.all(np.array(x['track_muon_score'])<0.10) and\n",
    "                                            np.all(np.array(x['shower_muon_score'])<0.15) and\n",
    "                                         (np.any(np.array(x['shower_electron_score'])>0.9) or np.any(np.array(x['track_electron_score'])>0.99) ),\n",
    "                                  axis=1)]"
   ]
  },
  {
   "cell_type": "code",
   "execution_count": null,
   "metadata": {
    "collapsed": true
   },
   "outputs": [],
   "source": [
    "print(len(df_pure.index))\n",
    "print(df_pure['category'].value_counts())"
   ]
  },
  {
   "cell_type": "code",
   "execution_count": null,
   "metadata": {
    "collapsed": true
   },
   "outputs": [],
   "source": []
  },
  {
   "cell_type": "code",
   "execution_count": 11,
   "metadata": {
    "collapsed": false
   },
   "outputs": [
    {
     "data": {
      "text/html": [
       "<div>\n",
       "<style scoped>\n",
       "    .dataframe tbody tr th:only-of-type {\n",
       "        vertical-align: middle;\n",
       "    }\n",
       "\n",
       "    .dataframe tbody tr th {\n",
       "        vertical-align: top;\n",
       "    }\n",
       "\n",
       "    .dataframe thead th {\n",
       "        text-align: right;\n",
       "    }\n",
       "</style>\n",
       "<table border=\"1\" class=\"dataframe\">\n",
       "  <thead>\n",
       "    <tr style=\"text-align: right;\">\n",
       "      <th></th>\n",
       "      <th>subrun</th>\n",
       "      <th>run</th>\n",
       "      <th>vx</th>\n",
       "      <th>vy</th>\n",
       "      <th>vz</th>\n",
       "      <th>bnbweight</th>\n",
       "      <th>shower_open_angle</th>\n",
       "      <th>shower_length</th>\n",
       "      <th>shower_start_x</th>\n",
       "      <th>shower_start_y</th>\n",
       "      <th>...</th>\n",
       "      <th>track_nhits</th>\n",
       "      <th>shower_dedx</th>\n",
       "      <th>shower_dedx_avg</th>\n",
       "      <th>shower_dedx_hits</th>\n",
       "      <th>track_dedx</th>\n",
       "      <th>track_dedx_avg</th>\n",
       "      <th>track_dedx_hits</th>\n",
       "      <th>flash_PE</th>\n",
       "      <th>flash_time</th>\n",
       "      <th>fidvol</th>\n",
       "    </tr>\n",
       "  </thead>\n",
       "  <tbody>\n",
       "    <tr>\n",
       "      <th>0</th>\n",
       "      <td>60</td>\n",
       "      <td>5147</td>\n",
       "      <td>59.609886</td>\n",
       "      <td>3.348907</td>\n",
       "      <td>975.683105</td>\n",
       "      <td>-2147483648</td>\n",
       "      <td>[0.000617]</td>\n",
       "      <td>[8.6]</td>\n",
       "      <td>[59.6]</td>\n",
       "      <td>[3.54]</td>\n",
       "      <td>...</td>\n",
       "      <td>[158.0]</td>\n",
       "      <td>[2.409960113262952]</td>\n",
       "      <td>[8.404563866844752]</td>\n",
       "      <td>[4.0]</td>\n",
       "      <td>[1.086502648947119]</td>\n",
       "      <td>[2.7157828191120217]</td>\n",
       "      <td>[3.0]</td>\n",
       "      <td>586.106689</td>\n",
       "      <td>3.331250</td>\n",
       "      <td>True</td>\n",
       "    </tr>\n",
       "    <tr>\n",
       "      <th>1</th>\n",
       "      <td>192</td>\n",
       "      <td>5804</td>\n",
       "      <td>172.495834</td>\n",
       "      <td>-69.986298</td>\n",
       "      <td>193.566223</td>\n",
       "      <td>-2147483648</td>\n",
       "      <td>[0.2578, 0.04083]</td>\n",
       "      <td>[23.75, 35.12]</td>\n",
       "      <td>[85.1, 172.0]</td>\n",
       "      <td>[85.56, -69.94]</td>\n",
       "      <td>...</td>\n",
       "      <td>[140.0, 16.0]</td>\n",
       "      <td>[0.18326435243720587, 3.253782700415696]</td>\n",
       "      <td>[0.7725998786895283, 26.905033995678046]</td>\n",
       "      <td>[6.0, 15.0]</td>\n",
       "      <td>[1.7715411583947391, 2.555193382743279e-308]</td>\n",
       "      <td>[6.397796641796328, 1.0908509705198797e-307]</td>\n",
       "      <td>[8.0, 9.0]</td>\n",
       "      <td>126.048508</td>\n",
       "      <td>4.366875</td>\n",
       "      <td>True</td>\n",
       "    </tr>\n",
       "    <tr>\n",
       "      <th>2</th>\n",
       "      <td>35</td>\n",
       "      <td>5731</td>\n",
       "      <td>207.262039</td>\n",
       "      <td>74.179749</td>\n",
       "      <td>887.702148</td>\n",
       "      <td>-2147483648</td>\n",
       "      <td>[0.05875]</td>\n",
       "      <td>[47.2]</td>\n",
       "      <td>[151.6]</td>\n",
       "      <td>[45.47]</td>\n",
       "      <td>...</td>\n",
       "      <td>[252.0, 82.0, 13.0]</td>\n",
       "      <td>[5.1488384842237]</td>\n",
       "      <td>[52.79129893833483]</td>\n",
       "      <td>[11.0]</td>\n",
       "      <td>[1.5986814870866983, 1.530424876017253, 6.3209...</td>\n",
       "      <td>[7.341068917756814, 2.720965297224062, 26.2921...</td>\n",
       "      <td>[13.0, 5.0, 13.0]</td>\n",
       "      <td>1123.879883</td>\n",
       "      <td>3.631250</td>\n",
       "      <td>True</td>\n",
       "    </tr>\n",
       "    <tr>\n",
       "      <th>3</th>\n",
       "      <td>44</td>\n",
       "      <td>5367</td>\n",
       "      <td>225.080750</td>\n",
       "      <td>90.818245</td>\n",
       "      <td>512.745178</td>\n",
       "      <td>-2147483648</td>\n",
       "      <td>[0.4026]</td>\n",
       "      <td>[20.66]</td>\n",
       "      <td>[221.2]</td>\n",
       "      <td>[77.0]</td>\n",
       "      <td>...</td>\n",
       "      <td>[589.0]</td>\n",
       "      <td>[0.3331920441249615]</td>\n",
       "      <td>[4.114074002507645]</td>\n",
       "      <td>[10.0]</td>\n",
       "      <td>[1.4637157517356303]</td>\n",
       "      <td>[2.107851007400168]</td>\n",
       "      <td>[2.0]</td>\n",
       "      <td>109.823792</td>\n",
       "      <td>4.411250</td>\n",
       "      <td>True</td>\n",
       "    </tr>\n",
       "    <tr>\n",
       "      <th>4</th>\n",
       "      <td>44</td>\n",
       "      <td>5367</td>\n",
       "      <td>224.076004</td>\n",
       "      <td>45.061203</td>\n",
       "      <td>285.856232</td>\n",
       "      <td>-2147483648</td>\n",
       "      <td>[0.0716]</td>\n",
       "      <td>[14.86]</td>\n",
       "      <td>[62.53]</td>\n",
       "      <td>[71.44]</td>\n",
       "      <td>...</td>\n",
       "      <td>[361.0, 20.0]</td>\n",
       "      <td>[4.983496730998916]</td>\n",
       "      <td>[40.00623147874592]</td>\n",
       "      <td>[10.0]</td>\n",
       "      <td>[5.373462908475707, 1.8494496847650954]</td>\n",
       "      <td>[19.437010588401076, 3.5806497511651676]</td>\n",
       "      <td>[8.0, 3.0]</td>\n",
       "      <td>1286.208130</td>\n",
       "      <td>3.332500</td>\n",
       "      <td>True</td>\n",
       "    </tr>\n",
       "  </tbody>\n",
       "</table>\n",
       "<p>5 rows × 40 columns</p>\n",
       "</div>"
      ],
      "text/plain": [
       "   subrun   run          vx         vy          vz   bnbweight  \\\n",
       "0      60  5147   59.609886   3.348907  975.683105 -2147483648   \n",
       "1     192  5804  172.495834 -69.986298  193.566223 -2147483648   \n",
       "2      35  5731  207.262039  74.179749  887.702148 -2147483648   \n",
       "3      44  5367  225.080750  90.818245  512.745178 -2147483648   \n",
       "4      44  5367  224.076004  45.061203  285.856232 -2147483648   \n",
       "\n",
       "   shower_open_angle   shower_length shower_start_x   shower_start_y  ...    \\\n",
       "0         [0.000617]           [8.6]         [59.6]           [3.54]  ...     \n",
       "1  [0.2578, 0.04083]  [23.75, 35.12]  [85.1, 172.0]  [85.56, -69.94]  ...     \n",
       "2          [0.05875]          [47.2]        [151.6]          [45.47]  ...     \n",
       "3           [0.4026]         [20.66]        [221.2]           [77.0]  ...     \n",
       "4           [0.0716]         [14.86]        [62.53]          [71.44]  ...     \n",
       "\n",
       "           track_nhits                               shower_dedx  \\\n",
       "0              [158.0]                       [2.409960113262952]   \n",
       "1        [140.0, 16.0]  [0.18326435243720587, 3.253782700415696]   \n",
       "2  [252.0, 82.0, 13.0]                         [5.1488384842237]   \n",
       "3              [589.0]                      [0.3331920441249615]   \n",
       "4        [361.0, 20.0]                       [4.983496730998916]   \n",
       "\n",
       "                            shower_dedx_avg shower_dedx_hits  \\\n",
       "0                       [8.404563866844752]            [4.0]   \n",
       "1  [0.7725998786895283, 26.905033995678046]      [6.0, 15.0]   \n",
       "2                       [52.79129893833483]           [11.0]   \n",
       "3                       [4.114074002507645]           [10.0]   \n",
       "4                       [40.00623147874592]           [10.0]   \n",
       "\n",
       "                                          track_dedx  \\\n",
       "0                                [1.086502648947119]   \n",
       "1       [1.7715411583947391, 2.555193382743279e-308]   \n",
       "2  [1.5986814870866983, 1.530424876017253, 6.3209...   \n",
       "3                               [1.4637157517356303]   \n",
       "4            [5.373462908475707, 1.8494496847650954]   \n",
       "\n",
       "                                      track_dedx_avg    track_dedx_hits  \\\n",
       "0                               [2.7157828191120217]              [3.0]   \n",
       "1       [6.397796641796328, 1.0908509705198797e-307]         [8.0, 9.0]   \n",
       "2  [7.341068917756814, 2.720965297224062, 26.2921...  [13.0, 5.0, 13.0]   \n",
       "3                                [2.107851007400168]              [2.0]   \n",
       "4           [19.437010588401076, 3.5806497511651676]         [8.0, 3.0]   \n",
       "\n",
       "      flash_PE flash_time fidvol  \n",
       "0   586.106689   3.331250   True  \n",
       "1   126.048508   4.366875   True  \n",
       "2  1123.879883   3.631250   True  \n",
       "3   109.823792   4.411250   True  \n",
       "4  1286.208130   3.332500   True  \n",
       "\n",
       "[5 rows x 40 columns]"
      ]
     },
     "execution_count": 11,
     "metadata": {},
     "output_type": "execute_result"
    }
   ],
   "source": []
  },
  {
   "cell_type": "code",
   "execution_count": null,
   "metadata": {
    "collapsed": true
   },
   "outputs": [],
   "source": []
  },
  {
   "cell_type": "code",
   "execution_count": null,
   "metadata": {
    "collapsed": true
   },
   "outputs": [],
   "source": []
  }
 ],
 "metadata": {
  "anaconda-cloud": {},
  "kernelspec": {
   "display_name": "Python [conda env:mlenv]",
   "language": "python",
   "name": "conda-env-mlenv-py"
  },
  "language_info": {
   "codemirror_mode": {
    "name": "ipython",
    "version": 3
   },
   "file_extension": ".py",
   "mimetype": "text/x-python",
   "name": "python",
   "nbconvert_exporter": "python",
   "pygments_lexer": "ipython3",
   "version": "3.6.4"
  },
  "nbpresent": {
   "slides": {},
   "themes": {}
  }
 },
 "nbformat": 4,
 "nbformat_minor": 2
}
