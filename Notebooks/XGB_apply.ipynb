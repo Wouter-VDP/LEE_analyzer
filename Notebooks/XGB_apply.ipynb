{
 "cells": [
  {
   "cell_type": "code",
   "execution_count": 1,
   "metadata": {
    "collapsed": true,
    "nbpresent": {
     "id": "27f77e5d-b387-4dd8-beb8-7d542c47752f"
    }
   },
   "outputs": [],
   "source": [
    "import numpy as np\n",
    "import pandas as pd\n",
    "import seaborn as sns\n",
    "import matplotlib.pyplot as plt\n",
    "from operator import itemgetter\n",
    "\n",
    "from helpfunction import CheckBorderFixed,CheckBorderTPC\n",
    "from sklearn.externals import joblib"
   ]
  },
  {
   "cell_type": "code",
   "execution_count": 2,
   "metadata": {
    "collapsed": true
   },
   "outputs": [],
   "source": [
    "# Fiducial volume borders in x,y,z:\n",
    "fid_arr= [[10,10],[20,20],[10,50]]\n",
    "\n",
    "min_dedx_hits=2"
   ]
  },
  {
   "cell_type": "code",
   "execution_count": 3,
   "metadata": {
    "collapsed": true,
    "nbpresent": {
     "id": "df2ca4ac-5bf8-40a7-862f-34b40f3976c1"
    }
   },
   "outputs": [],
   "source": [
    "columns_req_shower = ['shower_dedx','shower_dedx_avg','shower_dedx_hits','shower_pca','shower_open_angle',\n",
    "                      'shower_start_x', 'shower_start_y','shower_start_z',\n",
    "                      'shower_length','shower_daughter',\n",
    "                      'matched_showers'#This is the label generationg category\n",
    "                     ]\n",
    "\n",
    "columns_req_track  = ['track_dedx','track_dedx_avg','track_dedx_hits','track_pca',\n",
    "                      'predict_em','predict_mu', 'predict_cos', 'predict_pi', 'predict_p',\n",
    "                      'track_start_x', 'track_start_y','track_start_z',\n",
    "                      'track_end_x', 'track_end_y', 'track_end_z','track_daughter',\n",
    "                      'matched_tracks'#This is the label generationg category\n",
    "                     ]\n",
    "\n",
    "columns_flat = ['vx','vy','vz',\n",
    "                'bnbweight','reconstructed_energy','flash_PE','flash_time','nu_E','nu_pdg',\n",
    "                'true_x_sce','true_y_sce','true_z_sce',\n",
    "                'category','distance','CC_daughter_E','shower_containment_q','shower_sp_profile'\n",
    "               ]\n",
    "\n",
    "columns_track_XGB = ['track_dedx', 'track_dedx_avg', 'track_dedx_hits', 'track_pca',\n",
    "                     'predict_em', 'predict_mu', 'predict_cos', 'predict_pi', 'predict_p',\n",
    "                     'track_containment', 'track_is_daughter', 'track_length',\n",
    "                     'track_sh_daughter', 'track_tr_daughter', 'track_vtx', 'track_vtx_end']\n",
    "\n",
    "columns_shower_XGB = [ 'shower_dedx', 'shower_dedx_avg', 'shower_dedx_hits', 'shower_pca',\n",
    "                       'shower_open_angle', 'shower_length', 'shower_containment_q',\n",
    "                       'shower_sp_profile', 'shower_is_daughter', 'shower_sh_daughter',\n",
    "                       'shower_tr_daughter', 'shower_vtx']\n",
    "\n",
    "columns_all = list(set(columns_req_shower) | set(columns_req_track))+columns_flat"
   ]
  },
  {
   "cell_type": "code",
   "execution_count": 4,
   "metadata": {
    "collapsed": true,
    "nbpresent": {
     "id": "a09d9f71-9152-4cc6-8af9-47f71965cda8"
    }
   },
   "outputs": [],
   "source": [
    "sample_list = ['../Input/nu/nu_Track_BDT.pckl']"
   ]
  },
  {
   "cell_type": "code",
   "execution_count": 5,
   "metadata": {
    "collapsed": true,
    "nbpresent": {
     "id": "e9d0554c-2916-4c8d-a36d-4a8f13aa44c6"
    }
   },
   "outputs": [],
   "source": [
    "model_sh_e  = joblib.load('../Input/XGBoost/model_sh_e.pkl')\n",
    "model_sh_mu = joblib.load('../Input/XGBoost/model_sh_mu.pkl')\n",
    "model_tr_e  = joblib.load('../Input/XGBoost/model_tr_e.pkl')\n",
    "model_tr_mu = joblib.load('../Input/XGBoost/model_tr_mu.pkl')"
   ]
  },
  {
   "cell_type": "code",
   "execution_count": 6,
   "metadata": {
    "collapsed": true
   },
   "outputs": [],
   "source": [
    "def XGBoostClassification(row):\n",
    "    tr_e, tr_mu = [],[]\n",
    "    if len(row['matched_tracks']) > 0:\n",
    "        tr_e, tr_mu = TrackClassification(row)\n",
    "    sh_e, sh_mu = ShowerClassification(row)\n",
    "    \n",
    "    return pd.Series({\n",
    "        'track_electron_score': tr_e,\n",
    "        'track_muon_score': tr_mu,\n",
    "        'shower_electron_score': sh_e,\n",
    "        'shower_muon_score': sh_mu,\n",
    "    })\n",
    "    \n",
    "    \n",
    "def TrackClassification(row):\n",
    "    pred_tr_e = []\n",
    "    pred_tr_mu = []\n",
    "    XGB_input = np.zeros([sum(row['track_dedx_hits']>=min_dedx_hits),len(columns_track_XGB)])\n",
    "    \n",
    "    tr_ok=0\n",
    "    for tr in range(len(row['matched_tracks'])):\n",
    "        if row['track_dedx_hits'][tr]>=min_dedx_hits:\n",
    "            d_tr={}\n",
    "            for field in columns_req_track:\n",
    "                d_tr[field]=row[field][tr]\n",
    "            for field in ['vx','vy','vz']:\n",
    "                d_tr[field]=row[field]\n",
    "            d_tr = {**d_tr,**track_features(d_tr)}\n",
    "            \n",
    "            XGB_input[tr_ok] = np.asarray(itemgetter(*columns_track_XGB)(d_tr))\n",
    "            tr_ok+=1\n",
    "            \n",
    "        pred_tr_e = model_tr_e.predict_proba( XGB_input )[:,1] \n",
    "        pred_tr_mu = model_tr_mu.predict_proba( XGB_input)[:,1]  \n",
    "        \n",
    "    return pred_tr_e,pred_tr_mu\n",
    "    \n",
    "    \n",
    "def ShowerClassification(row):\n",
    "    pred_sh_e = []\n",
    "    pred_sh_mu = []\n",
    "    XGB_input = np.zeros([sum(row['shower_dedx_hits']>=min_dedx_hits),len(columns_shower_XGB)])\n",
    "    \n",
    "    sh_ok=0\n",
    "    for sh in range(len(row['matched_showers'])):\n",
    "        if row['shower_dedx_hits'][sh]>=min_dedx_hits:\n",
    "            d_sh={}\n",
    "            for field in columns_req_shower:\n",
    "                d_sh[field]=row[field][sh]\n",
    "            for field in ['vx','vy','vz','shower_containment_q','shower_sp_profile']:\n",
    "                d_sh[field]=row[field]\n",
    "            d_sh = {**d_sh,**shower_features(d_sh)}  \n",
    "\n",
    "            XGB_input[sh_ok] = np.asarray( itemgetter(*columns_shower_XGB)(d_sh)) \n",
    "            sh_ok+=1\n",
    "        \n",
    "    pred_sh_e =  model_sh_e.predict_proba( XGB_input )[:,1] \n",
    "    pred_sh_mu=  model_sh_mu.predict_proba( XGB_input )[:,1] \n",
    "        \n",
    "    return pred_sh_e,pred_sh_mu"
   ]
  },
  {
   "cell_type": "code",
   "execution_count": null,
   "metadata": {
    "collapsed": true
   },
   "outputs": [],
   "source": [
    "columns_final = ['vx','vy','vz',\n",
    "                'bnbweight','reconstructed_energy','flash_PE','flash_time','nu_E','nu_pdg',\n",
    "                'true_x_sce','true_y_sce','true_z_sce',\n",
    "                'category','distance','CC_daughter_E','shower_containment_q','shower_sp_profile',\n",
    "                'shower_electron_score','shower_muon_score','track_electron_score','track_electron_score'\n",
    "               ]"
   ]
  },
  {
   "cell_type": "code",
   "execution_count": 7,
   "metadata": {
    "collapsed": false,
    "nbpresent": {
     "id": "46d9e399-5601-443f-ab61-291d7bde164c"
    }
   },
   "outputs": [
    {
     "data": {
      "text/html": [
       "<div>\n",
       "<style scoped>\n",
       "    .dataframe tbody tr th:only-of-type {\n",
       "        vertical-align: middle;\n",
       "    }\n",
       "\n",
       "    .dataframe tbody tr th {\n",
       "        vertical-align: top;\n",
       "    }\n",
       "\n",
       "    .dataframe thead th {\n",
       "        text-align: right;\n",
       "    }\n",
       "</style>\n",
       "<table border=\"1\" class=\"dataframe\">\n",
       "  <thead>\n",
       "    <tr style=\"text-align: right;\">\n",
       "      <th></th>\n",
       "      <th>nu_pdg</th>\n",
       "      <th>nu_E</th>\n",
       "      <th>distance</th>\n",
       "      <th>category</th>\n",
       "      <th>vx</th>\n",
       "      <th>vy</th>\n",
       "      <th>vz</th>\n",
       "      <th>bnbweight</th>\n",
       "      <th>shower_open_angle</th>\n",
       "      <th>shower_length</th>\n",
       "      <th>...</th>\n",
       "      <th>track_dedx_hits</th>\n",
       "      <th>flash_PE</th>\n",
       "      <th>flash_time</th>\n",
       "      <th>CC_daughter_E</th>\n",
       "      <th>matched_showers</th>\n",
       "      <th>matched_tracks</th>\n",
       "      <th>shower_electron_score</th>\n",
       "      <th>shower_muon_score</th>\n",
       "      <th>track_electron_score</th>\n",
       "      <th>track_muon_score</th>\n",
       "    </tr>\n",
       "  </thead>\n",
       "  <tbody>\n",
       "    <tr>\n",
       "      <th>0</th>\n",
       "      <td>14</td>\n",
       "      <td>1.625200</td>\n",
       "      <td>14.595528</td>\n",
       "      <td>7</td>\n",
       "      <td>233.783386</td>\n",
       "      <td>-53.704464</td>\n",
       "      <td>943.809265</td>\n",
       "      <td>0.990291</td>\n",
       "      <td>[0.361, 0.523]</td>\n",
       "      <td>[72.3, 3.898]</td>\n",
       "      <td>...</td>\n",
       "      <td>[14.0, 4.0, 12.0]</td>\n",
       "      <td>666.404602</td>\n",
       "      <td>3.871250</td>\n",
       "      <td>0.212016</td>\n",
       "      <td>[13, 2112]</td>\n",
       "      <td>[2112, 2112, -13]</td>\n",
       "      <td>[0.4620925, 0.22241624]</td>\n",
       "      <td>[0.02675151, 0.054553673]</td>\n",
       "      <td>[0.00095558714, 0.0022868544, 0.06702287]</td>\n",
       "      <td>[0.0017884423, 0.0038805632, 0.7133571]</td>\n",
       "    </tr>\n",
       "    <tr>\n",
       "      <th>2</th>\n",
       "      <td>14</td>\n",
       "      <td>0.606236</td>\n",
       "      <td>88.490700</td>\n",
       "      <td>1</td>\n",
       "      <td>198.662201</td>\n",
       "      <td>-59.815376</td>\n",
       "      <td>700.932190</td>\n",
       "      <td>0.991531</td>\n",
       "      <td>[0.2145, 0.3438]</td>\n",
       "      <td>[22.16, 8.16]</td>\n",
       "      <td>...</td>\n",
       "      <td>[]</td>\n",
       "      <td>58.534115</td>\n",
       "      <td>3.781250</td>\n",
       "      <td>-1.000000</td>\n",
       "      <td>[-13, -13]</td>\n",
       "      <td>[]</td>\n",
       "      <td>[0.1997226, 0.22575743]</td>\n",
       "      <td>[0.065051556, 0.15024912]</td>\n",
       "      <td>[]</td>\n",
       "      <td>[]</td>\n",
       "    </tr>\n",
       "    <tr>\n",
       "      <th>4</th>\n",
       "      <td>14</td>\n",
       "      <td>0.541416</td>\n",
       "      <td>10.631845</td>\n",
       "      <td>3</td>\n",
       "      <td>120.681480</td>\n",
       "      <td>-11.807071</td>\n",
       "      <td>165.075089</td>\n",
       "      <td>0.994432</td>\n",
       "      <td>[0.0738, 0.5405]</td>\n",
       "      <td>[12.695, 4.83]</td>\n",
       "      <td>...</td>\n",
       "      <td>[]</td>\n",
       "      <td>795.488281</td>\n",
       "      <td>4.321250</td>\n",
       "      <td>0.120262</td>\n",
       "      <td>[211, 211]</td>\n",
       "      <td>[]</td>\n",
       "      <td>[0.11959982]</td>\n",
       "      <td>[0.114267744]</td>\n",
       "      <td>[]</td>\n",
       "      <td>[]</td>\n",
       "    </tr>\n",
       "    <tr>\n",
       "      <th>5</th>\n",
       "      <td>14</td>\n",
       "      <td>1.042980</td>\n",
       "      <td>10.893191</td>\n",
       "      <td>3</td>\n",
       "      <td>173.900330</td>\n",
       "      <td>95.340721</td>\n",
       "      <td>351.875519</td>\n",
       "      <td>0.995800</td>\n",
       "      <td>[0.03546]</td>\n",
       "      <td>[18.72]</td>\n",
       "      <td>...</td>\n",
       "      <td>[14.0, 6.0]</td>\n",
       "      <td>666.502136</td>\n",
       "      <td>3.691250</td>\n",
       "      <td>0.224553</td>\n",
       "      <td>[2212]</td>\n",
       "      <td>[2212, 13]</td>\n",
       "      <td>[0.24744806]</td>\n",
       "      <td>[0.11607253]</td>\n",
       "      <td>[0.014236772, 0.1647531]</td>\n",
       "      <td>[0.0018994451, 0.16249429]</td>\n",
       "    </tr>\n",
       "    <tr>\n",
       "      <th>7</th>\n",
       "      <td>14</td>\n",
       "      <td>1.439656</td>\n",
       "      <td>0.173543</td>\n",
       "      <td>3</td>\n",
       "      <td>197.177277</td>\n",
       "      <td>88.532280</td>\n",
       "      <td>677.950012</td>\n",
       "      <td>0.987504</td>\n",
       "      <td>[0.0964, 0.1375, 0.7114, 0.4946]</td>\n",
       "      <td>[52.4, 76.2, 3.188, 2.387]</td>\n",
       "      <td>...</td>\n",
       "      <td>[4.0, 2.0]</td>\n",
       "      <td>1200.724976</td>\n",
       "      <td>4.561250</td>\n",
       "      <td>0.208927</td>\n",
       "      <td>[13, 0, 2212, 2112]</td>\n",
       "      <td>[211, 2212]</td>\n",
       "      <td>[0.5837737, 0.0010686477, 0.1136777, 0.2705093]</td>\n",
       "      <td>[0.033540033, 0.00067740626, 0.024442133, 0.06...</td>\n",
       "      <td>[0.035162926, 0.008414617]</td>\n",
       "      <td>[0.11614513, 0.0025745805]</td>\n",
       "    </tr>\n",
       "    <tr>\n",
       "      <th>9</th>\n",
       "      <td>14</td>\n",
       "      <td>0.717259</td>\n",
       "      <td>17.242661</td>\n",
       "      <td>4</td>\n",
       "      <td>73.475990</td>\n",
       "      <td>-32.119797</td>\n",
       "      <td>501.983459</td>\n",
       "      <td>0.991032</td>\n",
       "      <td>[0.6606, 0.1874]</td>\n",
       "      <td>[49.16, 6.254]</td>\n",
       "      <td>...</td>\n",
       "      <td>[]</td>\n",
       "      <td>2664.784668</td>\n",
       "      <td>3.271250</td>\n",
       "      <td>-1.000000</td>\n",
       "      <td>[22, 22]</td>\n",
       "      <td>[]</td>\n",
       "      <td>[0.43908706, 0.1394679]</td>\n",
       "      <td>[0.011997285, 0.034118474]</td>\n",
       "      <td>[]</td>\n",
       "      <td>[]</td>\n",
       "    </tr>\n",
       "    <tr>\n",
       "      <th>10</th>\n",
       "      <td>14</td>\n",
       "      <td>1.148458</td>\n",
       "      <td>35.152428</td>\n",
       "      <td>5</td>\n",
       "      <td>225.485718</td>\n",
       "      <td>-94.026604</td>\n",
       "      <td>432.923126</td>\n",
       "      <td>0.991477</td>\n",
       "      <td>[0.518, 0.3733]</td>\n",
       "      <td>[24.23, 15.06]</td>\n",
       "      <td>...</td>\n",
       "      <td>[9.0]</td>\n",
       "      <td>232.868317</td>\n",
       "      <td>4.506250</td>\n",
       "      <td>-1.000000</td>\n",
       "      <td>[22, 22]</td>\n",
       "      <td>[22]</td>\n",
       "      <td>[0.30520895, 0.30525252]</td>\n",
       "      <td>[0.04108333, 0.07083924]</td>\n",
       "      <td>[0.38631493]</td>\n",
       "      <td>[0.14412805]</td>\n",
       "    </tr>\n",
       "    <tr>\n",
       "      <th>12</th>\n",
       "      <td>14</td>\n",
       "      <td>1.743248</td>\n",
       "      <td>5.339813</td>\n",
       "      <td>3</td>\n",
       "      <td>239.180954</td>\n",
       "      <td>-51.177376</td>\n",
       "      <td>724.291992</td>\n",
       "      <td>0.991446</td>\n",
       "      <td>[0.1345]</td>\n",
       "      <td>[36.88]</td>\n",
       "      <td>...</td>\n",
       "      <td>[0.0, 0.0]</td>\n",
       "      <td>671.590332</td>\n",
       "      <td>4.510625</td>\n",
       "      <td>0.900230</td>\n",
       "      <td>[2112]</td>\n",
       "      <td>[2112, 0]</td>\n",
       "      <td>[0.3698149]</td>\n",
       "      <td>[0.26330668]</td>\n",
       "      <td>[]</td>\n",
       "      <td>[]</td>\n",
       "    </tr>\n",
       "    <tr>\n",
       "      <th>13</th>\n",
       "      <td>14</td>\n",
       "      <td>0.770566</td>\n",
       "      <td>1.341341</td>\n",
       "      <td>3</td>\n",
       "      <td>221.011185</td>\n",
       "      <td>80.790207</td>\n",
       "      <td>907.703247</td>\n",
       "      <td>0.996072</td>\n",
       "      <td>[0.2336]</td>\n",
       "      <td>[19.16]</td>\n",
       "      <td>...</td>\n",
       "      <td>[14.0, 0.0]</td>\n",
       "      <td>267.199036</td>\n",
       "      <td>4.021250</td>\n",
       "      <td>0.310085</td>\n",
       "      <td>[211]</td>\n",
       "      <td>[2212, 211]</td>\n",
       "      <td>[0.122377135]</td>\n",
       "      <td>[0.09368877]</td>\n",
       "      <td>[0.001013069]</td>\n",
       "      <td>[0.0017884423]</td>\n",
       "    </tr>\n",
       "    <tr>\n",
       "      <th>14</th>\n",
       "      <td>14</td>\n",
       "      <td>0.566884</td>\n",
       "      <td>7.830430</td>\n",
       "      <td>3</td>\n",
       "      <td>210.068542</td>\n",
       "      <td>52.676941</td>\n",
       "      <td>739.563538</td>\n",
       "      <td>0.994138</td>\n",
       "      <td>[0.0957]</td>\n",
       "      <td>[27.45]</td>\n",
       "      <td>...</td>\n",
       "      <td>[15.0, 0.0]</td>\n",
       "      <td>586.407166</td>\n",
       "      <td>4.101875</td>\n",
       "      <td>0.176551</td>\n",
       "      <td>[0]</td>\n",
       "      <td>[2212, 13]</td>\n",
       "      <td>[]</td>\n",
       "      <td>[]</td>\n",
       "      <td>[0.0015520828]</td>\n",
       "      <td>[0.0017014521]</td>\n",
       "    </tr>\n",
       "  </tbody>\n",
       "</table>\n",
       "<p>10 rows × 46 columns</p>\n",
       "</div>"
      ],
      "text/plain": [
       "    nu_pdg      nu_E   distance  category          vx         vy          vz  \\\n",
       "0       14  1.625200  14.595528         7  233.783386 -53.704464  943.809265   \n",
       "2       14  0.606236  88.490700         1  198.662201 -59.815376  700.932190   \n",
       "4       14  0.541416  10.631845         3  120.681480 -11.807071  165.075089   \n",
       "5       14  1.042980  10.893191         3  173.900330  95.340721  351.875519   \n",
       "7       14  1.439656   0.173543         3  197.177277  88.532280  677.950012   \n",
       "9       14  0.717259  17.242661         4   73.475990 -32.119797  501.983459   \n",
       "10      14  1.148458  35.152428         5  225.485718 -94.026604  432.923126   \n",
       "12      14  1.743248   5.339813         3  239.180954 -51.177376  724.291992   \n",
       "13      14  0.770566   1.341341         3  221.011185  80.790207  907.703247   \n",
       "14      14  0.566884   7.830430         3  210.068542  52.676941  739.563538   \n",
       "\n",
       "    bnbweight                 shower_open_angle               shower_length  \\\n",
       "0    0.990291                    [0.361, 0.523]               [72.3, 3.898]   \n",
       "2    0.991531                  [0.2145, 0.3438]               [22.16, 8.16]   \n",
       "4    0.994432                  [0.0738, 0.5405]              [12.695, 4.83]   \n",
       "5    0.995800                         [0.03546]                     [18.72]   \n",
       "7    0.987504  [0.0964, 0.1375, 0.7114, 0.4946]  [52.4, 76.2, 3.188, 2.387]   \n",
       "9    0.991032                  [0.6606, 0.1874]              [49.16, 6.254]   \n",
       "10   0.991477                   [0.518, 0.3733]              [24.23, 15.06]   \n",
       "12   0.991446                          [0.1345]                     [36.88]   \n",
       "13   0.996072                          [0.2336]                     [19.16]   \n",
       "14   0.994138                          [0.0957]                     [27.45]   \n",
       "\n",
       "                     ...                       track_dedx_hits     flash_PE  \\\n",
       "0                    ...                     [14.0, 4.0, 12.0]   666.404602   \n",
       "2                    ...                                    []    58.534115   \n",
       "4                    ...                                    []   795.488281   \n",
       "5                    ...                           [14.0, 6.0]   666.502136   \n",
       "7                    ...                            [4.0, 2.0]  1200.724976   \n",
       "9                    ...                                    []  2664.784668   \n",
       "10                   ...                                 [9.0]   232.868317   \n",
       "12                   ...                            [0.0, 0.0]   671.590332   \n",
       "13                   ...                           [14.0, 0.0]   267.199036   \n",
       "14                   ...                           [15.0, 0.0]   586.407166   \n",
       "\n",
       "   flash_time CC_daughter_E      matched_showers     matched_tracks  \\\n",
       "0    3.871250      0.212016           [13, 2112]  [2112, 2112, -13]   \n",
       "2    3.781250     -1.000000           [-13, -13]                 []   \n",
       "4    4.321250      0.120262           [211, 211]                 []   \n",
       "5    3.691250      0.224553               [2212]         [2212, 13]   \n",
       "7    4.561250      0.208927  [13, 0, 2212, 2112]        [211, 2212]   \n",
       "9    3.271250     -1.000000             [22, 22]                 []   \n",
       "10   4.506250     -1.000000             [22, 22]               [22]   \n",
       "12   4.510625      0.900230               [2112]          [2112, 0]   \n",
       "13   4.021250      0.310085                [211]        [2212, 211]   \n",
       "14   4.101875      0.176551                  [0]         [2212, 13]   \n",
       "\n",
       "                              shower_electron_score  \\\n",
       "0                           [0.4620925, 0.22241624]   \n",
       "2                           [0.1997226, 0.22575743]   \n",
       "4                                      [0.11959982]   \n",
       "5                                      [0.24744806]   \n",
       "7   [0.5837737, 0.0010686477, 0.1136777, 0.2705093]   \n",
       "9                           [0.43908706, 0.1394679]   \n",
       "10                         [0.30520895, 0.30525252]   \n",
       "12                                      [0.3698149]   \n",
       "13                                    [0.122377135]   \n",
       "14                                               []   \n",
       "\n",
       "                                    shower_muon_score  \\\n",
       "0                           [0.02675151, 0.054553673]   \n",
       "2                           [0.065051556, 0.15024912]   \n",
       "4                                       [0.114267744]   \n",
       "5                                        [0.11607253]   \n",
       "7   [0.033540033, 0.00067740626, 0.024442133, 0.06...   \n",
       "9                          [0.011997285, 0.034118474]   \n",
       "10                           [0.04108333, 0.07083924]   \n",
       "12                                       [0.26330668]   \n",
       "13                                       [0.09368877]   \n",
       "14                                                 []   \n",
       "\n",
       "                         track_electron_score  \\\n",
       "0   [0.00095558714, 0.0022868544, 0.06702287]   \n",
       "2                                          []   \n",
       "4                                          []   \n",
       "5                    [0.014236772, 0.1647531]   \n",
       "7                  [0.035162926, 0.008414617]   \n",
       "9                                          []   \n",
       "10                               [0.38631493]   \n",
       "12                                         []   \n",
       "13                              [0.001013069]   \n",
       "14                             [0.0015520828]   \n",
       "\n",
       "                           track_muon_score  \n",
       "0   [0.0017884423, 0.0038805632, 0.7133571]  \n",
       "2                                        []  \n",
       "4                                        []  \n",
       "5                [0.0018994451, 0.16249429]  \n",
       "7                [0.11614513, 0.0025745805]  \n",
       "9                                        []  \n",
       "10                             [0.14412805]  \n",
       "12                                       []  \n",
       "13                           [0.0017884423]  \n",
       "14                           [0.0017014521]  \n",
       "\n",
       "[10 rows x 46 columns]"
      ]
     },
     "execution_count": 7,
     "metadata": {},
     "output_type": "execute_result"
    }
   ],
   "source": [
    "df_joined = df.DataFrame()\n",
    "\n",
    "for sample in sample_list:\n",
    "    df_sample = pd.read_pickle(sample)\n",
    "    droplist = [x for x  in df_sample.columns if (x not in columns_all)]\n",
    "    print(len(df_sample.index))\n",
    "    df_sample.drop(droplist,inplace=True,axis=1)\n",
    "    df_sample = df_sample[df_sample.apply(lambda row: CheckBorderTPC(row['vx'],row['vy'],row['vz'],fid_arr) ,axis=1)]\n",
    "    df_sample = pd.concat([df_sample, df_sample.apply(XGBoostClassification,axis=1)], axis=1)    \n",
    "    df_sample = df_sample[columns_final]\n",
    "    df_joined = pd.concat([df_joined,df_sample],ignore_index=True,copy=False) \n",
    "df_joined.head(10)"
   ]
  },
  {
   "cell_type": "code",
   "execution_count": 8,
   "metadata": {
    "collapsed": true
   },
   "outputs": [],
   "source": [
    "df_joined.to_pickle('nue_score.pckl')"
   ]
  },
  {
   "cell_type": "code",
   "execution_count": 9,
   "metadata": {
    "collapsed": false
   },
   "outputs": [
    {
     "name": "stdout",
     "output_type": "stream",
     "text": [
      "123306\n",
      "3    41792\n",
      "4    28280\n",
      "1    25636\n",
      "7    18995\n",
      "5     6042\n",
      "2     2561\n",
      "Name: category, dtype: int64\n"
     ]
    }
   ],
   "source": [
    "print(len(df_sample.index))\n",
    "print(df_sample['category'].value_counts())"
   ]
  },
  {
   "cell_type": "code",
   "execution_count": 24,
   "metadata": {
    "collapsed": true
   },
   "outputs": [],
   "source": [
    "df_pure=df_sample[df_sample.apply(lambda x: np.all(np.array(x['track_muon_score'])<0.10) and\n",
    "                                            np.all(np.array(x['shower_muon_score'])<0.15) and\n",
    "                                         (np.any(np.array(x['shower_electron_score'])>0.9) or np.any(np.array(x['track_electron_score'])>0.99) ),\n",
    "                                  axis=1)]"
   ]
  },
  {
   "cell_type": "code",
   "execution_count": 25,
   "metadata": {
    "collapsed": false
   },
   "outputs": [
    {
     "name": "stdout",
     "output_type": "stream",
     "text": [
      "1735\n",
      "2    711\n",
      "4    454\n",
      "3    261\n",
      "1    198\n",
      "7     56\n",
      "5     55\n",
      "Name: category, dtype: int64\n"
     ]
    }
   ],
   "source": [
    "print(len(df_pure.index))\n",
    "print(df_pure['category'].value_counts())"
   ]
  },
  {
   "cell_type": "code",
   "execution_count": 12,
   "metadata": {
    "collapsed": false
   },
   "outputs": [
    {
     "data": {
      "text/plain": [
       "0.487790013158806"
      ]
     },
     "execution_count": 12,
     "metadata": {},
     "output_type": "execute_result"
    }
   ],
   "source": []
  },
  {
   "cell_type": "code",
   "execution_count": 13,
   "metadata": {
    "collapsed": false
   },
   "outputs": [
    {
     "data": {
      "text/plain": [
       "0.07538802660753881"
      ]
     },
     "execution_count": 13,
     "metadata": {},
     "output_type": "execute_result"
    }
   ],
   "source": []
  },
  {
   "cell_type": "code",
   "execution_count": 14,
   "metadata": {
    "collapsed": false
   },
   "outputs": [
    {
     "data": {
      "text/plain": [
       "0.0220125786163522"
      ]
     },
     "execution_count": 14,
     "metadata": {},
     "output_type": "execute_result"
    }
   ],
   "source": []
  },
  {
   "cell_type": "code",
   "execution_count": null,
   "metadata": {
    "collapsed": true
   },
   "outputs": [],
   "source": []
  }
 ],
 "metadata": {
  "kernelspec": {
   "display_name": "Python [conda env:mlenv]",
   "language": "python",
   "name": "conda-env-mlenv-py"
  },
  "language_info": {
   "codemirror_mode": {
    "name": "ipython",
    "version": 3
   },
   "file_extension": ".py",
   "mimetype": "text/x-python",
   "name": "python",
   "nbconvert_exporter": "python",
   "pygments_lexer": "ipython3",
   "version": "3.6.4"
  },
  "nbpresent": {
   "slides": {},
   "themes": {}
  }
 },
 "nbformat": 4,
 "nbformat_minor": 2
}
