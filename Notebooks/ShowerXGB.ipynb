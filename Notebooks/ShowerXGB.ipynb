{
 "cells": [
  {
   "cell_type": "code",
   "execution_count": 1,
   "metadata": {
    "collapsed": true
   },
   "outputs": [],
   "source": [
    "import numpy as np\n",
    "import pandas as pd\n",
    "import seaborn as sns\n",
    "import matplotlib.pyplot as plt\n",
    "\n",
    "from helpfunction import CheckBorderFixed,CheckBorderTPC\n",
    "\n",
    "%matplotlib inline"
   ]
  },
  {
   "cell_type": "code",
   "execution_count": 10,
   "metadata": {
    "collapsed": true
   },
   "outputs": [],
   "source": [
    "sample_list = ['../Input/intime/intime.pckl','../Input/nue/nue.pckl','../Input/nu/nu_pure_close_600k.pckl']\n",
    "\n",
    "pd_showers_raw = pd.DataFrame()\n",
    "\n",
    "columns_req = ['shower_dedx','shower_dedx_avg','shower_dedx_hits','shower_pca','shower_open_angle',\n",
    "               'shower_start_x', 'shower_start_y','shower_start_z',\n",
    "               'shower_length','shower_daughter',\n",
    "               'matched_showers'#This is the label generationg category\n",
    "              ]\n",
    "\n",
    "columns_flat = ['vx','vy','vz','shower_containment_q','shower_sp_profile']\n",
    "\n",
    "#Fields to engineer:\n",
    "# - length\n",
    "# - 10cm contained (bool)\n",
    "# - has shower daughter (bool)\n",
    "# - has shower daughter\n",
    "# - is rthe daughter of something else\n",
    "# - distance from vertex start point\n",
    "# - distance from vertex end point\n",
    "\n",
    "# Fiducial volume borders in x,y,z:\n",
    "fid_arr= [[10,10],[20,20],[10,50]]"
   ]
  },
  {
   "cell_type": "code",
   "execution_count": 11,
   "metadata": {
    "collapsed": true
   },
   "outputs": [],
   "source": [
    "#Load in samples\n",
    "df_showers=pd.DataFrame(columns=columns_req+columns_flat)\n"
   ]
  },
  {
   "cell_type": "code",
   "execution_count": 12,
   "metadata": {
    "collapsed": false
   },
   "outputs": [
    {
     "data": {
      "text/html": [
       "<div>\n",
       "<style scoped>\n",
       "    .dataframe tbody tr th:only-of-type {\n",
       "        vertical-align: middle;\n",
       "    }\n",
       "\n",
       "    .dataframe tbody tr th {\n",
       "        vertical-align: top;\n",
       "    }\n",
       "\n",
       "    .dataframe thead th {\n",
       "        text-align: right;\n",
       "    }\n",
       "</style>\n",
       "<table border=\"1\" class=\"dataframe\">\n",
       "  <thead>\n",
       "    <tr style=\"text-align: right;\">\n",
       "      <th></th>\n",
       "      <th>shower_dedx</th>\n",
       "      <th>shower_dedx_avg</th>\n",
       "      <th>shower_dedx_hits</th>\n",
       "      <th>shower_pca</th>\n",
       "      <th>shower_open_angle</th>\n",
       "      <th>shower_start_x</th>\n",
       "      <th>shower_start_y</th>\n",
       "      <th>shower_start_z</th>\n",
       "      <th>shower_length</th>\n",
       "      <th>shower_daughter</th>\n",
       "      <th>matched_showers</th>\n",
       "      <th>vx</th>\n",
       "      <th>vy</th>\n",
       "      <th>vz</th>\n",
       "      <th>shower_containment_q</th>\n",
       "      <th>shower_sp_profile</th>\n",
       "    </tr>\n",
       "  </thead>\n",
       "  <tbody>\n",
       "    <tr>\n",
       "      <th>0</th>\n",
       "      <td>3.135025</td>\n",
       "      <td>16.841373</td>\n",
       "      <td>16.0</td>\n",
       "      <td>0.916504</td>\n",
       "      <td>0.221802</td>\n",
       "      <td>232.25000</td>\n",
       "      <td>56.90625</td>\n",
       "      <td>135.750</td>\n",
       "      <td>22.125000</td>\n",
       "      <td>0.0</td>\n",
       "      <td>0.0</td>\n",
       "      <td>236.426971</td>\n",
       "      <td>68.910492</td>\n",
       "      <td>127.865067</td>\n",
       "      <td>0.393415</td>\n",
       "      <td>0.648575</td>\n",
       "    </tr>\n",
       "    <tr>\n",
       "      <th>1</th>\n",
       "      <td>3.051837</td>\n",
       "      <td>8.656431</td>\n",
       "      <td>7.0</td>\n",
       "      <td>0.968262</td>\n",
       "      <td>0.094971</td>\n",
       "      <td>84.50000</td>\n",
       "      <td>-107.31250</td>\n",
       "      <td>329.500</td>\n",
       "      <td>20.015625</td>\n",
       "      <td>0.0</td>\n",
       "      <td>0.0</td>\n",
       "      <td>236.426971</td>\n",
       "      <td>68.910492</td>\n",
       "      <td>127.865067</td>\n",
       "      <td>0.393415</td>\n",
       "      <td>0.648575</td>\n",
       "    </tr>\n",
       "    <tr>\n",
       "      <th>2</th>\n",
       "      <td>0.006560</td>\n",
       "      <td>0.006460</td>\n",
       "      <td>4.0</td>\n",
       "      <td>0.629395</td>\n",
       "      <td>0.065430</td>\n",
       "      <td>236.37500</td>\n",
       "      <td>68.93750</td>\n",
       "      <td>128.875</td>\n",
       "      <td>9.226562</td>\n",
       "      <td>0.0</td>\n",
       "      <td>0.0</td>\n",
       "      <td>236.426971</td>\n",
       "      <td>68.910492</td>\n",
       "      <td>127.865067</td>\n",
       "      <td>0.393415</td>\n",
       "      <td>0.648575</td>\n",
       "    </tr>\n",
       "    <tr>\n",
       "      <th>3</th>\n",
       "      <td>0.097360</td>\n",
       "      <td>0.417215</td>\n",
       "      <td>9.0</td>\n",
       "      <td>0.939941</td>\n",
       "      <td>0.219360</td>\n",
       "      <td>59.03125</td>\n",
       "      <td>-109.18750</td>\n",
       "      <td>811.500</td>\n",
       "      <td>37.593750</td>\n",
       "      <td>0.0</td>\n",
       "      <td>0.0</td>\n",
       "      <td>36.073578</td>\n",
       "      <td>-71.722626</td>\n",
       "      <td>811.450012</td>\n",
       "      <td>0.320908</td>\n",
       "      <td>0.134881</td>\n",
       "    </tr>\n",
       "    <tr>\n",
       "      <th>4</th>\n",
       "      <td>1.697985</td>\n",
       "      <td>4.193395</td>\n",
       "      <td>4.0</td>\n",
       "      <td>0.927246</td>\n",
       "      <td>0.464355</td>\n",
       "      <td>38.09375</td>\n",
       "      <td>-74.18750</td>\n",
       "      <td>813.500</td>\n",
       "      <td>4.945312</td>\n",
       "      <td>0.0</td>\n",
       "      <td>0.0</td>\n",
       "      <td>36.073578</td>\n",
       "      <td>-71.722626</td>\n",
       "      <td>811.450012</td>\n",
       "      <td>0.320908</td>\n",
       "      <td>0.134881</td>\n",
       "    </tr>\n",
       "  </tbody>\n",
       "</table>\n",
       "</div>"
      ],
      "text/plain": [
       "   shower_dedx  shower_dedx_avg  shower_dedx_hits  shower_pca  \\\n",
       "0     3.135025        16.841373              16.0    0.916504   \n",
       "1     3.051837         8.656431               7.0    0.968262   \n",
       "2     0.006560         0.006460               4.0    0.629395   \n",
       "3     0.097360         0.417215               9.0    0.939941   \n",
       "4     1.697985         4.193395               4.0    0.927246   \n",
       "\n",
       "   shower_open_angle  shower_start_x  shower_start_y  shower_start_z  \\\n",
       "0           0.221802       232.25000        56.90625         135.750   \n",
       "1           0.094971        84.50000      -107.31250         329.500   \n",
       "2           0.065430       236.37500        68.93750         128.875   \n",
       "3           0.219360        59.03125      -109.18750         811.500   \n",
       "4           0.464355        38.09375       -74.18750         813.500   \n",
       "\n",
       "   shower_length  shower_daughter  matched_showers          vx         vy  \\\n",
       "0      22.125000              0.0              0.0  236.426971  68.910492   \n",
       "1      20.015625              0.0              0.0  236.426971  68.910492   \n",
       "2       9.226562              0.0              0.0  236.426971  68.910492   \n",
       "3      37.593750              0.0              0.0   36.073578 -71.722626   \n",
       "4       4.945312              0.0              0.0   36.073578 -71.722626   \n",
       "\n",
       "           vz  shower_containment_q  shower_sp_profile  \n",
       "0  127.865067              0.393415           0.648575  \n",
       "1  127.865067              0.393415           0.648575  \n",
       "2  127.865067              0.393415           0.648575  \n",
       "3  811.450012              0.320908           0.134881  \n",
       "4  811.450012              0.320908           0.134881  "
      ]
     },
     "execution_count": 12,
     "metadata": {},
     "output_type": "execute_result"
    }
   ],
   "source": [
    "for sample in sample_list:\n",
    "    df_sample = pd.read_pickle(sample)\n",
    "    droplist = [x for x  in df_sample.columns if (x not in columns_req+columns_flat)]\n",
    "    df_sample.drop(droplist,inplace=True,axis=1)\n",
    "    \n",
    "    for index, row in df_sample.head(40000).iterrows():\n",
    "        if CheckBorderTPC(row['vx'],row['vy'],row['vz'],fid_arr):\n",
    "            for tr in range(len(row['matched_showers'])):\n",
    "                d_tr = {}\n",
    "                for field in columns_req:\n",
    "                    #if type(row[field]) is float:\n",
    "                    #    print(field)\n",
    "                    #    print(row[field])\n",
    "                    d_tr[field]=row[field][tr]\n",
    "                for field in columns_flat:\n",
    "                    d_tr[field]=row[field]\n",
    "                df_showers=df_showers.append(d_tr,ignore_index=True)\n",
    "        \n",
    "df_showers.head()"
   ]
  },
  {
   "cell_type": "code",
   "execution_count": 13,
   "metadata": {
    "collapsed": false
   },
   "outputs": [
    {
     "data": {
      "text/plain": [
       " 11.0      44896\n",
       " 0.0       28269\n",
       " 2212.0    24478\n",
       " 22.0      18439\n",
       " 211.0      9112\n",
       " 13.0       5898\n",
       "-13.0       2920\n",
       " 2112.0     2893\n",
       "-211.0      1215\n",
       "-11.0        246\n",
       " 321.0       132\n",
       " 3222.0       97\n",
       "-321.0        17\n",
       " 3112.0        3\n",
       "Name: matched_showers, dtype: int64"
      ]
     },
     "execution_count": 13,
     "metadata": {},
     "output_type": "execute_result"
    }
   ],
   "source": [
    "df_showers['matched_showers'].value_counts()"
   ]
  },
  {
   "cell_type": "code",
   "execution_count": 14,
   "metadata": {
    "collapsed": true
   },
   "outputs": [],
   "source": [
    "def shower_freatures(row):\n",
    "    \n",
    "    x=row[\"shower_start_x\"]\n",
    "    y=row[\"shower_start_y\"]\n",
    "    z=row[\"shower_start_z\"]\n",
    "    vx=row[\"vx\"]\n",
    "    vy=row[\"vy\"]\n",
    "    vz=row[\"vz\"]\n",
    "    \n",
    "    shower_sh_daughter = True if row['shower_daughter']==1 else False\n",
    "    shower_tr_daughter = True if row['shower_daughter']==2 else False\n",
    "    shower_is_daughter = True if row['matched_showers']==0 else False\n",
    "    shower_vtx         = np.linalg.norm([x-vx,y-vy,z-vz])\n",
    "    \n",
    "    # Class\n",
    "    true_mu        = True if abs(row['matched_showers'])==13 else False\n",
    "    true_e         = True if row['matched_showers']==11 else False\n",
    "    \n",
    "    return pd.Series({\n",
    "                     'shower_sh_daughter':shower_sh_daughter,\n",
    "                     'shower_tr_daughter':shower_tr_daughter,\n",
    "                     'shower_is_daughter':shower_is_daughter,\n",
    "                     'shower_vtx':shower_vtx,\n",
    "                     'true_mu':true_mu,\n",
    "                     'true_e':true_e\n",
    "                     })"
   ]
  },
  {
   "cell_type": "code",
   "execution_count": 15,
   "metadata": {
    "collapsed": true
   },
   "outputs": [],
   "source": [
    "df_showers = pd.concat([df_showers, df_showers.apply(shower_freatures,axis=1)], axis=1)\n",
    "droplist = ['shower_start_x','shower_start_y','shower_start_z','matched_showers','shower_daughter','vx','vy','vz']\n",
    "df_showers.drop(droplist,inplace=True,axis=1)     "
   ]
  },
  {
   "cell_type": "code",
   "execution_count": 16,
   "metadata": {
    "collapsed": false
   },
   "outputs": [
    {
     "data": {
      "text/plain": [
       "False    129797\n",
       "True       8818\n",
       "Name: true_mu, dtype: int64"
      ]
     },
     "execution_count": 16,
     "metadata": {},
     "output_type": "execute_result"
    }
   ],
   "source": [
    "df_showers['true_mu'].value_counts()"
   ]
  },
  {
   "cell_type": "code",
   "execution_count": 17,
   "metadata": {
    "collapsed": false
   },
   "outputs": [
    {
     "data": {
      "text/plain": [
       "False    93719\n",
       "True     44896\n",
       "Name: true_e, dtype: int64"
      ]
     },
     "execution_count": 17,
     "metadata": {},
     "output_type": "execute_result"
    }
   ],
   "source": [
    "df_showers['true_e'].value_counts()"
   ]
  },
  {
   "cell_type": "code",
   "execution_count": 18,
   "metadata": {
    "collapsed": true
   },
   "outputs": [],
   "source": [
    "df_showers.to_pickle('../showerFrame.pckl')"
   ]
  },
  {
   "cell_type": "code",
   "execution_count": null,
   "metadata": {
    "collapsed": true
   },
   "outputs": [],
   "source": []
  }
 ],
 "metadata": {
  "kernelspec": {
   "display_name": "Python [conda env:mlenv]",
   "language": "python",
   "name": "conda-env-mlenv-py"
  },
  "language_info": {
   "codemirror_mode": {
    "name": "ipython",
    "version": 3
   },
   "file_extension": ".py",
   "mimetype": "text/x-python",
   "name": "python",
   "nbconvert_exporter": "python",
   "pygments_lexer": "ipython3",
   "version": "3.6.4"
  }
 },
 "nbformat": 4,
 "nbformat_minor": 2
}
