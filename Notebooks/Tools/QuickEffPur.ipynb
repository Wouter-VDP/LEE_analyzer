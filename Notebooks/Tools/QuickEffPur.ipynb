{
 "cells": [
  {
   "cell_type": "code",
   "execution_count": 1,
   "metadata": {
    "collapsed": true
   },
   "outputs": [],
   "source": [
    "import numpy as np\n",
    "import pandas as pd\n",
    "from root_pandas import read_root\n",
    "import glob\n",
    "import os\n",
    "import matplotlib.pyplot as plt\n",
    "\n",
    "from helpfunction import CheckBorderTPC,CheckBorderFixed,effErr,sciNot,sciNot2\n",
    "\n",
    "%matplotlib inline"
   ]
  },
  {
   "cell_type": "code",
   "execution_count": 2,
   "metadata": {
    "collapsed": true
   },
   "outputs": [],
   "source": [
    "pd.options.display.max_columns = 999\n",
    "gr      = 1.618\n",
    "nan     = -2147483648\n",
    "min_root_size = 20000 # Skip root files smaller than x bytes\n",
    "\n",
    "mass_p= 0.93827 #GeV\n",
    "mass_e= 0.00511 #GeV\n",
    "\n",
    "# LAr EM showers\n",
    "R_moliere =  9.5 # cm\n",
    "X_o       = 13.9 # cm\n",
    "E_c       = 0.035# GeV\n",
    "\n",
    "# Fiducial volume borders in x,y,z:\n",
    "fid_arr= [[10,10],[20,20],[10,50]]\n",
    "\n",
    "# Minimum reconstructable energies:\n",
    "min_e = 0.02+mass_e # 20MeV\n",
    "min_p = 0.04+mass_p # 40MeV"
   ]
  },
  {
   "cell_type": "code",
   "execution_count": 3,
   "metadata": {
    "collapsed": false
   },
   "outputs": [
    {
     "name": "stdout",
     "output_type": "stream",
     "text": [
      "1 valid ROOT files collected.\n"
     ]
    }
   ],
   "source": [
    "checkana=False\n",
    "gpvmsdir = '/run/user/1002/gvfs/sftp:host=uboonegpvm02.fnal.gov,user=wvdp'\n",
    "if not checkana:\n",
    "    # Option 1: no checkana, verify validity yourself and use input directory\n",
    "    inputlist = []\n",
    "    #inputlist += glob.glob(\"/home/wouter/Templates/April/cosmic_intime_1s0t_dev_newremoval/*.root\")\n",
    "    inputlist += glob.glob(\"/home/wouter/Downloads/*.root\")\n",
    "    filelist  = []\n",
    "    for fname in inputlist:\n",
    "        if (os.stat(fname).st_size)<min_root_size:\n",
    "                print(\"File\",fname,\"was corrupt. Size:\",os.stat(fname).st_size/1000, \"kb, skipping to next file.\")\n",
    "        else:\n",
    "            filelist.append(fname)\n",
    "\n",
    "if checkana:\n",
    "    # Option 2: After checkana, just pass the filesana list.\n",
    "    filelist = [gpvmsdir+line.rstrip() for line in open(gpvmsdir+'/uboone/data/users/wvdp/book/v06_26_01_12/d/filesana.list')]\n",
    "\n",
    "print(len(filelist),\"valid ROOT files collected.\")"
   ]
  },
  {
   "cell_type": "code",
   "execution_count": null,
   "metadata": {
    "collapsed": true
   },
   "outputs": [],
   "source": []
  },
  {
   "cell_type": "code",
   "execution_count": 4,
   "metadata": {
    "collapsed": true
   },
   "outputs": [],
   "source": [
    "# Signal Definition 1e0p \n",
    "def true_thresholds_1e0p(row):\n",
    "    if CheckBorderTPC(*row[[\"true_vx\",\"true_vy\",\"true_vz\"]],array=fid_arr):\n",
    "        passed_e=False\n",
    "        for pdg,E in zip(*row[[\"nu_daughters_pdg\",\"nu_daughters_E\"]]):\n",
    "            if pdg==11 and E>min_e:\n",
    "                return True\n",
    "    return False\n",
    "\n",
    "def KatrinBDT(row):\n",
    "    if row[\"n_tracks\"]==0:\n",
    "        return True\n",
    "    \n",
    "    if np.all(row[\"predict_mu\"]<0.9):\n",
    "        if np.all(row[\"predict_cos\"]<0.9):\n",
    "            return True\n",
    "    return False"
   ]
  },
  {
   "cell_type": "code",
   "execution_count": 5,
   "metadata": {
    "collapsed": false
   },
   "outputs": [
    {
     "ename": "ValueError",
     "evalue": "Pattern 'flash_PE_max' didn't match any branch",
     "output_type": "error",
     "traceback": [
      "\u001b[0;31m---------------------------------------------------------------------------\u001b[0m",
      "\u001b[0;31mValueError\u001b[0m                                Traceback (most recent call last)",
      "\u001b[0;32m<ipython-input-5-a5764a0ca314>\u001b[0m in \u001b[0;36m<module>\u001b[0;34m()\u001b[0m\n\u001b[1;32m     29\u001b[0m                                                               \u001b[0;34m\"fiducial\"\u001b[0m\u001b[0;34m,\u001b[0m\u001b[0;34m\"track_bdt_precut\"\u001b[0m\u001b[0;34m,\u001b[0m\u001b[0;34m\u001b[0m\u001b[0m\n\u001b[1;32m     30\u001b[0m                                                               \u001b[0;31m#\"predict_em\",\"predict_mu\",\"predict_cos\",\"predict_p\",\"n_tracks\",\"numu_passed\",\u001b[0m\u001b[0;34m\u001b[0m\u001b[0;34m\u001b[0m\u001b[0m\n\u001b[0;32m---> 31\u001b[0;31m                                                           'passed','category','flash_time',\"n_showers\",'flash_passed'])\n\u001b[0m\u001b[1;32m     32\u001b[0m \u001b[0;34m\u001b[0m\u001b[0m\n\u001b[1;32m     33\u001b[0m     \u001b[0mdftemp\u001b[0m\u001b[0;34m[\u001b[0m\u001b[0;34m\"bnbweight\"\u001b[0m\u001b[0;34m]\u001b[0m\u001b[0;34m=\u001b[0m\u001b[0;36m1\u001b[0m\u001b[0;34m\u001b[0m\u001b[0m\n",
      "\u001b[0;32m/home/wouter/Binaries/miniconda3/envs/rootenv/lib/python3.4/site-packages/root_pandas/__init__.py\u001b[0m in \u001b[0;36mread_root\u001b[0;34m(path, tree_key, columns, ignore, chunksize, where, *kargs, **kwargs)\u001b[0m\n\u001b[1;32m    104\u001b[0m             \u001b[0mcolumns\u001b[0m\u001b[0;34m.\u001b[0m\u001b[0mappend\u001b[0m\u001b[0;34m(\u001b[0m\u001b[0;34m'index'\u001b[0m\u001b[0;34m)\u001b[0m\u001b[0;34m\u001b[0m\u001b[0m\n\u001b[1;32m    105\u001b[0m         \u001b[0mcolumns\u001b[0m \u001b[0;34m=\u001b[0m \u001b[0mlist\u001b[0m\u001b[0;34m(\u001b[0m\u001b[0mitertools\u001b[0m\u001b[0;34m.\u001b[0m\u001b[0mchain\u001b[0m\u001b[0;34m.\u001b[0m\u001b[0mfrom_iterable\u001b[0m\u001b[0;34m(\u001b[0m\u001b[0mlist\u001b[0m\u001b[0;34m(\u001b[0m\u001b[0mmap\u001b[0m\u001b[0;34m(\u001b[0m\u001b[0mexpand_braces\u001b[0m\u001b[0;34m,\u001b[0m \u001b[0mcolumns\u001b[0m\u001b[0;34m)\u001b[0m\u001b[0;34m)\u001b[0m\u001b[0;34m)\u001b[0m\u001b[0;34m)\u001b[0m\u001b[0;34m\u001b[0m\u001b[0m\n\u001b[0;32m--> 106\u001b[0;31m         \u001b[0mall_vars\u001b[0m \u001b[0;34m=\u001b[0m \u001b[0mget_matching_variables\u001b[0m\u001b[0;34m(\u001b[0m\u001b[0mbranches\u001b[0m\u001b[0;34m,\u001b[0m \u001b[0mcolumns\u001b[0m\u001b[0;34m)\u001b[0m\u001b[0;34m\u001b[0m\u001b[0m\n\u001b[0m\u001b[1;32m    107\u001b[0m \u001b[0;34m\u001b[0m\u001b[0m\n\u001b[1;32m    108\u001b[0m     \u001b[0;32mif\u001b[0m \u001b[0mignore\u001b[0m\u001b[0;34m:\u001b[0m\u001b[0;34m\u001b[0m\u001b[0m\n",
      "\u001b[0;32m/home/wouter/Binaries/miniconda3/envs/rootenv/lib/python3.4/site-packages/root_pandas/__init__.py\u001b[0m in \u001b[0;36mget_matching_variables\u001b[0;34m(branches, patterns, fail)\u001b[0m\n\u001b[1;32m     51\u001b[0m                 \u001b[0mselected\u001b[0m\u001b[0;34m.\u001b[0m\u001b[0mappend\u001b[0m\u001b[0;34m(\u001b[0m\u001b[0mb\u001b[0m\u001b[0;34m)\u001b[0m\u001b[0;34m\u001b[0m\u001b[0m\n\u001b[1;32m     52\u001b[0m         \u001b[0;32mif\u001b[0m \u001b[0;32mnot\u001b[0m \u001b[0mfound\u001b[0m \u001b[0;32mand\u001b[0m \u001b[0mfail\u001b[0m\u001b[0;34m:\u001b[0m\u001b[0;34m\u001b[0m\u001b[0m\n\u001b[0;32m---> 53\u001b[0;31m             \u001b[0;32mraise\u001b[0m \u001b[0mValueError\u001b[0m\u001b[0;34m(\u001b[0m\u001b[0;34m\"Pattern '{}' didn't match any branch\"\u001b[0m\u001b[0;34m.\u001b[0m\u001b[0mformat\u001b[0m\u001b[0;34m(\u001b[0m\u001b[0mp\u001b[0m\u001b[0;34m)\u001b[0m\u001b[0;34m)\u001b[0m\u001b[0;34m\u001b[0m\u001b[0m\n\u001b[0m\u001b[1;32m     54\u001b[0m     \u001b[0;32mreturn\u001b[0m \u001b[0mselected\u001b[0m\u001b[0;34m\u001b[0m\u001b[0m\n\u001b[1;32m     55\u001b[0m \u001b[0;34m\u001b[0m\u001b[0m\n",
      "\u001b[0;31mValueError\u001b[0m: Pattern 'flash_PE_max' didn't match any branch"
     ]
    }
   ],
   "source": [
    "fieldx = \"flash_PE_max\"\n",
    "\n",
    "fidvol=0\n",
    "fidvol_weights_1s=[]\n",
    "fidvol_true_E_1s=[]\n",
    "fidvol_weights_0s=[]\n",
    "fidvol_true_E_0s=[]\n",
    "\n",
    "passed=0\n",
    "flashpassed=0\n",
    "\n",
    "signal=0\n",
    "signal_weights=[]\n",
    "signal_true_E=[]\n",
    "\n",
    "cat2_weights_1s=[]\n",
    "cat2_true_E_1s=[]\n",
    "cat2_weights_0s=[]\n",
    "cat2_true_E_0s=[]\n",
    "\n",
    "total=0\n",
    "category=np.zeros(8)\n",
    "\n",
    "for i_f,fname in enumerate(filelist[:250]):\n",
    "    #print(fname)\n",
    "    dftemp=read_root(fname,\"wouterNueCC/pandoratree\",columns=['run',\"subrun\",\"event\",\n",
    "                                                              \"true_1eX_signal\",\"bnbweight\", fieldx,\n",
    "                                                              #\"true_vx\",\"true_vy\",\"true_vz\",\"nu_daughters_pdg\",\"nu_daughters_E\",\n",
    "                                                              \"fiducial\",\"track_bdt_precut\",\n",
    "                                                              #\"predict_em\",\"predict_mu\",\"predict_cos\",\"predict_p\",\"n_tracks\",\"numu_passed\",\n",
    "                                                          'passed','category','flash_time',\"n_showers\",'flash_passed'])\n",
    "    \n",
    "    dftemp[\"bnbweight\"]=1\n",
    "    total+=dftemp[\"bnbweight\"].sum()\n",
    "    \n",
    "    \n",
    "    #dftemp=dftemp[dftemp[\"true_1eX_signal\"]==1]\n",
    "    signal+=dftemp[\"bnbweight\"].sum()\n",
    "    signal_weights.extend(dftemp[\"bnbweight\"].values)\n",
    "    signal_true_E.extend(dftemp[fieldx].values)\n",
    "    \n",
    "    flashtemp = dftemp[dftemp[\"flash_passed\"].apply(lambda x: np.any(x!=-1))]\n",
    "    if len(flashtemp.index)>0:\n",
    "        flashpassed+= flashtemp[\"bnbweight\"].sum()\n",
    "    \n",
    "    dftemp=dftemp[ (dftemp[\"passed\"]==1) & (dftemp[\"track_bdt_precut\"]==1)]\n",
    "    passed+=dftemp[\"bnbweight\"].sum()\n",
    "    \n",
    "    dftemp=dftemp[dftemp[\"fiducial\"]==1]\n",
    "    fidvol+=dftemp[\"bnbweight\"].sum()\n",
    "    fidvol_weights_0s.extend(dftemp[\"bnbweight\"].values)\n",
    "    fidvol_true_E_0s.extend(dftemp[fieldx].values)\n",
    "    fidvol_weights_1s.extend(dftemp[(dftemp[\"n_showers\"]>0)][\"bnbweight\"].values)\n",
    "    fidvol_true_E_1s.extend(dftemp[(dftemp[\"n_showers\"]>0)][fieldx].values)\n",
    "    \n",
    "    this_category = np.bincount(dftemp['category'].values, weights= dftemp['bnbweight'].values )\n",
    "    this_category = np.pad(this_category, (0, 8 - len(this_category)), 'constant')\n",
    "    #print(this_category)\n",
    "    category+=this_category\n",
    "    \n",
    "    cat2_weights_1s.extend(dftemp[(dftemp[\"n_showers\"]>0) & (dftemp[\"category\"]==2)][\"bnbweight\"].values)\n",
    "    cat2_true_E_1s.extend(dftemp[(dftemp[\"n_showers\"]>0) & (dftemp[\"category\"]==2)][fieldx].values)\n",
    "    cat2_weights_0s.extend(dftemp[(dftemp[\"category\"]==2)][\"bnbweight\"].values)\n",
    "    cat2_true_E_0s.extend(dftemp[(dftemp[\"category\"]==2)][fieldx].values)\n",
    "    \n",
    "print(total)\n",
    "print(signal)\n",
    "print(flashpassed)\n",
    "print(passed)\n",
    "print(fidvol)\n",
    "\n",
    "print(flashpassed/signal,\"+/-\",np.sqrt(flashpassed)/passed)\n",
    "print(passed/signal,\"+/-\",np.sqrt(passed)/passed)\n",
    "print(fidvol/signal,\"+/-\",np.sqrt(fidvol)/passed)\n",
    "print(category[2]/signal,\"+/-\",np.sqrt(category[2])/passed)\n",
    "\n",
    "print(category/sum(category))"
   ]
  },
  {
   "cell_type": "code",
   "execution_count": 78,
   "metadata": {
    "collapsed": false
   },
   "outputs": [
    {
     "name": "stdout",
     "output_type": "stream",
     "text": [
      "124921.581504\n",
      "29160.0638842\n",
      "24302.9068889\n",
      "23683.3356399\n",
      "22404.0581198\n",
      "0.833431194988 +/- 0.00658242988334\n",
      "0.812183942187 +/- 0.00649798291426\n",
      "0.768313067106 +/- 0.00632004943729\n",
      "0.602000058981 +/- 0.00559434998598\n",
      "[  0.00000000e+00   2.52724627e-02   7.83534844e-01   0.00000000e+00\n",
      "   2.50896477e-05   0.00000000e+00   0.00000000e+00   1.91167604e-01]\n"
     ]
    }
   ],
   "source": [
    "print(total)\n",
    "print(signal)\n",
    "print(flashpassed)\n",
    "print(passed)\n",
    "print(fidvol)\n",
    "\n",
    "print(flashpassed/signal,\"+/-\",np.sqrt(flashpassed)/passed)\n",
    "print(passed/signal,\"+/-\",np.sqrt(passed)/passed)\n",
    "print(fidvol/signal,\"+/-\",np.sqrt(fidvol)/passed)\n",
    "print(category[2]/signal,\"+/-\",np.sqrt(category[2])/passed)\n",
    "\n",
    "print(category/sum(category))"
   ]
  },
  {
   "cell_type": "code",
   "execution_count": null,
   "metadata": {
    "collapsed": true
   },
   "outputs": [],
   "source": []
  },
  {
   "cell_type": "code",
   "execution_count": 120,
   "metadata": {
    "collapsed": false
   },
   "outputs": [
    {
     "name": "stdout",
     "output_type": "stream",
     "text": [
      "100789\n"
     ]
    }
   ],
   "source": [
    "true_E_denom = signal_true_E\n",
    "weight_denom = signal_weights\n",
    "print(len(true_E_denom))\n",
    "\n",
    "true_E_nom_1 = fidvol_true_E_0s\n",
    "weight_nom_1 = fidvol_weights_0s\n",
    "true_E_nom_2 = fidvol_true_E_1s\n",
    "weight_nom_2 = fidvol_weights_1s\n",
    "\n",
    "true_E_pur_1 = cat2_true_E_0s\n",
    "weight_pur_1 = cat2_weights_0s\n",
    "true_E_pur_2 = cat2_true_E_1s\n",
    "weight_pur_2 = cat2_weights_1s"
   ]
  },
  {
   "cell_type": "code",
   "execution_count": 121,
   "metadata": {
    "collapsed": false,
    "scrolled": false
   },
   "outputs": [
    {
     "name": "stderr",
     "output_type": "stream",
     "text": [
      "/home/wouter/Binaries/miniconda3/envs/rootenv/lib/python3.4/site-packages/matplotlib/axes/_axes.py:545: UserWarning: No labelled objects found. Use label='...' kwarg on individual plots.\n",
      "  warnings.warn(\"No labelled objects found. \"\n"
     ]
    },
    {
     "data": {
      "image/png": "[encoded data removed]",
      "text/plain": [
       "<matplotlib.figure.Figure at 0x7fee1785a390>"
      ]
     },
     "metadata": {},
     "output_type": "display_data"
    }
   ],
   "source": [
    "fig,ax=plt.subplots(ncols=2,nrows=1,figsize=(4*gr,4),sharey=False,sharex=True)\n",
    "plt.suptitle(r'BNB $\\nu_e$ intrinsic, New cosmic removal')\n",
    "N = 8\n",
    "min_x = 40\n",
    "max_x = 10000\n",
    "binwidth=(max_x-min_x)/N\n",
    "halfbin = binwidth/2\n",
    "step=0.6\n",
    "\n",
    "denom, edges = np.histogram(true_E_denom,bins=N,range=(min_x,max_x),weights=weight_denom)\n",
    "nom1, _       = np.histogram(true_E_nom_1,bins=N,range=(min_x,max_x),weights=weight_nom_1)\n",
    "nom2, _       = np.histogram(true_E_nom_2,bins=N,range=(min_x,max_x),weights=weight_nom_2)\n",
    "purnom1, _    = np.histogram(true_E_pur_1,bins=N,range=(min_x,max_x),weights=weight_pur_1)\n",
    "purnom2, _    = np.histogram(true_E_pur_2,bins=N,range=(min_x,max_x),weights=weight_pur_2)\n",
    "\n",
    "eff1 = nom1/denom\n",
    "eff2 = nom2/denom\n",
    "#pur1 = purnom1/nom1\n",
    "#pur2 = purnom2/nom2\n",
    "\n",
    "ax[0].set_title('Selection efficiency')\n",
    "ax[0].errorbar(edges[:-1]+halfbin, eff1 , xerr=halfbin, yerr=effErr(nom1,denom),alpha=1.0,fmt='.',label=r'Any #showers ('+sciNot(sum(weight_nom_1)/sum(weight_denom)*100)+'%)')\n",
    "ax[0].errorbar(edges[:-1]+halfbin, eff2 , xerr=halfbin, yerr=effErr(nom2,denom),alpha=1.0,fmt='.',label=r'#showers > 0 ('+sciNot(sum(weight_nom_2)/sum(weight_denom)*100)+'%)')\n",
    "\n",
    "#ax[1].set_title('Purity of selected events')\n",
    "#ax[1].errorbar(edges[:-1]+halfbin, pur1 , xerr=halfbin, yerr=effErr(purnom1,nom1),alpha=1.0,fmt='.',label=r'Any #showers ('+sciNot(sum(weight_pur_1)/sum(weight_nom_1)*100)+'%)')\n",
    "#ax[1].errorbar(edges[:-1]+halfbin, pur2 , xerr=halfbin, yerr=effErr(purnom2,nom2),alpha=1.0,fmt='.',label=r'#showers > 0 ('+sciNot(sum(weight_pur_2)/sum(weight_nom_2)*100)+'%)')\n",
    "\n",
    "\n",
    "ax[0].set_frame_on(False)\n",
    "ax[1].set_frame_on(False)\n",
    "\n",
    "ax[0].set_ylabel('Efficiency ('+sciNot2(binwidth)+' GeV bins)')\n",
    "ax[1].set_ylabel('Purity ('+sciNot2(binwidth)+' GeV bins)')\n",
    "\n",
    "ax[0].set_xlim(min_x,max_x)\n",
    "ax[1].set_xlim(min_x,max_x)\n",
    "\n",
    "ax[0].set_ylim(0,0.3)\n",
    "ax[1].set_ylim(0,1.)\n",
    "\n",
    "ax[0].set_xlabel(r'True $\\nu_e$ energy [GeV]')\n",
    "ax[1].set_xlabel(r'True $\\nu_e$ energy [GeV]')\n",
    "\n",
    "ax[0].legend(loc=\"upper center\")\n",
    "ax[1].legend(loc=\"lower center\")\n",
    "\n",
    "plt.tight_layout(w_pad=2.5)\n",
    "fig.subplots_adjust(top=0.85)\n",
    "plt.savefig(\"../Output/eff_pur_nue_new.png\",dpi=500,\n",
    "            transparant=True,\n",
    "               bbox_inches='tight', \n",
    "               pad_inches=0.1)"
   ]
  },
  {
   "cell_type": "code",
   "execution_count": null,
   "metadata": {
    "collapsed": false
   },
   "outputs": [],
   "source": []
  },
  {
   "cell_type": "code",
   "execution_count": null,
   "metadata": {
    "collapsed": true
   },
   "outputs": [],
   "source": []
  }
 ],
 "metadata": {
  "anaconda-cloud": {},
  "kernelspec": {
   "display_name": "Python [conda env:rootenv]",
   "language": "python",
   "name": "conda-env-rootenv-py"
  },
  "language_info": {
   "codemirror_mode": {
    "name": "ipython",
    "version": 3
   },
   "file_extension": ".py",
   "mimetype": "text/x-python",
   "name": "python",
   "nbconvert_exporter": "python",
   "pygments_lexer": "ipython3",
   "version": "3.4.5"
  }
 },
 "nbformat": 4,
 "nbformat_minor": 2
}
