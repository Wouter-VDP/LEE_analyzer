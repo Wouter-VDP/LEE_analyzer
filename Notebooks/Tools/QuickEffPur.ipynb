{
 "cells": [
  {
   "cell_type": "code",
   "execution_count": 1,
   "metadata": {
    "collapsed": false
   },
   "outputs": [],
   "source": [
    "import numpy as np\n",
    "import pandas as pd\n",
    "import glob\n",
    "import os\n",
    "import matplotlib.pyplot as plt\n",
    "\n",
    "from IPython.display import clear_output\n",
    "%matplotlib inline"
   ]
  },
  {
   "cell_type": "code",
   "execution_count": 2,
   "metadata": {
    "collapsed": true
   },
   "outputs": [],
   "source": [
    "pd.options.display.max_columns = 999\n",
    "gr      = 1.618\n",
    "nan     = -2147483648\n",
    "min_root_size = 20000 # Skip root files smaller than x bytes\n",
    "\n",
    "mass_p= 0.93827 #GeV\n",
    "mass_e= 0.00511 #GeV\n",
    "\n",
    "# dead wires\n",
    "z_dead_start = 675\n",
    "z_dead_end=z_dead_start+100\n",
    "\n",
    "# Minimum reconstructable energies:\n",
    "min_e = 0.02+mass_e # 20MeV\n",
    "min_p = 0.04+mass_p # 40MeV\n",
    "min_pi = 0.17\n",
    "\n",
    "vtx_activity_cut = 5"
   ]
  },
  {
   "cell_type": "code",
   "execution_count": 3,
   "metadata": {
    "collapsed": true
   },
   "outputs": [],
   "source": [
    "gpvmsdir = '/run/user/1002/gvfs/sftp:host=uboonegpvm02.fnal.gov,user=wvdp'\n",
    "# Option 1: no checkana, verify validity yourself and use input directory\n",
    "inputlist = []\n",
    "inputlist += glob.glob(\"/home/wouter/Templates/May/bnb_nue_cosmic_0s0t_dev/*.root\")\n",
    "#inputlist += glob.glob(\"/home/wouter/Templates/May/bnb_nu_cosmic_0s0t_dev/*.root\")\n",
    "filelist  = []\n",
    "for fname in inputlist:\n",
    "    if (os.stat(fname).st_size)<min_root_size:\n",
    "            print(\"File\",fname,\"was corrupt. Size:\",os.stat(fname).st_size/1000, \"kb, skipping to next file.\")\n",
    "    else:\n",
    "        filelist.append(fname)"
   ]
  },
  {
   "cell_type": "code",
   "execution_count": 4,
   "metadata": {
    "collapsed": false
   },
   "outputs": [
    {
     "name": "stdout",
     "output_type": "stream",
     "text": [
      "280\n"
     ]
    }
   ],
   "source": [
    "print(len(filelist))"
   ]
  },
  {
   "cell_type": "code",
   "execution_count": 30,
   "metadata": {
    "collapsed": true
   },
   "outputs": [],
   "source": [
    "def true_thresholds_1eNp(row):\n",
    "    isProton = 0\n",
    "    isProtonKin = 0\n",
    "    isPion = False\n",
    "    if row[\"true_1eX_signal\"]:\n",
    "        for pdg,E in zip(*row[[\"nu_daughters_pdg\",\"nu_daughters_E\"]]):\n",
    "            if pdg==2212:\n",
    "                isProton +=1 \n",
    "                if (E>min_p):\n",
    "                   isProtonKin+=1 \n",
    "                \n",
    "            if pdg in [-211,211,111] and E>min_pi:\n",
    "                isPion = True\n",
    "                \n",
    "    sig1 = isProton>0 and not isPion\n",
    "    sig2 = isProtonKin>0 and not isPion\n",
    "    sig3 = isProton==1 and not isPion\n",
    "    sig4 = isProtonKin==1 and not isPion\n",
    "    return sig1,sig2,sig3,sig4\n",
    "\n",
    "\n",
    "# Formatting\n",
    "def sciNot(x):\n",
    "    x=float(x)\n",
    "    return \"{:.1f}\".format(x)\n",
    "\n",
    "def sciNot2(x):\n",
    "    x=float(x)\n",
    "    return \"{:.2f}\".format(x)\n",
    "\n",
    "# error unweighter\n",
    "def effErr(teller,noemer):\n",
    "    return np.sqrt(teller*(1-teller/noemer))/noemer\n",
    "\n",
    "def cart2sph(x, y, z):\n",
    "    hxy = np.hypot(x, y)\n",
    "    #r = np.hypot(hxy, z)\n",
    "    theta = np.arctan2(hxy,z)\n",
    "    phi = np.arctan2(x, y)\n",
    "    return theta, phi#, r"
   ]
  },
  {
   "cell_type": "code",
   "execution_count": 34,
   "metadata": {
    "collapsed": false,
    "scrolled": false
   },
   "outputs": [
    {
     "name": "stdout",
     "output_type": "stream",
     "text": [
      "279\n"
     ]
    }
   ],
   "source": [
    "if 1:\n",
    "    from root_pandas import read_root\n",
    "    chunks = []\n",
    "    \n",
    "    true_proton = []\n",
    "    sh_proton = []\n",
    "    tr_proton = []\n",
    "\n",
    "    for i_f,fname in enumerate(filelist[:]):\n",
    "        clear_output(wait=True)\n",
    "        print (i_f)\n",
    "        dftemp=read_root(fname,\"wouterNueCC/pandoratree\",columns=[\"true_1eX_signal\",\"bnbweight\", \"nu_E\",\"shower_vtxdistance\",\"track_vtxdistance\",\n",
    "                                                                  \"true_vz\",\n",
    "                                                                  \"matched_showers\", \"matched_showers_energy\", \"shower_theta\", \"shower_phi\",\n",
    "                                                                  \"matched_tracks\", \"matched_tracks_energy\", \"track_theta\", \"track_phi\",\n",
    "                                                                  \"nu_daughters_pdg\",\"nu_daughters_E\", \"nu_daughters_px\", \"nu_daughters_py\", \"nu_daughters_pz\",\n",
    "                                                                  \"nu_pdg\",\n",
    "                                                                  \"fiducial\",\"vz\",\"n_tracks\",\"candidate_pdg\",\"numu_passed\",\n",
    "                                                                  'passed','category',\"n_showers\",\n",
    "                                                                  \"flash_PE_max\", \"flash_hypo_PE\"])\n",
    "        \n",
    "        # Fill proton arrays\n",
    "        for index, row in dftemp.iterrows():\n",
    "            if row[\"true_1eX_signal\"]==1:\n",
    "            ## Truth ones\n",
    "                for pdg,E,px,py,pz in zip(*row[[\"nu_daughters_pdg\",\"nu_daughters_E\", \"nu_daughters_px\", \"nu_daughters_py\", \"nu_daughters_pz\"]]):\n",
    "                    if pdg==2212 and E>(mass_p+0.04):\n",
    "                        theta,phi = cart2sph(px, py, pz)\n",
    "                        true_proton.append([E-mass_p,theta,phi]) \n",
    "\n",
    "            ## Reco ones\n",
    "                if row[\"category\"]==2: # and row[\"candidate_pdg\"]==12  and row[\"passed\"]==1 and row[\"fiducial\"]==1 :\n",
    "                    ### Showers\n",
    "                    for pdg,E,theta,phi in zip(*row[[\"matched_showers\", \"matched_showers_energy\", \"shower_theta\", \"shower_phi\"]]):\n",
    "                        if pdg==2212 and E>(mass_p+0.04):\n",
    "                            sh_proton.append([E-mass_p,theta,phi]) \n",
    "                    ### Track\n",
    "                    for pdg,E,theta,phi in zip(*row[[\"matched_tracks\", \"matched_tracks_energy\", \"track_theta\", \"track_phi\"]]):\n",
    "                        if pdg==2212 and E>(mass_p+0.04):\n",
    "                            tr_proton.append([E-mass_p,theta,phi]) \n",
    "                    \n",
    "        chunks.append(dftemp)\n",
    "\n",
    "    df = pd.concat(chunks,ignore_index=True,copy=False) \n",
    "    \n",
    "    df[\"vtx_activity_nr_sh\"] = df.apply(lambda x: sum(x[\"shower_vtxdistance\"]<vtx_activity_cut),axis=1)\n",
    "    df[\"vtx_activity_nr_tr\"] = df.apply(lambda x: sum(x[\"track_vtxdistance\"]<vtx_activity_cut),axis=1)\n",
    "    df[\"vtx_activity_nr\"] = df[\"vtx_activity_nr_sh\"]+df[\"vtx_activity_nr_tr\"]\n",
    "    df[\"reco_z_deadwire\"] = ~df['vz'].between(z_dead_start,z_dead_end)\n",
    "    df[\"true_z_deadwire\"] = ~df['true_vz'].between(z_dead_start,z_dead_end)\n",
    "    df[\"sig1\"],df[\"sig2\"],df[\"sig3\"],df[\"sig4\"] = zip(*df.apply(true_thresholds_1eNp,axis=1))\n",
    "    \n",
    "    \n",
    "    df.drop([\"nu_daughters_pdg\",\"nu_daughters_E\",\"shower_vtxdistance\",\"track_vtxdistance\"],inplace=True,axis=1)\n",
    "    df.to_pickle(\"df_nue.pckl\")\n",
    "    \n",
    "    true_proton = np.transpose(np.array(true_proton))\n",
    "    tr_proton = np.transpose(np.array(tr_proton))\n",
    "    sh_proton = np.transpose(np.array(sh_proton))"
   ]
  },
  {
   "cell_type": "code",
   "execution_count": 33,
   "metadata": {
    "collapsed": false
   },
   "outputs": [
    {
     "data": {
      "text/plain": [
       "<matplotlib.axes._subplots.AxesSubplot at 0x7fd2d9d176a0>"
      ]
     },
     "execution_count": 33,
     "metadata": {},
     "output_type": "execute_result"
    },
    {
     "data": {
      "image/png": "[encoded data removed]",
      "text/plain": [
       "<matplotlib.figure.Figure at 0x7fd2da416668>"
      ]
     },
     "metadata": {},
     "output_type": "display_data"
    }
   ],
   "source": [
    "df[\"sig2\"].hist()"
   ]
  },
  {
   "cell_type": "code",
   "execution_count": 50,
   "metadata": {
    "collapsed": false
   },
   "outputs": [
    {
     "name": "stdout",
     "output_type": "stream",
     "text": [
      "51357\n",
      "5415\n",
      "19055\n"
     ]
    },
    {
     "data": {
      "image/png": "[encoded data removed]",
      "text/plain": [
       "<matplotlib.figure.Figure at 0x7fb63002d390>"
      ]
     },
     "metadata": {},
     "output_type": "display_data"
    }
   ],
   "source": [
    "fig,ax=plt.subplots(ncols=3,nrows=1,figsize=(7*gr,4),sharey=False,sharex=False)\n",
    "\n",
    "xlims = [(0,0.4),(0,np.pi),(-np.pi,np.pi)]\n",
    "for i,xlim in enumerate(xlims):\n",
    "    weights = [np.ones_like(true_proton[i])/float(len(true_proton[i])),\n",
    "               np.ones_like(sh_proton[i])/float(len(sh_proton[i])),\n",
    "               np.ones_like(tr_proton[i])/float(len(tr_proton[i])),\n",
    "              ]\n",
    "    \n",
    "    ax[i].hist([true_proton[i],sh_proton[i],tr_proton[i]] ,bins=50,alpha=1.0,label=[r\"True $\\nu_e$ protons\",\"Shower reco protons\",\"Track reco protons\"],\n",
    "               normed=False, histtype='step', stacked=False, lw=1.5, range=xlim)#, weights=weights)\n",
    "\n",
    "ax[0].set_ylabel(r\"Events per bin\")\n",
    "ax[0].set_xlabel(\"True kinetic energy [GeV]\")\n",
    "ax[0].set_xlim(0,0.4)\n",
    "\n",
    "ax[1].set_ylabel(r\"Events per bin\")\n",
    "x_labels = [r'0', r'${\\pi}/{4}$', r'${\\pi}/{2}$', r'${3\\pi}/{4}$',r'${\\pi}$']\n",
    "x_ticks = [0,np.pi/4,np.pi/2,3*np.pi/4,np.pi]\n",
    "ax[1].set_xticks(x_ticks)\n",
    "ax[1].set_xticklabels(x_labels)\n",
    "ax[0].legend(loc=\"upper right\")\n",
    "ax[1].set_xlabel(r\"Proton angle wrt beam ($\\theta$) [rad]\")\n",
    "\n",
    "x_labels = [r'$-{\\pi}$',r'$-{\\pi}/{2}$',r'0', r'${\\pi}/{2}$', r'${\\pi}$']\n",
    "x_ticks = [-np.pi,-np.pi/2,0,np.pi/2,np.pi]\n",
    "ax[2].set_xticks(x_ticks)\n",
    "ax[2].set_xticklabels(x_labels)\n",
    "ax[2].set_ylabel(r\"Events per bin\")\n",
    "ax[2].set_xlabel(r\"Proton azimuthal angle ($\\phi$) [rad]\")\n",
    "\n",
    "\n",
    "\n",
    "fig.tight_layout()\n",
    "plt.savefig(\"../../Output/proton_abso.pdf\", bbox_inches='tight', pad_inches=0.1)\n",
    "\n",
    "print(len(true_proton[0]))\n",
    "print(len(sh_proton[0]))\n",
    "print(len(tr_proton[0]))"
   ]
  },
  {
   "cell_type": "code",
   "execution_count": 57,
   "metadata": {
    "collapsed": false
   },
   "outputs": [
    {
     "name": "stdout",
     "output_type": "stream",
     "text": [
      "51357\n",
      "5415\n",
      "19055\n"
     ]
    },
    {
     "data": {
      "text/plain": [
       "0.22129137719656722"
      ]
     },
     "execution_count": 57,
     "metadata": {},
     "output_type": "execute_result"
    },
    {
     "data": {
      "image/png": "[encoded data removed]",
      "text/plain": [
       "<matplotlib.figure.Figure at 0x7fb62f37b898>"
      ]
     },
     "metadata": {},
     "output_type": "display_data"
    }
   ],
   "source": [
    "fig,ax=plt.subplots(ncols=3,nrows=1,figsize=(7*gr,4),sharey=False,sharex=False)\n",
    "\n",
    "xlims = [(0,0.4),(0,np.pi),(-np.pi,np.pi)]\n",
    "for i,xlim in enumerate(xlims):\n",
    "    weights = [np.ones_like(true_proton[i])/float(len(true_proton[i])),\n",
    "               np.ones_like(sh_proton[i])/float(len(sh_proton[i])),\n",
    "               np.ones_like(tr_proton[i])/float(len(tr_proton[i])),\n",
    "              ]\n",
    "    \n",
    "    ax[i].hist([true_proton[i],sh_proton[i],tr_proton[i]] ,bins=50,alpha=1.0,label=[r\"True $\\nu_e$ protons\",\"Shower reco protons\",\"Track reco protons\"],\n",
    "               normed=False, histtype='step', stacked=False, lw=1.5, range=xlim, weights=weights)\n",
    "\n",
    "ax[0].set_ylabel(r\"Area normalised\")\n",
    "ax[0].set_xlabel(\"True kinetic energy [GeV]\")\n",
    "ax[0].set_xlim(0,0.4)\n",
    "\n",
    "ax[1].set_ylabel(r\"Area normalised\")\n",
    "x_labels = [r'0', r'${\\pi}/{4}$', r'${\\pi}/{2}$', r'${3\\pi}/{4}$',r'${\\pi}$']\n",
    "x_ticks = [0,np.pi/4,np.pi/2,3*np.pi/4,np.pi]\n",
    "ax[1].set_xticks(x_ticks)\n",
    "ax[1].set_xticklabels(x_labels)\n",
    "ax[0].legend(loc=\"upper right\")\n",
    "ax[1].set_xlabel(r\"Proton angle wrt beam ($\\theta$) [rad]\")\n",
    "\n",
    "x_labels = [r'$-{\\pi}$',r'$-{\\pi}/{2}$',r'0', r'${\\pi}/{2}$', r'${\\pi}$']\n",
    "x_ticks = [-np.pi,-np.pi/2,0,np.pi/2,np.pi]\n",
    "ax[2].set_xticks(x_ticks)\n",
    "ax[2].set_xticklabels(x_labels)\n",
    "ax[2].set_ylabel(r\"Area normalised\")\n",
    "ax[2].set_xlabel(r\"Proton azimuthal angle ($\\phi$) [rad]\")\n",
    "\n",
    "\n",
    "\n",
    "fig.tight_layout()\n",
    "plt.savefig(\"../../Output/proton_rela.pdf\", bbox_inches='tight', pad_inches=0.1)\n",
    "\n",
    "print(len(true_proton[0]))\n",
    "print(len(sh_proton[0]))\n",
    "print(len(tr_proton[0]))\n",
    "\n",
    "5415/(19055+5415)"
   ]
  },
  {
   "cell_type": "code",
   "execution_count": 52,
   "metadata": {
    "collapsed": false
   },
   "outputs": [
    {
     "data": {
      "image/png": "[encoded data removed]",
      "text/plain": [
       "<matplotlib.figure.Figure at 0x7fb60ffde2b0>"
      ]
     },
     "metadata": {},
     "output_type": "display_data"
    }
   ],
   "source": [
    "fig,ax=plt.subplots(figsize=(8,6))\n",
    "\n",
    "\n",
    "\n",
    "hb = ax.hist2d(sh_proton[1], sh_proton[2], bins=40,cmap=\"coolwarm\")\n",
    "cb = fig.colorbar(hb[3], ax=ax)\n",
    "\n",
    "x_labels = [r'0', r'${\\pi}/{4}$', r'${\\pi}/{2}$', r'${3\\pi}/{4}$',r'${\\pi}$']\n",
    "x_ticks = [0,np.pi/4,np.pi/2,3*np.pi/4,np.pi]\n",
    "ax.set_xticks(x_ticks)\n",
    "ax.set_xticklabels(x_labels)\n",
    "ax.set_title(r\"$\\theta$-$\\phi$ map of reconstructed proton showers in $\\nu_e$ events\")\n",
    "y_labels = [r'$-{\\pi}$',r'$-{\\pi}/{2}$',r'0', r'${\\pi}/{2}$', r'${\\pi}$']\n",
    "y_ticks = [-np.pi,-np.pi/2,0,np.pi/2,np.pi]\n",
    "ax.set_yticks(y_ticks)\n",
    "ax.set_yticklabels(y_labels)\n",
    "\n",
    "ax.set_xlabel(r\"Proton angle wrt beam ($\\theta$) [rad]\")\n",
    "ax.set_ylabel(r\"Proton azimuthal angle ($\\phi$) [rad]\")\n",
    "plt.savefig(\"../../Output/theta_phi_map.pdf\", bbox_inches='tight')"
   ]
  },
  {
   "cell_type": "code",
   "execution_count": null,
   "metadata": {
    "collapsed": false
   },
   "outputs": [],
   "source": []
  },
  {
   "cell_type": "code",
   "execution_count": 56,
   "metadata": {
    "collapsed": false
   },
   "outputs": [
    {
     "name": "stdout",
     "output_type": "stream",
     "text": [
      "[ 0.04766667  0.063       0.07833333  0.09366667  0.109       0.12433333\n",
      "  0.13966667  0.155       0.17033333  0.18566667  0.201       0.21633333\n",
      "  0.23166667  0.247       0.26233333  0.27766667  0.293       0.30833333\n",
      "  0.32366667  0.339       0.35433333  0.36966667  0.385       0.40033333\n",
      "  0.41566667  0.431       0.44633333  0.46166667  0.477       0.49233333]\n",
      "[ 0.06953291  0.19445419  0.26827094  0.33530201  0.38219732  0.40086674\n",
      "  0.45238095  0.43691589  0.46940874  0.48630554  0.49193028  0.51365706\n",
      "  0.53839802  0.53615023  0.53362734  0.53855569  0.58082192  0.53586498\n",
      "  0.5516129   0.6299639   0.58641975  0.58390805  0.599022    0.6043956\n",
      "  0.5727003   0.52173913  0.58803987  0.5770751   0.60169492  0.59259259]\n"
     ]
    },
    {
     "data": {
      "image/png": "[encoded data removed]",
      "text/plain": [
       "<matplotlib.figure.Figure at 0x7fb5f7fdecc0>"
      ]
     },
     "metadata": {},
     "output_type": "display_data"
    }
   ],
   "source": [
    "# Proton reco eff\n",
    "fig,ax=plt.subplots(figsize=(5,3))\n",
    "x_min = 0.04\n",
    "x_max = 0.5\n",
    "N = 30\n",
    "bhalf=(x_max-x_min)/2/N\n",
    "\n",
    "true_bins, edges = np.histogram(true_proton[0], bins=N, range = (x_min,x_max))\n",
    "\n",
    "sh_bins, edges = np.histogram(sh_proton[0], bins=N, range = (x_min,x_max))\n",
    "tr_bins, edges = np.histogram(tr_proton[0], bins=N, range = (x_min,x_max))\n",
    "\n",
    "y_err= np.sqrt(sh_bins+tr_bins)/true_bins\n",
    "ax.bar(edges[:-1]+bhalf,tr_bins/true_bins, label=\"Tracks\",width=2*bhalf)\n",
    "ax.bar(edges[:-1]+bhalf,sh_bins/true_bins, bottom=tr_bins/true_bins, label=\"Showers\",width=2*bhalf,yerr=y_err)\n",
    "ax.legend(loc=\"upper left\")\n",
    "ax.set_xlim(x_min,x_max)\n",
    "ax.set_ylim(0,1)\n",
    "ax.set_title(\"Proton reco efficiency above 40MeV\")\n",
    "ax.set_xlabel(\"True proton kinetic energy [MeV]\")\n",
    "ax.set_ylabel(\"Stacked efficiency\")\n",
    "\n",
    "\n",
    "print(edges[:-1]+bhalf)\n",
    "print(tr_bins/true_bins)\n",
    "\n",
    "\n",
    "fig.tight_layout()\n",
    "plt.savefig(\"../../Output/proton_eff.pdf\", bbox_inches='tight')"
   ]
  },
  {
   "cell_type": "code",
   "execution_count": 35,
   "metadata": {
    "collapsed": false
   },
   "outputs": [
    {
     "name": "stdout",
     "output_type": "stream",
     "text": [
      "196000\n"
     ]
    }
   ],
   "source": [
    "#df_tune3 = pd.read_pickle(\"df_nue_tune3.pckl\")\n",
    "df_tune1 = pd.read_pickle(\"df_nue.pckl\")\n",
    "#print(len(df_tune3.index))\n",
    "print(len(df_tune1.index))"
   ]
  },
  {
   "cell_type": "code",
   "execution_count": 36,
   "metadata": {
    "collapsed": false
   },
   "outputs": [
    {
     "data": {
      "text/plain": [
       "12            190274\n",
       "4294967284      5726\n",
       "Name: nu_pdg, dtype: int64"
      ]
     },
     "execution_count": 36,
     "metadata": {},
     "output_type": "execute_result"
    }
   ],
   "source": [
    "df_tune1[\"nu_pdg\"].value_counts()"
   ]
  },
  {
   "cell_type": "code",
   "execution_count": 40,
   "metadata": {
    "collapsed": false
   },
   "outputs": [
    {
     "name": "stdout",
     "output_type": "stream",
     "text": [
      "46289\n",
      "31312\n",
      "23658\n",
      "14474\n",
      "15513\n",
      "46.2250894226\n",
      "65.5718995689\n"
     ]
    }
   ],
   "source": [
    "print(sum(df_tune1[\"true_1eX_signal\"]))\n",
    "print(sum(df_tune1[\"sig1\"]))\n",
    "print(sum(df_tune1[\"sig2\"]))\n",
    "print(sum(df_tune1[\"sig3\"]))\n",
    "print(sum(df_tune1[\"sig4\"]))\n",
    "\n",
    "print(sum(df_tune1[\"sig3\"])/sum(df_tune1[\"sig1\"])*100)\n",
    "print(sum(df_tune1[\"sig4\"])/sum(df_tune1[\"sig2\"])*100)"
   ]
  },
  {
   "cell_type": "code",
   "execution_count": 46,
   "metadata": {
    "collapsed": false
   },
   "outputs": [
    {
     "data": {
      "text/plain": [
       "12            41583\n",
       "4294967284        1\n",
       "Name: nu_pdg, dtype: int64"
      ]
     },
     "execution_count": 46,
     "metadata": {},
     "output_type": "execute_result"
    }
   ],
   "source": [
    "str_query = \"true_1eX_signal==1 & true_z_deadwire==1\"\n",
    "df_1eX = df_tune1.query(str_query)\n",
    "df_1eX_tune1 = df_tune1.query(str_query)\n",
    "df_1eX.head()\n",
    "\n",
    "df_1eX_tune1[\"nu_pdg\"].value_counts()"
   ]
  },
  {
   "cell_type": "code",
   "execution_count": 47,
   "metadata": {
    "collapsed": false
   },
   "outputs": [
    {
     "name": "stdout",
     "output_type": "stream",
     "text": [
      "12980\n"
     ]
    }
   ],
   "source": [
    "df_1eNp = df_1eX.query(\"sig1==1\")\n",
    "df_1eNp40 = df_1eX.query(\"sig2==1\")\n",
    "df_1e1p = df_1eX.query(\"sig3==1\")\n",
    "df_1e1p40 = df_1eX.query(\"sig4==1\")\n",
    "#df_1e1p_tune3 = df_1eX_tune1.query(\"true_1e1p_signal==1\")\n",
    "#print(len(df_1e1p_tune3))\n",
    "print(len(df_1e1p))"
   ]
  },
  {
   "cell_type": "code",
   "execution_count": 48,
   "metadata": {
    "collapsed": true
   },
   "outputs": [],
   "source": [
    "str_passed = \"passed==1 & fiducial==1 & reco_z_deadwire==1 & category==2\"\n",
    "df_passed = df_1eX.query(str_passed)\n",
    "df_passed_shower = df_passed.query(\"vtx_activity_nr_sh>0\")\n",
    "df_passed_pdg = df_passed.query(\"candidate_pdg==12\")\n",
    "\n",
    "df_passed_2obj = df_passed_shower.query(\"vtx_activity_nr>1\")\n",
    "df_passed_pdg_2obj = df_passed_2obj.query(\"candidate_pdg==12\")\n",
    "df_passed_shtr = df_passed_shower.query(\"n_tracks>0\")\n",
    "nominators = [df_passed,df_passed_pdg,df_passed_2obj]\n",
    "labels = [\"Optical + fiducial cuts           \",\n",
    "          \"At least one shower               \",\n",
    "          \"1+shower and other objects \"]"
   ]
  },
  {
   "cell_type": "code",
   "execution_count": 15,
   "metadata": {
    "collapsed": false
   },
   "outputs": [
    {
     "data": {
      "text/html": [
       "<div>\n",
       "<table border=\"1\" class=\"dataframe\">\n",
       "  <thead>\n",
       "    <tr style=\"text-align: right;\">\n",
       "      <th></th>\n",
       "      <th>matched_showers_energy</th>\n",
       "      <th>passed</th>\n",
       "      <th>true_1eX_signal</th>\n",
       "      <th>bnbweight</th>\n",
       "      <th>true_vz</th>\n",
       "      <th>nu_pdg</th>\n",
       "      <th>nu_daughters_px</th>\n",
       "      <th>n_showers</th>\n",
       "      <th>matched_showers</th>\n",
       "      <th>nu_daughters_py</th>\n",
       "      <th>n_tracks</th>\n",
       "      <th>fiducial</th>\n",
       "      <th>vz</th>\n",
       "      <th>nu_daughters_pz</th>\n",
       "      <th>nu_E</th>\n",
       "      <th>numu_passed</th>\n",
       "      <th>matched_tracks</th>\n",
       "      <th>matched_tracks_energy</th>\n",
       "      <th>track_phi</th>\n",
       "      <th>category</th>\n",
       "      <th>track_theta</th>\n",
       "      <th>flash_PE_max</th>\n",
       "      <th>flash_hypo_PE</th>\n",
       "      <th>shower_theta</th>\n",
       "      <th>shower_phi</th>\n",
       "      <th>candidate_pdg</th>\n",
       "      <th>vtx_activity_nr_sh</th>\n",
       "      <th>vtx_activity_nr_tr</th>\n",
       "      <th>vtx_activity_nr</th>\n",
       "      <th>reco_z_deadwire</th>\n",
       "      <th>true_z_deadwire</th>\n",
       "      <th>true_1e1p_signal</th>\n",
       "    </tr>\n",
       "  </thead>\n",
       "  <tbody>\n",
       "    <tr>\n",
       "      <th>6</th>\n",
       "      <td>[-1.79769313486e+308]</td>\n",
       "      <td>1</td>\n",
       "      <td>1</td>\n",
       "      <td>0.976638</td>\n",
       "      <td>70.391029</td>\n",
       "      <td>12</td>\n",
       "      <td>[0.374208714359, 0.0, -0.29593701714]</td>\n",
       "      <td>1</td>\n",
       "      <td>[11]</td>\n",
       "      <td>[-0.0360214874636, 0.0, -0.170756143821]</td>\n",
       "      <td>2</td>\n",
       "      <td>1</td>\n",
       "      <td>74.381638</td>\n",
       "      <td>[0.51494193767, 0.0, 0.0506789742137]</td>\n",
       "      <td>0.760407</td>\n",
       "      <td>0</td>\n",
       "      <td>[11, 2212]</td>\n",
       "      <td>[0.637569737168, 0.999829539258]</td>\n",
       "      <td>[-0.0906409879937, -2.67236754192]</td>\n",
       "      <td>2</td>\n",
       "      <td>[0.624400974965, 1.62805570273]</td>\n",
       "      <td>380.012621</td>\n",
       "      <td>[507.0, 393.0]</td>\n",
       "      <td>[0.62820299478]</td>\n",
       "      <td>[-0.0506338198446]</td>\n",
       "      <td>14</td>\n",
       "      <td>0</td>\n",
       "      <td>2</td>\n",
       "      <td>2</td>\n",
       "      <td>True</td>\n",
       "      <td>True</td>\n",
       "      <td>True</td>\n",
       "    </tr>\n",
       "    <tr>\n",
       "      <th>11</th>\n",
       "      <td>[]</td>\n",
       "      <td>1</td>\n",
       "      <td>1</td>\n",
       "      <td>0.537343</td>\n",
       "      <td>390.533393</td>\n",
       "      <td>12</td>\n",
       "      <td>[0.131336990398, -0.144289941176]</td>\n",
       "      <td>0</td>\n",
       "      <td>[]</td>\n",
       "      <td>[-0.125950167132, 0.142754372998]</td>\n",
       "      <td>2</td>\n",
       "      <td>1</td>\n",
       "      <td>390.517944</td>\n",
       "      <td>[-0.0920718648939, 0.590430270043]</td>\n",
       "      <td>0.430958</td>\n",
       "      <td>0</td>\n",
       "      <td>[11, 2212]</td>\n",
       "      <td>[0.203937095871, 1.12701405151]</td>\n",
       "      <td>[-0.722451912717, 2.30455455385]</td>\n",
       "      <td>2</td>\n",
       "      <td>[2.03432514046, 0.349367381935]</td>\n",
       "      <td>2213.321607</td>\n",
       "      <td>[1594.0]</td>\n",
       "      <td>[]</td>\n",
       "      <td>[]</td>\n",
       "      <td>14</td>\n",
       "      <td>0</td>\n",
       "      <td>2</td>\n",
       "      <td>2</td>\n",
       "      <td>True</td>\n",
       "      <td>True</td>\n",
       "      <td>True</td>\n",
       "    </tr>\n",
       "    <tr>\n",
       "      <th>31</th>\n",
       "      <td>[1.27814488774]</td>\n",
       "      <td>1</td>\n",
       "      <td>1</td>\n",
       "      <td>0.955723</td>\n",
       "      <td>193.336067</td>\n",
       "      <td>12</td>\n",
       "      <td>[-0.10076764847, 0.0437767018274, 0.0927817761...</td>\n",
       "      <td>1</td>\n",
       "      <td>[11]</td>\n",
       "      <td>[0.0853422037978, 0.0612219407706, -0.08088264...</td>\n",
       "      <td>1</td>\n",
       "      <td>1</td>\n",
       "      <td>193.532211</td>\n",
       "      <td>[1.27130510981, 0.256909888298, 0.263374579184...</td>\n",
       "      <td>1.667308</td>\n",
       "      <td>1</td>\n",
       "      <td>[211]</td>\n",
       "      <td>[0.281598611067]</td>\n",
       "      <td>[-2.53575819473]</td>\n",
       "      <td>2</td>\n",
       "      <td>[2.35161873453]</td>\n",
       "      <td>11642.854374</td>\n",
       "      <td>[13370.0]</td>\n",
       "      <td>[0.138721597739]</td>\n",
       "      <td>[2.76499412265]</td>\n",
       "      <td>12</td>\n",
       "      <td>1</td>\n",
       "      <td>1</td>\n",
       "      <td>2</td>\n",
       "      <td>True</td>\n",
       "      <td>True</td>\n",
       "      <td>False</td>\n",
       "    </tr>\n",
       "    <tr>\n",
       "      <th>54</th>\n",
       "      <td>[0.605341188701, 0.212077949755]</td>\n",
       "      <td>1</td>\n",
       "      <td>1</td>\n",
       "      <td>0.533945</td>\n",
       "      <td>929.688126</td>\n",
       "      <td>12</td>\n",
       "      <td>[-0.179452763678, -0.0461324499657, 0.03327814...</td>\n",
       "      <td>2</td>\n",
       "      <td>[11, 211]</td>\n",
       "      <td>[0.0589675779623, 0.00932116414703, 0.00035093...</td>\n",
       "      <td>0</td>\n",
       "      <td>1</td>\n",
       "      <td>929.289307</td>\n",
       "      <td>[0.575114965877, -0.0182339843573, -0.01095195...</td>\n",
       "      <td>0.890873</td>\n",
       "      <td>0</td>\n",
       "      <td>[]</td>\n",
       "      <td>[]</td>\n",
       "      <td>[]</td>\n",
       "      <td>2</td>\n",
       "      <td>[]</td>\n",
       "      <td>5892.056042</td>\n",
       "      <td>[7343.0]</td>\n",
       "      <td>[0.0964471309355, 1.61400562682]</td>\n",
       "      <td>[0.910162244728, -1.87409012853]</td>\n",
       "      <td>12</td>\n",
       "      <td>2</td>\n",
       "      <td>0</td>\n",
       "      <td>2</td>\n",
       "      <td>True</td>\n",
       "      <td>True</td>\n",
       "      <td>False</td>\n",
       "    </tr>\n",
       "    <tr>\n",
       "      <th>91</th>\n",
       "      <td>[]</td>\n",
       "      <td>1</td>\n",
       "      <td>1</td>\n",
       "      <td>0.537343</td>\n",
       "      <td>117.387681</td>\n",
       "      <td>12</td>\n",
       "      <td>[-0.17825415003, 0.257184897156]</td>\n",
       "      <td>0</td>\n",
       "      <td>[]</td>\n",
       "      <td>[0.0952690532132, -0.0950301884571]</td>\n",
       "      <td>1</td>\n",
       "      <td>1</td>\n",
       "      <td>117.745445</td>\n",
       "      <td>[0.0295632820427, 0.571143392508]</td>\n",
       "      <td>0.436954</td>\n",
       "      <td>0</td>\n",
       "      <td>[2212]</td>\n",
       "      <td>[1.13213689686]</td>\n",
       "      <td>[-0.34333840591]</td>\n",
       "      <td>2</td>\n",
       "      <td>[0.473629604842]</td>\n",
       "      <td>3936.509381</td>\n",
       "      <td>[3156.0]</td>\n",
       "      <td>[]</td>\n",
       "      <td>[]</td>\n",
       "      <td>14</td>\n",
       "      <td>0</td>\n",
       "      <td>1</td>\n",
       "      <td>1</td>\n",
       "      <td>True</td>\n",
       "      <td>True</td>\n",
       "      <td>True</td>\n",
       "    </tr>\n",
       "  </tbody>\n",
       "</table>\n",
       "</div>"
      ],
      "text/plain": [
       "              matched_showers_energy  passed  true_1eX_signal  bnbweight  \\\n",
       "6              [-1.79769313486e+308]       1                1   0.976638   \n",
       "11                                []       1                1   0.537343   \n",
       "31                   [1.27814488774]       1                1   0.955723   \n",
       "54  [0.605341188701, 0.212077949755]       1                1   0.533945   \n",
       "91                                []       1                1   0.537343   \n",
       "\n",
       "       true_vz  nu_pdg                                    nu_daughters_px  \\\n",
       "6    70.391029      12              [0.374208714359, 0.0, -0.29593701714]   \n",
       "11  390.533393      12                  [0.131336990398, -0.144289941176]   \n",
       "31  193.336067      12  [-0.10076764847, 0.0437767018274, 0.0927817761...   \n",
       "54  929.688126      12  [-0.179452763678, -0.0461324499657, 0.03327814...   \n",
       "91  117.387681      12                   [-0.17825415003, 0.257184897156]   \n",
       "\n",
       "    n_showers matched_showers  \\\n",
       "6           1            [11]   \n",
       "11          0              []   \n",
       "31          1            [11]   \n",
       "54          2       [11, 211]   \n",
       "91          0              []   \n",
       "\n",
       "                                      nu_daughters_py  n_tracks  fiducial  \\\n",
       "6            [-0.0360214874636, 0.0, -0.170756143821]         2         1   \n",
       "11                  [-0.125950167132, 0.142754372998]         2         1   \n",
       "31  [0.0853422037978, 0.0612219407706, -0.08088264...         1         1   \n",
       "54  [0.0589675779623, 0.00932116414703, 0.00035093...         0         1   \n",
       "91                [0.0952690532132, -0.0950301884571]         1         1   \n",
       "\n",
       "            vz                                    nu_daughters_pz      nu_E  \\\n",
       "6    74.381638              [0.51494193767, 0.0, 0.0506789742137]  0.760407   \n",
       "11  390.517944                 [-0.0920718648939, 0.590430270043]  0.430958   \n",
       "31  193.532211  [1.27130510981, 0.256909888298, 0.263374579184...  1.667308   \n",
       "54  929.289307  [0.575114965877, -0.0182339843573, -0.01095195...  0.890873   \n",
       "91  117.745445                  [0.0295632820427, 0.571143392508]  0.436954   \n",
       "\n",
       "    numu_passed matched_tracks             matched_tracks_energy  \\\n",
       "6             0     [11, 2212]  [0.637569737168, 0.999829539258]   \n",
       "11            0     [11, 2212]   [0.203937095871, 1.12701405151]   \n",
       "31            1          [211]                  [0.281598611067]   \n",
       "54            0             []                                []   \n",
       "91            0         [2212]                   [1.13213689686]   \n",
       "\n",
       "                             track_phi  category  \\\n",
       "6   [-0.0906409879937, -2.67236754192]         2   \n",
       "11    [-0.722451912717, 2.30455455385]         2   \n",
       "31                    [-2.53575819473]         2   \n",
       "54                                  []         2   \n",
       "91                    [-0.34333840591]         2   \n",
       "\n",
       "                        track_theta  flash_PE_max   flash_hypo_PE  \\\n",
       "6   [0.624400974965, 1.62805570273]    380.012621  [507.0, 393.0]   \n",
       "11  [2.03432514046, 0.349367381935]   2213.321607        [1594.0]   \n",
       "31                  [2.35161873453]  11642.854374       [13370.0]   \n",
       "54                               []   5892.056042        [7343.0]   \n",
       "91                 [0.473629604842]   3936.509381        [3156.0]   \n",
       "\n",
       "                        shower_theta                        shower_phi  \\\n",
       "6                    [0.62820299478]                [-0.0506338198446]   \n",
       "11                                []                                []   \n",
       "31                  [0.138721597739]                   [2.76499412265]   \n",
       "54  [0.0964471309355, 1.61400562682]  [0.910162244728, -1.87409012853]   \n",
       "91                                []                                []   \n",
       "\n",
       "    candidate_pdg  vtx_activity_nr_sh  vtx_activity_nr_tr  vtx_activity_nr  \\\n",
       "6              14                   0                   2                2   \n",
       "11             14                   0                   2                2   \n",
       "31             12                   1                   1                2   \n",
       "54             12                   2                   0                2   \n",
       "91             14                   0                   1                1   \n",
       "\n",
       "   reco_z_deadwire true_z_deadwire true_1e1p_signal  \n",
       "6             True            True             True  \n",
       "11            True            True             True  \n",
       "31            True            True            False  \n",
       "54            True            True            False  \n",
       "91            True            True             True  "
      ]
     },
     "execution_count": 15,
     "metadata": {},
     "output_type": "execute_result"
    }
   ],
   "source": [
    "nominators[0].head()"
   ]
  },
  {
   "cell_type": "code",
   "execution_count": 51,
   "metadata": {
    "collapsed": false
   },
   "outputs": [],
   "source": [
    "E_denom = df_1eX[\"nu_E\"]\n",
    "weight_denom = df_1eX[\"bnbweight\"]\n",
    "\n",
    "E_nom1 = df_1eNp[\"nu_E\"]\n",
    "weight_nom1 = df_1eNp[\"bnbweight\"]\n",
    "\n",
    "E_nom2 = df_1eNp40[\"nu_E\"]\n",
    "weight_nom2 = df_1eNp40[\"bnbweight\"]\n",
    "\n",
    "E_nom3 = df_1e1p[\"nu_E\"]\n",
    "weight_nom3 = df_1e1p[\"bnbweight\"]\n",
    "\n",
    "E_nom4 = df_1e1p40[\"nu_E\"]\n",
    "weight_nom4 = df_1e1p40[\"bnbweight\"]\n",
    "\n",
    "#E_denom_tune3 = df_1eX_tune1[\"nu_E\"]\n",
    "#weight_denom_tune3 = df_1eX_tune3[\"bnbweight\"]\n",
    "#E_nom_tune3 = df_1e1p_tune3[\"nu_E\"]\n",
    "#weight_nom_tune3 = df_1e1p_tune3[\"bnbweight\"]"
   ]
  },
  {
   "cell_type": "code",
   "execution_count": 58,
   "metadata": {
    "collapsed": false,
    "scrolled": false
   },
   "outputs": [
    {
     "name": "stdout",
     "output_type": "stream",
     "text": [
      "62 Optical + fiducial cuts           \n",
      "49 At least one shower               \n",
      "38 1+shower and other objects \n"
     ]
    },
    {
     "data": {
      "image/png": "[encoded data removed]",
      "text/plain": [
       "<matplotlib.figure.Figure at 0x7fd2e029dcc0>"
      ]
     },
     "metadata": {},
     "output_type": "display_data"
    }
   ],
   "source": [
    "# Make the signal plot to motivate the inclusive channel \n",
    "# from a final state point of view and from a reconstruction point of view\n",
    "\n",
    "fig,ax=plt.subplots(ncols=2,nrows=1,figsize=(8*gr,6),sharey=False,sharex=True)\n",
    "N = 10\n",
    "min_x = 0.2\n",
    "max_x = 1.2\n",
    "binwidth=(max_x-min_x)/N\n",
    "halfbin = binwidth/2\n",
    "step=0.2\n",
    "\n",
    "denom, edges = np.histogram(E_denom,bins=N,range=(min_x,max_x),weights=weight_denom)\n",
    "nom1, _       = np.histogram(E_nom1,bins=N,range=(min_x,max_x),weights=weight_nom1)\n",
    "eff1 = nom1/denom\n",
    "\n",
    "nom2, _       = np.histogram(E_nom2,bins=N,range=(min_x,max_x),weights=weight_nom2)\n",
    "eff2 = nom2/denom\n",
    "\n",
    "nom3, _       = np.histogram(E_nom3,bins=N,range=(min_x,max_x),weights=weight_nom3)\n",
    "eff3 = nom3/denom\n",
    "\n",
    "nom4, _       = np.histogram(E_nom4,bins=N,range=(min_x,max_x),weights=weight_nom4)\n",
    "eff4 = nom4/denom\n",
    "\n",
    "#denom_tune3, _ = np.histogram(E_denom_tune3,bins=N,range=(min_x,max_x),weights=weight_denom_tune3)\n",
    "#nom_tune3, _       = np.histogram(E_nom_tune3,bins=N,range=(min_x,max_x),weights=weight_nom_tune3)\n",
    "#eff_tune3 = nom_tune3/denom_tune3\n",
    "\n",
    "\n",
    "ax[0].set_title('Final State Signal Ratio')\n",
    "ax[0].errorbar(edges[:-1]+halfbin, denom/denom , xerr=halfbin, yerr=effErr(denom,denom),alpha=1.0,fmt='.',label=r'1eX ($E_{kin}(e^-) > 20$MeV)')\n",
    "ax[0].errorbar(edges[:-1]+halfbin, eff1 , xerr=halfbin, yerr=effErr(nom,denom),alpha=1.0,fmt='.',label=r'1e Np 0$\\pi$')\n",
    "ax[0].errorbar(edges[:-1]+halfbin, eff2 , xerr=halfbin, yerr=effErr(nom,denom),alpha=1.0,fmt='.',label=r'1e Np 0$\\pi$ ($E_{kin}(p) > 40$MeV)')\n",
    "ax[0].errorbar(edges[:-1]+halfbin, eff3 , xerr=halfbin, yerr=effErr(nom,denom),alpha=1.0,fmt='.',label=r'1e 1p 0$\\pi$')\n",
    "ax[0].errorbar(edges[:-1]+halfbin, eff4 , xerr=halfbin, yerr=effErr(nom,denom),alpha=1.0,fmt='.',label=r'1e 1p 0$\\pi$ ($E_{kin}(p) > 40$MeV)')\n",
    "#ax[0].errorbar(edges[:-1]+halfbin, eff_tune1 , xerr=halfbin, yerr=effErr(nom_tune1,denom_tune1),alpha=1.0,fmt='.',label=r'1e Np 0$\\pi$ ($E_{kin}(p) > 40$MeV) Tune 3')\n",
    "\n",
    "\n",
    "ax[1].set_title('Efficiency (Reco-Truth Matched)')\n",
    "ax[1].errorbar(edges[:-1]+halfbin, denom/denom , xerr=halfbin, yerr=effErr(denom,denom),alpha=1.0,fmt='.',label=r'1eX ($E_{kin}(e^-) > 20$MeV)')\n",
    "for df,lab in zip(nominators,labels):\n",
    "    percent = int(df[df[\"bnbweight\"]!=1][\"bnbweight\"].sum()/df_1eX[df_1eX[\"bnbweight\"]!=1][\"bnbweight\"].sum()*100)\n",
    "    print(percent,lab)\n",
    "    nom,_ = np.histogram(df[\"nu_E\"],bins=N,range=(min_x,max_x),weights=df[\"bnbweight\"])\n",
    "    eff = nom/denom \n",
    "    ax[1].errorbar(edges[:-1]+halfbin, eff , xerr=halfbin, yerr=effErr(nom,denom),alpha=1.0,fmt='.',label=lab+\"(\"+str(percent)+\"%)\")\n",
    "\n",
    "#ax[0].set_frame_on(False)\n",
    "#ax[1].set_frame_on(False)\n",
    "\n",
    "ax[0].set_ylabel('Signal ratio ('+sciNot2(binwidth)+' GeV bins)')\n",
    "ax[1].set_ylabel('Selection efficiency ('+sciNot2(binwidth)+' GeV bins)')\n",
    "\n",
    "ax[0].set_xlim(min_x,max_x)\n",
    "ax[1].set_xlim(min_x,max_x)\n",
    "\n",
    "ax[0].set_ylim(0,1.1)\n",
    "ax[1].set_ylim(0,1.1)\n",
    "\n",
    "ax[0].set_xlabel(r'True $\\nu_e$ energy [GeV]')\n",
    "ax[1].set_xlabel(r'True $\\nu_e$ energy [GeV]')\n",
    "\n",
    "ax[0].legend(loc=\"lower center\")\n",
    "ax[1].legend(loc=\"center\", bbox_to_anchor=(0.5, 0.75))\n",
    "\n",
    "plt.tight_layout(w_pad=3.5)\n",
    "#fig.subplots_adjust(top=0.85)\n",
    "plt.savefig(\"../../Output/eff_pur_nue_new.pdf\", bbox_inches='tight', pad_inches=0.1)"
   ]
  },
  {
   "cell_type": "code",
   "execution_count": null,
   "metadata": {
    "collapsed": true
   },
   "outputs": [],
   "source": []
  },
  {
   "cell_type": "code",
   "execution_count": null,
   "metadata": {
    "collapsed": true
   },
   "outputs": [],
   "source": []
  },
  {
   "cell_type": "code",
   "execution_count": null,
   "metadata": {
    "collapsed": true
   },
   "outputs": [],
   "source": []
  }
 ],
 "metadata": {
  "anaconda-cloud": {},
  "kernelspec": {
   "display_name": "Python [default]",
   "language": "python",
   "name": "python3"
  },
  "language_info": {
   "codemirror_mode": {
    "name": "ipython",
    "version": 3
   },
   "file_extension": ".py",
   "mimetype": "text/x-python",
   "name": "python",
   "nbconvert_exporter": "python",
   "pygments_lexer": "ipython3",
   "version": "3.4.5"
  }
 },
 "nbformat": 4,
 "nbformat_minor": 2
}
