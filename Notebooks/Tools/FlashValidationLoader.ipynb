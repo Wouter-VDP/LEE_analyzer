{
 "cells": [
  {
   "cell_type": "code",
   "execution_count": 1,
   "metadata": {
    "collapsed": false
   },
   "outputs": [
    {
     "ename": "ModuleNotFoundError",
     "evalue": "No module named 'root_pandas'",
     "output_type": "error",
     "traceback": [
      "\u001b[0;31m---------------------------------------------------------------------------\u001b[0m",
      "\u001b[0;31mModuleNotFoundError\u001b[0m                       Traceback (most recent call last)",
      "\u001b[0;32m<ipython-input-1-4ec4d45a88e1>\u001b[0m in \u001b[0;36m<module>\u001b[0;34m()\u001b[0m\n\u001b[1;32m      3\u001b[0m \u001b[0;32mimport\u001b[0m \u001b[0mglob\u001b[0m\u001b[0;34m\u001b[0m\u001b[0m\n\u001b[1;32m      4\u001b[0m \u001b[0;32mimport\u001b[0m \u001b[0mos\u001b[0m\u001b[0;34m\u001b[0m\u001b[0m\n\u001b[0;32m----> 5\u001b[0;31m \u001b[0;32mfrom\u001b[0m \u001b[0mroot_pandas\u001b[0m \u001b[0;32mimport\u001b[0m \u001b[0mread_root\u001b[0m\u001b[0;34m\u001b[0m\u001b[0m\n\u001b[0m\u001b[1;32m      6\u001b[0m \u001b[0;34m\u001b[0m\u001b[0m\n\u001b[1;32m      7\u001b[0m \u001b[0;31m#from root_pandas import read_root\u001b[0m\u001b[0;34m\u001b[0m\u001b[0;34m\u001b[0m\u001b[0m\n",
      "\u001b[0;31mModuleNotFoundError\u001b[0m: No module named 'root_pandas'"
     ]
    }
   ],
   "source": [
    "import numpy as np\n",
    "import pandas as pd\n",
    "import glob\n",
    "import os\n",
    "from root_pandas import read_root\n",
    "\n",
    "#from root_pandas import read_root\n",
    "from IPython.display import clear_output"
   ]
  },
  {
   "cell_type": "code",
   "execution_count": 2,
   "metadata": {
    "collapsed": true
   },
   "outputs": [],
   "source": [
    "# First is the folder name, second is the way how it should be treated (true, signal, data)\n",
    "projects =    [\"bnb_nu_cosmic_0s0t_dev\",\n",
    "               \"bnb_nue_cosmic_0s0t_dev\",\n",
    "               \"bnb_nu_cosmic_tune3_0s0t_dev\",\n",
    "               \"bnb_nu_cosmic_overlaid_0s0t_dev\",\n",
    "               \"bnb_nu_cosmic_inducedcharge\",\n",
    "               \"bnb_nu_cosmic_lightbug\",\n",
    "               \"cosmic_intime_0s0t_dev\",\n",
    "               \"data_bnb_a_0s0t\",\n",
    "               \"data_bnb_b_0s0t\",\n",
    "               \"data_bnbext_a_0s0t\",\n",
    "              ]\n",
    "\n",
    "project_out = [\"nu\",\n",
    "               \"nue\",\n",
    "               \"nu_tune3\",\n",
    "               \"nu_overlaid\",\n",
    "               \"nu_induced\",\n",
    "               \"nu_lightbug\",\n",
    "               \"intime\",\n",
    "               \"bnb_a\",\n",
    "               \"bnb_b\",\n",
    "               \"bnbext_a\",\n",
    "              ]\n",
    "\n",
    "\n",
    "projects = [\"data_bnbext_a_0s0t_v14\",\"data_bnb_a_0s0t_v14\",\"data_bnb_b_0s0t_v14\"]\n",
    "project_out = [\"bnbext_a_v14\", \"bnb_a_v14\", \"bnb_b_v14\"]"
   ]
  },
  {
   "cell_type": "code",
   "execution_count": 3,
   "metadata": {
    "collapsed": true
   },
   "outputs": [],
   "source": [
    "# Main datafram\n",
    "columns= [ # True\n",
    "          \"run\", \"subrun\", \"event\",\n",
    "          \"bnbweight\",\"nu_E\",\n",
    "          \"true_1eX_signal\",\n",
    "          #\"nu_daughters_pdg\",\"nu_daughters_E\",\n",
    "          \"true_vx\",\"true_vy\",\"true_vz\",\n",
    "           # Reco\n",
    "          \"category\",\n",
    "          \"n_primaries\", 'primary_indexes',\n",
    "          \"flash_time\", \"flash_PE\",\n",
    "          \"flash_x\",\"flash_score\",\"TPC_x\",\n",
    "          \"flash_passed\",\n",
    "          \"chargecenter_candidates_total\",\n",
    "          \"number_primary_tracks\", \"number_primary_showers\",\n",
    "          \"shower_passed\",\"track_passed\",\n",
    "          \"flash_PE_max\", \"flash_hypo_PE\", \"flash_matchid\"\n",
    "]\n",
    "\n",
    "\n",
    "# Candidates dataframe\n",
    "columns_candidates_flat = [\"bnbweight\",\"true_1eX_signal\",\"true_vz\",\"n_primaries\", \"nu_E\",\n",
    "                           \"flash_y\", \"flash_sy\", \"flash_z\", \"flash_sz\", \"flash_PE_max\"\n",
    "                          ]\n",
    "\n",
    "columns_candidates = [\"number_tracks\", \"number_showers\",\n",
    "                      \"number_primary_tracks\", \"number_primary_showers\",\n",
    "                      \"shower_passed\",\"track_passed\",\n",
    "                      \"flash_passed\",\n",
    "                      \"chargecenter_candidates_x\",\n",
    "                      \"chargecenter_candidates_y\",\n",
    "                      \"chargecenter_candidates_z\",\n",
    "                      \"chargecenter_candidates_total\"\n",
    "                     ]"
   ]
  },
  {
   "cell_type": "code",
   "execution_count": 4,
   "metadata": {
    "collapsed": true
   },
   "outputs": [],
   "source": [
    "flux_corr = 1.028\n",
    "mass_p= 0.93827 #GeV\n",
    "mass_e= 0.00511 #GeV\n",
    "# Minimum reconstructable energies:\n",
    "min_e = 0.02+mass_e # 20MeV\n",
    "min_p = 0.04+mass_p # 40MeV\n",
    "min_pi = 0.17\n",
    "\n",
    "# dead wires\n",
    "z_dead_start = 675\n",
    "z_dead_end=z_dead_start+100"
   ]
  },
  {
   "cell_type": "code",
   "execution_count": null,
   "metadata": {
    "collapsed": true
   },
   "outputs": [],
   "source": []
  },
  {
   "cell_type": "code",
   "execution_count": 5,
   "metadata": {
    "collapsed": false,
    "scrolled": false
   },
   "outputs": [
    {
     "name": "stdout",
     "output_type": "stream",
     "text": [
      "\n",
      "\n",
      "Starting project  data_bnbext_a_0s0t_v14 with samplename  bnbext_a_v14 Number of files:  460\n",
      "Done loading, start processing df\n",
      "Done, start processing df_candidate\n",
      "Done processing\n",
      "Total events: 286339\n",
      "Total weighted events: -614908320284672.0\n",
      "total_pot: 104587999.309\n",
      "\n",
      "\n",
      "Starting project  data_bnb_a_0s0t_v14 with samplename  bnb_a_v14 Number of files:  224\n",
      "Done loading, start processing df\n",
      "Done, start processing df_candidate\n",
      "Done processing\n",
      "Total events: 170825\n",
      "Total weighted events: -366843894169600.0\n",
      "total_pot: 34270451.0572\n",
      "\n",
      "\n",
      "Starting project  data_bnb_b_0s0t_v14 with samplename  bnb_b_v14 Number of files:  16\n",
      "Done loading, start processing df\n",
      "Done, start processing df_candidate\n",
      "Done processing\n",
      "Total events: 778\n",
      "Total weighted events: -1670742278144.0\n",
      "total_pot: 0.0\n"
     ]
    }
   ],
   "source": [
    "for project,sample in zip(projects,project_out):  \n",
    "    \n",
    "    gpvmsdir = '/run/user/1002/gvfs/sftp:host=uboonegpvm02.fnal.gov,user=wvdp'\n",
    "    inputlist = []\n",
    "    inputlist += glob.glob(\"/home/wouter/Templates/July/\" + project + \"/*.root\")\n",
    "    filelist  = []\n",
    "    for fname in inputlist:\n",
    "        filelist.append(fname)\n",
    "    print( \"\\n\\nStarting project \",project,\"with samplename \",sample, \"Number of files: \", len(filelist))\n",
    "\n",
    "    chunks = []\n",
    "    chunks_candidate = []\n",
    "    \n",
    "    total_pot = 0\n",
    "    total_events = 0\n",
    "    total_weighted_events = 0\n",
    "    \n",
    "    for i_f,fname in enumerate(filelist):\n",
    "        #clear_output(wait=True)\n",
    "        print (i_f, end=\"\\r\")\n",
    "        \n",
    "         # Store the POT of the sample\n",
    "        df_pot = read_root(fname, 'wouterNueCC/pot')\n",
    "        total_pot += df_pot['pot'].sum()\n",
    "        # Write this dataframe to a txtfile.\n",
    "        df_pot[['run', 'subrun']].to_csv(\"./input/\"+sample + '_run_subrun.txt', header=None, index=None, sep=' ', mode='a')\n",
    "        \n",
    "        # Load real data_frame\n",
    "        dftemp=read_root(fname,\"wouterNueCC/pandoratree\",columns=columns)  \n",
    "        total_events += len(dftemp.index)\n",
    "        total_weighted_events += sum(dftemp[\"bnbweight\"])\n",
    "        dftemp_candidate = read_root(fname, 'wouterNueCC/pandoratree',\n",
    "                                     columns=columns_candidates + columns_candidates_flat,\n",
    "                                     flatten=columns_candidates)\n",
    "\n",
    "        chunks.append(dftemp)\n",
    "        chunks_candidate.append(dftemp_candidate)\n",
    "    \n",
    "    #clear_output(wait=True)\n",
    "    print (\"Done loading, start processing df\")\n",
    "        \n",
    "    df = pd.concat(chunks,ignore_index=True,copy=False) \n",
    "    df[\"true_z_deadwire\"] = ~df['true_vz'].between(z_dead_start,z_dead_end)\n",
    "    #df[\"true_1e1p_signal\"] = df.apply(true_thresholds_1e1p,axis=1)\n",
    "    #df.drop([\"nu_daughters_pdg\",\"nu_daughters_E\"],inplace=True,axis=1)\n",
    "    df[\"bnbweight\"]*=flux_corr\n",
    "    df[\"passed_primaries\"] = df[\"flash_passed\"].apply(lambda x: sum(x>-2))\n",
    "    df.to_pickle(\"./input/df_\"+sample+\"_flash.pckl\")\n",
    "    \n",
    "    \n",
    "    print (\"Done, start processing df_candidate\")\n",
    "    df_candidate = pd.concat(chunks_candidate,ignore_index=True,copy=False) \n",
    "    df_candidate[\"true_z_deadwire\"] = ~df_candidate['true_vz'].between(z_dead_start,z_dead_end)\n",
    "    # Candidate is good if:\n",
    "    df_candidate.eval('good = (true_1eX_signal==1) & (number_primary_tracks==track_passed) \\\n",
    "                       & (number_primary_showers==shower_passed) & (true_z_deadwire==1) \\\n",
    "                       & (chargecenter_candidates_total>1)', inplace=True)\n",
    "    \n",
    "    df_candidate.eval('bad = (track_passed==0) & (shower_passed==0) & (chargecenter_candidates_total>1)', inplace=True)\n",
    "    df_candidate[\"bnbweight\"]*=flux_corr\n",
    "    df_candidate.eval('diff_z = chargecenter_candidates_z - flash_z', inplace=True)\n",
    "    df_candidate.eval('diff_sz = diff_z/flash_sz', inplace=True)\n",
    "    df_candidate.eval('diff_y = chargecenter_candidates_y - flash_y', inplace=True)\n",
    "    df_candidate.eval('diff_sy = diff_y/flash_sy', inplace=True)\n",
    "    df_candidate.eval('charge_ratio = chargecenter_candidates_total/flash_PE_max', inplace=True)\n",
    "    df_candidate.to_pickle(\"./input/df_\"+sample+\"_flash_candidate.pckl\")\n",
    "\n",
    "    print(\"Done processing\")\n",
    "    print(\"Total events:\", total_events)\n",
    "    print(\"Total weighted events:\", int((total_weighted_events*1000))/1000)\n",
    "    print(\"total_pot:\", total_pot)"
   ]
  },
  {
   "cell_type": "code",
   "execution_count": null,
   "metadata": {
    "collapsed": false
   },
   "outputs": [
    {
     "name": "stdout",
     "output_type": "stream",
     "text": [
      "./input/df_bnbext_a_flash_candidate.pckl\n",
      "./input/df_bnbext_a_flash.pckl\n"
     ]
    }
   ],
   "source": [
    "# Convert pickle to new version pandas:\n",
    "\n",
    "inputlist = glob.glob(\"./input/*v14*.pckl\")\n",
    "#inputlist = [\"./input/df_bnbext_a_flash_candidate.pckl\",\"./input/df_bnbext_a_flash.pckl\"]\n",
    "for file in inputlist:\n",
    "    print(file)\n",
    "    df_nu = pd.read_pickle(file)\n",
    "    df_nu.to_pickle(file)"
   ]
  },
  {
   "cell_type": "code",
   "execution_count": null,
   "metadata": {
    "collapsed": true
   },
   "outputs": [],
   "source": []
  }
 ],
 "metadata": {
  "anaconda-cloud": {},
  "kernelspec": {
   "display_name": "Python [conda env:mlenv]",
   "language": "python",
   "name": "conda-env-mlenv-py"
  },
  "language_info": {
   "codemirror_mode": {
    "name": "ipython",
    "version": 3
   },
   "file_extension": ".py",
   "mimetype": "text/x-python",
   "name": "python",
   "nbconvert_exporter": "python",
   "pygments_lexer": "ipython3",
   "version": "3.6.4"
  }
 },
 "nbformat": 4,
 "nbformat_minor": 2
}
