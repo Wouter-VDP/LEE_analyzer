{
 "cells": [
  {
   "cell_type": "code",
   "execution_count": 9,
   "metadata": {
    "collapsed": true
   },
   "outputs": [],
   "source": [
    "import numpy as np\n",
    "import pandas as pd\n",
    "from root_pandas import read_root\n",
    "import glob\n",
    "import os\n",
    "\n",
    "from helpfunction import CheckBorderTPC,CheckBorderFixed"
   ]
  },
  {
   "cell_type": "code",
   "execution_count": 10,
   "metadata": {
    "collapsed": true
   },
   "outputs": [],
   "source": [
    "pd.options.display.max_columns = 999\n",
    "gr      = 1.618\n",
    "nan     = -2147483648\n",
    "min_root_size = 20000 # Skip root files smaller than x bytes\n",
    "\n",
    "mass_p= 0.93827 #GeV\n",
    "mass_e= 0.00511 #GeV\n",
    "\n",
    "# LAr EM showers\n",
    "R_moliere =  9.5 # cm\n",
    "X_o       = 13.9 # cm\n",
    "E_c       = 0.035# GeV\n",
    "\n",
    "# Fiducial volume borders in x,y,z:\n",
    "fid_arr= [[10,10],[20,20],[10,50]]\n",
    "\n",
    "# Minimum reconstructable energies:\n",
    "min_e = 0.02+mass_e # 20MeV\n",
    "min_p = 0.04+mass_p # 40MeV"
   ]
  },
  {
   "cell_type": "code",
   "execution_count": 18,
   "metadata": {
    "collapsed": false
   },
   "outputs": [
    {
     "name": "stdout",
     "output_type": "stream",
     "text": [
      "9 valid ROOT files collected.\n"
     ]
    }
   ],
   "source": [
    "checkana=True\n",
    "gpvmsdir = '/run/user/1000/gvfs/sftp:host=uboonegpvm02.fnal.gov,user=wvdp'\n",
    "\n",
    "if not checkana:\n",
    "    # Option 1: no checkana, verify validity yourself and use input directory\n",
    "    inputlist = []\n",
    "    #inputlist += glob.glob('/home/wouter/Templates/Roberto_nue/*/*.root')\n",
    "    inputlist += glob.glob(gpvmsdir+'/uboone/app/users/wvdp/Larsoft/srcs/1e1pFilter/pandoraElectronFilter/job/*.root')\n",
    "    filelist  = []\n",
    "    for fname in inputlist:\n",
    "        if (os.stat(fname).st_size)<min_root_size*1:\n",
    "                print(\"File\",fname,\"was corrupt. Size:\",os.stat(fname).st_size/1000, \"kb, skipping to next file.\")\n",
    "        else:\n",
    "            filelist.append(fname)\n",
    "\n",
    "if checkana:\n",
    "    # Option 2: After checkana, just pass the filesana list.\n",
    "    filelist = [gpvmsdir+line.rstrip() for line in open(gpvmsdir+'/uboone/data/users/wvdp/book/v06_26_01_12/lee_signal_1s0t/filesana.list')]\n",
    "\n",
    "print(len(filelist),\"valid ROOT files collected.\")"
   ]
  },
  {
   "cell_type": "code",
   "execution_count": null,
   "metadata": {
    "collapsed": false
   },
   "outputs": [],
   "source": []
  },
  {
   "cell_type": "code",
   "execution_count": 19,
   "metadata": {
    "collapsed": true
   },
   "outputs": [],
   "source": [
    "# Signal Definition 1e0p \n",
    "def true_thresholds_1e0p(row):\n",
    "    if CheckBorderTPC(*row[[\"true_vx_sce\",\"true_vy_sce\",\"true_vz_sce\"]],array=fid_arr):\n",
    "        passed_e=False\n",
    "        for pdg,E in zip(*row[[\"nu_daughters_pdg\",\"nu_daughters_E\"]]):\n",
    "            if pdg==11 and E>min_e:\n",
    "                return True\n",
    "    return False\n"
   ]
  },
  {
   "cell_type": "code",
   "execution_count": 20,
   "metadata": {
    "collapsed": false
   },
   "outputs": [
    {
     "name": "stdout",
     "output_type": "stream",
     "text": [
      "[ 0  5 68  0  0  0  0 19]\n",
      "[  0   3 114   0   0   0   0  32]\n",
      "[ 0  1 16  0  0  0  0  6]\n",
      "[  0  11 112   0   0   0   0  26]\n",
      "[ 0  3 68  0  0  0  0 16]\n",
      "[ 0  2 21  0  0  0  0  6]\n",
      "[  0   8 143   0   0   0   0  29]\n",
      "[  0   4 100   0   0   0   0  20]\n",
      "[  0   8 129   0   0   0   0  23]\n",
      "4900\n",
      "1794\n",
      "1538\n",
      "1142\n",
      "993\n",
      "0.8573021181716833 +/- 0.0343409309127\n",
      "0.6365663322185061 +/- 0.0295914978086\n",
      "0.5535117056856187 +/- 0.0275936099065\n",
      "0.429765886288 +/- 0.0243142616058\n",
      "[ 0.          0.04531722  0.77643505  0.          0.          0.          0.\n",
      "  0.17824773]\n"
     ]
    }
   ],
   "source": [
    "fidvol=0\n",
    "passed=0\n",
    "flashpassed=0\n",
    "signal=0\n",
    "total=0\n",
    "category=np.zeros(8)\n",
    "\n",
    "for i_f,fname in enumerate(filelist):\n",
    "    #print(fname)\n",
    "    dftemp=read_root(fname,\"wouterNueCC/pandoratree\",columns=[\"true_vx_sce\",\"true_vy_sce\",\"true_vz_sce\",'vx','vy','vz',\n",
    "                                                             'passed','category','flash_time',\"nu_daughters_pdg\",\"nu_daughters_E\",'flash_passed'])\n",
    "    total+=len(dftemp.index)\n",
    "    \n",
    "    dftemp = dftemp[dftemp.apply(true_thresholds_1e0p,axis=1)]\n",
    "    signal+=len(dftemp.index)\n",
    "    \n",
    "    flashpassed+=len(dftemp[dftemp[\"flash_passed\"].apply(lambda x: np.any(x!=-1))].index)\n",
    "    \n",
    "    dftemp=dftemp[dftemp[\"passed\"]==1]\n",
    "    passed+=len(dftemp.index)\n",
    "    \n",
    "    \n",
    "    dftemp=dftemp[dftemp.apply(lambda row: CheckBorderTPC(*row[[\"vx\",\"vy\",\"vz\"]],array=fid_arr),axis=1)]\n",
    "    fidvol+=len(dftemp.index)\n",
    "    \n",
    "    print(np.bincount(dftemp['category'].values))\n",
    "    category+=np.bincount(dftemp['category'].values)\n",
    "    \n",
    "print(total)\n",
    "print(signal)\n",
    "print(flashpassed)\n",
    "print(passed)\n",
    "print(fidvol)\n",
    "\n",
    "print(flashpassed/signal,\"+/-\",np.sqrt(flashpassed)/passed)\n",
    "print(passed/signal,\"+/-\",np.sqrt(passed)/passed)\n",
    "print(fidvol/signal,\"+/-\",np.sqrt(fidvol)/passed)\n",
    "print(category[2]/signal,\"+/-\",np.sqrt(category[2])/passed)\n",
    "\n",
    "print(category/sum(category))"
   ]
  },
  {
   "cell_type": "code",
   "execution_count": 8,
   "metadata": {
    "collapsed": false
   },
   "outputs": [
    {
     "name": "stdout",
     "output_type": "stream",
     "text": [
      "175000\n",
      "43978\n",
      "40511\n",
      "0.9211651280185548 +/- 0.00559325957591\n",
      "35985\n",
      "0.818250034107963 +/- 0.00527156112327\n",
      "[ 0.          0.03201334  0.71777129  0.          0.          0.          0.\n",
      "  0.25021537]\n"
     ]
    }
   ],
   "source": [
    "print(total)\n",
    "print(signal)\n",
    "print(flashpassed)\n",
    "print(passed)\n",
    "print(fidvol)\n",
    "\n",
    "print(flashpassed/signal,\"+/-\",np.sqrt(flashpassed)/passed)\n",
    "print(passed/signal,\"+/-\",np.sqrt(passed)/passed)\n",
    "print(fidvol/signal,\"+/-\",np.sqrt(fidvol)/passed)\n",
    "print(category[2]/signal,\"+/-\",np.sqrt(category[2])/passed)\n",
    "\n",
    "print(category/sum(category))"
   ]
  },
  {
   "cell_type": "code",
   "execution_count": null,
   "metadata": {
    "collapsed": true
   },
   "outputs": [],
   "source": []
  }
 ],
 "metadata": {
  "anaconda-cloud": {},
  "kernelspec": {
   "display_name": "Python [conda env:rootenv]",
   "language": "python",
   "name": "conda-env-rootenv-py"
  },
  "language_info": {
   "codemirror_mode": {
    "name": "ipython",
    "version": 3
   },
   "file_extension": ".py",
   "mimetype": "text/x-python",
   "name": "python",
   "nbconvert_exporter": "python",
   "pygments_lexer": "ipython3",
   "version": "3.4.5"
  }
 },
 "nbformat": 4,
 "nbformat_minor": 2
}
