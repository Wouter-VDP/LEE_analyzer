{
 "cells": [
  {
   "cell_type": "code",
   "execution_count": 1,
   "metadata": {
    "collapsed": false
   },
   "outputs": [],
   "source": [
    "import numpy as np\n",
    "import pandas as pd\n",
    "import seaborn as sns\n",
    "import matplotlib.pyplot as plt\n",
    "\n",
    "from helpfunction import CheckBorderFixed,CheckBorderTPC\n",
    "\n",
    "%matplotlib inline\n",
    "\n",
    "# Idea, use ntracks and nshowers, but dangerous since data mc discrepancies"
   ]
  },
  {
   "cell_type": "code",
   "execution_count": 2,
   "metadata": {
    "collapsed": false
   },
   "outputs": [],
   "source": [
    "sample_list = ['../Input/intime/intime.pckl','../Input/nue/nue.pckl','../Input/nu/nu_pure_close_600k.pckl']\n",
    "\n",
    "pd_tracks_raw = pd.DataFrame()\n",
    "\n",
    "columns_req = ['track_dedx','track_dedx_avg','track_dedx_hits','track_pca',\n",
    "               'predict_em','predict_mu', 'predict_cos', 'predict_pi', 'predict_p',\n",
    "               'track_start_x', 'track_start_y','track_start_z',\n",
    "               'track_end_x', 'track_end_y', 'track_end_z','track_daughter',\n",
    "                'matched_tracks'#This is the label generationg category\n",
    "              ]\n",
    "\n",
    "columns_flat = ['vx','vy','vz']\n",
    "\n",
    "#Fields to engineer:\n",
    "# - length\n",
    "# - 10cm contained (bool)\n",
    "# - has shower daughter (bool)\n",
    "# - has track daughter\n",
    "# - is rthe daughter of something else\n",
    "# - distance from vertex start point\n",
    "# - distance from vertex end point\n",
    "\n",
    "# Fiducial volume borders in x,y,z:\n",
    "fid_arr= [[10,10],[20,20],[10,50]]"
   ]
  },
  {
   "cell_type": "code",
   "execution_count": 3,
   "metadata": {
    "collapsed": false
   },
   "outputs": [],
   "source": [
    "#Load in samples\n",
    "df_tracks=pd.DataFrame(columns=columns_req+columns_flat)\n",
    "\n"
   ]
  },
  {
   "cell_type": "code",
   "execution_count": 4,
   "metadata": {
    "collapsed": false
   },
   "outputs": [
    {
     "data": {
      "text/html": [
       "<div>\n",
       "<table border=\"1\" class=\"dataframe\">\n",
       "  <thead>\n",
       "    <tr style=\"text-align: right;\">\n",
       "      <th></th>\n",
       "      <th>track_dedx</th>\n",
       "      <th>track_dedx_avg</th>\n",
       "      <th>track_dedx_hits</th>\n",
       "      <th>track_pca</th>\n",
       "      <th>predict_em</th>\n",
       "      <th>predict_mu</th>\n",
       "      <th>predict_cos</th>\n",
       "      <th>predict_pi</th>\n",
       "      <th>predict_p</th>\n",
       "      <th>track_start_x</th>\n",
       "      <th>track_start_y</th>\n",
       "      <th>track_start_z</th>\n",
       "      <th>track_end_x</th>\n",
       "      <th>track_end_y</th>\n",
       "      <th>track_end_z</th>\n",
       "      <th>track_daughter</th>\n",
       "      <th>matched_tracks</th>\n",
       "      <th>vx</th>\n",
       "      <th>vy</th>\n",
       "      <th>vz</th>\n",
       "    </tr>\n",
       "  </thead>\n",
       "  <tbody>\n",
       "    <tr>\n",
       "      <th>0</th>\n",
       "      <td>0.093979</td>\n",
       "      <td>0.102463</td>\n",
       "      <td>4.0</td>\n",
       "      <td>0.997070</td>\n",
       "      <td>0.007759</td>\n",
       "      <td>0.750977</td>\n",
       "      <td>0.008698</td>\n",
       "      <td>0.231079</td>\n",
       "      <td>0.001492</td>\n",
       "      <td>36.031250</td>\n",
       "      <td>-71.7500</td>\n",
       "      <td>811.50</td>\n",
       "      <td>0.513184</td>\n",
       "      <td>-15.242188</td>\n",
       "      <td>814.00</td>\n",
       "      <td>2.0</td>\n",
       "      <td>0.0</td>\n",
       "      <td>36.073578</td>\n",
       "      <td>-71.722626</td>\n",
       "      <td>811.450012</td>\n",
       "    </tr>\n",
       "    <tr>\n",
       "      <th>1</th>\n",
       "      <td>0.373662</td>\n",
       "      <td>0.326146</td>\n",
       "      <td>4.0</td>\n",
       "      <td>0.960449</td>\n",
       "      <td>0.288086</td>\n",
       "      <td>0.144897</td>\n",
       "      <td>0.003736</td>\n",
       "      <td>0.556641</td>\n",
       "      <td>0.006557</td>\n",
       "      <td>19.609375</td>\n",
       "      <td>-31.0000</td>\n",
       "      <td>812.50</td>\n",
       "      <td>0.925293</td>\n",
       "      <td>-16.296875</td>\n",
       "      <td>811.00</td>\n",
       "      <td>0.0</td>\n",
       "      <td>0.0</td>\n",
       "      <td>36.073578</td>\n",
       "      <td>-71.722626</td>\n",
       "      <td>811.450012</td>\n",
       "    </tr>\n",
       "    <tr>\n",
       "      <th>2</th>\n",
       "      <td>0.241747</td>\n",
       "      <td>0.218862</td>\n",
       "      <td>3.0</td>\n",
       "      <td>0.999023</td>\n",
       "      <td>0.014725</td>\n",
       "      <td>0.011597</td>\n",
       "      <td>0.961914</td>\n",
       "      <td>0.008034</td>\n",
       "      <td>0.003828</td>\n",
       "      <td>36.156250</td>\n",
       "      <td>-71.9375</td>\n",
       "      <td>811.50</td>\n",
       "      <td>62.750000</td>\n",
       "      <td>-113.625000</td>\n",
       "      <td>811.00</td>\n",
       "      <td>1.0</td>\n",
       "      <td>0.0</td>\n",
       "      <td>36.073578</td>\n",
       "      <td>-71.722626</td>\n",
       "      <td>811.450012</td>\n",
       "    </tr>\n",
       "    <tr>\n",
       "      <th>3</th>\n",
       "      <td>2.122207</td>\n",
       "      <td>13.154626</td>\n",
       "      <td>12.0</td>\n",
       "      <td>1.000000</td>\n",
       "      <td>0.000046</td>\n",
       "      <td>0.022476</td>\n",
       "      <td>0.974609</td>\n",
       "      <td>0.001173</td>\n",
       "      <td>0.001669</td>\n",
       "      <td>244.125000</td>\n",
       "      <td>-84.8125</td>\n",
       "      <td>274.75</td>\n",
       "      <td>146.375000</td>\n",
       "      <td>104.875000</td>\n",
       "      <td>415.75</td>\n",
       "      <td>0.0</td>\n",
       "      <td>0.0</td>\n",
       "      <td>244.315079</td>\n",
       "      <td>-85.193787</td>\n",
       "      <td>274.585510</td>\n",
       "    </tr>\n",
       "    <tr>\n",
       "      <th>4</th>\n",
       "      <td>1.911418</td>\n",
       "      <td>10.771297</td>\n",
       "      <td>12.0</td>\n",
       "      <td>0.999512</td>\n",
       "      <td>0.000382</td>\n",
       "      <td>0.065430</td>\n",
       "      <td>0.919922</td>\n",
       "      <td>0.013466</td>\n",
       "      <td>0.000851</td>\n",
       "      <td>193.000000</td>\n",
       "      <td>-103.0625</td>\n",
       "      <td>266.25</td>\n",
       "      <td>255.750000</td>\n",
       "      <td>-24.812500</td>\n",
       "      <td>349.50</td>\n",
       "      <td>0.0</td>\n",
       "      <td>0.0</td>\n",
       "      <td>244.315079</td>\n",
       "      <td>-85.193787</td>\n",
       "      <td>274.585510</td>\n",
       "    </tr>\n",
       "  </tbody>\n",
       "</table>\n",
       "</div>"
      ],
      "text/plain": [
       "   track_dedx  track_dedx_avg  track_dedx_hits  track_pca  predict_em  \\\n",
       "0    0.093979        0.102463              4.0   0.997070    0.007759   \n",
       "1    0.373662        0.326146              4.0   0.960449    0.288086   \n",
       "2    0.241747        0.218862              3.0   0.999023    0.014725   \n",
       "3    2.122207       13.154626             12.0   1.000000    0.000046   \n",
       "4    1.911418       10.771297             12.0   0.999512    0.000382   \n",
       "\n",
       "   predict_mu  predict_cos  predict_pi  predict_p  track_start_x  \\\n",
       "0    0.750977     0.008698    0.231079   0.001492      36.031250   \n",
       "1    0.144897     0.003736    0.556641   0.006557      19.609375   \n",
       "2    0.011597     0.961914    0.008034   0.003828      36.156250   \n",
       "3    0.022476     0.974609    0.001173   0.001669     244.125000   \n",
       "4    0.065430     0.919922    0.013466   0.000851     193.000000   \n",
       "\n",
       "   track_start_y  track_start_z  track_end_x  track_end_y  track_end_z  \\\n",
       "0       -71.7500         811.50     0.513184   -15.242188       814.00   \n",
       "1       -31.0000         812.50     0.925293   -16.296875       811.00   \n",
       "2       -71.9375         811.50    62.750000  -113.625000       811.00   \n",
       "3       -84.8125         274.75   146.375000   104.875000       415.75   \n",
       "4      -103.0625         266.25   255.750000   -24.812500       349.50   \n",
       "\n",
       "   track_daughter  matched_tracks          vx         vy          vz  \n",
       "0             2.0             0.0   36.073578 -71.722626  811.450012  \n",
       "1             0.0             0.0   36.073578 -71.722626  811.450012  \n",
       "2             1.0             0.0   36.073578 -71.722626  811.450012  \n",
       "3             0.0             0.0  244.315079 -85.193787  274.585510  \n",
       "4             0.0             0.0  244.315079 -85.193787  274.585510  "
      ]
     },
     "execution_count": 4,
     "metadata": {},
     "output_type": "execute_result"
    }
   ],
   "source": [
    "for sample in sample_list:\n",
    "    df_sample = pd.read_pickle(sample)\n",
    "    droplist = [x for x  in df_sample.columns if (x not in columns_req+columns_flat)]\n",
    "    df_sample.drop(droplist,inplace=True,axis=1)\n",
    "    \n",
    "    for index, row in df_sample.head(40000).iterrows():\n",
    "        if CheckBorderTPC(row['vx'],row['vy'],row['vz'],fid_arr):\n",
    "            for tr in range(len(row['matched_tracks'])):\n",
    "                d_tr = {}\n",
    "                for field in columns_req:\n",
    "                    d_tr[field]=row[field][tr]\n",
    "                for field in columns_flat:\n",
    "                    d_tr[field]=row[field]\n",
    "                df_tracks=df_tracks.append(d_tr,ignore_index=True)\n",
    "        \n",
    "df_tracks.head()"
   ]
  },
  {
   "cell_type": "code",
   "execution_count": 5,
   "metadata": {
    "collapsed": false
   },
   "outputs": [
    {
     "data": {
      "text/plain": [
       " 2212.0    48533\n",
       " 13.0      31276\n",
       " 0.0       17409\n",
       " 211.0     13464\n",
       " 11.0       7453\n",
       "-13.0       4708\n",
       " 22.0       3192\n",
       "-211.0      2128\n",
       " 2112.0     1698\n",
       " 321.0       170\n",
       " 3222.0       69\n",
       "-11.0         30\n",
       "-321.0         7\n",
       " 3112.0        5\n",
       "Name: matched_tracks, dtype: int64"
      ]
     },
     "execution_count": 5,
     "metadata": {},
     "output_type": "execute_result"
    }
   ],
   "source": [
    "df_tracks['matched_tracks'].value_counts()"
   ]
  },
  {
   "cell_type": "code",
   "execution_count": 6,
   "metadata": {
    "collapsed": false
   },
   "outputs": [],
   "source": [
    "def track_freatures(row):\n",
    "    \n",
    "    x=row[\"track_start_x\"]\n",
    "    y=row[\"track_start_y\"]\n",
    "    z=row[\"track_start_z\"]\n",
    "    x_e=row[\"track_end_x\"]\n",
    "    y_e=row[\"track_end_y\"]\n",
    "    z_e=row[\"track_end_z\"]\n",
    "    vx=row[\"vx\"]\n",
    "    vy=row[\"vy\"]\n",
    "    vz=row[\"vz\"]\n",
    "    \n",
    "    track_length      = np.linalg.norm([x-x_e,y-y_e,z-z_e])\n",
    "    track_containment = CheckBorderFixed(x_e,y_e,z_e,tolerance=10) \n",
    "    track_sh_daughter = True if row['track_daughter']==1 else False\n",
    "    track_tr_daughter = True if row['track_daughter']==2 else False\n",
    "    track_is_daughter = True if row['matched_tracks']==0 else False\n",
    "    track_vtx         = np.linalg.norm([x-vx,y-vy,z-vz])\n",
    "    track_vtx_end     = np.linalg.norm([vx-x_e,vy-y_e,vz-z_e])\n",
    "    \n",
    "    # Class\n",
    "    true_mu        = True if abs(row['matched_tracks'])==13 else False\n",
    "    true_e         = True if row['matched_tracks']==11 else False\n",
    "    \n",
    "    return pd.Series({'track_length':track_length,\n",
    "                     'track_containment':track_containment,\n",
    "                     'track_sh_daughter':track_sh_daughter,\n",
    "                     'track_tr_daughter':track_tr_daughter,\n",
    "                     'track_is_daughter':track_is_daughter,\n",
    "                     'track_vtx':track_vtx,\n",
    "                     'track_vtx_end':track_vtx_end,\n",
    "                     'true_mu':true_mu,\n",
    "                     'true_e':true_e\n",
    "                     })"
   ]
  },
  {
   "cell_type": "code",
   "execution_count": 7,
   "metadata": {
    "collapsed": false
   },
   "outputs": [],
   "source": [
    "df_tracks = pd.concat([df_tracks, df_tracks.apply(track_freatures,axis=1)], axis=1)\n",
    "droplist = ['track_start_x','track_start_y','track_start_z','matched_tracks','track_daughter',\n",
    "            'track_end_x','track_end_y','track_end_z','vx','vy','vz'\n",
    "           ]\n",
    "df_tracks.drop(droplist,inplace=True,axis=1)     "
   ]
  },
  {
   "cell_type": "code",
   "execution_count": 8,
   "metadata": {
    "collapsed": false
   },
   "outputs": [
    {
     "data": {
      "text/plain": [
       "False    94158\n",
       "True     35984\n",
       "Name: true_mu, dtype: int64"
      ]
     },
     "execution_count": 8,
     "metadata": {},
     "output_type": "execute_result"
    }
   ],
   "source": [
    "df_tracks['true_mu'].value_counts()"
   ]
  },
  {
   "cell_type": "code",
   "execution_count": 9,
   "metadata": {
    "collapsed": false
   },
   "outputs": [
    {
     "data": {
      "text/plain": [
       "False    122689\n",
       "True       7453\n",
       "Name: true_e, dtype: int64"
      ]
     },
     "execution_count": 9,
     "metadata": {},
     "output_type": "execute_result"
    }
   ],
   "source": [
    "df_tracks['true_e'].value_counts()"
   ]
  },
  {
   "cell_type": "code",
   "execution_count": 10,
   "metadata": {
    "collapsed": false
   },
   "outputs": [],
   "source": [
    "df_tracks.to_pickle('../trackFrame.pckl')"
   ]
  },
  {
   "cell_type": "code",
   "execution_count": null,
   "metadata": {
    "collapsed": true
   },
   "outputs": [],
   "source": []
  }
 ],
 "metadata": {
  "anaconda-cloud": {},
  "kernelspec": {
   "display_name": "Python [conda env:rootenv]",
   "language": "python",
   "name": "conda-env-rootenv-py"
  },
  "language_info": {
   "codemirror_mode": {
    "name": "ipython",
    "version": 3
   },
   "file_extension": ".py",
   "mimetype": "text/x-python",
   "name": "python",
   "nbconvert_exporter": "python",
   "pygments_lexer": "ipython3",
   "version": "3.4.5"
  }
 },
 "nbformat": 4,
 "nbformat_minor": 2
}
