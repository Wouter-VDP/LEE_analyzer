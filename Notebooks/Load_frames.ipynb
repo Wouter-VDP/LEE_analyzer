{
 "cells": [
  {
   "cell_type": "markdown",
   "metadata": {},
   "source": [
    "# LEE Analyzer notebook"
   ]
  },
  {
   "cell_type": "markdown",
   "metadata": {},
   "source": [
    "This notebook takes in the output directory of the jobs and convert it into a more flat pandas dataframe. \n",
    "Data from the root files will be partially processed to fields that are convenient to plot.\n",
    "The resulting dataframe will be pickled."
   ]
  },
  {
   "cell_type": "markdown",
   "metadata": {},
   "source": [
    "## Imports & Constants"
   ]
  },
  {
   "cell_type": "code",
   "execution_count": 7,
   "metadata": {
    "collapsed": false
   },
   "outputs": [],
   "source": [
    "# To make it compatible with the grid\n",
    "from __future__ import division\n",
    "from __future__ import print_function\n",
    "\n",
    "import math\n",
    "import time\n",
    "import os\n",
    "import sys\n",
    "import glob\n",
    "import numpy as np\n",
    "import pandas as pd\n",
    "#from root_pandas import read_root\n",
    "\n",
    "from helpfunction import sciNot\n",
    "\n",
    "import matplotlib.pyplot as plt\n",
    "%matplotlib inline"
   ]
  },
  {
   "cell_type": "code",
   "execution_count": 46,
   "metadata": {
    "collapsed": true
   },
   "outputs": [],
   "source": [
    "pd.options.display.max_columns = 999\n",
    "min_root_size = 20000 # Skip root files smaller than x bytes\n",
    "\n",
    "vtx_activity_cut = 5 # how many objects start withing 5 cm of the vertex?"
   ]
  },
  {
   "cell_type": "code",
   "execution_count": 75,
   "metadata": {
    "collapsed": true
   },
   "outputs": [],
   "source": [
    "# Flat columns we want to copy from the original dataframe:\n",
    "flat_columns_truth = [\"nu_pdg\",\"nu_E\",\"true_vx_sce\",\"true_vy_sce\",\"true_vz_sce\",\n",
    "                      \"distance\",'ccnc','qsqr','theta',\"true_1eX_signal\",\"true_nu_fiducial\",\n",
    "                      \"lepton_E\",\"lepton_theta\",\n",
    "                     ]\n",
    "\n",
    "\n",
    "flat_columns_reco = [\"event\",\"subrun\",\"run\",\"category\",\"vx\",\"vy\",\"vz\",\"bnbweight\",\"passed\",\"candidate_pdg\",\n",
    "                     \"numu_cuts\",\"track_bdt_precut\",\n",
    "                     \"n_showers\",\"n_tracks\",\"flash_time_max\",\"flash_PE_max\",\n",
    "                     \"chargecenter_x\",\"chargecenter_y\",\"chargecenter_z\",\n",
    "                     \"total_spacepoint_containment\",\n",
    "                     \"fiducial\"\n",
    "                    ]\n",
    "\n",
    "vec_columns_shower  = [\"shower_open_angle\",\"shower_length\",\n",
    "                       \"shower_start_x\",\"shower_start_y\",\"shower_start_z\",\n",
    "                       \"shower_dir_x\",\"shower_dir_y\",\"shower_dir_z\",\"shower_pca\",\n",
    "                       \"shower_maxangle\",\"shower_vtxdistance\",\"shower_daughter\",\"shower_is_daughter\",\n",
    "                       \"shower_fidvol_ratio\",\"shower_spacepoint_dqdx_ratio\",\n",
    "                       \"shower_dedx_hits_w\",\"shower_dedx_w\",\"shower_dedx_best_w\",\n",
    "                       \"shower_energy_w\", \"shower_hitsratio_w\",\"shower_hits_w\",\n",
    "                       \"shower_theta\",\"shower_energy_product\"\n",
    "                      ]\n",
    "\n",
    "vec_columns_track = [ \"track_start_x\",\"track_start_y\",\"track_start_z\",\n",
    "                      \"track_end_x\",\"track_end_y\",\"track_end_z\",\n",
    "                      \"track_dir_x\",\"track_dir_y\",\"track_dir_z\",\"track_pca\",\n",
    "                      \"predict_em\",\"predict_mu\",\"predict_cos\",\"predict_pi\",\"predict_p\",  # Katrin's BDT\n",
    "                      \"track_res_mean\",\"track_res_std\", \n",
    "                      \"track_maxangle\",\"track_vtxdistance\",\"track_daughter\",\"track_is_daughter\",\n",
    "                      \"track_spacepoint_dqdx_ratio\",\"track_containment\",\n",
    "                      \"track_dedx_hits_w\",\"track_dedx_w\",\"track_dedx_best_w\",\n",
    "                      \"track_energy_w\", \"track_hitsratio_w\",\"track_hits_w\",\n",
    "                      \"track_theta\",\"track_len\"\n",
    "                     ]\n",
    "             \n",
    "vec_columns_truth = [ \"true_shower_pdg\",\n",
    "                      \"true_shower_x_sce\",\"true_shower_y_sce\",\"true_shower_z_sce\",\"true_shower_depE\",\n",
    "                     \n",
    "                      \"shower_cle\", \"matched_showers\", \"matched_showers_energy\",\n",
    "                      \"track_cle\", \"matched_tracks\", \"matched_tracks_energy\",\n",
    "                      \"nu_daughters_pdg\",\"nu_daughters_E\"\n",
    "                     #\"nu_daughters_px\", \"nu_daughters_py\", \"nu_daughters_pz\" # not needed\n",
    "                    ]\n",
    "\n",
    "# Columns to use for main frame\n",
    "columns_data = flat_columns_reco + vec_columns_shower + vec_columns_track\n",
    "columns_mc = columns_data + flat_columns_truth + vec_columns_truth\n",
    "# Columns to use for track/shower frame\n",
    "columns_shower_mc = vec_columns_shower+[\"shower_cle\", \"matched_showers\", \"matched_showers_energy\"]\n",
    "columns_track_mc = vec_columns_track+[\"track_cle\", \"matched_tracks\", \"matched_tracks_energy\"]\n",
    "columns_flat = [\"bnbweight\",\"noexpand:1<(n_showers+n_tracks)\",\"fiducial\",\"track_bdt_precut\",\"n_showers\"]"
   ]
  },
  {
   "cell_type": "markdown",
   "metadata": {},
   "source": [
    "## Select Input Files"
   ]
  },
  {
   "cell_type": "code",
   "execution_count": 76,
   "metadata": {
    "collapsed": false
   },
   "outputs": [
    {
     "name": "stdout",
     "output_type": "stream",
     "text": [
      "1 valid ROOT files collected.\n"
     ]
    }
   ],
   "source": [
    "inputlist = []\n",
    "inputlist += glob.glob(\"../*.root\")\n",
    "filelist  = []\n",
    "for fname in inputlist:\n",
    "    if (os.stat(fname).st_size)<min_root_size:\n",
    "            print(\"File\",fname,\"was corrupt. Size:\",os.stat(fname).st_size/1000, \"kb, skipping to next file.\")\n",
    "    else:\n",
    "        filelist.append(fname)\n",
    "print(len(filelist),\"valid ROOT files collected.\")"
   ]
  },
  {
   "cell_type": "markdown",
   "metadata": {},
   "source": [
    "## Functions"
   ]
  },
  {
   "cell_type": "code",
   "execution_count": null,
   "metadata": {
    "collapsed": true
   },
   "outputs": [],
   "source": []
  },
  {
   "cell_type": "markdown",
   "metadata": {},
   "source": [
    "### Main Function: loadData"
   ]
  },
  {
   "cell_type": "code",
   "execution_count": 77,
   "metadata": {
    "collapsed": true
   },
   "outputs": [],
   "source": [
    "def loadData(filelist,           # list,   Input files.\n",
    "             signal_sample,      # bool,   Apply the true signal and save nonpassed events.\n",
    "             data,               # bool,   If this is data, save less stuff\n",
    "             split_output,       # bool,   Split output in 10 dataframes.\n",
    "             maxf=1,             # int,    Maximum number of files to loop over.\n",
    "             outputname=\"output\" # string, Name of the final picle file.\n",
    "            ):\n",
    "    \n",
    "    chunks = []                                 # list of small dataframes with all info\n",
    "    chunks_tr = []\n",
    "    chunks_sh = []\n",
    "    chunks_nonpassed = []                       # list of small dataframes for failed event bookkeeping\n",
    "    \n",
    "    entries = 0                                 # entries before selection\n",
    "    entries_signal = 0\n",
    "    flash_passed = 0\n",
    "    passed = 0\n",
    "    bdt_precut_passed = 0\n",
    "    fidvol = 0\n",
    "    cat2 = 0\n",
    "    non_passed = 0\n",
    "    \n",
    "    total_pot = 0  # total POT of the sample\n",
    "    chuncks_pot=0\n",
    "    \n",
    "    columns_load=columns_data\n",
    "    columns_track= vec_columns_track\n",
    "    columns_shower= vec_columns_shower\n",
    "    if not data:\n",
    "        global columns_flat\n",
    "        columns_track = columns_track_mc\n",
    "        columns_shower = columns_shower_mc\n",
    "        columns_load=columns_mc\n",
    "        columns_flat+=[\"true_1eX_signal\"]\n",
    "    \n",
    "    nfiles=len(filelist)\n",
    "    if maxf<nfiles:\n",
    "        nfiles=maxf\n",
    "        \n",
    "    print (\"Start to load entries from\",nfiles,\"files.\\n\")\n",
    "    start_time = time.time()\n",
    "    \n",
    "    progress=0\n",
    "    for i_f,fname in enumerate(filelist[:nfiles]):\n",
    "        try:\n",
    "            # Store the POT of the sample\n",
    "            df_pot = read_root(fname,\"wouterNueCC/pot\")\n",
    "            temp_pot = df_pot['pot'].sum()\n",
    "            chuncks_pot+=temp_pot\n",
    "            total_pot+=temp_pot\n",
    "            # Write this dataframe to a txtfile.\n",
    "            df_pot[['run', 'subrun']].to_csv(\"../Input/\"+outputname+\"/run_subrun.txt\", header=None, index=None, sep=' ', mode='a')\n",
    "            dftemp=read_root(fname,\"wouterNueCC/pandoratree\",columns=columns_load)\n",
    "            entries+=len(dftemp.index)\n",
    "            \n",
    "            # Track/Shower frames\n",
    "            df_tr = read_root(fname,\"wouterNueCC/pandoratree\",columns=columns_track+columns_flat, flatten=columns_track)\n",
    "            df_sh = read_root(fname,\"wouterNueCC/pandoratree\",columns=columns_shower+columns_flat, flatten=columns_shower)\n",
    "            print(columns_flat)\n",
    "            print(df_sh.columns)\n",
    "            \n",
    "        except BaseException as e:\n",
    "            print('Tree corrupt?', fname,\"\\n\",str(e))\n",
    "            continue\n",
    "        \n",
    "        if (signal_sample):\n",
    "            dftemp=dftemp[dftemp[\"true_1eX_signal\"]==1]\n",
    "            entries_signal+=dftemp[\"bnbweight\"].sum()\n",
    "            \n",
    "            # Store some basic things about events that did not pass the selection! (but passed the truth selection)\n",
    "            dftemp_nonpassed = dftemp[ (dftemp[\"n_showers\"]<1)         | \n",
    "                                       (dftemp[\"track_bdt_precut\"]!=1) | \n",
    "                                       (dftemp[\"fiducial\"]!=1)          ][[\"run\",\"subrun\",\"event\",\"nu_pdg\",\"nu_E\",\"true_vx_sce\",\"true_vy_sce\",\n",
    "                                                                           \"true_vz_sce\",\"category\",\"bnbweight\",\"flash_PE_max\",\"flash_time_max\"]]\n",
    "            \n",
    "            chunks_nonpassed.append(dftemp_nonpassed)\n",
    "            non_passed+=dftemp_nonpassed[\"bnbweight\"].sum()\n",
    "            \n",
    "            df_tr = df_tr[df_tr[\"true_1eX_signal\"]==1]\n",
    "            df_sh = df_sh[df_sh[\"true_1eX_signal\"]==1]\n",
    "        \n",
    "        if data:\n",
    "            dftemp[\"bnbweight\"] = 1\n",
    "        \n",
    "        flash_passed+=dftemp[dftemp[\"flash_time_max\"]>0][\"bnbweight\"].sum()\n",
    "        \n",
    "        dftemp=dftemp[(dftemp[\"n_showers\"]>0) & (dftemp[\"passed\"]==1)] \n",
    "        passed+=dftemp[\"bnbweight\"].sum()\n",
    "        \n",
    "        dftemp=dftemp[dftemp[\"track_bdt_precut\"]==1]\n",
    "        bdt_precut_passed+=dftemp[\"bnbweight\"].sum()\n",
    "        \n",
    "        dftemp=dftemp[dftemp[\"fiducial\"]==1]\n",
    "        fidvol+=dftemp[\"bnbweight\"].sum()\n",
    "        \n",
    "        cat2+=dftemp[dftemp[\"category\"]==2][\"bnbweight\"].sum()\n",
    "        \n",
    "        df_tr = df_tr[ (df_tr[\"track_bdt_precut\"]==1) & (df_tr[\"fiducial\"]==1) & (df_tr[\"n_showers\"]>0) ]\n",
    "        df_tr.rename(columns={'1<(n_showers+n_tracks)':\"vtx_activity\"}, inplace=True)\n",
    "        df_sh = df_sh[ (df_sh[\"track_bdt_precut\"]==1) & (df_sh[\"fiducial\"]==1) & (df_sh[\"n_showers\"]>0) ]\n",
    "        df_sh.rename(columns={'1<(n_showers+n_tracks)':\"vtx_activity\"}, inplace=True)\n",
    "        \n",
    "        #if no events passed, stop here\n",
    "        if(len(dftemp.index)==0):\n",
    "            continue\n",
    "            \n",
    "        #Add a feature:\n",
    "        dftemp[\"vtx_activity_nr\"] = dftemp.apply(lambda x: sum(x[\"shower_vtxdistance\"]<vtx_activity_cut)+ sum(x[\"track_vtxdistance\"]<vtx_activity_cut),axis=1)\n",
    "        \n",
    "        chunks.append(dftemp)\n",
    "        chunks_tr.append(df_tr)\n",
    "        chunks_sh.append(df_sh)\n",
    "        \n",
    "        if((i_f+1) % math.ceil(nfiles/10)==0 ):\n",
    "            print (\"Progress:\",(progress+1)*10,\"%.\")\n",
    "            if(split_output):\n",
    "                print(\"Concatenating output dataframes\")\n",
    "                #Reduce the dataframe size or the non vector columns\n",
    "                print (\"POT in this chunk:\",str(chuncks_pot),\"POT.\")\n",
    "                df = pd.concat(chunks,ignore_index=True,copy=False) \n",
    "                df.to_pickle(\"../Input/\"+outputname+\"/\"+outputname+\"_\"+str(progress)+\".pckl\")\n",
    "                chunks=[]\n",
    "                chuncks_pot=0\n",
    "                \n",
    "                df = pd.concat(chunks_sh,ignore_index=True,copy=False) \n",
    "                df.to_pickle(\"../Input/\"+outputname+\"/\"+outputname+\"_shower_\"+str(progress)+\".pckl\")\n",
    "                chunks_sh=[]\n",
    "                df = pd.concat(chunks_tr,ignore_index=True,copy=False) \n",
    "                df.to_pickle(\"../Input/\"+outputname+\"/\"+outputname+\"_track_\"+str(progress)+\".pckl\")\n",
    "                chunks_tr=[]\n",
    "            progress+=1\n",
    "        \n",
    "    end_time = time.time()\n",
    "    \n",
    "    if len(chunks)>0:\n",
    "        print(\"Concatenating last frame in case of failure, check for double\")\n",
    "        print (\"POT in this chunk:\",str(chuncks_pot),\"POT.\")\n",
    "        df = pd.concat(chunks,ignore_index=True,copy=False) \n",
    "        df.to_pickle(\"../Input/\"+outputname+\"/\"+outputname+\"_\"+str(progress)+\".pckl\")\n",
    "        chunks=[]\n",
    "        df = pd.concat(chunks_sh,ignore_index=True,copy=False) \n",
    "        df.to_pickle(\"../Input/\"+outputname+\"/\"+outputname+\"_shower_\"+str(progress)+\".pckl\")\n",
    "        chunks_sh=[]\n",
    "        df = pd.concat(chunks_tr,ignore_index=True,copy=False) \n",
    "        df.to_pickle(\"../Input/\"+outputname+\"/\"+outputname+\"_track_\"+str(progress)+\".pckl\")\n",
    "        chunks_tr=[]\n",
    "            \n",
    "    print(\"\\nSummary:\")\n",
    "    print (entries,\"entries were loaded from\",nfiles,\"files, corresponding to\",str(total_pot),\"POT.\")\n",
    "    if(signal_sample):\n",
    "        print(int(entries_signal),\"events are 1eX signal in fidvol.\")\n",
    "        if( (non_passed+fidvol) != entries_signal):\n",
    "            print(\"ERROR: the passing (\",fidvol,\") and non-passing (\",non_passed,\") events did not sum up correctly to\",entries_signal,\"!\")\n",
    "        \n",
    "    print(int(flash_passed),\" events pass the optical precuts.\")\n",
    "    print(int(passed),\"events pass the selection (if topo).\")\n",
    "    print(int(bdt_precut_passed),\"events pass the track bdt precut.\")\n",
    "    print(int(fidvol),\"events are in the fiducial volume.\")\n",
    "    print(int(cat2),\"events are category electron neutrino.\")\n",
    "        \n",
    "    print(\"\\nLoading took \",sciNot(end_time-start_time),\" seconds.\") \n",
    "    \n",
    "    if (signal_sample):\n",
    "        df_nonpassed = pd.concat(chunks_nonpassed,ignore_index=True,copy=False) \n",
    "        df_nonpassed.to_pickle(\"../Input/\"+outputname+\"/\"+outputname+\"_nonpassed.pckl\")\n",
    "    \n",
    "    end2_time = time.time()\n",
    "    print(\"Pickling took \",sciNot(end2_time-end_time),\" seconds.\")\n",
    "    print(\"Done!\")"
   ]
  },
  {
   "cell_type": "markdown",
   "metadata": {},
   "source": [
    "## Load dataframe and save to Pickle"
   ]
  },
  {
   "cell_type": "code",
   "execution_count": 78,
   "metadata": {
    "collapsed": false,
    "scrolled": false
   },
   "outputs": [
    {
     "name": "stdout",
     "output_type": "stream",
     "text": [
      "Start to load entries from 1 files.\n",
      "\n",
      "['bnbweight', 'noexpand:1<(n_showers+n_tracks)', 'fiducial', 'track_bdt_precut', 'n_showers', 'true_1eX_signal']\n",
      "Index(['shower_vtxdistance', 'shower_cle', 'shower_start_y', 'shower_energy_w',\n",
      "       'track_bdt_precut', 'shower_dedx_w', 'fiducial', 'bnbweight',\n",
      "       'shower_dir_z', 'matched_showers', 'shower_open_angle',\n",
      "       'shower_start_x', 'shower_dedx_best_w', 'shower_energy_product',\n",
      "       'shower_hits_w', 'shower_theta', 'shower_start_z', 'shower_is_daughter',\n",
      "       'shower_length', 'shower_daughter', 'shower_dir_y', 'shower_pca',\n",
      "       'shower_dedx_hits_w', 'shower_dir_x', 'matched_showers_energy',\n",
      "       'shower_hitsratio_w', 'shower_maxangle', 'shower_spacepoint_dqdx_ratio',\n",
      "       'shower_fidvol_ratio', 'true_1eX_signal', 'n_showers',\n",
      "       '1<(n_showers+n_tracks)', '__array_index'],\n",
      "      dtype='object')\n",
      "Progress: 10 %.\n",
      "Concatenating last frame in case of failure, check for double\n",
      "POT in this chunk: 8.42838523613e+19 POT.\n",
      "\n",
      "Summary:\n",
      "700 entries were loaded from 1 files, corresponding to 8.42838523613e+19 POT.\n",
      "117 events are 1eX signal in fidvol.\n",
      "ERROR: the passing ( 79.8536455785 ) and non-passing ( 37.6322702414 ) events did not sum up correctly to 117.48591582 !\n",
      "107  events pass the optical precuts.\n",
      "96 events pass the selection (if topo).\n",
      "87 events pass the track bdt precut.\n",
      "79 events are in the fiducial volume.\n",
      "67 events are category electron neutrino.\n",
      "\n",
      "Loading took  0.5  seconds.\n",
      "Pickling took  0.1  seconds.\n",
      "Done!\n"
     ]
    }
   ],
   "source": [
    "loadData(    filelist,                 # list,   Input files.\n",
    "             signal_sample=True,       # bool,   Apply the true signal and save nonpassed events.\n",
    "             data=False,               # bool,   If this is data, save less stuff\n",
    "             split_output=False,       # bool,   Split output in 10 dataframes.\n",
    "             maxf=5000,                   # int,    Maximum number of files to loop over.\n",
    "             outputname=\"lee_75k\"         # string, Name of the final picle file.\n",
    "        )"
   ]
  },
  {
   "cell_type": "markdown",
   "metadata": {},
   "source": [
    "### Done!"
   ]
  },
  {
   "cell_type": "code",
   "execution_count": 79,
   "metadata": {
    "collapsed": false
   },
   "outputs": [
    {
     "data": {
      "text/html": [
       "<div>\n",
       "<table border=\"1\" class=\"dataframe\">\n",
       "  <thead>\n",
       "    <tr style=\"text-align: right;\">\n",
       "      <th></th>\n",
       "      <th>bnbweight</th>\n",
       "      <th>n_tracks</th>\n",
       "      <th>n_showers</th>\n",
       "    </tr>\n",
       "  </thead>\n",
       "  <tbody>\n",
       "    <tr>\n",
       "      <th>0</th>\n",
       "      <td>0.957332</td>\n",
       "      <td>3</td>\n",
       "      <td>1</td>\n",
       "    </tr>\n",
       "    <tr>\n",
       "      <th>1</th>\n",
       "      <td>0.552790</td>\n",
       "      <td>2</td>\n",
       "      <td>3</td>\n",
       "    </tr>\n",
       "    <tr>\n",
       "      <th>2</th>\n",
       "      <td>0.856809</td>\n",
       "      <td>3</td>\n",
       "      <td>1</td>\n",
       "    </tr>\n",
       "    <tr>\n",
       "      <th>3</th>\n",
       "      <td>0.619122</td>\n",
       "      <td>0</td>\n",
       "      <td>3</td>\n",
       "    </tr>\n",
       "    <tr>\n",
       "      <th>4</th>\n",
       "      <td>0.992418</td>\n",
       "      <td>0</td>\n",
       "      <td>4</td>\n",
       "    </tr>\n",
       "    <tr>\n",
       "      <th>5</th>\n",
       "      <td>0.566132</td>\n",
       "      <td>1</td>\n",
       "      <td>1</td>\n",
       "    </tr>\n",
       "    <tr>\n",
       "      <th>6</th>\n",
       "      <td>0.760873</td>\n",
       "      <td>1</td>\n",
       "      <td>1</td>\n",
       "    </tr>\n",
       "    <tr>\n",
       "      <th>7</th>\n",
       "      <td>0.539803</td>\n",
       "      <td>1</td>\n",
       "      <td>1</td>\n",
       "    </tr>\n",
       "    <tr>\n",
       "      <th>8</th>\n",
       "      <td>0.572820</td>\n",
       "      <td>1</td>\n",
       "      <td>3</td>\n",
       "    </tr>\n",
       "    <tr>\n",
       "      <th>9</th>\n",
       "      <td>0.974548</td>\n",
       "      <td>1</td>\n",
       "      <td>3</td>\n",
       "    </tr>\n",
       "    <tr>\n",
       "      <th>10</th>\n",
       "      <td>1.325693</td>\n",
       "      <td>0</td>\n",
       "      <td>1</td>\n",
       "    </tr>\n",
       "    <tr>\n",
       "      <th>11</th>\n",
       "      <td>0.624890</td>\n",
       "      <td>0</td>\n",
       "      <td>2</td>\n",
       "    </tr>\n",
       "    <tr>\n",
       "      <th>12</th>\n",
       "      <td>0.829298</td>\n",
       "      <td>0</td>\n",
       "      <td>1</td>\n",
       "    </tr>\n",
       "    <tr>\n",
       "      <th>13</th>\n",
       "      <td>0.619122</td>\n",
       "      <td>3</td>\n",
       "      <td>1</td>\n",
       "    </tr>\n",
       "    <tr>\n",
       "      <th>14</th>\n",
       "      <td>1.016126</td>\n",
       "      <td>2</td>\n",
       "      <td>2</td>\n",
       "    </tr>\n",
       "  </tbody>\n",
       "</table>\n",
       "</div>"
      ],
      "text/plain": [
       "    bnbweight  n_tracks  n_showers\n",
       "0    0.957332         3          1\n",
       "1    0.552790         2          3\n",
       "2    0.856809         3          1\n",
       "3    0.619122         0          3\n",
       "4    0.992418         0          4\n",
       "5    0.566132         1          1\n",
       "6    0.760873         1          1\n",
       "7    0.539803         1          1\n",
       "8    0.572820         1          3\n",
       "9    0.974548         1          3\n",
       "10   1.325693         0          1\n",
       "11   0.624890         0          2\n",
       "12   0.829298         0          1\n",
       "13   0.619122         3          1\n",
       "14   1.016126         2          2"
      ]
     },
     "execution_count": 79,
     "metadata": {},
     "output_type": "execute_result"
    }
   ],
   "source": [
    "df = pd.read_pickle(\"../Input/lee_75k/lee_75k_1.pckl\")\n",
    "df[[\"bnbweight\",\"n_tracks\",\"n_showers\"]].head(15)"
   ]
  },
  {
   "cell_type": "code",
   "execution_count": 8,
   "metadata": {
    "collapsed": false
   },
   "outputs": [
    {
     "data": {
      "text/plain": [
       "array([[<matplotlib.axes._subplots.AxesSubplot object at 0x7fd4c0a94358>]],\n",
       "      dtype=object)"
      ]
     },
     "execution_count": 8,
     "metadata": {},
     "output_type": "execute_result"
    },
    {
     "data": {
      "image/png": "[encoded data removed]",
      "text/plain": [
       "<Figure size 432x288 with 1 Axes>"
      ]
     },
     "metadata": {},
     "output_type": "display_data"
    }
   ],
   "source": [
    "df = pd.read_pickle(\"../Input/lee/lee_shower_10.pckl\")\n",
    "df[[\"bnbweight\",\"matched_showers_energy\",\"vtx_activity\"]][15:30]\n",
    "df.hist(\"vtx_activity\")\n"
   ]
  },
  {
   "cell_type": "code",
   "execution_count": 17,
   "metadata": {
    "collapsed": false
   },
   "outputs": [
    {
     "data": {
      "text/html": [
       "<div>\n",
       "<table border=\"1\" class=\"dataframe\">\n",
       "  <thead>\n",
       "    <tr style=\"text-align: right;\">\n",
       "      <th></th>\n",
       "      <th>track_energy_w</th>\n",
       "      <th>matched_tracks_energy</th>\n",
       "      <th>vtx_activity</th>\n",
       "    </tr>\n",
       "  </thead>\n",
       "  <tbody>\n",
       "    <tr>\n",
       "      <th>0</th>\n",
       "      <td>0.872566</td>\n",
       "      <td>2.372413</td>\n",
       "      <td>1.0</td>\n",
       "    </tr>\n",
       "    <tr>\n",
       "      <th>1</th>\n",
       "      <td>0.148040</td>\n",
       "      <td>0.642272</td>\n",
       "      <td>1.0</td>\n",
       "    </tr>\n",
       "    <tr>\n",
       "      <th>2</th>\n",
       "      <td>0.163367</td>\n",
       "      <td>1.180757</td>\n",
       "      <td>1.0</td>\n",
       "    </tr>\n",
       "    <tr>\n",
       "      <th>3</th>\n",
       "      <td>0.136899</td>\n",
       "      <td>0.300300</td>\n",
       "      <td>1.0</td>\n",
       "    </tr>\n",
       "    <tr>\n",
       "      <th>4</th>\n",
       "      <td>0.018933</td>\n",
       "      <td>0.315290</td>\n",
       "      <td>1.0</td>\n",
       "    </tr>\n",
       "    <tr>\n",
       "      <th>5</th>\n",
       "      <td>0.164246</td>\n",
       "      <td>1.241118</td>\n",
       "      <td>1.0</td>\n",
       "    </tr>\n",
       "    <tr>\n",
       "      <th>6</th>\n",
       "      <td>0.096505</td>\n",
       "      <td>1.116180</td>\n",
       "      <td>1.0</td>\n",
       "    </tr>\n",
       "    <tr>\n",
       "      <th>7</th>\n",
       "      <td>0.072682</td>\n",
       "      <td>1.144089</td>\n",
       "      <td>1.0</td>\n",
       "    </tr>\n",
       "    <tr>\n",
       "      <th>8</th>\n",
       "      <td>0.126519</td>\n",
       "      <td>1.149594</td>\n",
       "      <td>1.0</td>\n",
       "    </tr>\n",
       "    <tr>\n",
       "      <th>9</th>\n",
       "      <td>0.057444</td>\n",
       "      <td>1.074577</td>\n",
       "      <td>1.0</td>\n",
       "    </tr>\n",
       "    <tr>\n",
       "      <th>10</th>\n",
       "      <td>0.144729</td>\n",
       "      <td>0.452731</td>\n",
       "      <td>1.0</td>\n",
       "    </tr>\n",
       "    <tr>\n",
       "      <th>11</th>\n",
       "      <td>0.087245</td>\n",
       "      <td>1.111867</td>\n",
       "      <td>1.0</td>\n",
       "    </tr>\n",
       "    <tr>\n",
       "      <th>12</th>\n",
       "      <td>0.407962</td>\n",
       "      <td>1.087254</td>\n",
       "      <td>1.0</td>\n",
       "    </tr>\n",
       "    <tr>\n",
       "      <th>13</th>\n",
       "      <td>0.154664</td>\n",
       "      <td>3.358821</td>\n",
       "      <td>1.0</td>\n",
       "    </tr>\n",
       "    <tr>\n",
       "      <th>14</th>\n",
       "      <td>0.190044</td>\n",
       "      <td>1.251959</td>\n",
       "      <td>1.0</td>\n",
       "    </tr>\n",
       "  </tbody>\n",
       "</table>\n",
       "</div>"
      ],
      "text/plain": [
       "    track_energy_w  matched_tracks_energy  vtx_activity\n",
       "0         0.872566               2.372413           1.0\n",
       "1         0.148040               0.642272           1.0\n",
       "2         0.163367               1.180757           1.0\n",
       "3         0.136899               0.300300           1.0\n",
       "4         0.018933               0.315290           1.0\n",
       "5         0.164246               1.241118           1.0\n",
       "6         0.096505               1.116180           1.0\n",
       "7         0.072682               1.144089           1.0\n",
       "8         0.126519               1.149594           1.0\n",
       "9         0.057444               1.074577           1.0\n",
       "10        0.144729               0.452731           1.0\n",
       "11        0.087245               1.111867           1.0\n",
       "12        0.407962               1.087254           1.0\n",
       "13        0.154664               3.358821           1.0\n",
       "14        0.190044               1.251959           1.0"
      ]
     },
     "execution_count": 17,
     "metadata": {},
     "output_type": "execute_result"
    }
   ],
   "source": [
    "df = pd.read_pickle(\"../Input/lee_75k/lee_75k_track_1.pckl\")\n",
    "df[[\"track_energy_w\",\"matched_tracks_energy\",\"vtx_activity\"]].head(15)"
   ]
  },
  {
   "cell_type": "code",
   "execution_count": null,
   "metadata": {
    "collapsed": true
   },
   "outputs": [],
   "source": []
  },
  {
   "cell_type": "code",
   "execution_count": null,
   "metadata": {
    "collapsed": true
   },
   "outputs": [],
   "source": []
  },
  {
   "cell_type": "code",
   "execution_count": null,
   "metadata": {
    "collapsed": true
   },
   "outputs": [],
   "source": []
  },
  {
   "cell_type": "code",
   "execution_count": null,
   "metadata": {
    "collapsed": true
   },
   "outputs": [],
   "source": []
  }
 ],
 "metadata": {
  "anaconda-cloud": {},
  "kernelspec": {
   "display_name": "Python [conda env:mlenv]",
   "language": "python",
   "name": "conda-env-mlenv-py"
  },
  "language_info": {
   "codemirror_mode": {
    "name": "ipython",
    "version": 3
   },
   "file_extension": ".py",
   "mimetype": "text/x-python",
   "name": "python",
   "nbconvert_exporter": "python",
   "pygments_lexer": "ipython3",
   "version": "3.6.4"
  }
 },
 "nbformat": 4,
 "nbformat_minor": 2
}
