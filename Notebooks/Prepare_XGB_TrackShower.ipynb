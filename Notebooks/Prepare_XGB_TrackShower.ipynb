{
 "cells": [
  {
   "cell_type": "code",
   "execution_count": 1,
   "metadata": {},
   "outputs": [],
   "source": [
    "import numpy as np\n",
    "import pandas as pd\n",
    "\n",
    "from helpfunction import CheckBorderFixed,CheckBorderTPC"
   ]
  },
  {
   "cell_type": "code",
   "execution_count": 2,
   "metadata": {},
   "outputs": [],
   "source": [
    "sample_list = ['../Input/nue/nue_0.pckl','../Input/nue/nue_1.pckl','../Input/nue/nue_2.pckl',\n",
    "               '../Input/nue/nue_3.pckl','../Input/nue/nue_4.pckl','../Input/nue/nue_5.pckl',\n",
    "               '../Input/nue/nue_6.pckl','../Input/nue/nue_7.pckl','../Input/nue/nue_8.pckl','../Input/nue/nue_9.pckl'\n",
    "               ]\n",
    "\n",
    "df_tracks = pd.DataFrame()\n",
    "df_showers = pd.DataFrame()\n",
    "\n",
    "columns_req_track = [  'track_dedx','track_dedx_avg','track_dedx_hits','track_pca',\n",
    "                       'predict_em','predict_mu', 'predict_cos', 'predict_pi', 'predict_p',\n",
    "                       'track_start_x', 'track_start_y','track_start_z',\n",
    "                       'track_end_x', 'track_end_y', 'track_end_z','track_daughter',\n",
    "                        'matched_tracks' #This is the label generationg category\n",
    "                      ]\n",
    "\n",
    "columns_req_shower = [ 'shower_dedx','shower_dedx_avg','shower_dedx_hits','shower_pca','shower_open_angle',\n",
    "                       'shower_start_x', 'shower_start_y','shower_start_z',\n",
    "                       'shower_length','shower_daughter',\n",
    "                       'matched_showers' #This is the label generationg category\n",
    "                      ]\n",
    "\n",
    "columns_flat = ['vx','vy','vz','true_vx_sce','true_vy_sce','true_vz_sce','shower_containment_q','shower_sp_profile']\n",
    "\n",
    "columns_all = list(set(columns_req_shower) | set(columns_req_track))+columns_flat\n",
    "\n",
    "# Fiducial volume borders in x,y,z:\n",
    "fid_arr= [[10,10],[20,20],[10,50]]"
   ]
  },
  {
   "cell_type": "code",
   "execution_count": 3,
   "metadata": {},
   "outputs": [],
   "source": [
    "def shower_features(row):\n",
    "    x=row[\"shower_start_x\"]\n",
    "    y=row[\"shower_start_y\"]\n",
    "    z=row[\"shower_start_z\"]\n",
    "    vx=row[\"vx\"]\n",
    "    vy=row[\"vy\"]\n",
    "    vz=row[\"vz\"]\n",
    "    \n",
    "    shower_sh_daughter = True if row['shower_daughter']==1 else False\n",
    "    shower_tr_daughter = True if row['shower_daughter']==2 else False\n",
    "    shower_is_daughter = True if row['matched_showers']==0 else False\n",
    "    shower_vtx         = np.linalg.norm([x-vx,y-vy,z-vz])\n",
    "    \n",
    "    # Class\n",
    "    true_mu        = True if abs(row['matched_showers'])==13 else False\n",
    "    true_e         = True if row['matched_showers']==11 else False\n",
    "    \n",
    "    return pd.Series({ 'shower_sh_daughter':shower_sh_daughter,\n",
    "             'shower_tr_daughter':shower_tr_daughter,\n",
    "             'shower_is_daughter':shower_is_daughter,\n",
    "             'shower_vtx':shower_vtx,\n",
    "             'true_mu':true_mu,\n",
    "             'true_e':true_e\n",
    "             })\n",
    "\n",
    "\n",
    "def track_features(row):  \n",
    "    x=row[\"track_start_x\"]\n",
    "    y=row[\"track_start_y\"]\n",
    "    z=row[\"track_start_z\"]\n",
    "    x_e=row[\"track_end_x\"]\n",
    "    y_e=row[\"track_end_y\"]\n",
    "    z_e=row[\"track_end_z\"]\n",
    "    vx=row[\"vx\"]\n",
    "    vy=row[\"vy\"]\n",
    "    vz=row[\"vz\"]\n",
    "    \n",
    "    track_length      = np.linalg.norm([x-x_e,y-y_e,z-z_e])\n",
    "    track_containment = CheckBorderFixed(x_e,y_e,z_e,tolerance=10) \n",
    "    track_sh_daughter = True if row['track_daughter']==1 else False\n",
    "    track_tr_daughter = True if row['track_daughter']==2 else False\n",
    "    track_is_daughter = True if row['matched_tracks']==0 else False\n",
    "    track_vtx         = np.linalg.norm([x-vx,y-vy,z-vz])\n",
    "    track_vtx_end     = np.linalg.norm([vx-x_e,vy-y_e,vz-z_e])\n",
    "    \n",
    "    # Class\n",
    "    true_mu        = True if abs(row['matched_tracks'])==13 else False\n",
    "    true_e         = True if row['matched_tracks']==11 else False\n",
    "    \n",
    "    return pd.Series({ 'track_length':track_length,\n",
    "             'track_containment':track_containment,\n",
    "             'track_sh_daughter':track_sh_daughter,\n",
    "             'track_tr_daughter':track_tr_daughter,\n",
    "             'track_is_daughter':track_is_daughter,\n",
    "             'track_vtx':track_vtx,\n",
    "             'track_vtx_end':track_vtx_end,\n",
    "             'true_mu':true_mu,\n",
    "             'true_e':true_e\n",
    "                     })\n",
    "\n",
    "def ClosestElectronObject(row):\n",
    "    # Initialise the return fields:\n",
    "    sh_cl_e_arr=np.full(len(row['matched_showers']), False)\n",
    "    tr_cl_e_arr=np.full(len(row['matched_tracks']), False)\n",
    "\n",
    "    if (11 not in row['matched_showers']) and (11 not in row['matched_tracks']):\n",
    "        return pd.Series({'sh_cl_e_arr': sh_cl_e_arr, 'tr_cl_e_arr': tr_cl_e_arr}) \n",
    "    \n",
    "    d=10 # If the closest object is further than 10cm, forget it anyway\n",
    "    i = -1\n",
    "    \n",
    "    true_x = row[\"true_vx_sce\"]\n",
    "    true_y = row[\"true_vy_sce\"]\n",
    "    true_z = row[\"true_vz_sce\"]\n",
    "    \n",
    "    if (11 in row['matched_showers']):\n",
    "        sh_x_arr = row[\"shower_start_x\"]\n",
    "        sh_y_arr = row[\"shower_start_y\"]\n",
    "        sh_z_arr = row[\"shower_start_z\"]\n",
    "        sh_pdg_arr = row['matched_showers']\n",
    "    \n",
    "        for sh_i,(sh_x,sh_y,sh_z,sh_pdg) in enumerate(zip(sh_x_arr,sh_y_arr,sh_z_arr,sh_pdg_arr)):\n",
    "            if sh_pdg==11:\n",
    "                dist = np.linalg.norm([sh_x-true_x,sh_y-true_y,sh_z-true_z])\n",
    "                if dist<d:\n",
    "                    d=dist\n",
    "                    i = sh_i\n",
    "        if i> -1:\n",
    "            sh_cl_e_arr[i]=True\n",
    "            i=-1\n",
    "    \n",
    "    if (11 in row['matched_tracks']):\n",
    "        tr_x_arr = row[\"track_start_x\"]\n",
    "        tr_y_arr = row[\"track_start_y\"]\n",
    "        tr_z_arr = row[\"track_start_z\"]\n",
    "        tr_pdg_arr = row['matched_tracks']\n",
    "    \n",
    "        for tr_i,(tr_x,tr_y,tr_z,tr_pdg) in enumerate(zip(tr_x_arr,tr_y_arr,tr_z_arr,tr_pdg_arr)):\n",
    "            if tr_pdg==11:\n",
    "                dist = np.linalg.norm([tr_x-true_x,tr_y-true_y,tr_z-true_z])\n",
    "                if dist<d:\n",
    "                    d=dist\n",
    "                    i = tr_i\n",
    "                    sh_cl_e_arr=np.full(len(row['matched_showers']), False)\n",
    "        if i>-1:\n",
    "            tr_cl_e_arr[i]=True\n",
    "            \n",
    "    return  pd.Series({'sh_cl_e_arr': sh_cl_e_arr, 'tr_cl_e_arr': tr_cl_e_arr})  "
   ]
  },
  {
   "cell_type": "code",
   "execution_count": 4,
   "metadata": {},
   "outputs": [],
   "source": [
    "droplist_tr = ['track_start_x','track_start_y','track_start_z','matched_tracks','track_daughter',\n",
    "               'track_end_x','track_end_y','track_end_z','vx','vy','vz','true_vx_sce','true_vy_sce','true_vz_sce',\n",
    "               'shower_containment_q','shower_sp_profile'\n",
    "              ]\n",
    "\n",
    "droplist_sh = ['shower_start_x','shower_start_y','shower_start_z','matched_showers','shower_daughter',\n",
    "               'vx','vy','vz','true_vx_sce','true_vy_sce','true_vz_sce']"
   ]
  },
  {
   "cell_type": "code",
   "execution_count": 5,
   "metadata": {
    "scrolled": false
   },
   "outputs": [
    {
     "name": "stdout",
     "output_type": "stream",
     "text": [
      "10333\n",
      "10413\n",
      "10454\n",
      "10203\n",
      "10541\n",
      "10382\n",
      "10546\n",
      "10530\n",
      "10437\n",
      "7702\n"
     ]
    }
   ],
   "source": [
    "for i,sample in enumerate(sample_list):\n",
    "    \n",
    "    df_tracks = pd.DataFrame()\n",
    "    df_showers = pd.DataFrame()\n",
    "\n",
    "    df_sample = pd.read_pickle(sample)\n",
    "    droplist = [x for x  in df_sample.columns if (x not in columns_all)]\n",
    "    df_sample.drop(droplist,inplace=True,axis=1)\n",
    "    df_sample = pd.concat([df_sample, df_sample.apply(ClosestElectronObject,axis=1)], axis=1)\n",
    "    print(len(df_sample.index)) \n",
    "    \n",
    "    for index, row in df_sample.iterrows():\n",
    "        if CheckBorderTPC(row['vx'],row['vy'],row['vz'],fid_arr):\n",
    "            # Tracks!\n",
    "            for tr in range(len(row['matched_tracks'])):\n",
    "                d_tr = {}\n",
    "                for field in columns_req_track:\n",
    "                    d_tr[field]=row[field][tr]\n",
    "                    d_tr['true_e_cl']=row['tr_cl_e_arr'][tr]\n",
    "                for field in columns_flat:\n",
    "                    d_tr[field]=row[field]\n",
    "                df_tracks=df_tracks.append(d_tr,ignore_index=True)\n",
    "    \n",
    "            # Showers!\n",
    "            for sh in range(len(row['matched_showers'])):\n",
    "                d_sh = {}\n",
    "                for field in columns_req_shower:\n",
    "                    d_sh[field]=row[field][sh]\n",
    "                    d_sh['true_e_cl']=row['sh_cl_e_arr'][sh]\n",
    "                for field in columns_flat:\n",
    "                    d_sh[field]=row[field]\n",
    "                df_showers=df_showers.append(d_sh,ignore_index=True)\n",
    "                \n",
    "    df_tracks['true_e_cl']=df_tracks['true_e_cl'].astype(bool, copy=False)\n",
    "    df_tracks = pd.concat([df_tracks, df_tracks.apply(track_features,axis=1)], axis=1)\n",
    "    df_tracks.drop(droplist_tr,inplace=True,axis=1) \n",
    "    df_tracks.to_pickle('../trackFrame_nue_'+str(i)+'.pckl')\n",
    "    \n",
    "    df_showers['true_e_cl']=df_showers['true_e_cl'].astype(bool, copy=False)\n",
    "    df_showers = pd.concat([df_showers, df_showers.apply(shower_features,axis=1)], axis=1)\n",
    "    df_showers.drop(droplist_sh,inplace=True,axis=1)    \n",
    "    df_showers.to_pickle('../showerFrame_nue_'+str(i)+'.pckl')\n",
    "    "
   ]
  },
  {
   "cell_type": "code",
   "execution_count": 6,
   "metadata": {},
   "outputs": [
    {
     "ename": "KeyError",
     "evalue": "'matched_tracks'",
     "output_type": "error",
     "traceback": [
      "\u001b[0;31m---------------------------------------------------------------------------\u001b[0m",
      "\u001b[0;31mKeyError\u001b[0m                                  Traceback (most recent call last)",
      "\u001b[0;32m~/anaconda3/envs/mlenv/lib/python3.6/site-packages/pandas/core/indexes/base.py\u001b[0m in \u001b[0;36mget_loc\u001b[0;34m(self, key, method, tolerance)\u001b[0m\n\u001b[1;32m   2524\u001b[0m             \u001b[0;32mtry\u001b[0m\u001b[0;34m:\u001b[0m\u001b[0;34m\u001b[0m\u001b[0m\n\u001b[0;32m-> 2525\u001b[0;31m                 \u001b[0;32mreturn\u001b[0m \u001b[0mself\u001b[0m\u001b[0;34m.\u001b[0m\u001b[0m_engine\u001b[0m\u001b[0;34m.\u001b[0m\u001b[0mget_loc\u001b[0m\u001b[0;34m(\u001b[0m\u001b[0mkey\u001b[0m\u001b[0;34m)\u001b[0m\u001b[0;34m\u001b[0m\u001b[0m\n\u001b[0m\u001b[1;32m   2526\u001b[0m             \u001b[0;32mexcept\u001b[0m \u001b[0mKeyError\u001b[0m\u001b[0;34m:\u001b[0m\u001b[0;34m\u001b[0m\u001b[0m\n",
      "\u001b[0;32mpandas/_libs/index.pyx\u001b[0m in \u001b[0;36mpandas._libs.index.IndexEngine.get_loc\u001b[0;34m()\u001b[0m\n",
      "\u001b[0;32mpandas/_libs/index.pyx\u001b[0m in \u001b[0;36mpandas._libs.index.IndexEngine.get_loc\u001b[0;34m()\u001b[0m\n",
      "\u001b[0;32mpandas/_libs/hashtable_class_helper.pxi\u001b[0m in \u001b[0;36mpandas._libs.hashtable.PyObjectHashTable.get_item\u001b[0;34m()\u001b[0m\n",
      "\u001b[0;32mpandas/_libs/hashtable_class_helper.pxi\u001b[0m in \u001b[0;36mpandas._libs.hashtable.PyObjectHashTable.get_item\u001b[0;34m()\u001b[0m\n",
      "\u001b[0;31mKeyError\u001b[0m: 'matched_tracks'",
      "\nDuring handling of the above exception, another exception occurred:\n",
      "\u001b[0;31mKeyError\u001b[0m                                  Traceback (most recent call last)",
      "\u001b[0;32m<ipython-input-6-5d0e5a9ce9b0>\u001b[0m in \u001b[0;36m<module>\u001b[0;34m()\u001b[0m\n\u001b[0;32m----> 1\u001b[0;31m \u001b[0mprint\u001b[0m\u001b[0;34m(\u001b[0m\u001b[0mdf_tracks\u001b[0m\u001b[0;34m[\u001b[0m\u001b[0;34m'matched_tracks'\u001b[0m\u001b[0;34m]\u001b[0m\u001b[0;34m.\u001b[0m\u001b[0mvalue_counts\u001b[0m\u001b[0;34m(\u001b[0m\u001b[0;34m)\u001b[0m\u001b[0;34m)\u001b[0m\u001b[0;34m\u001b[0m\u001b[0m\n\u001b[0m\u001b[1;32m      2\u001b[0m \u001b[0mdf_tracks\u001b[0m\u001b[0;34m[\u001b[0m\u001b[0mdf_tracks\u001b[0m\u001b[0;34m[\u001b[0m\u001b[0;34m'matched_tracks'\u001b[0m\u001b[0;34m]\u001b[0m\u001b[0;34m==\u001b[0m\u001b[0;36m11\u001b[0m\u001b[0;34m]\u001b[0m\u001b[0;34m.\u001b[0m\u001b[0mhead\u001b[0m\u001b[0;34m(\u001b[0m\u001b[0;34m)\u001b[0m\u001b[0;34m\u001b[0m\u001b[0m\n",
      "\u001b[0;32m~/anaconda3/envs/mlenv/lib/python3.6/site-packages/pandas/core/frame.py\u001b[0m in \u001b[0;36m__getitem__\u001b[0;34m(self, key)\u001b[0m\n\u001b[1;32m   2137\u001b[0m             \u001b[0;32mreturn\u001b[0m \u001b[0mself\u001b[0m\u001b[0;34m.\u001b[0m\u001b[0m_getitem_multilevel\u001b[0m\u001b[0;34m(\u001b[0m\u001b[0mkey\u001b[0m\u001b[0;34m)\u001b[0m\u001b[0;34m\u001b[0m\u001b[0m\n\u001b[1;32m   2138\u001b[0m         \u001b[0;32melse\u001b[0m\u001b[0;34m:\u001b[0m\u001b[0;34m\u001b[0m\u001b[0m\n\u001b[0;32m-> 2139\u001b[0;31m             \u001b[0;32mreturn\u001b[0m \u001b[0mself\u001b[0m\u001b[0;34m.\u001b[0m\u001b[0m_getitem_column\u001b[0m\u001b[0;34m(\u001b[0m\u001b[0mkey\u001b[0m\u001b[0;34m)\u001b[0m\u001b[0;34m\u001b[0m\u001b[0m\n\u001b[0m\u001b[1;32m   2140\u001b[0m \u001b[0;34m\u001b[0m\u001b[0m\n\u001b[1;32m   2141\u001b[0m     \u001b[0;32mdef\u001b[0m \u001b[0m_getitem_column\u001b[0m\u001b[0;34m(\u001b[0m\u001b[0mself\u001b[0m\u001b[0;34m,\u001b[0m \u001b[0mkey\u001b[0m\u001b[0;34m)\u001b[0m\u001b[0;34m:\u001b[0m\u001b[0;34m\u001b[0m\u001b[0m\n",
      "\u001b[0;32m~/anaconda3/envs/mlenv/lib/python3.6/site-packages/pandas/core/frame.py\u001b[0m in \u001b[0;36m_getitem_column\u001b[0;34m(self, key)\u001b[0m\n\u001b[1;32m   2144\u001b[0m         \u001b[0;31m# get column\u001b[0m\u001b[0;34m\u001b[0m\u001b[0;34m\u001b[0m\u001b[0m\n\u001b[1;32m   2145\u001b[0m         \u001b[0;32mif\u001b[0m \u001b[0mself\u001b[0m\u001b[0;34m.\u001b[0m\u001b[0mcolumns\u001b[0m\u001b[0;34m.\u001b[0m\u001b[0mis_unique\u001b[0m\u001b[0;34m:\u001b[0m\u001b[0;34m\u001b[0m\u001b[0m\n\u001b[0;32m-> 2146\u001b[0;31m             \u001b[0;32mreturn\u001b[0m \u001b[0mself\u001b[0m\u001b[0;34m.\u001b[0m\u001b[0m_get_item_cache\u001b[0m\u001b[0;34m(\u001b[0m\u001b[0mkey\u001b[0m\u001b[0;34m)\u001b[0m\u001b[0;34m\u001b[0m\u001b[0m\n\u001b[0m\u001b[1;32m   2147\u001b[0m \u001b[0;34m\u001b[0m\u001b[0m\n\u001b[1;32m   2148\u001b[0m         \u001b[0;31m# duplicate columns & possible reduce dimensionality\u001b[0m\u001b[0;34m\u001b[0m\u001b[0;34m\u001b[0m\u001b[0m\n",
      "\u001b[0;32m~/anaconda3/envs/mlenv/lib/python3.6/site-packages/pandas/core/generic.py\u001b[0m in \u001b[0;36m_get_item_cache\u001b[0;34m(self, item)\u001b[0m\n\u001b[1;32m   1840\u001b[0m         \u001b[0mres\u001b[0m \u001b[0;34m=\u001b[0m \u001b[0mcache\u001b[0m\u001b[0;34m.\u001b[0m\u001b[0mget\u001b[0m\u001b[0;34m(\u001b[0m\u001b[0mitem\u001b[0m\u001b[0;34m)\u001b[0m\u001b[0;34m\u001b[0m\u001b[0m\n\u001b[1;32m   1841\u001b[0m         \u001b[0;32mif\u001b[0m \u001b[0mres\u001b[0m \u001b[0;32mis\u001b[0m \u001b[0;32mNone\u001b[0m\u001b[0;34m:\u001b[0m\u001b[0;34m\u001b[0m\u001b[0m\n\u001b[0;32m-> 1842\u001b[0;31m             \u001b[0mvalues\u001b[0m \u001b[0;34m=\u001b[0m \u001b[0mself\u001b[0m\u001b[0;34m.\u001b[0m\u001b[0m_data\u001b[0m\u001b[0;34m.\u001b[0m\u001b[0mget\u001b[0m\u001b[0;34m(\u001b[0m\u001b[0mitem\u001b[0m\u001b[0;34m)\u001b[0m\u001b[0;34m\u001b[0m\u001b[0m\n\u001b[0m\u001b[1;32m   1843\u001b[0m             \u001b[0mres\u001b[0m \u001b[0;34m=\u001b[0m \u001b[0mself\u001b[0m\u001b[0;34m.\u001b[0m\u001b[0m_box_item_values\u001b[0m\u001b[0;34m(\u001b[0m\u001b[0mitem\u001b[0m\u001b[0;34m,\u001b[0m \u001b[0mvalues\u001b[0m\u001b[0;34m)\u001b[0m\u001b[0;34m\u001b[0m\u001b[0m\n\u001b[1;32m   1844\u001b[0m             \u001b[0mcache\u001b[0m\u001b[0;34m[\u001b[0m\u001b[0mitem\u001b[0m\u001b[0;34m]\u001b[0m \u001b[0;34m=\u001b[0m \u001b[0mres\u001b[0m\u001b[0;34m\u001b[0m\u001b[0m\n",
      "\u001b[0;32m~/anaconda3/envs/mlenv/lib/python3.6/site-packages/pandas/core/internals.py\u001b[0m in \u001b[0;36mget\u001b[0;34m(self, item, fastpath)\u001b[0m\n\u001b[1;32m   3841\u001b[0m \u001b[0;34m\u001b[0m\u001b[0m\n\u001b[1;32m   3842\u001b[0m             \u001b[0;32mif\u001b[0m \u001b[0;32mnot\u001b[0m \u001b[0misna\u001b[0m\u001b[0;34m(\u001b[0m\u001b[0mitem\u001b[0m\u001b[0;34m)\u001b[0m\u001b[0;34m:\u001b[0m\u001b[0;34m\u001b[0m\u001b[0m\n\u001b[0;32m-> 3843\u001b[0;31m                 \u001b[0mloc\u001b[0m \u001b[0;34m=\u001b[0m \u001b[0mself\u001b[0m\u001b[0;34m.\u001b[0m\u001b[0mitems\u001b[0m\u001b[0;34m.\u001b[0m\u001b[0mget_loc\u001b[0m\u001b[0;34m(\u001b[0m\u001b[0mitem\u001b[0m\u001b[0;34m)\u001b[0m\u001b[0;34m\u001b[0m\u001b[0m\n\u001b[0m\u001b[1;32m   3844\u001b[0m             \u001b[0;32melse\u001b[0m\u001b[0;34m:\u001b[0m\u001b[0;34m\u001b[0m\u001b[0m\n\u001b[1;32m   3845\u001b[0m                 \u001b[0mindexer\u001b[0m \u001b[0;34m=\u001b[0m \u001b[0mnp\u001b[0m\u001b[0;34m.\u001b[0m\u001b[0marange\u001b[0m\u001b[0;34m(\u001b[0m\u001b[0mlen\u001b[0m\u001b[0;34m(\u001b[0m\u001b[0mself\u001b[0m\u001b[0;34m.\u001b[0m\u001b[0mitems\u001b[0m\u001b[0;34m)\u001b[0m\u001b[0;34m)\u001b[0m\u001b[0;34m[\u001b[0m\u001b[0misna\u001b[0m\u001b[0;34m(\u001b[0m\u001b[0mself\u001b[0m\u001b[0;34m.\u001b[0m\u001b[0mitems\u001b[0m\u001b[0;34m)\u001b[0m\u001b[0;34m]\u001b[0m\u001b[0;34m\u001b[0m\u001b[0m\n",
      "\u001b[0;32m~/anaconda3/envs/mlenv/lib/python3.6/site-packages/pandas/core/indexes/base.py\u001b[0m in \u001b[0;36mget_loc\u001b[0;34m(self, key, method, tolerance)\u001b[0m\n\u001b[1;32m   2525\u001b[0m                 \u001b[0;32mreturn\u001b[0m \u001b[0mself\u001b[0m\u001b[0;34m.\u001b[0m\u001b[0m_engine\u001b[0m\u001b[0;34m.\u001b[0m\u001b[0mget_loc\u001b[0m\u001b[0;34m(\u001b[0m\u001b[0mkey\u001b[0m\u001b[0;34m)\u001b[0m\u001b[0;34m\u001b[0m\u001b[0m\n\u001b[1;32m   2526\u001b[0m             \u001b[0;32mexcept\u001b[0m \u001b[0mKeyError\u001b[0m\u001b[0;34m:\u001b[0m\u001b[0;34m\u001b[0m\u001b[0m\n\u001b[0;32m-> 2527\u001b[0;31m                 \u001b[0;32mreturn\u001b[0m \u001b[0mself\u001b[0m\u001b[0;34m.\u001b[0m\u001b[0m_engine\u001b[0m\u001b[0;34m.\u001b[0m\u001b[0mget_loc\u001b[0m\u001b[0;34m(\u001b[0m\u001b[0mself\u001b[0m\u001b[0;34m.\u001b[0m\u001b[0m_maybe_cast_indexer\u001b[0m\u001b[0;34m(\u001b[0m\u001b[0mkey\u001b[0m\u001b[0;34m)\u001b[0m\u001b[0;34m)\u001b[0m\u001b[0;34m\u001b[0m\u001b[0m\n\u001b[0m\u001b[1;32m   2528\u001b[0m \u001b[0;34m\u001b[0m\u001b[0m\n\u001b[1;32m   2529\u001b[0m         \u001b[0mindexer\u001b[0m \u001b[0;34m=\u001b[0m \u001b[0mself\u001b[0m\u001b[0;34m.\u001b[0m\u001b[0mget_indexer\u001b[0m\u001b[0;34m(\u001b[0m\u001b[0;34m[\u001b[0m\u001b[0mkey\u001b[0m\u001b[0;34m]\u001b[0m\u001b[0;34m,\u001b[0m \u001b[0mmethod\u001b[0m\u001b[0;34m=\u001b[0m\u001b[0mmethod\u001b[0m\u001b[0;34m,\u001b[0m \u001b[0mtolerance\u001b[0m\u001b[0;34m=\u001b[0m\u001b[0mtolerance\u001b[0m\u001b[0;34m)\u001b[0m\u001b[0;34m\u001b[0m\u001b[0m\n",
      "\u001b[0;32mpandas/_libs/index.pyx\u001b[0m in \u001b[0;36mpandas._libs.index.IndexEngine.get_loc\u001b[0;34m()\u001b[0m\n",
      "\u001b[0;32mpandas/_libs/index.pyx\u001b[0m in \u001b[0;36mpandas._libs.index.IndexEngine.get_loc\u001b[0;34m()\u001b[0m\n",
      "\u001b[0;32mpandas/_libs/hashtable_class_helper.pxi\u001b[0m in \u001b[0;36mpandas._libs.hashtable.PyObjectHashTable.get_item\u001b[0;34m()\u001b[0m\n",
      "\u001b[0;32mpandas/_libs/hashtable_class_helper.pxi\u001b[0m in \u001b[0;36mpandas._libs.hashtable.PyObjectHashTable.get_item\u001b[0;34m()\u001b[0m\n",
      "\u001b[0;31mKeyError\u001b[0m: 'matched_tracks'"
     ]
    }
   ],
   "source": [
    "print(df_tracks['matched_tracks'].value_counts())\n",
    "df_tracks[df_tracks['matched_tracks']==11].head()"
   ]
  },
  {
   "cell_type": "code",
   "execution_count": null,
   "metadata": {},
   "outputs": [],
   "source": [
    "print(df_showers['matched_showers'].value_counts())\n",
    "\n",
    "df_showers.head()"
   ]
  },
  {
   "cell_type": "code",
   "execution_count": null,
   "metadata": {},
   "outputs": [],
   "source": [
    "\n",
    "df_tracks.head()"
   ]
  },
  {
   "cell_type": "code",
   "execution_count": null,
   "metadata": {},
   "outputs": [],
   "source": [
    "df_tracks.columns\n",
    "df_tracks['true_mu'].value_counts()"
   ]
  },
  {
   "cell_type": "code",
   "execution_count": null,
   "metadata": {},
   "outputs": [],
   "source": [
    "df_tracks['true_e'].value_counts()"
   ]
  },
  {
   "cell_type": "code",
   "execution_count": null,
   "metadata": {},
   "outputs": [],
   "source": [
    "df_tracks['true_e_cl'].value_counts()"
   ]
  },
  {
   "cell_type": "code",
   "execution_count": null,
   "metadata": {},
   "outputs": [],
   "source": []
  },
  {
   "cell_type": "code",
   "execution_count": null,
   "metadata": {},
   "outputs": [],
   "source": []
  },
  {
   "cell_type": "code",
   "execution_count": null,
   "metadata": {},
   "outputs": [],
   "source": [
    "df_showers['true_mu'].value_counts()"
   ]
  },
  {
   "cell_type": "code",
   "execution_count": null,
   "metadata": {},
   "outputs": [],
   "source": [
    "df_showers['true_e'].value_counts()"
   ]
  },
  {
   "cell_type": "code",
   "execution_count": null,
   "metadata": {},
   "outputs": [],
   "source": []
  },
  {
   "cell_type": "code",
   "execution_count": null,
   "metadata": {},
   "outputs": [],
   "source": [
    "df_showers.head()"
   ]
  },
  {
   "cell_type": "code",
   "execution_count": null,
   "metadata": {},
   "outputs": [],
   "source": []
  }
 ],
 "metadata": {
  "anaconda-cloud": {},
  "kernelspec": {
   "display_name": "Python [conda env:mlenv]",
   "language": "python",
   "name": "conda-env-mlenv-py"
  },
  "language_info": {
   "codemirror_mode": {
    "name": "ipython",
    "version": 3
   },
   "file_extension": ".py",
   "mimetype": "text/x-python",
   "name": "python",
   "nbconvert_exporter": "python",
   "pygments_lexer": "ipython3",
   "version": "3.6.4"
  }
 },
 "nbformat": 4,
 "nbformat_minor": 2
}
